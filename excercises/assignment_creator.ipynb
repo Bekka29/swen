{
 "cells": [
  {
   "cell_type": "code",
   "execution_count": 2,
   "id": "e2a149cf-f4ae-4899-84bd-1614ca14802a",
   "metadata": {},
   "outputs": [
    {
     "data": {
      "text/plain": [
       "[{'Exercise': 'Hello World',\n",
       "  'Difficulty': 1,\n",
       "  'id': 'hello-world',\n",
       "  'Deadline': '03/20/2022 23:59 +0100',\n",
       "  'Chapter': 1,\n",
       "  'Topic': '',\n",
       "  'Assignment_No': 1,\n",
       "  'Practices': ['NONE'],\n",
       "  'MentorNotes': ['basics']},\n",
       " {'Exercise': 'Leap',\n",
       "  'Difficulty': 1,\n",
       "  'id': 'leap',\n",
       "  'Deadline': '03/20/2022 23:59 +0100',\n",
       "  'Chapter': 1,\n",
       "  'Topic': '',\n",
       "  'Assignment_No': 2,\n",
       "  'Practices': ['basics', ' bools', ' conditionals', ' numbers'],\n",
       "  'MentorNotes': ['bools', ' conditionals', ' numbers']},\n",
       " {'Exercise': 'Difference Of Squares',\n",
       "  'Difficulty': 1,\n",
       "  'id': 'difference-of-squares',\n",
       "  'Deadline': '03/20/2022 23:59 +0100',\n",
       "  'Chapter': 1,\n",
       "  'Topic': '',\n",
       "  'Assignment_No': 3,\n",
       "  'Practices': ['basics',\n",
       "   ' conditionals',\n",
       "   ' comparisons',\n",
       "   ' loops',\n",
       "   ' numbers'],\n",
       "  'MentorNotes': ['basics',\n",
       "   ' conditionals',\n",
       "   ' comparisons',\n",
       "   ' loops',\n",
       "   ' numbers']},\n",
       " {'Exercise': 'Gigasecond',\n",
       "  'Difficulty': 1,\n",
       "  'id': 'gigasecond',\n",
       "  'Deadline': '03/20/2022 23:59 +0100',\n",
       "  'Chapter': 1,\n",
       "  'Topic': '',\n",
       "  'Assignment_No': 3,\n",
       "  'Practices': ['basics',\n",
       "   ' bools',\n",
       "   ' conditionals',\n",
       "   ' comparisons',\n",
       "   ' numbers'],\n",
       "  'MentorNotes': ['numbers']},\n",
       " {'Exercise': 'Grains',\n",
       "  'Difficulty': 1,\n",
       "  'id': 'grains',\n",
       "  'Deadline': '03/20/2022 23:59 +0100',\n",
       "  'Chapter': 1,\n",
       "  'Topic': '',\n",
       "  'Assignment_No': 4,\n",
       "  'Practices': ['basics',\n",
       "   ' numbers',\n",
       "   ' loops',\n",
       "   ' raising-and-handling-errors'],\n",
       "  'MentorNotes': ['numbers', ' raising-and-handling-errors']},\n",
       " {'Exercise': 'Pangram',\n",
       "  'Difficulty': 1,\n",
       "  'id': 'pangram',\n",
       "  'Deadline': '03/20/2022 23:59 +0100',\n",
       "  'Chapter': 1,\n",
       "  'Topic': '',\n",
       "  'Assignment_No': 5,\n",
       "  'Practices': ['basics',\n",
       "   ' bools',\n",
       "   ' conditionals',\n",
       "   ' loops',\n",
       "   ' strings',\n",
       "   ' string-methods',\n",
       "   ' sets'],\n",
       "  'MentorNotes': ['sets']},\n",
       " {'Exercise': 'Two Fer',\n",
       "  'Difficulty': 1,\n",
       "  'id': 'two-fer',\n",
       "  'Deadline': '03/20/2022 23:59 +0100',\n",
       "  'Chapter': 1,\n",
       "  'Topic': '',\n",
       "  'Assignment_No': 6,\n",
       "  'Practices': ['basics', ' string-formatting', ' function-arguments'],\n",
       "  'MentorNotes': ['string-formatting', ' function-arguments']},\n",
       " {'Exercise': 'Collatz Conjecture',\n",
       "  'Difficulty': 1,\n",
       "  'id': 'collatz-conjecture',\n",
       "  'Deadline': '03/20/2022 23:59 +0100',\n",
       "  'Chapter': 1,\n",
       "  'Topic': '',\n",
       "  'Assignment_No': 7,\n",
       "  'Practices': ['basics',\n",
       "   ' conditionals',\n",
       "   ' comparisons',\n",
       "   ' loops',\n",
       "   ' numbers',\n",
       "   ' raising-and-handling-errors'],\n",
       "  'MentorNotes': ['conditionals',\n",
       "   ' comparisons',\n",
       "   ' loops',\n",
       "   ' numbers',\n",
       "   ' raising-and-handling-errors']},\n",
       " {'Exercise': 'Bob',\n",
       "  'Difficulty': 1,\n",
       "  'id': 'bob',\n",
       "  'Deadline': '03/20/2022 23:59 +0100',\n",
       "  'Chapter': 1,\n",
       "  'Topic': '',\n",
       "  'Assignment_No': 8,\n",
       "  'Practices': ['basics',\n",
       "   ' conditionals',\n",
       "   ' comparisons',\n",
       "   ' strings',\n",
       "   ' string-methods'],\n",
       "  'MentorNotes': ['conditionals',\n",
       "   ' comparisons',\n",
       "   ' strings',\n",
       "   ' string-methods']},\n",
       " {'Exercise': 'Queen Attack',\n",
       "  'Difficulty': 1,\n",
       "  'id': 'queen-attack',\n",
       "  'Deadline': '03/20/2022 23:59 +0100',\n",
       "  'Chapter': 2,\n",
       "  'Topic': 'Conditionals & Comparisons',\n",
       "  'Assignment_No': 1,\n",
       "  'Practices': ['bools',\n",
       "   ' classes',\n",
       "   ' conditionals',\n",
       "   ' comparisons',\n",
       "   ' numbers',\n",
       "   ' raising-and-handling-errors',\n",
       "   ' strings',\n",
       "   ' string-methods',\n",
       "   ' string-formatting'],\n",
       "  'MentorNotes': ['bools',\n",
       "   ' classes',\n",
       "   ' conditionals',\n",
       "   ' comparisons',\n",
       "   ' numbers',\n",
       "   ' raising-and-handling-errors',\n",
       "   ' strings',\n",
       "   ' string-methods',\n",
       "   ' string-formatting']},\n",
       " {'Exercise': 'Triangle',\n",
       "  'Difficulty': 1,\n",
       "  'id': 'triangle',\n",
       "  'Deadline': '03/27/2022 23:59 +0100',\n",
       "  'Chapter': 2,\n",
       "  'Topic': 'Conditionals & Comparisons',\n",
       "  'Assignment_No': 2,\n",
       "  'Practices': ['basics',\n",
       "   ' bools',\n",
       "   ' conditionals',\n",
       "   ' comparisons',\n",
       "   ' loops',\n",
       "   ' numbers'],\n",
       "  'MentorNotes': ['bools', ' comparisons']},\n",
       " {'Exercise': 'Perfect Numbers',\n",
       "  'Difficulty': 1,\n",
       "  'id': 'perfect-numbers',\n",
       "  'Deadline': '03/27/2022 23:59 +0100',\n",
       "  'Chapter': 2,\n",
       "  'Topic': 'Conditionals & Comparisons',\n",
       "  'Assignment_No': 3,\n",
       "  'Practices': ['basics',\n",
       "   ' bools',\n",
       "   ' comparisons',\n",
       "   ' conditionals',\n",
       "   ' lists',\n",
       "   ' list-comprehensions',\n",
       "   ' loops',\n",
       "   ' numbers',\n",
       "   ' raising-and-handling-errors',\n",
       "   ' strings'],\n",
       "  'MentorNotes': ['bools',\n",
       "   ' comparisons',\n",
       "   ' conditionals',\n",
       "   ' lists',\n",
       "   ' list-comprehensions',\n",
       "   ' loops',\n",
       "   ' numbers',\n",
       "   ' raising-and-handling-errors']},\n",
       " {'Exercise': 'Sublist',\n",
       "  'Difficulty': 1,\n",
       "  'id': 'sublist',\n",
       "  'Deadline': '03/27/2022 23:59 +0100',\n",
       "  'Chapter': 2,\n",
       "  'Topic': 'Conditionals & Comparisons',\n",
       "  'Assignment_No': 4,\n",
       "  'Practices': ['basics',\n",
       "   ' bools',\n",
       "   ' conditionals',\n",
       "   ' comparisons',\n",
       "   ' functions',\n",
       "   ' strings',\n",
       "   ' string-methods',\n",
       "   ' lists',\n",
       "   ' loops',\n",
       "   ' sequences'],\n",
       "  'MentorNotes': ['bools',\n",
       "   ' comparisons',\n",
       "   ' functions',\n",
       "   ' strings',\n",
       "   ' string-methods',\n",
       "   ' lists',\n",
       "   ' loops',\n",
       "   ' sequences']},\n",
       " {'Exercise': 'Diamond',\n",
       "  'Difficulty': 1,\n",
       "  'id': 'diamond',\n",
       "  'Deadline': '03/27/2022 23:59 +0100',\n",
       "  'Chapter': 2,\n",
       "  'Topic': 'Conditionals & Comparisons',\n",
       "  'Assignment_No': 5,\n",
       "  'Practices': ['basics',\n",
       "   ' bools',\n",
       "   ' conditionals',\n",
       "   ' comparisons',\n",
       "   ' dicts',\n",
       "   ' lists',\n",
       "   ' list-methods',\n",
       "   ' list-comprehensions',\n",
       "   ' loops',\n",
       "   ' sequences',\n",
       "   ' strings',\n",
       "   ' string-methods',\n",
       "   ' string-formatting'],\n",
       "  'MentorNotes': ['bools',\n",
       "   ' conditionals',\n",
       "   ' comparisons',\n",
       "   ' dicts',\n",
       "   ' lists',\n",
       "   ' list-methods',\n",
       "   ' list-comprehensions',\n",
       "   ' loops',\n",
       "   ' sequences',\n",
       "   ' strings',\n",
       "   ' string-methods',\n",
       "   ' string-formatting']},\n",
       " {'Exercise': 'Yacht',\n",
       "  'Difficulty': 1,\n",
       "  'id': 'yacht',\n",
       "  'Deadline': '03/27/2022 23:59 +0100',\n",
       "  'Chapter': 2,\n",
       "  'Topic': 'Conditionals & Comparisons',\n",
       "  'Assignment_No': 6,\n",
       "  'Practices': ['basics',\n",
       "   ' bools',\n",
       "   ' conditionals',\n",
       "   ' comparisons',\n",
       "   ' dicts',\n",
       "   ' lists',\n",
       "   ' list-methods',\n",
       "   ' list-comprehensions',\n",
       "   ' loops',\n",
       "   ' numbers',\n",
       "   ' sequences',\n",
       "   ' strings',\n",
       "   ' string-methods',\n",
       "   ' string-formatting'],\n",
       "  'MentorNotes': ['bools',\n",
       "   ' conditionals',\n",
       "   ' comparisons',\n",
       "   ' dicts',\n",
       "   ' lists',\n",
       "   ' list-methods',\n",
       "   ' list-comprehensions',\n",
       "   ' numbers',\n",
       "   ' sequences',\n",
       "   ' strings']},\n",
       " {'Exercise': 'Pythagorean Triplet',\n",
       "  'Difficulty': 1,\n",
       "  'id': 'pythagorean-triplet',\n",
       "  'Deadline': '03/27/2022 23:59 +0100',\n",
       "  'Chapter': 2,\n",
       "  'Topic': 'Conditionals & Comparisons',\n",
       "  'Assignment_No': 7,\n",
       "  'Practices': ['basics',\n",
       "   ' bools',\n",
       "   ' conditionals',\n",
       "   ' comparisons',\n",
       "   ' iteration',\n",
       "   ' itertools',\n",
       "   ' lists',\n",
       "   ' list-methods',\n",
       "   ' list-comprehensions',\n",
       "   ' loops',\n",
       "   ' sequences',\n",
       "   ' numbers'],\n",
       "  'MentorNotes': ['bools',\n",
       "   ' conditionals',\n",
       "   ' comparisons',\n",
       "   ' iteration',\n",
       "   ' itertools',\n",
       "   ' lists',\n",
       "   ' list-methods',\n",
       "   ' loops',\n",
       "   ' sequences',\n",
       "   ' numbers']},\n",
       " {'Exercise': 'Matching Brackets',\n",
       "  'Difficulty': 1,\n",
       "  'id': 'matching-brackets',\n",
       "  'Deadline': '03/27/2022 23:59 +0100',\n",
       "  'Chapter': 2,\n",
       "  'Topic': 'Conditionals & Comparisons',\n",
       "  'Assignment_No': 8,\n",
       "  'Practices': ['basics',\n",
       "   ' bools',\n",
       "   ' conditionals',\n",
       "   ' comparisons',\n",
       "   ' lists',\n",
       "   ' list-methods',\n",
       "   ' loops',\n",
       "   ' strings',\n",
       "   ' string-methods'],\n",
       "  'MentorNotes': ['bools',\n",
       "   ' conditionals',\n",
       "   ' comparisons',\n",
       "   ' lists',\n",
       "   ' list-methods',\n",
       "   ' loops']},\n",
       " {'Exercise': 'Binary Search',\n",
       "  'Difficulty': 1,\n",
       "  'id': 'binary-search',\n",
       "  'Deadline': '03/27/2022 23:59 +0100',\n",
       "  'Chapter': 2,\n",
       "  'Topic': 'Conditionals & Comparisons',\n",
       "  'Assignment_No': 9,\n",
       "  'Practices': ['basics',\n",
       "   ' bools',\n",
       "   ' conditionals',\n",
       "   ' comparisons',\n",
       "   ' lists',\n",
       "   ' list-methods',\n",
       "   ' loops',\n",
       "   ' raising-and-handling-errors',\n",
       "   ' sequences',\n",
       "   ' strings',\n",
       "   ' string-methods',\n",
       "   ' string-formatting'],\n",
       "  'MentorNotes': ['bools',\n",
       "   ' conditionals',\n",
       "   ' comparisons',\n",
       "   ' lists',\n",
       "   ' list-methods',\n",
       "   ' loops',\n",
       "   ' raising-and-handling-errors',\n",
       "   ' sequences',\n",
       "   ' strings',\n",
       "   ' string-methods',\n",
       "   ' string-formatting']},\n",
       " {'Exercise': 'Reverse String',\n",
       "  'Difficulty': 1,\n",
       "  'id': 'reverse-string',\n",
       "  'Deadline': '03/27/2022 23:59 +0100',\n",
       "  'Chapter': 2,\n",
       "  'Topic': 'Conditionals & Comparisons',\n",
       "  'Assignment_No': 10,\n",
       "  'Practices': ['basics',\n",
       "   ' bools',\n",
       "   ' conditionals',\n",
       "   ' comparisons',\n",
       "   ' lists',\n",
       "   ' list-methods',\n",
       "   ' loops',\n",
       "   ' sequences',\n",
       "   ' strings'],\n",
       "  'MentorNotes': ['bools',\n",
       "   ' conditionals',\n",
       "   ' comparisons',\n",
       "   ' lists',\n",
       "   ' list-methods',\n",
       "   ' loops',\n",
       "   ' sequences',\n",
       "   ' strings']},\n",
       " {'Exercise': 'Isbn Verifier',\n",
       "  'Difficulty': 1,\n",
       "  'id': 'isbn-verifier',\n",
       "  'Deadline': '03/27/2022 23:59 +0100',\n",
       "  'Chapter': 2,\n",
       "  'Topic': 'Conditionals & Comparisons',\n",
       "  'Assignment_No': 11,\n",
       "  'Practices': ['basics',\n",
       "   ' bools',\n",
       "   ' conditionals',\n",
       "   ' comparisons',\n",
       "   ' lists',\n",
       "   ' list-comprehensions',\n",
       "   ' loops',\n",
       "   ' numbers',\n",
       "   ' sequences',\n",
       "   ' strings',\n",
       "   ' string-methods'],\n",
       "  'MentorNotes': ['bools',\n",
       "   ' conditionals',\n",
       "   ' comparisons',\n",
       "   ' lists',\n",
       "   ' loops',\n",
       "   ' numbers',\n",
       "   ' sequences',\n",
       "   ' strings',\n",
       "   ' string-methods']},\n",
       " {'Exercise': 'Rna Transcription',\n",
       "  'Difficulty': 1,\n",
       "  'id': 'rna-transcription',\n",
       "  'Deadline': '03/27/2022 23:59 +0100',\n",
       "  'Chapter': 2,\n",
       "  'Topic': 'Conditionals & Comparisons',\n",
       "  'Assignment_No': 12,\n",
       "  'Practices': ['basics',\n",
       "   ' bools',\n",
       "   ' conditionals',\n",
       "   ' comparisons',\n",
       "   ' loops',\n",
       "   ' strings',\n",
       "   ' string-methods',\n",
       "   ' string-formatting'],\n",
       "  'MentorNotes': ['bools',\n",
       "   ' conditionals',\n",
       "   ' comparisons',\n",
       "   ' loops',\n",
       "   ' strings',\n",
       "   ' string-methods',\n",
       "   ' string-formatting']},\n",
       " {'Exercise': 'Pig Latin',\n",
       "  'Difficulty': 1,\n",
       "  'id': 'pig-latin',\n",
       "  'Deadline': '03/27/2022 23:59 +0100',\n",
       "  'Chapter': 2,\n",
       "  'Topic': 'Conditionals & Comparisons',\n",
       "  'Assignment_No': 13,\n",
       "  'Practices': ['basics',\n",
       "   ' bools',\n",
       "   ' conditionals',\n",
       "   ' comparisons',\n",
       "   ' lists',\n",
       "   ' list-methods',\n",
       "   ' loops',\n",
       "   ' sequences',\n",
       "   ' strings',\n",
       "   ' string-methods',\n",
       "   ' string-formatting'],\n",
       "  'MentorNotes': ['conditionals',\n",
       "   ' comparisons',\n",
       "   ' loops',\n",
       "   ' sequences',\n",
       "   ' strings',\n",
       "   ' string-methods',\n",
       "   ' string-formatting']},\n",
       " {'Exercise': 'Darts',\n",
       "  'Difficulty': 2,\n",
       "  'id': 'darts',\n",
       "  'Deadline': '03/27/2022 23:59 +0100',\n",
       "  'Chapter': 2,\n",
       "  'Topic': 'Conditionals & Comparisons',\n",
       "  'Assignment_No': 14,\n",
       "  'Practices': ['basics',\n",
       "   ' bools',\n",
       "   ' conditionals',\n",
       "   ' comparisons',\n",
       "   ' numbers'],\n",
       "  'MentorNotes': ['bools', ' conditionals', ' comparisons', ' numbers']},\n",
       " {'Exercise': 'Phone Number',\n",
       "  'Difficulty': 1,\n",
       "  'id': 'phone-number',\n",
       "  'Deadline': '04/03/2022 23:59 +0100',\n",
       "  'Chapter': 3,\n",
       "  'Topic': 'Lists',\n",
       "  'Assignment_No': 1,\n",
       "  'Practices': ['basics',\n",
       "   ' classes',\n",
       "   ' conditionals',\n",
       "   ' comparisons',\n",
       "   ' lists',\n",
       "   ' list-comprehensions',\n",
       "   ' loops',\n",
       "   ' numbers',\n",
       "   ' raising-and-handling-errors',\n",
       "   ' sequences',\n",
       "   ' strings',\n",
       "   ' string-methods',\n",
       "   ' string-formatting'],\n",
       "  'MentorNotes': ['classes',\n",
       "   ' conditionals',\n",
       "   ' comparisons',\n",
       "   ' lists',\n",
       "   ' list-comprehensions',\n",
       "   ' loops',\n",
       "   ' numbers',\n",
       "   ' raising-and-handling-errors',\n",
       "   ' sequences',\n",
       "   ' strings',\n",
       "   ' string-methods',\n",
       "   ' string-formatting']},\n",
       " {'Exercise': 'Armstrong Numbers',\n",
       "  'Difficulty': 1,\n",
       "  'id': 'armstrong-numbers',\n",
       "  'Deadline': '04/03/2022 23:59 +0100',\n",
       "  'Chapter': 3,\n",
       "  'Topic': 'Lists',\n",
       "  'Assignment_No': 2,\n",
       "  'Practices': ['basics',\n",
       "   ' comparisons',\n",
       "   ' lists',\n",
       "   ' loops',\n",
       "   ' list-comprehensions',\n",
       "   ' generator-expressions',\n",
       "   ' numbers',\n",
       "   ' strings',\n",
       "   ' string-methods'],\n",
       "  'MentorNotes': ['comparisons',\n",
       "   'list-comprehensions',\n",
       "   ' generator-expressions',\n",
       "   ' numbers',\n",
       "   ' strings',\n",
       "   ' string-methods']},\n",
       " {'Exercise': 'Nth Prime',\n",
       "  'Difficulty': 1,\n",
       "  'id': 'nth-prime',\n",
       "  'Deadline': '04/03/2022 23:59 +0100',\n",
       "  'Chapter': 3,\n",
       "  'Topic': 'Lists',\n",
       "  'Assignment_No': 3,\n",
       "  'Practices': ['basics',\n",
       "   ' bools',\n",
       "   ' conditionals',\n",
       "   ' comparisons',\n",
       "   ' lists',\n",
       "   ' list-methods',\n",
       "   ' list-comprehensions',\n",
       "   ' loops',\n",
       "   ' numbers',\n",
       "   ' raising-and-handling-errors',\n",
       "   ' sequences',\n",
       "   ' strings',\n",
       "   ' string-methods',\n",
       "   ' string-formatting'],\n",
       "  'MentorNotes': ['conditionals',\n",
       "   ' comparisons',\n",
       "   ' lists',\n",
       "   ' list-comprehensions',\n",
       "   ' loops',\n",
       "   ' numbers',\n",
       "   ' raising-and-handling-errors',\n",
       "   ' sequences',\n",
       "   ' strings',\n",
       "   ' string-formatting']},\n",
       " {'Exercise': 'Sum Of Multiples',\n",
       "  'Difficulty': 1,\n",
       "  'id': 'sum-of-multiples',\n",
       "  'Deadline': '04/03/2022 23:59 +0100',\n",
       "  'Chapter': 3,\n",
       "  'Topic': 'Lists',\n",
       "  'Assignment_No': 4,\n",
       "  'Practices': ['basics',\n",
       "   ' conditionals',\n",
       "   ' comparisons',\n",
       "   ' lists',\n",
       "   ' list-comprehensions',\n",
       "   ' other-comprehensions',\n",
       "   ' loops',\n",
       "   ' numbers',\n",
       "   ' sets'],\n",
       "  'MentorNotes': ['conditionals',\n",
       "   ' comparisons',\n",
       "   ' lists',\n",
       "   ' list-comprehensions',\n",
       "   ' other-comprehensions',\n",
       "   ' loops',\n",
       "   ' numbers',\n",
       "   ' sets']},\n",
       " {'Exercise': 'Prime Factors',\n",
       "  'Difficulty': 1,\n",
       "  'id': 'prime-factors',\n",
       "  'Deadline': '04/03/2022 23:59 +0100',\n",
       "  'Chapter': 3,\n",
       "  'Topic': 'Lists',\n",
       "  'Assignment_No': 5,\n",
       "  'Practices': ['basics',\n",
       "   ' conditionals',\n",
       "   ' comparisons',\n",
       "   ' lists',\n",
       "   ' list-methods',\n",
       "   ' loops',\n",
       "   ' numbers'],\n",
       "  'MentorNotes': ['conditionals',\n",
       "   ' comparisons',\n",
       "   ' lists',\n",
       "   ' list-methods',\n",
       "   ' loops',\n",
       "   ' numbers']},\n",
       " {'Exercise': 'Beer Song',\n",
       "  'Difficulty': 1,\n",
       "  'id': 'beer-song',\n",
       "  'Deadline': '04/03/2022 23:59 +0100',\n",
       "  'Chapter': 3,\n",
       "  'Topic': 'Lists',\n",
       "  'Assignment_No': 6,\n",
       "  'Practices': ['basics',\n",
       "   ' conditionals',\n",
       "   ' comparisons',\n",
       "   ' dicts',\n",
       "   ' dict-methods',\n",
       "   ' lists',\n",
       "   ' list-methods',\n",
       "   ' loops',\n",
       "   ' numbers',\n",
       "   ' sequences',\n",
       "   ' strings',\n",
       "   ' string-methods',\n",
       "   ' string-formatting',\n",
       "   ' tuples'],\n",
       "  'MentorNotes': ['conditionals',\n",
       "   ' comparisons',\n",
       "   ' lists',\n",
       "   ' list-methods',\n",
       "   ' loops',\n",
       "   ' numbers',\n",
       "   ' sequences',\n",
       "   ' strings',\n",
       "   ' string-methods',\n",
       "   ' string-formatting']},\n",
       " {'Exercise': 'Flatten Array',\n",
       "  'Difficulty': 1,\n",
       "  'id': 'flatten-array',\n",
       "  'Deadline': '04/03/2022 23:59 +0100',\n",
       "  'Chapter': 3,\n",
       "  'Topic': 'Lists',\n",
       "  'Assignment_No': 7,\n",
       "  'Practices': ['basics',\n",
       "   ' conditionals',\n",
       "   ' strings',\n",
       "   ' lists',\n",
       "   ' list-methods',\n",
       "   ' list-comprehensions',\n",
       "   ' loops',\n",
       "   ' none'],\n",
       "  'MentorNotes': ['conditionals',\n",
       "   ' lists',\n",
       "   ' list-methods',\n",
       "   ' list-comprehensions',\n",
       "   ' loops',\n",
       "   ' none']},\n",
       " {'Exercise': 'Atbash Cipher',\n",
       "  'Difficulty': 1,\n",
       "  'id': 'atbash-cipher',\n",
       "  'Deadline': '04/03/2022 23:59 +0100',\n",
       "  'Chapter': 3,\n",
       "  'Topic': 'Lists',\n",
       "  'Assignment_No': 8,\n",
       "  'Practices': ['basics',\n",
       "   ' conditionals',\n",
       "   ' loops',\n",
       "   ' lists',\n",
       "   ' list-methods',\n",
       "   ' list-comprehensions',\n",
       "   ' list-methods',\n",
       "   ' strings',\n",
       "   ' string-methods',\n",
       "   ' string-formatting',\n",
       "   ' sequences'],\n",
       "  'MentorNotes': ['conditionals',\n",
       "   ' loops',\n",
       "   ' lists',\n",
       "   ' sequences',\n",
       "   ' list-comprehensions',\n",
       "   ' list-methods',\n",
       "   ' strings',\n",
       "   ' string-methods',\n",
       "   ' string-formatting']},\n",
       " {'Exercise': 'Series',\n",
       "  'Difficulty': 1,\n",
       "  'id': 'series',\n",
       "  'Deadline': '04/03/2022 23:59 +0100',\n",
       "  'Chapter': 3,\n",
       "  'Topic': 'Lists',\n",
       "  'Assignment_No': 9,\n",
       "  'Practices': ['basics',\n",
       "   ' conditionals',\n",
       "   ' comparisons',\n",
       "   ' lists',\n",
       "   ' list-comprehensions',\n",
       "   ' loops',\n",
       "   ' sequences',\n",
       "   ' numbers',\n",
       "   ' raising-and-handling-errors',\n",
       "   ' strings'],\n",
       "  'MentorNotes': ['list-comprehensions',\n",
       "   ' sequences',\n",
       "   ' raising-and-handling-errors']},\n",
       " {'Exercise': 'Anagram',\n",
       "  'Difficulty': 1,\n",
       "  'id': 'anagram',\n",
       "  'Deadline': '04/03/2022 23:59 +0100',\n",
       "  'Chapter': 3,\n",
       "  'Topic': 'Lists',\n",
       "  'Assignment_No': 10,\n",
       "  'Practices': ['basics',\n",
       "   ' bools',\n",
       "   ' conditionals',\n",
       "   ' comparisons',\n",
       "   ' lists',\n",
       "   ' list-comprehensions',\n",
       "   ' loops',\n",
       "   ' strings',\n",
       "   ' string-methods'],\n",
       "  'MentorNotes': ['lists',\n",
       "   ' list-comprehensions',\n",
       "   ' strings',\n",
       "   ' string-methods']},\n",
       " {'Exercise': 'Resistor Color',\n",
       "  'Difficulty': 1,\n",
       "  'id': 'resistor-color',\n",
       "  'Deadline': '04/03/2022 23:59 +0100',\n",
       "  'Chapter': 3,\n",
       "  'Topic': 'Lists',\n",
       "  'Assignment_No': 11,\n",
       "  'Practices': ['basics',\n",
       "   ' bools',\n",
       "   ' conditionals',\n",
       "   ' comparisons',\n",
       "   ' lists',\n",
       "   ' list-methods'],\n",
       "  'MentorNotes': ['lists', ' list-methods']},\n",
       " {'Exercise': 'List Ops',\n",
       "  'Difficulty': 1,\n",
       "  'id': 'list-ops',\n",
       "  'Deadline': '04/03/2022 23:59 +0100',\n",
       "  'Chapter': 3,\n",
       "  'Topic': 'Lists',\n",
       "  'Assignment_No': 12,\n",
       "  'Practices': ['conditionals',\n",
       "   ' comparisons',\n",
       "   ' lists',\n",
       "   ' list-methods',\n",
       "   ' list-comprehensions',\n",
       "   ' loops',\n",
       "   ' sequences'],\n",
       "  'MentorNotes': ['lists',\n",
       "   ' list-methods',\n",
       "   ' list-comprehensions',\n",
       "   ' loops',\n",
       "   ' sequences']},\n",
       " {'Exercise': 'House',\n",
       "  'Difficulty': 1,\n",
       "  'id': 'house',\n",
       "  'Deadline': '04/03/2022 23:59 +0100',\n",
       "  'Chapter': 3,\n",
       "  'Topic': 'Lists',\n",
       "  'Assignment_No': 13,\n",
       "  'Practices': ['basics',\n",
       "   ' lists',\n",
       "   ' list-methods',\n",
       "   ' list-comprehensions',\n",
       "   ' loops',\n",
       "   ' sequences',\n",
       "   ' strings',\n",
       "   ' string-methods',\n",
       "   ' string-formatting'],\n",
       "  'MentorNotes': ['lists',\n",
       "   ' list-methods',\n",
       "   ' list-comprehensions',\n",
       "   ' loops',\n",
       "   ' sequences',\n",
       "   ' strings',\n",
       "   ' string-methods',\n",
       "   ' string-formatting']},\n",
       " {'Exercise': 'Resistor Color Duo',\n",
       "  'Difficulty': 1,\n",
       "  'id': 'resistor-color-duo',\n",
       "  'Deadline': '04/03/2022 23:59 +0100',\n",
       "  'Chapter': 3,\n",
       "  'Topic': 'Lists',\n",
       "  'Assignment_No': 14,\n",
       "  'Practices': ['basics',\n",
       "   ' bools',\n",
       "   ' comparisons',\n",
       "   ' lists',\n",
       "   ' list-methods',\n",
       "   ' numbers',\n",
       "   ' sequences'],\n",
       "  'MentorNotes': ['lists', ' list-methods', ' numbers', ' sequences']},\n",
       " {'Exercise': 'High Scores',\n",
       "  'Difficulty': 1,\n",
       "  'id': 'high-scores',\n",
       "  'Deadline': '04/03/2022 23:59 +0100',\n",
       "  'Chapter': 3,\n",
       "  'Topic': 'Lists',\n",
       "  'Assignment_No': 15,\n",
       "  'Practices': ['basics', ' lists', ' list-methods', ' sequences'],\n",
       "  'MentorNotes': ['sequences', ' lists', ' list-methods']},\n",
       " {'Exercise': 'Etl',\n",
       "  'Difficulty': 1,\n",
       "  'id': 'etl',\n",
       "  'Deadline': '04/10/2022 23:59 +0100',\n",
       "  'Chapter': 4,\n",
       "  'Topic': 'Dicts and Sets',\n",
       "  'Assignment_No': 1,\n",
       "  'Practices': ['basics',\n",
       "   ' list-comprehensions',\n",
       "   ' loops',\n",
       "   ' other-comprehensions',\n",
       "   ' dicts',\n",
       "   ' dict-methods',\n",
       "   ' strings',\n",
       "   ' string-methods'],\n",
       "  'MentorNotes': ['dicts', ' dict-methods', ' other-comprehensions']},\n",
       " {'Exercise': 'Say',\n",
       "  'Difficulty': 1,\n",
       "  'id': 'say',\n",
       "  'Deadline': '04/10/2022 23:59 +0100',\n",
       "  'Chapter': 4,\n",
       "  'Topic': 'Dicts and Sets',\n",
       "  'Assignment_No': 2,\n",
       "  'Practices': ['basics',\n",
       "   ' conditionals',\n",
       "   ' loops',\n",
       "   ' dicts',\n",
       "   ' lists',\n",
       "   ' sequences',\n",
       "   ' numbers',\n",
       "   ' strings',\n",
       "   ' string-methods',\n",
       "   ' string-methods-splitting',\n",
       "   ' raising-and-handling-errors'],\n",
       "  'MentorNotes': ['loops',\n",
       "   ' conditionals',\n",
       "   ' dicts',\n",
       "   ' lists',\n",
       "   ' numbers',\n",
       "   ' sequences',\n",
       "   ' strings',\n",
       "   ' string-methods',\n",
       "   ' string-methods-splitting',\n",
       "   ' raising-and-handling-errors']},\n",
       " {'Exercise': 'Wordy',\n",
       "  'Difficulty': 1,\n",
       "  'id': 'wordy',\n",
       "  'Deadline': '04/10/2022 23:59 +0100',\n",
       "  'Chapter': 4,\n",
       "  'Topic': 'Dicts and Sets',\n",
       "  'Assignment_No': 3,\n",
       "  'Practices': ['basics',\n",
       "   ' dicts',\n",
       "   ' loops',\n",
       "   ' strings',\n",
       "   ' string-methods',\n",
       "   ' string-methods-splitting',\n",
       "   ' raising-and-handling-errors',\n",
       "   ' numbers'],\n",
       "  'MentorNotes': ['loops',\n",
       "   ' dicts',\n",
       "   ' strings',\n",
       "   ' string-methods',\n",
       "   ' string-methods-splitting',\n",
       "   ' raising-and-handling-errors',\n",
       "   ' numbers']},\n",
       " {'Exercise': 'Crypto Square',\n",
       "  'Difficulty': 2,\n",
       "  'id': 'crypto-square',\n",
       "  'Deadline': '04/10/2022 23:59 +0100',\n",
       "  'Chapter': 4,\n",
       "  'Topic': 'Dicts and Sets',\n",
       "  'Assignment_No': 4,\n",
       "  'Practices': ['conditionals',\n",
       "   ' comparisons',\n",
       "   ' lists',\n",
       "   ' list-methods',\n",
       "   ' list-comprehensions',\n",
       "   ' loops',\n",
       "   ' iteration',\n",
       "   ' itertools',\n",
       "   ' numbers',\n",
       "   ' sequences',\n",
       "   ' strings',\n",
       "   'string-methods',\n",
       "   ' string-formatting'],\n",
       "  'MentorNotes': ['conditionals',\n",
       "   ' comparisons',\n",
       "   ' lists',\n",
       "   ' list-methods',\n",
       "   ' list-comprehensions',\n",
       "   ' loops',\n",
       "   ' itertools',\n",
       "   ' numbers',\n",
       "   ' sequences',\n",
       "   ' string-methods']},\n",
       " {'Exercise': 'Hamming',\n",
       "  'Difficulty': 2,\n",
       "  'id': 'hamming',\n",
       "  'Deadline': '04/10/2022 23:59 +0100',\n",
       "  'Chapter': 4,\n",
       "  'Topic': 'Dicts and Sets',\n",
       "  'Assignment_No': 4,\n",
       "  'Practices': ['basics',\n",
       "   ' loops',\n",
       "   ' lists',\n",
       "   ' list-comprehensions',\n",
       "   ' generator-expressions',\n",
       "   ' conditionals',\n",
       "   ' comparisons',\n",
       "   ' numbers',\n",
       "   ' raising-and-handling-errors',\n",
       "   ' sequences',\n",
       "   ' iteration',\n",
       "   ' itertools'],\n",
       "  'MentorNotes': ['generator-expressions',\n",
       "   ' conditionals',\n",
       "   ' comparisons',\n",
       "   ' raising-and-handling-errors',\n",
       "   ' sequences',\n",
       "   ' iteration',\n",
       "   ' itertools']},\n",
       " {'Exercise': 'Matrix',\n",
       "  'Difficulty': 2,\n",
       "  'id': 'matrix',\n",
       "  'Deadline': '04/10/2022 23:59 +0100',\n",
       "  'Chapter': 4,\n",
       "  'Topic': 'Dicts and Sets',\n",
       "  'Assignment_No': 5,\n",
       "  'Practices': ['basics',\n",
       "   ' classes',\n",
       "   ' lists',\n",
       "   ' list-methods',\n",
       "   ' list-comprehensions',\n",
       "   ' loops',\n",
       "   ' numbers',\n",
       "   ' sequences',\n",
       "   ' strings',\n",
       "   ' string-methods',\n",
       "   ' string-methods-splitting'],\n",
       "  'MentorNotes': ['classes',\n",
       "   ' list-methods',\n",
       "   ' list-comprehensions',\n",
       "   ' sequences',\n",
       "   ' string-methods',\n",
       "   ' string-methods-splitting']},\n",
       " {'Exercise': 'Minesweeper',\n",
       "  'Difficulty': 2,\n",
       "  'id': 'minesweeper',\n",
       "  'Deadline': '04/10/2022 23:59 +0100',\n",
       "  'Chapter': 4,\n",
       "  'Topic': 'Dicts and Sets',\n",
       "  'Assignment_No': 6,\n",
       "  'Practices': ['basics',\n",
       "   ' bools',\n",
       "   ' conditionals',\n",
       "   ' comparisons',\n",
       "   ' lists',\n",
       "   ' list-methods',\n",
       "   ' list-comprehensions',\n",
       "   ' loops',\n",
       "   ' numbers',\n",
       "   ' sequences'],\n",
       "  'MentorNotes': ['bools',\n",
       "   ' conditionals',\n",
       "   ' comparisons',\n",
       "   ' lists',\n",
       "   ' list-methods',\n",
       "   ' list-comprehensions',\n",
       "   ' loops',\n",
       "   ' numbers',\n",
       "   ' sequences']},\n",
       " {'Exercise': 'Palindrome Products',\n",
       "  'Difficulty': 2,\n",
       "  'id': 'palindrome-products',\n",
       "  'Deadline': '04/10/2022 23:59 +0100',\n",
       "  'Chapter': 4,\n",
       "  'Topic': 'Dicts and Sets',\n",
       "  'Assignment_No': 7,\n",
       "  'Practices': ['basics',\n",
       "   ' bools',\n",
       "   ' conditionals',\n",
       "   ' comparisons',\n",
       "   ' functions',\n",
       "   ' function-arguments',\n",
       "   ' lists',\n",
       "   ' list-methods',\n",
       "   ' list-comprehensions',\n",
       "   ' loops',\n",
       "   ' numbers',\n",
       "   ' raising-and-handling-errors',\n",
       "   ' sequences',\n",
       "   ' strings',\n",
       "   ' string-methods'],\n",
       "  'MentorNotes': ['bools',\n",
       "   ' conditionals',\n",
       "   ' comparisons',\n",
       "   ' functions',\n",
       "   ' function-arguments',\n",
       "   ' list-methods',\n",
       "   ' list-comprehensions',\n",
       "   ' loops',\n",
       "   ' numbers',\n",
       "   ' raising-and-handling-errors',\n",
       "   ' sequences',\n",
       "   ' strings',\n",
       "   ' string-methods']},\n",
       " {'Exercise': 'Raindrops',\n",
       "  'Difficulty': 2,\n",
       "  'id': 'raindrops',\n",
       "  'Deadline': '04/10/2022 23:59 +0100',\n",
       "  'Chapter': 4,\n",
       "  'Topic': 'Dicts and Sets',\n",
       "  'Assignment_No': 8,\n",
       "  'Practices': ['basics',\n",
       "   ' loops',\n",
       "   ' strings',\n",
       "   ' string-methods',\n",
       "   ' string-formatting',\n",
       "   ' numbers',\n",
       "   ' conditionals',\n",
       "   ' comparisons',\n",
       "   ' bools'],\n",
       "  'MentorNotes': ['strings',\n",
       "   ' string-methods',\n",
       "   ' conditionals',\n",
       "   ' comparisons',\n",
       "   ' numbers']},\n",
       " {'Exercise': 'Robot Name',\n",
       "  'Difficulty': 2,\n",
       "  'id': 'robot-name',\n",
       "  'Deadline': '04/10/2022 23:59 +0100',\n",
       "  'Chapter': 4,\n",
       "  'Topic': 'Dicts and Sets',\n",
       "  'Assignment_No': 9,\n",
       "  'Practices': ['basics',\n",
       "   ' bools',\n",
       "   ' classes',\n",
       "   ' class-customization',\n",
       "   ' conditionals',\n",
       "   ' comparisons',\n",
       "   ' lists',\n",
       "   ' list-comprehensions',\n",
       "   ' loops',\n",
       "   ' sets',\n",
       "   ' strings',\n",
       "   ' string-methods'],\n",
       "  'MentorNotes': ['bools',\n",
       "   ' classes',\n",
       "   ' class-customization',\n",
       "   ' conditionals',\n",
       "   ' comparisons',\n",
       "   ' string-methods']},\n",
       " {'Exercise': 'Robot Simulator',\n",
       "  'Difficulty': 2,\n",
       "  'id': 'robot-simulator',\n",
       "  'Deadline': '04/17/2022 23:59 +0100',\n",
       "  'Chapter': 5,\n",
       "  'Topic': 'Complext Datatypes (Various)',\n",
       "  'Assignment_No': 1,\n",
       "  'Practices': ['basics',\n",
       "   ' classes',\n",
       "   ' class-customization',\n",
       "   ' comparisons',\n",
       "   ' conditionals',\n",
       "   ' dicts',\n",
       "   ' dict-methods',\n",
       "   ' functions',\n",
       "   ' function-arguments',\n",
       "   ' lists',\n",
       "   ' loops',\n",
       "   ' numbers',\n",
       "   ' tuples'],\n",
       "  'MentorNotes': ['classes',\n",
       "   ' class-customization',\n",
       "   ' comparisons',\n",
       "   ' conditionals',\n",
       "   ' dicts',\n",
       "   ' dict-methods',\n",
       "   ' lists',\n",
       "   ' loops',\n",
       "   ' numbers',\n",
       "   ' tuples']},\n",
       " {'Exercise': 'Roman Numerals',\n",
       "  'Difficulty': 2,\n",
       "  'id': 'roman-numerals',\n",
       "  'Deadline': '04/17/2022 23:59 +0100',\n",
       "  'Chapter': 5,\n",
       "  'Topic': 'Complext Datatypes (Various)',\n",
       "  'Assignment_No': 2,\n",
       "  'Practices': ['basics',\n",
       "   ' conditionals',\n",
       "   ' lists',\n",
       "   ' list-methods',\n",
       "   ' loops',\n",
       "   ' numbers',\n",
       "   ' sequences',\n",
       "   ' strings',\n",
       "   ' string-methods'],\n",
       "  'MentorNotes': ['basics',\n",
       "   ' conditionals',\n",
       "   ' lists',\n",
       "   ' list-methods',\n",
       "   ' list-comprehensions',\n",
       "   ' loops',\n",
       "   ' numbers',\n",
       "   ' sequences',\n",
       "   ' strings',\n",
       "   ' string-methods']},\n",
       " {'Exercise': 'Rotational Cipher',\n",
       "  'Difficulty': 2,\n",
       "  'id': 'rotational-cipher',\n",
       "  'Deadline': '04/17/2022 23:59 +0100',\n",
       "  'Chapter': 5,\n",
       "  'Topic': 'Complext Datatypes (Various)',\n",
       "  'Assignment_No': 3,\n",
       "  'Practices': ['basics',\n",
       "   ' conditionals',\n",
       "   ' comparisons',\n",
       "   ' dicts',\n",
       "   ' dict-methods',\n",
       "   ' iteration',\n",
       "   ' itertools',\n",
       "   ' lists',\n",
       "   ' list-comprehensions',\n",
       "   ' other-comprehensions',\n",
       "   ' loops',\n",
       "   ' numbers',\n",
       "   ' strings',\n",
       "   ' string-methods'],\n",
       "  'MentorNotes': ['conditionals',\n",
       "   ' comparisons',\n",
       "   ' dicts',\n",
       "   ' lists',\n",
       "   ' list-comprehensions',\n",
       "   ' other-comprehensions',\n",
       "   ' loops',\n",
       "   ' numbers',\n",
       "   ' strings',\n",
       "   ' string-methods']},\n",
       " {'Exercise': 'Run Length Encoding',\n",
       "  'Difficulty': 2,\n",
       "  'id': 'run-length-encoding',\n",
       "  'Deadline': '04/17/2022 23:59 +0100',\n",
       "  'Chapter': 5,\n",
       "  'Topic': 'Complext Datatypes (Various)',\n",
       "  'Assignment_No': 4,\n",
       "  'Practices': ['basics',\n",
       "   ' bools',\n",
       "   ' conditionals',\n",
       "   ' comparisons',\n",
       "   ' iteration',\n",
       "   ' lists',\n",
       "   ' list-methods',\n",
       "   ' list-comprehensions',\n",
       "   ' loops',\n",
       "   ' numbers',\n",
       "   ' regular-expressions',\n",
       "   ' sequences',\n",
       "   ' strings',\n",
       "   ' string-methods'],\n",
       "  'MentorNotes': ['conditionals',\n",
       "   ' comparisons',\n",
       "   ' iteration',\n",
       "   ' lists',\n",
       "   ' list-methods',\n",
       "   ' list-comprehensions',\n",
       "   ' loops',\n",
       "   ' regular-expressions',\n",
       "   ' sequences',\n",
       "   ' strings',\n",
       "   ' string-methods']},\n",
       " {'Exercise': 'Secret Handshake',\n",
       "  'Difficulty': 2,\n",
       "  'id': 'secret-handshake',\n",
       "  'Deadline': '04/17/2022 23:59 +0100',\n",
       "  'Chapter': 5,\n",
       "  'Topic': 'Complext Datatypes (Various)',\n",
       "  'Assignment_No': 5,\n",
       "  'Practices': ['basics',\n",
       "   ' bitflags',\n",
       "   ' bitwise-operators',\n",
       "   ' bools',\n",
       "   ' conditionals',\n",
       "   ' comparisons',\n",
       "   ' lists',\n",
       "   ' list-comprehensions',\n",
       "   ' loops',\n",
       "   ' numbers',\n",
       "   ' number-variations',\n",
       "   ' strings'],\n",
       "  'MentorNotes': ['bitflags',\n",
       "   ' bitwise-operators',\n",
       "   ' bools',\n",
       "   ' conditionals',\n",
       "   ' comparisons',\n",
       "   ' lists',\n",
       "   ' loops',\n",
       "   ' number-variations']},\n",
       " {'Exercise': 'Sieve',\n",
       "  'Difficulty': 2,\n",
       "  'id': 'sieve',\n",
       "  'Deadline': '04/17/2022 23:59 +0100',\n",
       "  'Chapter': 5,\n",
       "  'Topic': 'Complext Datatypes (Various)',\n",
       "  'Assignment_No': 6,\n",
       "  'Practices': ['basics',\n",
       "   ' conditionals',\n",
       "   ' lists',\n",
       "   ' list-methods',\n",
       "   ' loops',\n",
       "   ' numbers',\n",
       "   ' sequences',\n",
       "   ' sets'],\n",
       "  'MentorNotes': ['conditionals',\n",
       "   ' lists',\n",
       "   ' list-methods',\n",
       "   ' loops',\n",
       "   ' numbers',\n",
       "   ' sets']},\n",
       " {'Exercise': 'Space Age',\n",
       "  'Difficulty': 2,\n",
       "  'id': 'space-age',\n",
       "  'Deadline': '04/17/2022 23:59 +0100',\n",
       "  'Chapter': 5,\n",
       "  'Topic': 'Complext Datatypes (Various)',\n",
       "  'Assignment_No': 7,\n",
       "  'Practices': ['basics',\n",
       "   ' bools',\n",
       "   ' classes',\n",
       "   ' comparisons',\n",
       "   ' dicts',\n",
       "   ' lists',\n",
       "   ' list-methods',\n",
       "   ' loops',\n",
       "   ' numbers'],\n",
       "  'MentorNotes': ['bools',\n",
       "   ' classes',\n",
       "   ' comparisons',\n",
       "   ' dicts',\n",
       "   ' lists',\n",
       "   ' list-methods',\n",
       "   ' loops',\n",
       "   ' numbers']},\n",
       " {'Exercise': 'Spiral Matrix',\n",
       "  'Difficulty': 2,\n",
       "  'id': 'spiral-matrix',\n",
       "  'Deadline': '04/17/2022 23:59 +0100',\n",
       "  'Chapter': 5,\n",
       "  'Topic': 'Complext Datatypes (Various)',\n",
       "  'Assignment_No': 8,\n",
       "  'Practices': ['basics',\n",
       "   ' conditionals',\n",
       "   ' comparisons',\n",
       "   ' iteration',\n",
       "   ' itertools',\n",
       "   ' dicts',\n",
       "   ' lists',\n",
       "   ' list-methods',\n",
       "   ' list-comprehensions',\n",
       "   ' loops',\n",
       "   ' numbers',\n",
       "   ' sequences',\n",
       "   ' strings',\n",
       "   ' string-methods',\n",
       "   ' string-formatting'],\n",
       "  'MentorNotes': ['conditionals',\n",
       "   ' comparisons',\n",
       "   ' lists',\n",
       "   ' list-methods',\n",
       "   ' list-comprehensions',\n",
       "   ' loops',\n",
       "   ' sequences',\n",
       "   ' strings',\n",
       "   ' string-methods',\n",
       "   ' string-formatting']},\n",
       " {'Exercise': 'Transpose',\n",
       "  'Difficulty': 2,\n",
       "  'id': 'transpose',\n",
       "  'Deadline': '04/17/2022 23:59 +0100',\n",
       "  'Chapter': 5,\n",
       "  'Topic': 'Complext Datatypes (Various)',\n",
       "  'Assignment_No': 9,\n",
       "  'Practices': ['basics',\n",
       "   ' bools',\n",
       "   ' conditionals',\n",
       "   ' comparisons',\n",
       "   ' lists',\n",
       "   ' list-methods',\n",
       "   ' list-comprehensions',\n",
       "   ' loops',\n",
       "   ' numbers',\n",
       "   ' sequences',\n",
       "   ' strings',\n",
       "   ' string-methods'],\n",
       "  'MentorNotes': ['bools',\n",
       "   ' conditionals',\n",
       "   ' comparisons',\n",
       "   ' lists',\n",
       "   ' list-methods',\n",
       "   ' list-comprehensions',\n",
       "   ' loops',\n",
       "   ' numbers',\n",
       "   ' sequences',\n",
       "   ' strings',\n",
       "   ' string-methods']},\n",
       " {'Exercise': 'Meetup',\n",
       "  'Difficulty': 4,\n",
       "  'id': 'meetup',\n",
       "  'Deadline': '04/24/2022 23:59 +0100',\n",
       "  'Chapter': 7,\n",
       "  'Topic': 'Classes',\n",
       "  'Assignment_No': 1,\n",
       "  'Practices': ['basics',\n",
       "   ' bools',\n",
       "   ' classes',\n",
       "   ' class-customization',\n",
       "   ' class-composition',\n",
       "   ' class-inheritance',\n",
       "   ' conditionals',\n",
       "   ' comparisons',\n",
       "   ' dicts',\n",
       "   ' dict-methods',\n",
       "   ' lists',\n",
       "   ' list-methods',\n",
       "   ' loops',\n",
       "   ' raising-and-handling-errors',\n",
       "   ' user-defined-errors',\n",
       "   ' sequences',\n",
       "   ' strings',\n",
       "   ' string-methods',\n",
       "   ' string-formatting'],\n",
       "  'MentorNotes': ['bools',\n",
       "   ' classes',\n",
       "   ' class-customization',\n",
       "   ' class-composition',\n",
       "   ' class-inheritance',\n",
       "   ' conditionals',\n",
       "   ' dicts',\n",
       "   ' dict-methods',\n",
       "   ' lists',\n",
       "   ' list-methods',\n",
       "   ' loops',\n",
       "   ' raising-and-handling-errors',\n",
       "   ' user-defined-errors',\n",
       "   ' sequences',\n",
       "   ' strings',\n",
       "   ' string-methods',\n",
       "   ' string-formatting']},\n",
       " {'Exercise': 'Dnd Character',\n",
       "  'Difficulty': 3,\n",
       "  'id': 'dnd-character',\n",
       "  'Deadline': '04/24/2022 23:59 +0100',\n",
       "  'Chapter': 7,\n",
       "  'Topic': 'Classes',\n",
       "  'Assignment_No': 2,\n",
       "  'Practices': ['basics',\n",
       "   ' bools',\n",
       "   ' classes',\n",
       "   ' class-customization',\n",
       "   ' conditionals',\n",
       "   ' comparisons',\n",
       "   ' dicts',\n",
       "   ' lists',\n",
       "   ' list-methods',\n",
       "   ' list-comprehensions',\n",
       "   ' loops',\n",
       "   ' numbers'],\n",
       "  'MentorNotes': ['bools',\n",
       "   ' classes',\n",
       "   ' class-customization',\n",
       "   ' conditionals',\n",
       "   ' comparisons',\n",
       "   ' dicts',\n",
       "   ' lists',\n",
       "   ' list-methods',\n",
       "   ' list-comprehensions',\n",
       "   ' loops',\n",
       "   ' numbers']},\n",
       " {'Exercise': 'Simple Linked List',\n",
       "  'Difficulty': 3,\n",
       "  'id': 'simple-linked-list',\n",
       "  'Deadline': '04/24/2022 23:59 +0100',\n",
       "  'Chapter': 7,\n",
       "  'Topic': 'Classes',\n",
       "  'Assignment_No': 3,\n",
       "  'Practices': ['basics',\n",
       "   ' bools',\n",
       "   ' classes',\n",
       "   ' class-customization',\n",
       "   ' conditionals',\n",
       "   ' comparisons',\n",
       "   ' loops',\n",
       "   ' numbers',\n",
       "   ' operator-overloading',\n",
       "   ' rich-comparisons',\n",
       "   ' raising-and-handling-errors',\n",
       "   ' strings'],\n",
       "  'MentorNotes': ['bools',\n",
       "   ' classes',\n",
       "   ' class-customization',\n",
       "   ' conditionals',\n",
       "   ' comparisons',\n",
       "   ' loops',\n",
       "   ' numbers',\n",
       "   ' operator-overloading',\n",
       "   ' rich-comparisons',\n",
       "   ' raising-and-handling-errors',\n",
       "   ' strings']},\n",
       " {'Exercise': 'Scale Generator',\n",
       "  'Difficulty': 4,\n",
       "  'id': 'scale-generator',\n",
       "  'Deadline': '04/24/2022 23:59 +0100',\n",
       "  'Chapter': 7,\n",
       "  'Topic': 'Classes',\n",
       "  'Assignment_No': 4,\n",
       "  'Practices': ['basics',\n",
       "   ' bools',\n",
       "   ' classes',\n",
       "   ' conditionals',\n",
       "   ' comparisons',\n",
       "   ' dicts',\n",
       "   ' dict-methods',\n",
       "   ' lists',\n",
       "   ' list-methods',\n",
       "   ' list-comprehensions',\n",
       "   ' loops',\n",
       "   ' sequences',\n",
       "   ' strings',\n",
       "   ' string-methods',\n",
       "   ' string-formatting'],\n",
       "  'MentorNotes': ['bools',\n",
       "   ' classes',\n",
       "   ' conditionals',\n",
       "   ' comparisons',\n",
       "   ' dicts',\n",
       "   ' dict-methods',\n",
       "   ' lists',\n",
       "   ' list-methods',\n",
       "   ' list-comprehensions',\n",
       "   ' loops',\n",
       "   ' sequences',\n",
       "   ' strings',\n",
       "   ' string-methods']},\n",
       " {'Exercise': 'Go Counting',\n",
       "  'Difficulty': 4,\n",
       "  'id': 'go-counting',\n",
       "  'Deadline': '04/24/2022 23:59 +0100',\n",
       "  'Chapter': 7,\n",
       "  'Topic': 'Classes',\n",
       "  'Assignment_No': 5,\n",
       "  'Practices': ['basics',\n",
       "   ' bools',\n",
       "   ' classes',\n",
       "   ' conditionals',\n",
       "   ' comparisons',\n",
       "   ' functions',\n",
       "   ' function-arguments',\n",
       "   ' lists',\n",
       "   ' list-methods',\n",
       "   ' list-comprehensions',\n",
       "   ' loops',\n",
       "   ' other-comprehensions',\n",
       "   ' raising-and-handling-errors',\n",
       "   ' sequences',\n",
       "   ' sets',\n",
       "   ' tuples',\n",
       "   ' unpacking-and-multiple-assignment'],\n",
       "  'MentorNotes': ['bools',\n",
       "   ' classes',\n",
       "   ' conditionals',\n",
       "   ' comparisons',\n",
       "   ' functions',\n",
       "   ' function-arguments',\n",
       "   ' lists',\n",
       "   ' list-methods',\n",
       "   ' list-comprehensions',\n",
       "   ' loops',\n",
       "   ' raising-and-handling-errors',\n",
       "   ' sequences',\n",
       "   ' sets']},\n",
       " {'Exercise': 'Luhn',\n",
       "  'Difficulty': 4,\n",
       "  'id': 'luhn',\n",
       "  'Deadline': '04/24/2022 23:59 +0100',\n",
       "  'Chapter': 7,\n",
       "  'Topic': 'Classes',\n",
       "  'Assignment_No': 6,\n",
       "  'Practices': ['basics',\n",
       "   ' bools',\n",
       "   ' classes',\n",
       "   ' conditionals',\n",
       "   ' comparisons',\n",
       "   ' iteration',\n",
       "   ' lists',\n",
       "   ' list-methods',\n",
       "   ' list-comprehensions',\n",
       "   ' loops',\n",
       "   ' sequences',\n",
       "   ' strings',\n",
       "   ' string-methods',\n",
       "   ' string-formatting',\n",
       "   ' numbers'],\n",
       "  'MentorNotes': ['bools',\n",
       "   'classes',\n",
       "   ' conditionals',\n",
       "   ' comparisons',\n",
       "   ' loops',\n",
       "   ' sequences',\n",
       "   ' numbers']},\n",
       " {'Exercise': 'Clock',\n",
       "  'Difficulty': 4,\n",
       "  'id': 'clock',\n",
       "  'Deadline': '04/24/2022 23:59 +0100',\n",
       "  'Chapter': 7,\n",
       "  'Topic': 'Classes',\n",
       "  'Assignment_No': 7,\n",
       "  'Practices': ['basics',\n",
       "   ' classes',\n",
       "   ' class-composition',\n",
       "   ' class-customization',\n",
       "   ' comparisons',\n",
       "   ' rich-comparisons',\n",
       "   ' numbers',\n",
       "   ' strings',\n",
       "   ' string-formatting'],\n",
       "  'MentorNotes': ['classes',\n",
       "   ' class-composition',\n",
       "   ' class-customization',\n",
       "   ' rich-comparisons',\n",
       "   ' string-formatting']},\n",
       " {'Exercise': 'Complex Numbers',\n",
       "  'Difficulty': 4,\n",
       "  'id': 'complex-numbers',\n",
       "  'Deadline': '04/24/2022 23:59 +0100',\n",
       "  'Chapter': 7,\n",
       "  'Topic': 'Classes',\n",
       "  'Assignment_No': 8,\n",
       "  'Practices': ['basics',\n",
       "   ' bools',\n",
       "   ' conditionals',\n",
       "   ' classes',\n",
       "   ' class-customization',\n",
       "   ' class-inheritance',\n",
       "   ' comparisons',\n",
       "   ' rich-comparisons',\n",
       "   ' numbers',\n",
       "   ' strings',\n",
       "   ' string-formatting'],\n",
       "  'MentorNotes': ['classes',\n",
       "   ' class-customization',\n",
       "   ' class-inheritance',\n",
       "   ' comparisons',\n",
       "   ' rich-comparisons',\n",
       "   ' numbers']},\n",
       " {'Exercise': 'Allergies',\n",
       "  'Difficulty': 3,\n",
       "  'id': 'allergies',\n",
       "  'Deadline': '04/24/2022 23:59 +0100',\n",
       "  'Chapter': 7,\n",
       "  'Topic': 'Classes',\n",
       "  'Assignment_No': 9,\n",
       "  'Practices': ['basics',\n",
       "   ' classes',\n",
       "   ' class-customization',\n",
       "   ' conditionals',\n",
       "   ' comparisons',\n",
       "   ' dicts',\n",
       "   ' dict-methods',\n",
       "   ' loops',\n",
       "   ' numbers'],\n",
       "  'MentorNotes': ['classes',\n",
       "   ' class-customization',\n",
       "   ' conditionals',\n",
       "   ' comparisons',\n",
       "   ' dicts',\n",
       "   ' dict-methods',\n",
       "   ' loops',\n",
       "   ' numbers']},\n",
       " {'Exercise': 'Linked List',\n",
       "  'Difficulty': 4,\n",
       "  'id': 'linked-list',\n",
       "  'Deadline': '04/24/2022 23:59 +0100',\n",
       "  'Chapter': 7,\n",
       "  'Topic': 'Classes',\n",
       "  'Assignment_No': 10,\n",
       "  'Practices': ['basics',\n",
       "   ' bools',\n",
       "   ' classes',\n",
       "   ' class-customization',\n",
       "   ' conditionals',\n",
       "   ' comparisons',\n",
       "   ' function-arguments',\n",
       "   ' iteration',\n",
       "   ' iterators',\n",
       "   ' lists',\n",
       "   ' loops',\n",
       "   ' numbers',\n",
       "   ' none',\n",
       "   ' operator-overloading',\n",
       "   ' rich-comparisons'],\n",
       "  'MentorNotes': ['classes',\n",
       "   ' class-customization',\n",
       "   ' conditionals',\n",
       "   ' comparisons',\n",
       "   ' function-arguments',\n",
       "   ' iteration',\n",
       "   ' iterators',\n",
       "   ' numbers',\n",
       "   ' none',\n",
       "   ' operator-overloading',\n",
       "   ' rich-comparisons']},\n",
       " {'Exercise': 'Kindergarten Garden',\n",
       "  'Difficulty': 3,\n",
       "  'id': 'kindergarten-garden',\n",
       "  'Deadline': '04/24/2022 23:59 +0100',\n",
       "  'Chapter': 7,\n",
       "  'Topic': 'Classes',\n",
       "  'Assignment_No': 11,\n",
       "  'Practices': ['basics',\n",
       "   ' classes',\n",
       "   ' class-customization',\n",
       "   ' dicts',\n",
       "   ' functions',\n",
       "   ' function-arguments',\n",
       "   ' list-comprehensions',\n",
       "   ' other-comprehensions',\n",
       "   ' loops',\n",
       "   ' iteration',\n",
       "   ' itertools',\n",
       "   ' sequences',\n",
       "   ' strings',\n",
       "   ' string-methods',\n",
       "   ' string-methods-splitting'],\n",
       "  'MentorNotes': ['classes',\n",
       "   ' class-customization',\n",
       "   ' dicts',\n",
       "   ' list-comprehensions',\n",
       "   ' other-comprehensions',\n",
       "   ' iteration',\n",
       "   ' itertools',\n",
       "   ' sequences',\n",
       "   ' string-methods',\n",
       "   ' string-methods-splitting']},\n",
       " {'Exercise': 'Connect',\n",
       "  'Difficulty': 3,\n",
       "  'id': 'connect',\n",
       "  'Deadline': '04/24/2022 23:59 +0100',\n",
       "  'Chapter': 7,\n",
       "  'Topic': 'Classes',\n",
       "  'Assignment_No': 12,\n",
       "  'Practices': ['basics',\n",
       "   ' bools',\n",
       "   ' classes',\n",
       "   ' conditionals',\n",
       "   ' comparisons',\n",
       "   ' dicts',\n",
       "   ' iteration',\n",
       "   ' lists',\n",
       "   ' list-methods',\n",
       "   ' list-comprehensions',\n",
       "   ' loops',\n",
       "   ' numbers',\n",
       "   ' sequences',\n",
       "   ' sets',\n",
       "   ' strings',\n",
       "   ' string-methods',\n",
       "   ' tuples'],\n",
       "  'MentorNotes': ['classes',\n",
       "   ' conditionals',\n",
       "   ' comparisons',\n",
       "   ' dicts',\n",
       "   ' iteration',\n",
       "   ' lists',\n",
       "   ' list-methods',\n",
       "   ' loops',\n",
       "   ' numbers',\n",
       "   ' sequences',\n",
       "   ' sets',\n",
       "   ' strings',\n",
       "   ' string-methods',\n",
       "   ' tuples']},\n",
       " {'Exercise': 'Simple Cipher',\n",
       "  'Difficulty': 3,\n",
       "  'id': 'simple-cipher',\n",
       "  'Deadline': '04/24/2022 23:59 +0100',\n",
       "  'Chapter': 7,\n",
       "  'Topic': 'Classes',\n",
       "  'Assignment_No': 13,\n",
       "  'Practices': ['basics',\n",
       "   ' classes',\n",
       "   ' conditionals',\n",
       "   ' comparisons',\n",
       "   ' list',\n",
       "   ' list-methods',\n",
       "   ' list-comprehensions',\n",
       "   ' loops',\n",
       "   ' none',\n",
       "   ' numbers',\n",
       "   ' strings',\n",
       "   ' string-methods'],\n",
       "  'MentorNotes': ['classes',\n",
       "   ' conditionals',\n",
       "   ' comparisons',\n",
       "   ' list',\n",
       "   ' list-methods',\n",
       "   ' list-comprehensions',\n",
       "   ' numbers',\n",
       "   ' strings',\n",
       "   ' string-methods']},\n",
       " {'Exercise': 'Tree Building',\n",
       "  'Difficulty': 3,\n",
       "  'id': 'tree-building',\n",
       "  'Deadline': '04/24/2022 23:59 +0100',\n",
       "  'Chapter': 7,\n",
       "  'Topic': 'Classes',\n",
       "  'Assignment_No': 14,\n",
       "  'Practices': ['basics',\n",
       "   ' bools',\n",
       "   ' classes',\n",
       "   ' conditionals',\n",
       "   ' comparisons',\n",
       "   ' lists',\n",
       "   ' list-methods',\n",
       "   ' list-comprehensions',\n",
       "   ' loops',\n",
       "   ' none',\n",
       "   ' numbers',\n",
       "   ' raising-and-handling-errors',\n",
       "   ' sequences'],\n",
       "  'MentorNotes': ['classes',\n",
       "   ' conditionals',\n",
       "   ' comparisons',\n",
       "   ' lists',\n",
       "   ' list-methods',\n",
       "   ' list-comprehensions',\n",
       "   ' loops',\n",
       "   ' none',\n",
       "   ' numbers',\n",
       "   ' raising-and-handling-errors',\n",
       "   ' sequences']},\n",
       " {'Exercise': 'Grade School',\n",
       "  'Difficulty': 3,\n",
       "  'id': 'grade-school',\n",
       "  'Deadline': '04/24/2022 23:59 +0100',\n",
       "  'Chapter': 7,\n",
       "  'Topic': 'Classes',\n",
       "  'Assignment_No': 15,\n",
       "  'Practices': ['basics',\n",
       "   ' classes',\n",
       "   ' dicts',\n",
       "   ' dict-methods',\n",
       "   ' collections',\n",
       "   ' lists',\n",
       "   ' list-methods',\n",
       "   ' list-comprehensions',\n",
       "   ' sequences'],\n",
       "  'MentorNotes': ['classes',\n",
       "   ' dict-methods',\n",
       "   ' collections',\n",
       "   ' lists',\n",
       "   ' list-methods',\n",
       "   ' list-comprehensions',\n",
       "   ' sequences']},\n",
       " {'Exercise': 'Circular Buffer',\n",
       "  'Difficulty': 3,\n",
       "  'id': 'circular-buffer',\n",
       "  'Deadline': '04/24/2022 23:59 +0100',\n",
       "  'Chapter': 7,\n",
       "  'Topic': 'Classes',\n",
       "  'Assignment_No': 16,\n",
       "  'Practices': ['basics',\n",
       "   ' bools',\n",
       "   ' classes',\n",
       "   ' class-customization',\n",
       "   ' class-composition',\n",
       "   ' class-inheritance',\n",
       "   ' conditionals',\n",
       "   ' comparisons',\n",
       "   ' dicts',\n",
       "   ' functions',\n",
       "   ' function-arguments',\n",
       "   ' lists',\n",
       "   ' list-methods',\n",
       "   ' list-comprehensions',\n",
       "   ' other-comprehensions',\n",
       "   ' loops',\n",
       "   ' numbers',\n",
       "   ' operator-overloading',\n",
       "   ' rich-comparisons',\n",
       "   ' raising-and-handling-errors',\n",
       "   ' sequences',\n",
       "   ' strings',\n",
       "   ' unpacking-and-multiple-assignment',\n",
       "   ' user-defined-errors'],\n",
       "  'MentorNotes': ['bools',\n",
       "   ' classes',\n",
       "   ' class-customization',\n",
       "   ' class-composition',\n",
       "   ' class-inheritance',\n",
       "   ' conditionals',\n",
       "   ' comparisons',\n",
       "   ' dicts',\n",
       "   ' functions',\n",
       "   ' function-arguments',\n",
       "   ' lists',\n",
       "   ' list-methods',\n",
       "   ' raising-and-handling-errors',\n",
       "   ' sequences',\n",
       "   ' strings',\n",
       "   ' unpacking-and-multiple-assignment',\n",
       "   ' user-defined-errors']},\n",
       " {'Exercise': 'Grep',\n",
       "  'Difficulty': 4,\n",
       "  'id': 'grep',\n",
       "  'Deadline': '05/01/2022 23:59 +0100',\n",
       "  'Chapter': 8,\n",
       "  'Topic': 'Functional Programming',\n",
       "  'Assignment_No': 1,\n",
       "  'Practices': ['basics',\n",
       "   ' bools',\n",
       "   ' conditionals',\n",
       "   ' comparisons',\n",
       "   ' dicts',\n",
       "   ' functions',\n",
       "   ' function-arguments',\n",
       "   ' lists',\n",
       "   ' list-methods',\n",
       "   ' list-comprehensions',\n",
       "   ' other-comprehensions',\n",
       "   ' loops',\n",
       "   ' sequences',\n",
       "   ' strings',\n",
       "   ' string-formatting',\n",
       "   ' unpacking-and-multiple-assignment',\n",
       "   ' with-statement'],\n",
       "  'MentorNotes': ['bools',\n",
       "   ' conditionals',\n",
       "   ' comparisons',\n",
       "   ' dicts',\n",
       "   ' functions',\n",
       "   ' function-arguments',\n",
       "   ' lists',\n",
       "   ' list-methods',\n",
       "   ' list-comprehensions',\n",
       "   ' other-comprehensions',\n",
       "   ' loops',\n",
       "   ' sequences',\n",
       "   ' strings',\n",
       "   ' string-formatting',\n",
       "   ' unpacking-and-multiple-assignment',\n",
       "   ' with-statement']},\n",
       " {'Exercise': 'Poker',\n",
       "  'Difficulty': 3,\n",
       "  'id': 'poker',\n",
       "  'Deadline': '05/01/2022 23:59 +0100',\n",
       "  'Chapter': 8,\n",
       "  'Topic': 'Functional Programming',\n",
       "  'Assignment_No': 2,\n",
       "  'Practices': ['basics',\n",
       "   ' bools',\n",
       "   ' conditionals',\n",
       "   ' comparisons',\n",
       "   ' functions',\n",
       "   ' higher-order-functions',\n",
       "   ' iteration',\n",
       "   ' lists',\n",
       "   ' list-methods',\n",
       "   ' list-comprehensions',\n",
       "   ' loops',\n",
       "   ' numbers',\n",
       "   ' sequences'],\n",
       "  'MentorNotes': ['bools',\n",
       "   ' conditionals',\n",
       "   ' comparisons',\n",
       "   ' functions',\n",
       "   ' higher-order-functions',\n",
       "   ' iteration',\n",
       "   ' lists',\n",
       "   ' list-methods',\n",
       "   ' list-comprehensions',\n",
       "   ' loops',\n",
       "   ' numbers',\n",
       "   ' sequences']},\n",
       " {'Exercise': 'Rectangles',\n",
       "  'Difficulty': 3,\n",
       "  'id': 'rectangles',\n",
       "  'Deadline': '05/01/2022 23:59 +0100',\n",
       "  'Chapter': 8,\n",
       "  'Topic': 'Functional Programming',\n",
       "  'Assignment_No': 3,\n",
       "  'Practices': ['basics',\n",
       "   ' bools',\n",
       "   ' conditionals',\n",
       "   ' comparisons',\n",
       "   ' iteration',\n",
       "   ' itertools',\n",
       "   ' lists',\n",
       "   ' list-methods',\n",
       "   ' list-comprehensions',\n",
       "   ' loops',\n",
       "   ' numbers',\n",
       "   ' sequences',\n",
       "   ' strings',\n",
       "   ' string-methods',\n",
       "   ' sets',\n",
       "   ' tuples'],\n",
       "  'MentorNotes': ['bools',\n",
       "   ' conditionals',\n",
       "   ' comparisons',\n",
       "   ' iteration',\n",
       "   ' itertools',\n",
       "   ' lists',\n",
       "   ' list-methods',\n",
       "   ' list-comprehensions',\n",
       "   ' loops',\n",
       "   ' numbers',\n",
       "   ' sequences',\n",
       "   ' strings']},\n",
       " {'Exercise': 'Change',\n",
       "  'Difficulty': 4,\n",
       "  'id': 'change',\n",
       "  'Deadline': '05/01/2022 23:59 +0100',\n",
       "  'Chapter': 8,\n",
       "  'Topic': 'Functional Programming',\n",
       "  'Assignment_No': 4,\n",
       "  'Practices': ['basics',\n",
       "   ' bools',\n",
       "   ' conditionals',\n",
       "   ' comparisons',\n",
       "   ' lists',\n",
       "   ' list-methods',\n",
       "   ' list-comprehensions',\n",
       "   ' loops',\n",
       "   ' numbers',\n",
       "   ' raising-and-handling-errors',\n",
       "   ' sequences'],\n",
       "  'MentorNotes': ['bools',\n",
       "   ' conditionals',\n",
       "   ' comparisons',\n",
       "   ' lists',\n",
       "   ' list-methods',\n",
       "   ' list-comprehensions',\n",
       "   ' loops',\n",
       "   ' numbers',\n",
       "   ' raising-and-handling-errors',\n",
       "   ' sequences']},\n",
       " {'Exercise': 'All Your Base',\n",
       "  'Difficulty': 4,\n",
       "  'id': 'all-your-base',\n",
       "  'Deadline': '05/01/2022 23:59 +0100',\n",
       "  'Chapter': 8,\n",
       "  'Topic': 'Functional Programming',\n",
       "  'Assignment_No': 5,\n",
       "  'Practices': ['basics',\n",
       "   ' bools',\n",
       "   ' conditionals',\n",
       "   ' comparisons',\n",
       "   ' lists',\n",
       "   ' list-methods',\n",
       "   ' list-comprehensions',\n",
       "   ' loops',\n",
       "   ' numbers',\n",
       "   ' raising-and-handling-errors',\n",
       "   ' sequences',\n",
       "   ' strings',\n",
       "   ' string-methods'],\n",
       "  'MentorNotes': ['bools',\n",
       "   ' conditionals',\n",
       "   ' comparisons',\n",
       "   ' lists',\n",
       "   ' list-methods',\n",
       "   ' list-comprehensions',\n",
       "   ' loops',\n",
       "   ' numbers',\n",
       "   ' raising-and-handling-errors',\n",
       "   ' sequences',\n",
       "   ' strings',\n",
       "   ' string-methods']},\n",
       " {'Exercise': 'Diffie Hellman',\n",
       "  'Difficulty': 3,\n",
       "  'id': 'diffie-hellman',\n",
       "  'Deadline': '05/01/2022 23:59 +0100',\n",
       "  'Chapter': 8,\n",
       "  'Topic': 'Functional Programming',\n",
       "  'Assignment_No': 6,\n",
       "  'Practices': ['basics',\n",
       "   ' bools',\n",
       "   ' conditionals',\n",
       "   ' comparisons',\n",
       "   ' loops',\n",
       "   ' numbers',\n",
       "   ' sequences'],\n",
       "  'MentorNotes': ['bools',\n",
       "   ' conditionals',\n",
       "   ' comparisons',\n",
       "   ' loops',\n",
       "   ' numbers',\n",
       "   ' sequences']},\n",
       " {'Exercise': 'Variable Length Quantity',\n",
       "  'Difficulty': 3,\n",
       "  'id': 'variable-length-quantity',\n",
       "  'Deadline': '05/01/2022 23:59 +0100',\n",
       "  'Chapter': 8,\n",
       "  'Topic': 'Functional Programming',\n",
       "  'Assignment_No': 7,\n",
       "  'Practices': ['basics',\n",
       "   ' bools',\n",
       "   ' bytes',\n",
       "   ' bitflags',\n",
       "   ' bitwise-operators',\n",
       "   ' conditionals',\n",
       "   ' comparisons',\n",
       "   ' iteration',\n",
       "   ' lists',\n",
       "   ' list-methods',\n",
       "   ' loops',\n",
       "   ' numbers',\n",
       "   ' raising-and-handling-errors',\n",
       "   ' sequences',\n",
       "   ' strings',\n",
       "   ' string-methods'],\n",
       "  'MentorNotes': ['bytes',\n",
       "   ' bitflags',\n",
       "   ' bitwise-operators',\n",
       "   ' conditionals',\n",
       "   ' comparisons',\n",
       "   ' iteration',\n",
       "   ' lists',\n",
       "   ' list-methods',\n",
       "   ' loops',\n",
       "   ' numbers',\n",
       "   ' raising-and-handling-errors',\n",
       "   ' sequences',\n",
       "   ' strings',\n",
       "   ' string-methods']},\n",
       " {'Exercise': 'Largest Series Product',\n",
       "  'Difficulty': 4,\n",
       "  'id': 'largest-series-product',\n",
       "  'Deadline': '05/01/2022 23:59 +0100',\n",
       "  'Chapter': 8,\n",
       "  'Topic': 'Functional Programming',\n",
       "  'Assignment_No': 8,\n",
       "  'Practices': ['anonymous-functions',\n",
       "   ' basics',\n",
       "   ' conditionals',\n",
       "   ' comparisons',\n",
       "   ' functions',\n",
       "   ' functional-tools',\n",
       "   ' higher-order-functions',\n",
       "   ' iteration',\n",
       "   ' lists',\n",
       "   ' list-methods',\n",
       "   ' list-comprehensions',\n",
       "   ' other-comprehensions',\n",
       "   ' generator-expressions',\n",
       "   ' loops',\n",
       "   ' numbers',\n",
       "   ' raising-and-handling-errors',\n",
       "   ' sequences'],\n",
       "  'MentorNotes': ['conditionals',\n",
       "   ' comparisons',\n",
       "   ' functions',\n",
       "   ' higher-order-functions',\n",
       "   ' functional-tools',\n",
       "   ' anonymous-functions',\n",
       "   ' lists',\n",
       "   ' list-comprehensions',\n",
       "   ' numbers',\n",
       "   ' raising-and-handling-errors',\n",
       "   ' sequences']},\n",
       " {'Exercise': 'Ocr Numbers',\n",
       "  'Difficulty': 3,\n",
       "  'id': 'ocr-numbers',\n",
       "  'Deadline': '05/08/2022 23:59 +0100',\n",
       "  'Chapter': 8,\n",
       "  'Topic': 'Functional Programming',\n",
       "  'Assignment_No': 9,\n",
       "  'Practices': ['basics',\n",
       "   ' bools',\n",
       "   ' conditionals',\n",
       "   ' comparisons',\n",
       "   ' iteration',\n",
       "   ' lists',\n",
       "   ' list-methods',\n",
       "   ' list-comprehensions',\n",
       "   ' loops',\n",
       "   ' numbers',\n",
       "   ' raising-and-handling-errors',\n",
       "   ' sequences',\n",
       "   ' strings',\n",
       "   ' string-methods',\n",
       "   ' tuples'],\n",
       "  'MentorNotes': ['conditionals',\n",
       "   ' comparisons',\n",
       "   ' iteration',\n",
       "   ' lists',\n",
       "   ' list-methods',\n",
       "   ' list-comprehensions',\n",
       "   ' loops',\n",
       "   ' numbers',\n",
       "   ' raising-and-handling-errors',\n",
       "   ' sequences',\n",
       "   ' strings',\n",
       "   ' string-methods']},\n",
       " {'Exercise': 'Rail Fence Cipher',\n",
       "  'Difficulty': 3,\n",
       "  'id': 'rail-fence-cipher',\n",
       "  'Deadline': '05/08/2022 23:59 +0100',\n",
       "  'Chapter': 8,\n",
       "  'Topic': 'Functional Programming',\n",
       "  'Assignment_No': 10,\n",
       "  'Practices': ['basics',\n",
       "   ' conditionals',\n",
       "   ' comparisons',\n",
       "   ' iteration',\n",
       "   ' lists',\n",
       "   ' list-methods',\n",
       "   ' list-comprehensions',\n",
       "   ' loops',\n",
       "   ' numbers',\n",
       "   ' sequences',\n",
       "   ' strings',\n",
       "   ' string-methods'],\n",
       "  'MentorNotes': ['conditionals',\n",
       "   ' comparisons',\n",
       "   ' iteration',\n",
       "   ' lists',\n",
       "   ' list-methods',\n",
       "   ' list-comprehensions',\n",
       "   ' loops',\n",
       "   ' numbers',\n",
       "   ' sequences',\n",
       "   ' strings',\n",
       "   ' string-methods']},\n",
       " {'Exercise': 'Food Chain',\n",
       "  'Difficulty': 4,\n",
       "  'id': 'food-chain',\n",
       "  'Deadline': '05/08/2022 23:59 +0100',\n",
       "  'Chapter': 8,\n",
       "  'Topic': 'Functional Programming',\n",
       "  'Assignment_No': 11,\n",
       "  'Practices': ['basics',\n",
       "   ' bools',\n",
       "   ' conditionals',\n",
       "   ' comparisons',\n",
       "   ' dicts',\n",
       "   ' lists',\n",
       "   ' list-methods',\n",
       "   ' list-comprehensions',\n",
       "   ' loops',\n",
       "   ' sequences',\n",
       "   ' strings',\n",
       "   ' string-methods',\n",
       "   ' string-formatting',\n",
       "   ' tuples'],\n",
       "  'MentorNotes': ['conditionals',\n",
       "   ' comparisons',\n",
       "   ' iteration',\n",
       "   ' lists',\n",
       "   ' list-methods',\n",
       "   ' list-comprehensions',\n",
       "   ' loops',\n",
       "   ' sequences',\n",
       "   ' strings',\n",
       "   ' string-methods',\n",
       "   ' string-formatting']},\n",
       " {'Exercise': 'Saddle Points',\n",
       "  'Difficulty': 3,\n",
       "  'id': 'saddle-points',\n",
       "  'Deadline': '05/08/2022 23:59 +0100',\n",
       "  'Chapter': 8,\n",
       "  'Topic': 'Functional Programming',\n",
       "  'Assignment_No': 12,\n",
       "  'Practices': ['basics',\n",
       "   ' conditionals',\n",
       "   ' comparisons',\n",
       "   ' iteration',\n",
       "   ' itertools',\n",
       "   ' lists',\n",
       "   ' list-methods',\n",
       "   ' list-comprehensions',\n",
       "   ' other-comprehensions',\n",
       "   ' loops',\n",
       "   ' raising-and-handling-errors',\n",
       "   ' sequences',\n",
       "   ' sets'],\n",
       "  'MentorNotes': ['conditionals',\n",
       "   ' comparisons',\n",
       "   ' iteration',\n",
       "   ' lists',\n",
       "   ' list-methods',\n",
       "   ' list-comprehensions',\n",
       "   ' other-comprehensions',\n",
       "   ' loops',\n",
       "   ' raising-and-handling-errors',\n",
       "   ' sequences',\n",
       "   ' sets']},\n",
       " {'Exercise': 'Protein Translation',\n",
       "  'Difficulty': 3,\n",
       "  'id': 'protein-translation',\n",
       "  'Deadline': '05/08/2022 23:59 +0100',\n",
       "  'Chapter': 8,\n",
       "  'Topic': 'Functional Programming',\n",
       "  'Assignment_No': 13,\n",
       "  'Practices': ['basics',\n",
       "   ' conditionals',\n",
       "   ' dicts',\n",
       "   ' dict-methods',\n",
       "   ' lists',\n",
       "   ' list-comprehensions',\n",
       "   ' loops',\n",
       "   ' none',\n",
       "   ' sequences',\n",
       "   ' strings',\n",
       "   ' string-methods'],\n",
       "  'MentorNotes': ['conditionals',\n",
       "   ' dicts',\n",
       "   ' dict-methods',\n",
       "   ' lists',\n",
       "   ' list-comprehensions',\n",
       "   ' loops',\n",
       "   ' sequences',\n",
       "   ' strings',\n",
       "   ' “string-methods”']},\n",
       " {'Exercise': 'Acronym',\n",
       "  'Difficulty': 3,\n",
       "  'id': 'acronym',\n",
       "  'Deadline': '05/08/2022 23:59 +0100',\n",
       "  'Chapter': 8,\n",
       "  'Topic': 'Functional Programming',\n",
       "  'Assignment_No': 14,\n",
       "  'Practices': ['basics',\n",
       "   ' list-comprehensions',\n",
       "   ' loops',\n",
       "   ' regular-expressions',\n",
       "   ' strings',\n",
       "   ' string-methods',\n",
       "   ' string-methods-splitting'],\n",
       "  'MentorNotes': ['list-comprehensions',\n",
       "   ' regular-expressions',\n",
       "   ' strings',\n",
       "   ' string-methods',\n",
       "   ' string-methods-splitting']},\n",
       " {'Exercise': 'Scrabble Score',\n",
       "  'Difficulty': 3,\n",
       "  'id': 'scrabble-score',\n",
       "  'Deadline': '05/08/2022 23:59 +0100',\n",
       "  'Chapter': 8,\n",
       "  'Topic': 'Functional Programming',\n",
       "  'Assignment_No': 15,\n",
       "  'Practices': ['basics',\n",
       "   ' lists',\n",
       "   ' list-comprehensions',\n",
       "   ' loops',\n",
       "   ' dicts',\n",
       "   ' dict-methods',\n",
       "   ' strings',\n",
       "   ' string-methods'],\n",
       "  'MentorNotes': ['lists',\n",
       "   ' list-comprehensions',\n",
       "   ' loops',\n",
       "   ' dicts',\n",
       "   ' dict-methods',\n",
       "   ' string-methods']},\n",
       " {'Exercise': 'Markdown',\n",
       "  'Difficulty': 4,\n",
       "  'id': 'markdown',\n",
       "  'Deadline': '05/08/2022 23:59 +0100',\n",
       "  'Chapter': 8,\n",
       "  'Topic': 'Functional Programming',\n",
       "  'Assignment_No': 16,\n",
       "  'Practices': ['basics',\n",
       "   ' conditionals',\n",
       "   ' comparisons',\n",
       "   ' functions',\n",
       "   ' iteration',\n",
       "   ' loops',\n",
       "   ' regular-expressions',\n",
       "   ' sequences',\n",
       "   ' strings',\n",
       "   ' string-methods',\n",
       "   ' string-methods-splitting',\n",
       "   ' string-formatting'],\n",
       "  'MentorNotes': ['regular-expressions', ' functions']},\n",
       " {'Exercise': 'Isogram',\n",
       "  'Difficulty': 3,\n",
       "  'id': 'isogram',\n",
       "  'Deadline': '05/08/2022 23:59 +0100',\n",
       "  'Chapter': 8,\n",
       "  'Topic': 'Functional Programming',\n",
       "  'Assignment_No': 17,\n",
       "  'Practices': ['basics',\n",
       "   ' bools',\n",
       "   ' conditionals',\n",
       "   ' comparisons',\n",
       "   ' loops',\n",
       "   ' strings',\n",
       "   ' string-methods',\n",
       "   ' sequences',\n",
       "   ' sets'],\n",
       "  'MentorNotes': ['sets', ' strings', ' string-methods', ' comparisons']},\n",
       " {'Exercise': 'Word Count',\n",
       "  'Difficulty': 3,\n",
       "  'id': 'word-count',\n",
       "  'Deadline': '05/08/2022 23:59 +0100',\n",
       "  'Chapter': 8,\n",
       "  'Topic': 'Functional Programming',\n",
       "  'Assignment_No': 18,\n",
       "  'Practices': ['basics',\n",
       "   ' loops',\n",
       "   ' strings',\n",
       "   ' string-methods',\n",
       "   ' regular-expressions',\n",
       "   ' itertools',\n",
       "   ' dicts'],\n",
       "  'MentorNotes': ['strings',\n",
       "   ' string-methods',\n",
       "   ' regular-expressions',\n",
       "   ' itertools',\n",
       "   ' dicts']},\n",
       " {'Exercise': 'Affine Cipher',\n",
       "  'Difficulty': 5,\n",
       "  'id': 'affine-cipher',\n",
       "  'Deadline': '05/15/2022 23:59 +0100',\n",
       "  'Chapter': 9,\n",
       "  'Topic': '',\n",
       "  'Assignment_No': 1,\n",
       "  'Practices': ['basics',\n",
       "   ' bools',\n",
       "   ' conditionals',\n",
       "   ' comparisons',\n",
       "   ' iteration',\n",
       "   ' lists',\n",
       "   ' list-methods',\n",
       "   ' list-comprehensions',\n",
       "   ' loops',\n",
       "   ' numbers',\n",
       "   ' raising-and-handling-errors',\n",
       "   ' sequences',\n",
       "   ' strings',\n",
       "   ' string-methods',\n",
       "   ' string-formatting'],\n",
       "  'MentorNotes': ['bools',\n",
       "   ' conditionals',\n",
       "   ' comparisons',\n",
       "   ' iteration',\n",
       "   ' lists',\n",
       "   ' list-methods',\n",
       "   ' list-comprehensions',\n",
       "   ' loops',\n",
       "   ' numbers',\n",
       "   ' raising-and-handling-errors',\n",
       "   ' sequences',\n",
       "   ' strings',\n",
       "   ' string-formatting']},\n",
       " {'Exercise': 'Binary Search Tree',\n",
       "  'Difficulty': 5,\n",
       "  'id': 'binary-search-tree',\n",
       "  'Deadline': '05/15/2022 23:59 +0100',\n",
       "  'Chapter': 9,\n",
       "  'Topic': '',\n",
       "  'Assignment_No': 2,\n",
       "  'Practices': ['basics',\n",
       "   ' bools',\n",
       "   ' classes',\n",
       "   ' class-customization',\n",
       "   ' class-inheritance',\n",
       "   ' class-composition',\n",
       "   ' conditionals',\n",
       "   ' comparisons',\n",
       "   ' iteration',\n",
       "   ' lists',\n",
       "   ' list-methods',\n",
       "   ' list-comprehensions',\n",
       "   ' loops',\n",
       "   ' sequences',\n",
       "   ' strings',\n",
       "   ' string-methods',\n",
       "   ' string-formatting'],\n",
       "  'MentorNotes': ['classes',\n",
       "   ' class-customization',\n",
       "   ' class-composition',\n",
       "   ' conditionals',\n",
       "   ' comparisons',\n",
       "   ' iteration',\n",
       "   ' lists',\n",
       "   ' list-methods',\n",
       "   ' list-comprehensions',\n",
       "   ' loops',\n",
       "   ' sequences',\n",
       "   ' strings',\n",
       "   ' string-methods',\n",
       "   ' string-formatting']},\n",
       " {'Exercise': 'Book Store',\n",
       "  'Difficulty': 5,\n",
       "  'id': 'book-store',\n",
       "  'Deadline': '05/15/2022 23:59 +0100',\n",
       "  'Chapter': 9,\n",
       "  'Topic': '',\n",
       "  'Assignment_No': 3,\n",
       "  'Practices': ['basics',\n",
       "   ' functions',\n",
       "   ' functools',\n",
       "   ' collections',\n",
       "   ' conditionals',\n",
       "   ' comparisons',\n",
       "   ' dicts',\n",
       "   ' dict-methods',\n",
       "   ' lists',\n",
       "   ' list-methods',\n",
       "   ' list-comprehensions',\n",
       "   ' loops',\n",
       "   ' other-comprehensions',\n",
       "   ' generators',\n",
       "   ' generator-expressions',\n",
       "   ' sequences',\n",
       "   ' tuples',\n",
       "   ' sets',\n",
       "   ' numbers'],\n",
       "  'MentorNotes': ['functions',\n",
       "   ' functools',\n",
       "   ' collections',\n",
       "   ' conditionals',\n",
       "   ' comparisons',\n",
       "   ' dicts',\n",
       "   ' lists',\n",
       "   ' list-methods',\n",
       "   ' list-comprehensions',\n",
       "   ' loops',\n",
       "   ' other-comprehensions',\n",
       "   ' generator-expressions',\n",
       "   ' sets']},\n",
       " {'Exercise': 'Bowling',\n",
       "  'Difficulty': 5,\n",
       "  'id': 'bowling',\n",
       "  'Deadline': '05/15/2022 23:59 +0100',\n",
       "  'Chapter': 9,\n",
       "  'Topic': '',\n",
       "  'Assignment_No': 4,\n",
       "  'Practices': ['basics',\n",
       "   ' bools',\n",
       "   ' classes',\n",
       "   ' class-customization',\n",
       "   ' conditionals',\n",
       "   ' comparisons',\n",
       "   ' lists',\n",
       "   ' list-methods',\n",
       "   ' list-comprehensions',\n",
       "   ' loops',\n",
       "   ' numbers',\n",
       "   ' operator-overloading',\n",
       "   ' rich-comparisons',\n",
       "   ' raising-and-handling-errors',\n",
       "   ' sequences',\n",
       "   ' strings',\n",
       "   ' tuples'],\n",
       "  'MentorNotes': ['bools',\n",
       "   ' classes',\n",
       "   ' class-customization',\n",
       "   ' conditionals',\n",
       "   ' comparisons',\n",
       "   ' lists',\n",
       "   ' list-comprehensions',\n",
       "   ' loops',\n",
       "   ' numbers',\n",
       "   ' operator-overloading',\n",
       "   ' rich-comparisons',\n",
       "   ' raising-and-handling-errors',\n",
       "   ' sequences',\n",
       "   ' strings',\n",
       "   ' tuples']},\n",
       " {'Exercise': 'Custom Set',\n",
       "  'Difficulty': 5,\n",
       "  'id': 'custom-set',\n",
       "  'Deadline': '05/15/2022 23:59 +0100',\n",
       "  'Chapter': 9,\n",
       "  'Topic': '',\n",
       "  'Assignment_No': 5,\n",
       "  'Practices': ['basics',\n",
       "   ' bools',\n",
       "   ' classes',\n",
       "   ' class-customization',\n",
       "   ' class-inheritance',\n",
       "   ' class-composition',\n",
       "   ' conditionals',\n",
       "   ' comparisons',\n",
       "   ' lists',\n",
       "   ' list-methods',\n",
       "   ' list-comprehensions',\n",
       "   ' other-comprehensions',\n",
       "   ' loops',\n",
       "   ' numbers',\n",
       "   ' operator-overloading',\n",
       "   ' raising-and-handling-errors',\n",
       "   ' rich-comparisons',\n",
       "   ' sequences',\n",
       "   ' sets',\n",
       "   ' strings',\n",
       "   ' string-methods',\n",
       "   ' string-formatting'],\n",
       "  'MentorNotes': ['bools',\n",
       "   ' classes',\n",
       "   ' class-customization',\n",
       "   ' class-inheritance',\n",
       "   ' conditionals',\n",
       "   ' comparisons',\n",
       "   ' lists',\n",
       "   ' list-methods',\n",
       "   ' list-comprehensions',\n",
       "   ' other-comprehensions',\n",
       "   ' loops',\n",
       "   ' numbers',\n",
       "   ' operator-overloading',\n",
       "   ' raising-and-handling-errors',\n",
       "   ' rich-comparisons',\n",
       "   ' strings',\n",
       "   ' string-methods',\n",
       "   ' string-formatting']},\n",
       " {'Exercise': 'Dot Dsl',\n",
       "  'Difficulty': 5,\n",
       "  'id': 'dot-dsl',\n",
       "  'Deadline': '05/15/2022 23:59 +0100',\n",
       "  'Chapter': 9,\n",
       "  'Topic': '',\n",
       "  'Assignment_No': 6,\n",
       "  'Practices': ['basics',\n",
       "   ' bools',\n",
       "   ' classes',\n",
       "   ' class-customization',\n",
       "   ' class-composition',\n",
       "   ' class-inheritance',\n",
       "   ' conditionals',\n",
       "   ' comparisons',\n",
       "   ' dicts',\n",
       "   ' lists',\n",
       "   ' list-methods',\n",
       "   ' list-comprehensions',\n",
       "   ' loops',\n",
       "   ' numbers',\n",
       "   ' operator-overloading',\n",
       "   ' rich-comparisons',\n",
       "   ' raising-and-handling-errors',\n",
       "   ' sequences',\n",
       "   ' strings',\n",
       "   ' string-methods'],\n",
       "  'MentorNotes': ['bools',\n",
       "   ' classes',\n",
       "   ' class-customization',\n",
       "   ' class-composition',\n",
       "   ' class-inheritance',\n",
       "   ' conditionals',\n",
       "   ' comparisons',\n",
       "   ' dicts',\n",
       "   ' lists',\n",
       "   ' list-methods',\n",
       "   ' loops',\n",
       "   ' operator-overloading',\n",
       "   ' rich-comparisons',\n",
       "   ' raising-and-handling-errors',\n",
       "   ' sequences',\n",
       "   ' strings',\n",
       "   ' string-methods']},\n",
       " {'Exercise': 'Forth',\n",
       "  'Difficulty': 5,\n",
       "  'id': 'forth',\n",
       "  'Deadline': '05/15/2022 23:59 +0100',\n",
       "  'Chapter': 9,\n",
       "  'Topic': '',\n",
       "  'Assignment_No': 7,\n",
       "  'Practices': ['basics',\n",
       "   ' bools',\n",
       "   ' classes',\n",
       "   ' class-customization',\n",
       "   ' conditionals',\n",
       "   ' comparisons',\n",
       "   ' dicts',\n",
       "   ' lists',\n",
       "   ' list-methods',\n",
       "   ' list-comprehensions',\n",
       "   ' loops',\n",
       "   ' numbers',\n",
       "   ' operator-overloading',\n",
       "   ' rich-comparisons',\n",
       "   ' raising-and-handling-errors',\n",
       "   ' sequences',\n",
       "   ' strings',\n",
       "   ' tuples',\n",
       "   ' user-defined-errors'],\n",
       "  'MentorNotes': ['basics',\n",
       "   ' conditionals',\n",
       "   ' comparisons',\n",
       "   ' dicts',\n",
       "   ' lists',\n",
       "   ' list-methods',\n",
       "   ' list-comprehensions',\n",
       "   ' loops',\n",
       "   ' numbers',\n",
       "   ' raising-and-handling-errors',\n",
       "   ' sequences',\n",
       "   ' strings',\n",
       "   ' string-methods',\n",
       "   ' user-defined-errors']},\n",
       " {'Exercise': 'Hangman',\n",
       "  'Difficulty': 5,\n",
       "  'id': 'hangman',\n",
       "  'Deadline': '05/15/2022 23:59 +0100',\n",
       "  'Chapter': 9,\n",
       "  'Topic': '',\n",
       "  'Assignment_No': 8,\n",
       "  'Practices': ['basics',\n",
       "   ' bools',\n",
       "   ' classes',\n",
       "   ' class-customization',\n",
       "   ' conditionals',\n",
       "   ' comparisons',\n",
       "   ' dicts',\n",
       "   ' lists',\n",
       "   ' list-methods',\n",
       "   ' list-comprehensions',\n",
       "   ' other-comprehensions',\n",
       "   ' loops',\n",
       "   ' numbers',\n",
       "   ' operator-overloading',\n",
       "   ' raising-and-handling-errors',\n",
       "   ' sequences',\n",
       "   ' strings',\n",
       "   ' string-methods',\n",
       "   ' string-formatting'],\n",
       "  'MentorNotes': ['bools',\n",
       "   ' classes',\n",
       "   ' class-customization',\n",
       "   ' conditionals',\n",
       "   ' comparisons',\n",
       "   ' dicts',\n",
       "   ' lists',\n",
       "   ' list-methods',\n",
       "   ' list-comprehensions',\n",
       "   ' other-comprehensions',\n",
       "   ' loops',\n",
       "   ' numbers',\n",
       "   ' operator-overloading',\n",
       "   ' raising-and-handling-errors',\n",
       "   ' sequences',\n",
       "   ' strings',\n",
       "   ' string-methods',\n",
       "   ' string-formatting']},\n",
       " {'Exercise': 'Knapsack',\n",
       "  'Difficulty': 5,\n",
       "  'id': 'knapsack',\n",
       "  'Deadline': '05/15/2022 23:59 +0100',\n",
       "  'Chapter': 9,\n",
       "  'Topic': '',\n",
       "  'Assignment_No': 9,\n",
       "  'Practices': ['basics',\n",
       "   ' bools',\n",
       "   ' conditionals',\n",
       "   ' comparisons',\n",
       "   ' dicts',\n",
       "   ' functions',\n",
       "   ' itertools',\n",
       "   ' lists',\n",
       "   ' list-methods',\n",
       "   ' list-comprehensions',\n",
       "   ' loops',\n",
       "   ' sequences',\n",
       "   ' strings'],\n",
       "  'MentorNotes': ['basics',\n",
       "   ' conditionals',\n",
       "   ' comparisons',\n",
       "   ' dicts',\n",
       "   ' functions',\n",
       "   ' itertools',\n",
       "   ' lists',\n",
       "   ' list-methods',\n",
       "   ' list-comprehensions',\n",
       "   ' loops',\n",
       "   ' sequences',\n",
       "   ' strings']},\n",
       " {'Exercise': 'Ledger',\n",
       "  'Difficulty': 5,\n",
       "  'id': 'ledger',\n",
       "  'Deadline': '05/22/2022 23:59 +0100',\n",
       "  'Chapter': 10,\n",
       "  'Topic': '',\n",
       "  'Assignment_No': 1,\n",
       "  'Practices': ['bools',\n",
       "   ' classes',\n",
       "   ' class-customization',\n",
       "   ' conditionals',\n",
       "   ' comparisons',\n",
       "   ' dicts',\n",
       "   ' functions',\n",
       "   ' function-arguments',\n",
       "   ' lists',\n",
       "   ' list-methods',\n",
       "   ' list-comprehensions',\n",
       "   ' other-comprehensions',\n",
       "   ' generators',\n",
       "   ' iterators',\n",
       "   ' itertools',\n",
       "   ' loops',\n",
       "   ' operator-overloading',\n",
       "   ' rich-comparisons',\n",
       "   ' sequences',\n",
       "   ' strings',\n",
       "   ' string-methods',\n",
       "   ' string-formatting'],\n",
       "  'MentorNotes': ['bools',\n",
       "   ' classes',\n",
       "   ' class-customization',\n",
       "   ' conditionals',\n",
       "   ' comparisons',\n",
       "   ' dicts',\n",
       "   ' lists',\n",
       "   ' list-methods',\n",
       "   ' loops',\n",
       "   ' operator-overloading',\n",
       "   ' rich-comparisons',\n",
       "   ' sequences',\n",
       "   ' strings',\n",
       "   ' string-methods',\n",
       "   ' string-formatting']},\n",
       " {'Exercise': 'Rational Numbers',\n",
       "  'Difficulty': 5,\n",
       "  'id': 'rational-numbers',\n",
       "  'Deadline': '05/22/2022 23:59 +0100',\n",
       "  'Chapter': 10,\n",
       "  'Topic': '',\n",
       "  'Assignment_No': 2,\n",
       "  'Practices': ['basics',\n",
       "   ' bools',\n",
       "   ' classes',\n",
       "   ' class-customization',\n",
       "   ' class-inheritance',\n",
       "   ' conditionals',\n",
       "   ' comparisons',\n",
       "   ' lists',\n",
       "   ' list-methods',\n",
       "   ' list-comprehensions',\n",
       "   ' loops',\n",
       "   ' none',\n",
       "   ' numbers',\n",
       "   ' operator-overloading',\n",
       "   ' raising-and-handling-errors',\n",
       "   ' rich-comparisons',\n",
       "   ' strings',\n",
       "   ' string-formatting'],\n",
       "  'MentorNotes': ['bools',\n",
       "   ' classes',\n",
       "   ' class-customization',\n",
       "   ' conditionals',\n",
       "   ' comparisons',\n",
       "   ' lists',\n",
       "   ' list-methods',\n",
       "   ' list-comprehensions',\n",
       "   ' loops',\n",
       "   ' none',\n",
       "   ' numbers',\n",
       "   ' operator-overloading',\n",
       "   ' raising-and-handling-errors',\n",
       "   ' rich-comparisons',\n",
       "   ' string-formatting']},\n",
       " {'Exercise': 'Tournament',\n",
       "  'Difficulty': 5,\n",
       "  'id': 'tournament',\n",
       "  'Deadline': '05/22/2022 23:59 +0100',\n",
       "  'Chapter': 10,\n",
       "  'Topic': '',\n",
       "  'Assignment_No': 3,\n",
       "  'Practices': ['basics',\n",
       "   ' functions',\n",
       "   ' collections',\n",
       "   ' higher-order-functions',\n",
       "   ' anonymous-functions',\n",
       "   ' strings',\n",
       "   ' string-formatting',\n",
       "   ' string-methods',\n",
       "   ' string-methods-splitting',\n",
       "   ' dicts',\n",
       "   ' dict-methods',\n",
       "   ' lists',\n",
       "   ' list-methods',\n",
       "   ' list-comprehensions',\n",
       "   ' loops',\n",
       "   ' other-comprehensions',\n",
       "   ' generators',\n",
       "   ' generator-expressions',\n",
       "   ' raising-and-handling-errors',\n",
       "   ' sequences',\n",
       "   ' tuples'],\n",
       "  'MentorNotes': ['collections',\n",
       "   ' anonymous-functions',\n",
       "   ' string-formatting',\n",
       "   ' string-methods-splitting',\n",
       "   ' dicts',\n",
       "   ' dict-methods',\n",
       "   ' lists',\n",
       "   ' list-methods',\n",
       "   ' list-comprehensions',\n",
       "   ' loops',\n",
       "   ' other-comprehensions',\n",
       "   ' generators',\n",
       "   ' generator-expressions',\n",
       "   ' raising-and-handling-errors',\n",
       "   ' sequences',\n",
       "   ' tuples']},\n",
       " {'Exercise': 'Twelve Days',\n",
       "  'Difficulty': 5,\n",
       "  'id': 'twelve-days',\n",
       "  'Deadline': '05/22/2022 23:59 +0100',\n",
       "  'Chapter': 10,\n",
       "  'Topic': '',\n",
       "  'Assignment_No': 4,\n",
       "  'Practices': ['basics',\n",
       "   ' conditionals',\n",
       "   ' comparisons',\n",
       "   ' lists',\n",
       "   ' list-methods',\n",
       "   ' loops',\n",
       "   ' sequences',\n",
       "   ' strings',\n",
       "   ' string-methods',\n",
       "   ' string-formatting'],\n",
       "  'MentorNotes': ['conditionals',\n",
       "   ' lists',\n",
       "   ' list-methods',\n",
       "   ' loops',\n",
       "   ' sequences',\n",
       "   ' string-methods',\n",
       "   ' string-formatting']},\n",
       " {'Exercise': 'Two Bucket',\n",
       "  'Difficulty': 5,\n",
       "  'id': 'two-bucket',\n",
       "  'Deadline': '05/22/2022 23:59 +0100',\n",
       "  'Chapter': 10,\n",
       "  'Topic': '',\n",
       "  'Assignment_No': 5,\n",
       "  'Practices': ['basics',\n",
       "   ' bools',\n",
       "   ' conditionals',\n",
       "   ' comparisons',\n",
       "   ' dicts',\n",
       "   ' dict-methods',\n",
       "   ' iteration',\n",
       "   ' lists',\n",
       "   ' list-methods',\n",
       "   ' loops',\n",
       "   ' numbers',\n",
       "   ' raising-and-handling-errors',\n",
       "   ' sequences',\n",
       "   ' strings',\n",
       "   ' string-methods',\n",
       "   ' string-formatting'],\n",
       "  'MentorNotes': ['basics',\n",
       "   ' bools',\n",
       "   ' conditionals',\n",
       "   ' comparisons',\n",
       "   ' dicts',\n",
       "   ' dict-methods',\n",
       "   ' iteration',\n",
       "   ' lists',\n",
       "   ' list-methods',\n",
       "   ' loops',\n",
       "   ' numbers',\n",
       "   ' raising-and-handling-errors',\n",
       "   ' sequences']},\n",
       " {'Exercise': 'Zebra Puzzle',\n",
       "  'Difficulty': 5,\n",
       "  'id': 'zebra-puzzle',\n",
       "  'Deadline': '05/22/2022 23:59 +0100',\n",
       "  'Chapter': 10,\n",
       "  'Topic': '',\n",
       "  'Assignment_No': 6,\n",
       "  'Practices': ['basics',\n",
       "   ' bools',\n",
       "   ' conditionals',\n",
       "   ' comparisons',\n",
       "   ' dicts',\n",
       "   ' lists',\n",
       "   ' list-methods',\n",
       "   ' list-comprehensions',\n",
       "   ' loops',\n",
       "   ' iteration',\n",
       "   ' itertools',\n",
       "   ' recursion',\n",
       "   ' sequences',\n",
       "   ' strings',\n",
       "   ' string-methods'],\n",
       "  'MentorNotes': ['bools',\n",
       "   ' conditionals',\n",
       "   ' comparisons',\n",
       "   ' lists',\n",
       "   ' list-methods',\n",
       "   ' list-comprehensions',\n",
       "   ' loops',\n",
       "   ' iteration',\n",
       "   ' itertools',\n",
       "   ' recursion',\n",
       "   ' sequences',\n",
       "   ' strings',\n",
       "   ' string-methods']},\n",
       " {'Exercise': 'Alphametics',\n",
       "  'Difficulty': 6,\n",
       "  'id': 'alphametics',\n",
       "  'Deadline': '05/22/2022 23:59 +0100',\n",
       "  'Chapter': 10,\n",
       "  'Topic': '',\n",
       "  'Assignment_No': 7,\n",
       "  'Practices': ['basics',\n",
       "   ' bools',\n",
       "   ' conditionals',\n",
       "   ' comparisons',\n",
       "   ' dicts',\n",
       "   ' functools',\n",
       "   ' iteration',\n",
       "   ' itertools',\n",
       "   ' lists',\n",
       "   ' list-methods',\n",
       "   ' list-comprehensions',\n",
       "   ' other-comprehensions',\n",
       "   ' loops',\n",
       "   ' numbers',\n",
       "   ' raising-and-handling-errors',\n",
       "   ' sequences',\n",
       "   ' sets',\n",
       "   ' strings',\n",
       "   ' string-methods',\n",
       "   ' string-formatting',\n",
       "   ' tuples'],\n",
       "  'MentorNotes': ['conditionals',\n",
       "   ' comparisons',\n",
       "   ' dicts',\n",
       "   ' iteration',\n",
       "   ' itertools',\n",
       "   ' lists',\n",
       "   ' list-methods',\n",
       "   ' list-comprehensions',\n",
       "   ' other-comprehensions',\n",
       "   ' loops',\n",
       "   ' numbers',\n",
       "   ' raising-and-handling-errors',\n",
       "   ' sequences',\n",
       "   ' sets',\n",
       "   ' strings',\n",
       "   ' string-methods',\n",
       "   ' string-formatting',\n",
       "   ' tuples']},\n",
       " {'Exercise': 'React',\n",
       "  'Difficulty': 6,\n",
       "  'id': 'react',\n",
       "  'Deadline': '05/22/2022 23:59 +0100',\n",
       "  'Chapter': 10,\n",
       "  'Topic': '',\n",
       "  'Assignment_No': 8,\n",
       "  'Practices': ['basics',\n",
       "   ' conditionals',\n",
       "   ' comparisons',\n",
       "   ' classes',\n",
       "   ' class-customization',\n",
       "   ' class-inheritance',\n",
       "   ' descriptors',\n",
       "   ' iteration',\n",
       "   ' lists',\n",
       "   ' list-methods',\n",
       "   ' list-comprehensions',\n",
       "   ' loops',\n",
       "   ' raising-and-handling-errors',\n",
       "   ' sequences',\n",
       "   ' sets'],\n",
       "  'MentorNotes': ['conditionals',\n",
       "   ' comparisons',\n",
       "   ' classes',\n",
       "   ' class-customization',\n",
       "   ' class-inheritance',\n",
       "   ' descriptors',\n",
       "   ' iteration',\n",
       "   ' lists',\n",
       "   ' list-methods',\n",
       "   ' list-comprehensions',\n",
       "   ' loops',\n",
       "   ' raising-and-handling-errors',\n",
       "   ' sequences',\n",
       "   ' sets']},\n",
       " {'Exercise': 'Word Search',\n",
       "  'Difficulty': 6,\n",
       "  'id': 'word-search',\n",
       "  'Deadline': '05/29/2022 23:59 +0100',\n",
       "  'Chapter': 11,\n",
       "  'Topic': '',\n",
       "  'Assignment_No': 1,\n",
       "  'Practices': ['basics',\n",
       "   ' bools',\n",
       "   ' classes',\n",
       "   ' class-customization',\n",
       "   ' conditionals',\n",
       "   ' comparisons',\n",
       "   ' dataclasses-and-namedtuples',\n",
       "   ' dicts',\n",
       "   ' lists',\n",
       "   ' list-methods',\n",
       "   ' list-comprehensions',\n",
       "   ' iteration',\n",
       "   ' loops',\n",
       "   ' numbers',\n",
       "   ' none',\n",
       "   ' operator-overloading',\n",
       "   ' rich-comparisons',\n",
       "   ' sequences',\n",
       "   ' strings',\n",
       "   ' string-methods',\n",
       "   ' string-formatting'],\n",
       "  'MentorNotes': ['bools',\n",
       "   ' classes',\n",
       "   ' class-customization',\n",
       "   ' conditionals',\n",
       "   ' comparisons',\n",
       "   ' dataclasses-and-namedtuples',\n",
       "   ' dicts',\n",
       "   ' lists',\n",
       "   ' list-methods',\n",
       "   ' list-comprehensions',\n",
       "   ' iteration',\n",
       "   ' loops',\n",
       "   ' numbers',\n",
       "   ' none',\n",
       "   ' operator-overloading',\n",
       "   ' rich-comparisons',\n",
       "   ' sequences',\n",
       "   ' strings',\n",
       "   ' string-methods',\n",
       "   ' string-formatting']},\n",
       " {'Exercise': 'Zipper',\n",
       "  'Difficulty': 6,\n",
       "  'id': 'zipper',\n",
       "  'Deadline': '05/29/2022 23:59 +0100',\n",
       "  'Chapter': 11,\n",
       "  'Topic': '',\n",
       "  'Assignment_No': 2,\n",
       "  'Practices': ['basics',\n",
       "   ' bools',\n",
       "   ' classes',\n",
       "   ' class-customization',\n",
       "   ' conditionals',\n",
       "   ' comparisons',\n",
       "   ' dicts',\n",
       "   ' lists',\n",
       "   ' list-methods',\n",
       "   ' list-comprehensions',\n",
       "   ' loops',\n",
       "   ' none',\n",
       "   ' numbers',\n",
       "   ' raising-and-handling-errors',\n",
       "   ' sequences',\n",
       "   ' strings'],\n",
       "  'MentorNotes': ['bools',\n",
       "   ' classes',\n",
       "   ' class-customization',\n",
       "   ' conditionals',\n",
       "   ' comparisons',\n",
       "   ' dicts',\n",
       "   ' lists',\n",
       "   ' list-methods',\n",
       "   ' list-comprehensions',\n",
       "   ' loops',\n",
       "   ' none',\n",
       "   ' numbers',\n",
       "   ' raising-and-handling-errors',\n",
       "   ' sequences',\n",
       "   ' strings']},\n",
       " {'Exercise': 'Dominoes',\n",
       "  'Difficulty': 7,\n",
       "  'id': 'dominoes',\n",
       "  'Deadline': '05/29/2022 23:59 +0100',\n",
       "  'Chapter': 11,\n",
       "  'Topic': '',\n",
       "  'Assignment_No': 3,\n",
       "  'Practices': ['basics',\n",
       "   ' bools',\n",
       "   ' conditionals',\n",
       "   ' comparisons',\n",
       "   ' dicts',\n",
       "   ' generators',\n",
       "   ' generator-expressions',\n",
       "   ' iteration',\n",
       "   ' itertools',\n",
       "   ' lists',\n",
       "   ' list-methods',\n",
       "   ' list-comprehensions',\n",
       "   ' other-comprehensions',\n",
       "   ' loops',\n",
       "   ' none',\n",
       "   ' numbers',\n",
       "   ' sequences',\n",
       "   ' sets',\n",
       "   ' strings',\n",
       "   ' string-methods',\n",
       "   ' string-formatting',\n",
       "   ' tuples'],\n",
       "  'MentorNotes': ['conditionals',\n",
       "   ' comparisons',\n",
       "   ' functools',\n",
       "   ' iteration',\n",
       "   ' itertools',\n",
       "   ' lists',\n",
       "   ' list-methods',\n",
       "   ' list-comprehensions',\n",
       "   ' other-comprehensions',\n",
       "   ' loops',\n",
       "   ' none',\n",
       "   ' sequences',\n",
       "   ' sets',\n",
       "   ' tuples']},\n",
       " {'Exercise': 'Paasio',\n",
       "  'Difficulty': 7,\n",
       "  'id': 'paasio',\n",
       "  'Deadline': '06/05/2022 23:59 +0100',\n",
       "  'Chapter': 12,\n",
       "  'Topic': '',\n",
       "  'Assignment_No': 1,\n",
       "  'Practices': ['basics',\n",
       "   ' bools',\n",
       "   ' classes',\n",
       "   ' class-customization',\n",
       "   ' class-inheritance',\n",
       "   ' class-composition',\n",
       "   ' conditionals',\n",
       "   ' comparisons',\n",
       "   ' context-manager-customization',\n",
       "   ' decorators',\n",
       "   ' descriptors',\n",
       "   ' dicts',\n",
       "   ' lists',\n",
       "   ' list-methods',\n",
       "   ' list-comprehensions',\n",
       "   ' loops',\n",
       "   ' operator-overloading',\n",
       "   ' raising-and-handling-errors',\n",
       "   ' rich-comparisons',\n",
       "   ' strings',\n",
       "   ' string-methods',\n",
       "   ' string-formatting',\n",
       "   ' unpacking-and-multiple-assignment',\n",
       "   ' with-statement'],\n",
       "  'MentorNotes': ['bools',\n",
       "   ' classes',\n",
       "   ' class-customization',\n",
       "   ' class-inheritance',\n",
       "   ' class-composition',\n",
       "   ' conditionals',\n",
       "   ' comparisons',\n",
       "   ' context-manager-customization',\n",
       "   ' decorators',\n",
       "   ' descriptors',\n",
       "   ' raising-and-handling-errors',\n",
       "   ' rich-comparisons',\n",
       "   ' unpacking-and-multiple-assignment',\n",
       "   ' with-statement']},\n",
       " {'Exercise': 'Satellite',\n",
       "  'Difficulty': 7,\n",
       "  'id': 'satellite',\n",
       "  'Deadline': '06/05/2022 23:59 +0100',\n",
       "  'Chapter': 12,\n",
       "  'Topic': '',\n",
       "  'Assignment_No': 2,\n",
       "  'Practices': ['basics',\n",
       "   ' bools',\n",
       "   ' conditionals',\n",
       "   ' comparisons',\n",
       "   ' dicts',\n",
       "   ' lists',\n",
       "   ' list-methods',\n",
       "   ' list-comprehensions',\n",
       "   ' other-comprehensions',\n",
       "   ' loops',\n",
       "   ' numbers',\n",
       "   ' raising-and-handling-errors',\n",
       "   ' recursion',\n",
       "   ' sequences',\n",
       "   ' strings',\n",
       "   ' string-methods'],\n",
       "  'MentorNotes': ['conditionals',\n",
       "   ' comparisons',\n",
       "   ' dicts',\n",
       "   ' lists',\n",
       "   ' list-methods',\n",
       "   ' list-comprehensions',\n",
       "   ' other-comprehensions',\n",
       "   ' loops',\n",
       "   ' numbers',\n",
       "   ' raising-and-handling-errors',\n",
       "   ' recursion',\n",
       "   ' sequences',\n",
       "   ' strings',\n",
       "   ' string-methods']},\n",
       " {'Exercise': 'Sgf Parsing',\n",
       "  'Difficulty': 7,\n",
       "  'id': 'sgf-parsing',\n",
       "  'Deadline': '06/05/2022 23:59 +0100',\n",
       "  'Chapter': 12,\n",
       "  'Topic': '',\n",
       "  'Assignment_No': 3,\n",
       "  'Practices': ['basics',\n",
       "   ' bools',\n",
       "   ' classes',\n",
       "   ' class-customization',\n",
       "   ' class-inheritance',\n",
       "   ' conditionals',\n",
       "   ' comparisons',\n",
       "   ' dicts',\n",
       "   ' lists',\n",
       "   ' list-methods',\n",
       "   ' list-comprehensions',\n",
       "   ' other-comprehensions',\n",
       "   ' loops',\n",
       "   ' none',\n",
       "   ' numbers',\n",
       "   ' operator-overloading',\n",
       "   ' raising-and-handling-errors',\n",
       "   ' recursion',\n",
       "   ' regular-expressions',\n",
       "   ' rich-comparisons',\n",
       "   ' sequences',\n",
       "   ' strings',\n",
       "   ' string-methods',\n",
       "   ' string-formatting'],\n",
       "  'MentorNotes': ['bools',\n",
       "   ' classes',\n",
       "   ' class-customization',\n",
       "   ' class-inheritance',\n",
       "   ' conditionals',\n",
       "   ' comparisons',\n",
       "   ' dicts',\n",
       "   ' lists',\n",
       "   ' list-methods',\n",
       "   ' list-comprehensions',\n",
       "   ' loops',\n",
       "   ' numbers',\n",
       "   ' operator-overloading',\n",
       "   ' raising-and-handling-errors',\n",
       "   ' recursion',\n",
       "   ' regular-expressions',\n",
       "   ' rich-comparisons',\n",
       "   ' sequences',\n",
       "   ' strings',\n",
       "   ' string-methods',\n",
       "   ' string-formatting']},\n",
       " {'Exercise': 'Bank Account',\n",
       "  'Difficulty': 8,\n",
       "  'id': 'bank-account',\n",
       "  'Deadline': '06/12/2022 23:59 +0100',\n",
       "  'Chapter': 13,\n",
       "  'Topic': '',\n",
       "  'Assignment_No': 1,\n",
       "  'Practices': ['basics',\n",
       "   ' bools',\n",
       "   ' classes',\n",
       "   ' class-customization',\n",
       "   ' conditionals',\n",
       "   ' comparisons',\n",
       "   ' enums',\n",
       "   ' loops',\n",
       "   ' none',\n",
       "   ' numbers',\n",
       "   ' raising-and-handling-errors',\n",
       "   ' with-statement'],\n",
       "  'MentorNotes': ['bools',\n",
       "   ' classes',\n",
       "   ' class-customization',\n",
       "   ' conditionals',\n",
       "   ' comparisons',\n",
       "   ' enums',\n",
       "   ' loops',\n",
       "   ' none',\n",
       "   ' numbers',\n",
       "   ' raising-and-handling-errors',\n",
       "   ' with-statement']},\n",
       " {'Exercise': 'Pov',\n",
       "  'Difficulty': 8,\n",
       "  'id': 'pov',\n",
       "  'Deadline': '06/19/2022 23:59 +0100',\n",
       "  'Chapter': 14,\n",
       "  'Topic': '',\n",
       "  'Assignment_No': 1,\n",
       "  'Practices': ['basics',\n",
       "   ' bools',\n",
       "   ' classes',\n",
       "   ' class-customization',\n",
       "   ' class-inheritance',\n",
       "   ' class-composition',\n",
       "   ' conditionals',\n",
       "   ' comparisons',\n",
       "   ' dicts',\n",
       "   ' lists',\n",
       "   ' list-methods',\n",
       "   ' list-comprehensions',\n",
       "   ' other-comprehensions',\n",
       "   ' loops',\n",
       "   ' none',\n",
       "   ' numbers',\n",
       "   ' operator-overloading',\n",
       "   ' raising-and-handling-errors',\n",
       "   ' recursion',\n",
       "   ' rich-comparisons',\n",
       "   ' sequences',\n",
       "   ' strings',\n",
       "   ' string-methods',\n",
       "   ' string-formatting'],\n",
       "  'MentorNotes': ['bools',\n",
       "   ' classes',\n",
       "   ' class-customization',\n",
       "   ' class-inheritance',\n",
       "   ' class-composition',\n",
       "   ' conditionals',\n",
       "   ' comparisons',\n",
       "   ' dicts',\n",
       "   ' lists',\n",
       "   ' list-methods',\n",
       "   ' list-comprehensions',\n",
       "   ' other-comprehensions',\n",
       "   ' loops',\n",
       "   ' none',\n",
       "   ' numbers',\n",
       "   ' operator-overloading',\n",
       "   ' raising-and-handling-errors',\n",
       "   ' rich-comparisons',\n",
       "   ' sequences',\n",
       "   ' strings',\n",
       "   ' string-methods',\n",
       "   ' string-formatting']},\n",
       " {'Exercise': 'Rest Api',\n",
       "  'Difficulty': 8,\n",
       "  'id': 'rest-api',\n",
       "  'Deadline': '06/26/2022 23:59 +0100',\n",
       "  'Chapter': 15,\n",
       "  'Topic': '',\n",
       "  'Assignment_No': 1,\n",
       "  'Practices': ['basics',\n",
       "   ' bools',\n",
       "   ' classes',\n",
       "   ' class-customization',\n",
       "   ' class-inheritance',\n",
       "   ' class-composition',\n",
       "   ' conditionals',\n",
       "   ' comparisons',\n",
       "   ' dicts',\n",
       "   ' functools',\n",
       "   ' lists',\n",
       "   ' list-methods',\n",
       "   ' list-comprehensions',\n",
       "   ' other-comprehensions',\n",
       "   ' loops',\n",
       "   ' none',\n",
       "   ' numbers',\n",
       "   ' sequences',\n",
       "   ' strings',\n",
       "   ' string-methods',\n",
       "   ' string-formatting'],\n",
       "  'MentorNotes': ['classes',\n",
       "   ' class-customization',\n",
       "   ' class-inheritance',\n",
       "   ' class-composition',\n",
       "   ' conditionals',\n",
       "   ' comparisons',\n",
       "   ' dicts',\n",
       "   ' functools',\n",
       "   ' lists',\n",
       "   ' list-methods',\n",
       "   ' list-comprehensions',\n",
       "   ' other-comprehensions',\n",
       "   ' loops',\n",
       "   ' none',\n",
       "   ' numbers',\n",
       "   ' sequences',\n",
       "   ' strings',\n",
       "   ' string-methods',\n",
       "   ' string-formatting']}]"
      ]
     },
     "execution_count": 2,
     "metadata": {},
     "output_type": "execute_result"
    }
   ],
   "source": [
    "import csv\n",
    "import os, sys\n",
    "\n",
    "with open(\"assignments.csv\", \"rt\") as csvfile:\n",
    "    data = [row for row in csv.DictReader(csvfile, delimiter=\",\", quotechar='\"')]\n",
    "\n",
    "data\n",
    "\n",
    "result = [] \n",
    "for item in data:\n",
    "    result.append({k.strip().replace('<br>',''):v.strip() for k,v in item.items()})\n",
    "\n",
    "result2 = []\n",
    "for item in result:\n",
    "    for key in ['Practices', 'MentorNotes']:\n",
    "        item[key] = [e.replace('`','') for e in item[key].split(',')]\n",
    "    item['Difficulty'] = len(item['Difficulty'])\n",
    "    item['Chapter'] = int(item['Chapter'])\n",
    "    item['Assignment_No'] = int(item['Assignment_No'])\n",
    "    result2.append(item)\n",
    "\n",
    "result2"
   ]
  },
  {
   "cell_type": "code",
   "execution_count": 19,
   "id": "f620e67f-6f92-40a2-82c4-ea38cd624c2c",
   "metadata": {},
   "outputs": [
    {
     "name": "stdout",
     "output_type": "stream",
     "text": [
      "https://github.com/DB-Teaching/01-01_hello-world\n"
     ]
    },
    {
     "name": "stderr",
     "output_type": "stream",
     "text": [
      "Cloning into '/Users/dboehler/Library/CloudStorage/OneDrive-th-deg.de/Teaching/22S/SWEN/excercises/Chapter_01/01-01_hello-world'...\n",
      "warning: You appear to have cloned an empty repository.\n",
      "fatal: You are on a branch yet to be born\n",
      "fatal: unable to checkout submodule 'excercises/Chapter_01/01-01_hello-world'\n"
     ]
    },
    {
     "name": "stdout",
     "output_type": "stream",
     "text": [
      "[main (root-commit) a05f58b] initial\n",
      " 4 files changed, 34 insertions(+)\n",
      " create mode 100644 .docs/instructions.md\n",
      " create mode 120000 README.md\n",
      " create mode 100644 hello_world.py\n",
      " create mode 100644 hello_world_test.py\n"
     ]
    },
    {
     "name": "stderr",
     "output_type": "stream",
     "text": [
      "To github.com:DB-Teaching/01-01_hello-world\n",
      " * [new branch]      main -> main\n"
     ]
    },
    {
     "name": "stdout",
     "output_type": "stream",
     "text": [
      "https://github.com/DB-Teaching/01-02_leap\n"
     ]
    },
    {
     "name": "stderr",
     "output_type": "stream",
     "text": [
      "Cloning into '/Users/dboehler/Library/CloudStorage/OneDrive-th-deg.de/Teaching/22S/SWEN/excercises/Chapter_01/01-02_leap'...\n",
      "warning: You appear to have cloned an empty repository.\n",
      "fatal: You are on a branch yet to be born\n",
      "fatal: unable to checkout submodule 'excercises/Chapter_01/01-02_leap'\n"
     ]
    },
    {
     "name": "stdout",
     "output_type": "stream",
     "text": [
      "[main (root-commit) b64e489] initial\n",
      " 4 files changed, 67 insertions(+)\n",
      " create mode 100644 .docs/instructions.md\n",
      " create mode 120000 README.md\n",
      " create mode 100644 leap.py\n",
      " create mode 100644 leap_test.py\n"
     ]
    },
    {
     "name": "stderr",
     "output_type": "stream",
     "text": [
      "To github.com:DB-Teaching/01-02_leap\n",
      " * [new branch]      main -> main\n"
     ]
    },
    {
     "name": "stdout",
     "output_type": "stream",
     "text": [
      "https://github.com/DB-Teaching/01-03_difference-of-squares\n"
     ]
    },
    {
     "name": "stderr",
     "output_type": "stream",
     "text": [
      "Cloning into '/Users/dboehler/Library/CloudStorage/OneDrive-th-deg.de/Teaching/22S/SWEN/excercises/Chapter_01/01-03_difference-of-squares'...\n",
      "warning: You appear to have cloned an empty repository.\n",
      "fatal: You are on a branch yet to be born\n",
      "fatal: unable to checkout submodule 'excercises/Chapter_01/01-03_difference-of-squares'\n"
     ]
    },
    {
     "name": "stdout",
     "output_type": "stream",
     "text": [
      "[main (root-commit) 3ed4122] initial\n",
      " 4 files changed, 70 insertions(+)\n",
      " create mode 100644 .docs/instructions.md\n",
      " create mode 120000 README.md\n",
      " create mode 100644 difference_of_squares.py\n",
      " create mode 100644 difference_of_squares_test.py\n"
     ]
    },
    {
     "name": "stderr",
     "output_type": "stream",
     "text": [
      "To github.com:DB-Teaching/01-03_difference-of-squares\n",
      " * [new branch]      main -> main\n"
     ]
    },
    {
     "name": "stdout",
     "output_type": "stream",
     "text": [
      "https://github.com/DB-Teaching/01-03_gigasecond\n"
     ]
    },
    {
     "name": "stderr",
     "output_type": "stream",
     "text": [
      "Cloning into '/Users/dboehler/Library/CloudStorage/OneDrive-th-deg.de/Teaching/22S/SWEN/excercises/Chapter_01/01-03_gigasecond'...\n",
      "warning: You appear to have cloned an empty repository.\n",
      "fatal: You are on a branch yet to be born\n",
      "fatal: unable to checkout submodule 'excercises/Chapter_01/01-03_gigasecond'\n"
     ]
    },
    {
     "name": "stdout",
     "output_type": "stream",
     "text": [
      "[main (root-commit) d9f0363] initial\n",
      " 4 files changed, 48 insertions(+)\n",
      " create mode 100644 .docs/instructions.md\n",
      " create mode 120000 README.md\n",
      " create mode 100644 gigasecond.py\n",
      " create mode 100644 gigasecond_test.py\n"
     ]
    },
    {
     "name": "stderr",
     "output_type": "stream",
     "text": [
      "To github.com:DB-Teaching/01-03_gigasecond\n",
      " * [new branch]      main -> main\n",
      "GraphQL: Name already exists on this account (createRepository)\n"
     ]
    },
    {
     "name": "stdout",
     "output_type": "stream",
     "text": [
      "Adding existing repo at 'excercises/Chapter_01/01-04_grains' to the index\n",
      "On branch main\n",
      "Your branch is up to date with 'origin/main'.\n",
      "\n",
      "nothing to commit, working tree clean\n"
     ]
    },
    {
     "name": "stderr",
     "output_type": "stream",
     "text": [
      "Everything up-to-date\n",
      "GraphQL: Name already exists on this account (createRepository)\n"
     ]
    },
    {
     "name": "stdout",
     "output_type": "stream",
     "text": [
      "Adding existing repo at 'excercises/Chapter_01/01-05_pangram' to the index\n",
      "On branch main\n",
      "Your branch is up to date with 'origin/main'.\n",
      "\n",
      "nothing to commit, working tree clean\n"
     ]
    },
    {
     "name": "stderr",
     "output_type": "stream",
     "text": [
      "Everything up-to-date\n"
     ]
    },
    {
     "name": "stdout",
     "output_type": "stream",
     "text": [
      "https://github.com/DB-Teaching/01-06_two-fer\n"
     ]
    },
    {
     "name": "stderr",
     "output_type": "stream",
     "text": [
      "Cloning into '/Users/dboehler/Library/CloudStorage/OneDrive-th-deg.de/Teaching/22S/SWEN/excercises/Chapter_01/01-06_two-fer'...\n",
      "warning: You appear to have cloned an empty repository.\n",
      "fatal: You are on a branch yet to be born\n",
      "fatal: unable to checkout submodule 'excercises/Chapter_01/01-06_two-fer'\n"
     ]
    },
    {
     "name": "stdout",
     "output_type": "stream",
     "text": [
      "[main (root-commit) f4c7c10] initial\n",
      " 4 files changed, 51 insertions(+)\n",
      " create mode 100644 .docs/instructions.md\n",
      " create mode 120000 README.md\n",
      " create mode 100644 two_fer.py\n",
      " create mode 100644 two_fer_test.py\n"
     ]
    },
    {
     "name": "stderr",
     "output_type": "stream",
     "text": [
      "To github.com:DB-Teaching/01-06_two-fer\n",
      " * [new branch]      main -> main\n"
     ]
    },
    {
     "name": "stdout",
     "output_type": "stream",
     "text": [
      "https://github.com/DB-Teaching/01-07_collatz-conjecture\n"
     ]
    },
    {
     "name": "stderr",
     "output_type": "stream",
     "text": [
      "Cloning into '/Users/dboehler/Library/CloudStorage/OneDrive-th-deg.de/Teaching/22S/SWEN/excercises/Chapter_01/01-07_collatz-conjecture'...\n",
      "warning: You appear to have cloned an empty repository.\n",
      "fatal: You are on a branch yet to be born\n",
      "fatal: unable to checkout submodule 'excercises/Chapter_01/01-07_collatz-conjecture'\n"
     ]
    },
    {
     "name": "stdout",
     "output_type": "stream",
     "text": [
      "[main (root-commit) 7f0d823] initial\n",
      " 5 files changed, 83 insertions(+)\n",
      " create mode 100644 .docs/instructions.append.md\n",
      " create mode 100644 .docs/instructions.md\n",
      " create mode 120000 README.md\n",
      " create mode 100644 collatz_conjecture.py\n",
      " create mode 100644 collatz_conjecture_test.py\n"
     ]
    },
    {
     "name": "stderr",
     "output_type": "stream",
     "text": [
      "To github.com:DB-Teaching/01-07_collatz-conjecture\n",
      " * [new branch]      main -> main\n"
     ]
    },
    {
     "name": "stdout",
     "output_type": "stream",
     "text": [
      "https://github.com/DB-Teaching/01-08_bob\n"
     ]
    },
    {
     "name": "stderr",
     "output_type": "stream",
     "text": [
      "Cloning into '/Users/dboehler/Library/CloudStorage/OneDrive-th-deg.de/Teaching/22S/SWEN/excercises/Chapter_01/01-08_bob'...\n",
      "warning: You appear to have cloned an empty repository.\n",
      "fatal: You are on a branch yet to be born\n",
      "fatal: unable to checkout submodule 'excercises/Chapter_01/01-08_bob'\n"
     ]
    },
    {
     "name": "stdout",
     "output_type": "stream",
     "text": [
      "[main (root-commit) 410a8e7] initial\n",
      " 4 files changed, 123 insertions(+)\n",
      " create mode 100644 .docs/instructions.md\n",
      " create mode 120000 README.md\n",
      " create mode 100644 bob.py\n",
      " create mode 100644 bob_test.py\n"
     ]
    },
    {
     "name": "stderr",
     "output_type": "stream",
     "text": [
      "To github.com:DB-Teaching/01-08_bob\n",
      " * [new branch]      main -> main\n"
     ]
    },
    {
     "name": "stdout",
     "output_type": "stream",
     "text": [
      "https://github.com/DB-Teaching/02-01_queen-attack\n"
     ]
    },
    {
     "name": "stderr",
     "output_type": "stream",
     "text": [
      "Cloning into '/Users/dboehler/Library/CloudStorage/OneDrive-th-deg.de/Teaching/22S/SWEN/excercises/Chapter_02/02-01_queen-attack'...\n",
      "warning: You appear to have cloned an empty repository.\n",
      "fatal: You are on a branch yet to be born\n",
      "fatal: unable to checkout submodule 'excercises/Chapter_02/02-01_queen-attack'\n"
     ]
    },
    {
     "name": "stdout",
     "output_type": "stream",
     "text": [
      "[main (root-commit) 363f86b] initial\n",
      " 5 files changed, 129 insertions(+)\n",
      " create mode 100644 .docs/instructions.append.md\n",
      " create mode 100644 .docs/instructions.md\n",
      " create mode 120000 README.md\n",
      " create mode 100644 queen_attack.py\n",
      " create mode 100644 queen_attack_test.py\n"
     ]
    },
    {
     "name": "stderr",
     "output_type": "stream",
     "text": [
      "To github.com:DB-Teaching/02-01_queen-attack\n",
      " * [new branch]      main -> main\n"
     ]
    },
    {
     "name": "stdout",
     "output_type": "stream",
     "text": [
      "https://github.com/DB-Teaching/02-02_triangle\n"
     ]
    },
    {
     "name": "stderr",
     "output_type": "stream",
     "text": [
      "Cloning into '/Users/dboehler/Library/CloudStorage/OneDrive-th-deg.de/Teaching/22S/SWEN/excercises/Chapter_02/02-02_triangle'...\n",
      "warning: You appear to have cloned an empty repository.\n",
      "fatal: You are on a branch yet to be born\n",
      "fatal: unable to checkout submodule 'excercises/Chapter_02/02-02_triangle'\n"
     ]
    },
    {
     "name": "stdout",
     "output_type": "stream",
     "text": [
      "[main (root-commit) 0c829db] initial\n",
      " 4 files changed, 110 insertions(+)\n",
      " create mode 100644 .docs/instructions.md\n",
      " create mode 120000 README.md\n",
      " create mode 100644 triangle.py\n",
      " create mode 100644 triangle_test.py\n"
     ]
    },
    {
     "name": "stderr",
     "output_type": "stream",
     "text": [
      "To github.com:DB-Teaching/02-02_triangle\n",
      " * [new branch]      main -> main\n"
     ]
    },
    {
     "name": "stdout",
     "output_type": "stream",
     "text": [
      "https://github.com/DB-Teaching/02-03_perfect-numbers\n"
     ]
    },
    {
     "name": "stderr",
     "output_type": "stream",
     "text": [
      "Cloning into '/Users/dboehler/Library/CloudStorage/OneDrive-th-deg.de/Teaching/22S/SWEN/excercises/Chapter_02/02-03_perfect-numbers'...\n",
      "warning: You appear to have cloned an empty repository.\n",
      "fatal: You are on a branch yet to be born\n",
      "fatal: unable to checkout submodule 'excercises/Chapter_02/02-03_perfect-numbers'\n"
     ]
    },
    {
     "name": "stdout",
     "output_type": "stream",
     "text": [
      "[main (root-commit) c3526f6] initial\n",
      " 5 files changed, 106 insertions(+)\n",
      " create mode 100644 .docs/instructions.append.md\n",
      " create mode 100644 .docs/instructions.md\n",
      " create mode 120000 README.md\n",
      " create mode 100644 perfect_numbers.py\n",
      " create mode 100644 perfect_numbers_test.py\n"
     ]
    },
    {
     "name": "stderr",
     "output_type": "stream",
     "text": [
      "To github.com:DB-Teaching/02-03_perfect-numbers\n",
      " * [new branch]      main -> main\n"
     ]
    },
    {
     "name": "stdout",
     "output_type": "stream",
     "text": [
      "https://github.com/DB-Teaching/02-04_sublist\n"
     ]
    },
    {
     "name": "stderr",
     "output_type": "stream",
     "text": [
      "Cloning into '/Users/dboehler/Library/CloudStorage/OneDrive-th-deg.de/Teaching/22S/SWEN/excercises/Chapter_02/02-04_sublist'...\n",
      "warning: You appear to have cloned an empty repository.\n",
      "fatal: You are on a branch yet to be born\n",
      "fatal: unable to checkout submodule 'excercises/Chapter_02/02-04_sublist'\n"
     ]
    },
    {
     "name": "stdout",
     "output_type": "stream",
     "text": [
      "[main (root-commit) 7fa751d] initial\n",
      " 4 files changed, 137 insertions(+)\n",
      " create mode 100644 .docs/instructions.md\n",
      " create mode 120000 README.md\n",
      " create mode 100644 sublist.py\n",
      " create mode 100644 sublist_test.py\n"
     ]
    },
    {
     "name": "stderr",
     "output_type": "stream",
     "text": [
      "To github.com:DB-Teaching/02-04_sublist\n",
      " * [new branch]      main -> main\n"
     ]
    },
    {
     "name": "stdout",
     "output_type": "stream",
     "text": [
      "https://github.com/DB-Teaching/02-05_diamond\n"
     ]
    },
    {
     "name": "stderr",
     "output_type": "stream",
     "text": [
      "Cloning into '/Users/dboehler/Library/CloudStorage/OneDrive-th-deg.de/Teaching/22S/SWEN/excercises/Chapter_02/02-05_diamond'...\n",
      "warning: You appear to have cloned an empty repository.\n",
      "fatal: You are on a branch yet to be born\n",
      "fatal: unable to checkout submodule 'excercises/Chapter_02/02-05_diamond'\n"
     ]
    },
    {
     "name": "stdout",
     "output_type": "stream",
     "text": [
      "[main (root-commit) 27d4a8f] initial\n",
      " 4 files changed, 149 insertions(+)\n",
      " create mode 100644 .docs/instructions.md\n",
      " create mode 120000 README.md\n",
      " create mode 100644 diamond.py\n",
      " create mode 100644 diamond_test.py\n"
     ]
    },
    {
     "name": "stderr",
     "output_type": "stream",
     "text": [
      "To github.com:DB-Teaching/02-05_diamond\n",
      " * [new branch]      main -> main\n"
     ]
    },
    {
     "name": "stdout",
     "output_type": "stream",
     "text": [
      "https://github.com/DB-Teaching/02-06_yacht\n"
     ]
    },
    {
     "name": "stderr",
     "output_type": "stream",
     "text": [
      "Cloning into '/Users/dboehler/Library/CloudStorage/OneDrive-th-deg.de/Teaching/22S/SWEN/excercises/Chapter_02/02-06_yacht'...\n",
      "warning: You appear to have cloned an empty repository.\n",
      "fatal: You are on a branch yet to be born\n",
      "fatal: unable to checkout submodule 'excercises/Chapter_02/02-06_yacht'\n"
     ]
    },
    {
     "name": "stdout",
     "output_type": "stream",
     "text": [
      "[main (root-commit) 4bb9397] initial\n",
      " 4 files changed, 151 insertions(+)\n",
      " create mode 100644 .docs/instructions.md\n",
      " create mode 120000 README.md\n",
      " create mode 100644 yacht.py\n",
      " create mode 100644 yacht_test.py\n"
     ]
    },
    {
     "name": "stderr",
     "output_type": "stream",
     "text": [
      "To github.com:DB-Teaching/02-06_yacht\n",
      " * [new branch]      main -> main\n"
     ]
    },
    {
     "name": "stdout",
     "output_type": "stream",
     "text": [
      "https://github.com/DB-Teaching/02-07_pythagorean-triplet\n"
     ]
    },
    {
     "name": "stderr",
     "output_type": "stream",
     "text": [
      "Cloning into '/Users/dboehler/Library/CloudStorage/OneDrive-th-deg.de/Teaching/22S/SWEN/excercises/Chapter_02/02-07_pythagorean-triplet'...\n",
      "warning: You appear to have cloned an empty repository.\n",
      "fatal: You are on a branch yet to be born\n",
      "fatal: unable to checkout submodule 'excercises/Chapter_02/02-07_pythagorean-triplet'\n"
     ]
    },
    {
     "name": "stdout",
     "output_type": "stream",
     "text": [
      "[main (root-commit) 1b3939e] initial\n",
      " 5 files changed, 89 insertions(+)\n",
      " create mode 100644 .docs/instructions.append.md\n",
      " create mode 100644 .docs/instructions.md\n",
      " create mode 120000 README.md\n",
      " create mode 100644 pythagorean_triplet.py\n",
      " create mode 100644 pythagorean_triplet_test.py\n"
     ]
    },
    {
     "name": "stderr",
     "output_type": "stream",
     "text": [
      "To github.com:DB-Teaching/02-07_pythagorean-triplet\n",
      " * [new branch]      main -> main\n"
     ]
    },
    {
     "name": "stdout",
     "output_type": "stream",
     "text": [
      "https://github.com/DB-Teaching/02-08_matching-brackets\n"
     ]
    },
    {
     "name": "stderr",
     "output_type": "stream",
     "text": [
      "Cloning into '/Users/dboehler/Library/CloudStorage/OneDrive-th-deg.de/Teaching/22S/SWEN/excercises/Chapter_02/02-08_matching-brackets'...\n",
      "warning: You appear to have cloned an empty repository.\n",
      "fatal: You are on a branch yet to be born\n",
      "fatal: unable to checkout submodule 'excercises/Chapter_02/02-08_matching-brackets'\n"
     ]
    },
    {
     "name": "stdout",
     "output_type": "stream",
     "text": [
      "[main (root-commit) e751081] initial\n",
      " 4 files changed, 77 insertions(+)\n",
      " create mode 100644 .docs/instructions.md\n",
      " create mode 120000 README.md\n",
      " create mode 100644 matching_brackets.py\n",
      " create mode 100644 matching_brackets_test.py\n"
     ]
    },
    {
     "name": "stderr",
     "output_type": "stream",
     "text": [
      "To github.com:DB-Teaching/02-08_matching-brackets\n",
      " * [new branch]      main -> main\n"
     ]
    },
    {
     "name": "stdout",
     "output_type": "stream",
     "text": [
      "https://github.com/DB-Teaching/02-09_binary-search\n"
     ]
    },
    {
     "name": "stderr",
     "output_type": "stream",
     "text": [
      "Cloning into '/Users/dboehler/Library/CloudStorage/OneDrive-th-deg.de/Teaching/22S/SWEN/excercises/Chapter_02/02-09_binary-search'...\n",
      "warning: You appear to have cloned an empty repository.\n",
      "fatal: You are on a branch yet to be born\n",
      "fatal: unable to checkout submodule 'excercises/Chapter_02/02-09_binary-search'\n"
     ]
    },
    {
     "name": "stdout",
     "output_type": "stream",
     "text": [
      "[main (root-commit) 0530eb9] initial\n",
      " 5 files changed, 127 insertions(+)\n",
      " create mode 100644 .docs/instructions.append.md\n",
      " create mode 100644 .docs/instructions.md\n",
      " create mode 120000 README.md\n",
      " create mode 100644 binary_search.py\n",
      " create mode 100644 binary_search_test.py\n"
     ]
    },
    {
     "name": "stderr",
     "output_type": "stream",
     "text": [
      "To github.com:DB-Teaching/02-09_binary-search\n",
      " * [new branch]      main -> main\n"
     ]
    },
    {
     "name": "stdout",
     "output_type": "stream",
     "text": [
      "https://github.com/DB-Teaching/02-10_reverse-string\n"
     ]
    },
    {
     "name": "stderr",
     "output_type": "stream",
     "text": [
      "Cloning into '/Users/dboehler/Library/CloudStorage/OneDrive-th-deg.de/Teaching/22S/SWEN/excercises/Chapter_02/02-10_reverse-string'...\n",
      "warning: You appear to have cloned an empty repository.\n",
      "fatal: You are on a branch yet to be born\n",
      "fatal: unable to checkout submodule 'excercises/Chapter_02/02-10_reverse-string'\n"
     ]
    },
    {
     "name": "stdout",
     "output_type": "stream",
     "text": [
      "[main (root-commit) 6037855] initial\n",
      " 4 files changed, 41 insertions(+)\n",
      " create mode 100644 .docs/instructions.md\n",
      " create mode 120000 README.md\n",
      " create mode 100644 reverse_string.py\n",
      " create mode 100644 reverse_string_test.py\n"
     ]
    },
    {
     "name": "stderr",
     "output_type": "stream",
     "text": [
      "To github.com:DB-Teaching/02-10_reverse-string\n",
      " * [new branch]      main -> main\n"
     ]
    },
    {
     "name": "stdout",
     "output_type": "stream",
     "text": [
      "https://github.com/DB-Teaching/02-11_isbn-verifier\n"
     ]
    },
    {
     "name": "stderr",
     "output_type": "stream",
     "text": [
      "Cloning into '/Users/dboehler/Library/CloudStorage/OneDrive-th-deg.de/Teaching/22S/SWEN/excercises/Chapter_02/02-11_isbn-verifier'...\n",
      "warning: You appear to have cloned an empty repository.\n",
      "fatal: You are on a branch yet to be born\n",
      "fatal: unable to checkout submodule 'excercises/Chapter_02/02-11_isbn-verifier'\n"
     ]
    },
    {
     "name": "stdout",
     "output_type": "stream",
     "text": [
      "[main (root-commit) b8f6d56] initial\n",
      " 4 files changed, 112 insertions(+)\n",
      " create mode 100644 .docs/instructions.md\n",
      " create mode 120000 README.md\n",
      " create mode 100644 isbn_verifier.py\n",
      " create mode 100644 isbn_verifier_test.py\n"
     ]
    },
    {
     "name": "stderr",
     "output_type": "stream",
     "text": [
      "To github.com:DB-Teaching/02-11_isbn-verifier\n",
      " * [new branch]      main -> main\n"
     ]
    },
    {
     "name": "stdout",
     "output_type": "stream",
     "text": [
      "https://github.com/DB-Teaching/02-12_rna-transcription\n"
     ]
    },
    {
     "name": "stderr",
     "output_type": "stream",
     "text": [
      "Cloning into '/Users/dboehler/Library/CloudStorage/OneDrive-th-deg.de/Teaching/22S/SWEN/excercises/Chapter_02/02-12_rna-transcription'...\n",
      "warning: You appear to have cloned an empty repository.\n",
      "fatal: You are on a branch yet to be born\n",
      "fatal: unable to checkout submodule 'excercises/Chapter_02/02-12_rna-transcription'\n"
     ]
    },
    {
     "name": "stdout",
     "output_type": "stream",
     "text": [
      "[main (root-commit) e3c54c7] initial\n",
      " 4 files changed, 53 insertions(+)\n",
      " create mode 100644 .docs/instructions.md\n",
      " create mode 120000 README.md\n",
      " create mode 100644 rna_transcription.py\n",
      " create mode 100644 rna_transcription_test.py\n"
     ]
    },
    {
     "name": "stderr",
     "output_type": "stream",
     "text": [
      "To github.com:DB-Teaching/02-12_rna-transcription\n",
      " * [new branch]      main -> main\n"
     ]
    },
    {
     "name": "stdout",
     "output_type": "stream",
     "text": [
      "https://github.com/DB-Teaching/02-13_pig-latin\n"
     ]
    },
    {
     "name": "stderr",
     "output_type": "stream",
     "text": [
      "Cloning into '/Users/dboehler/Library/CloudStorage/OneDrive-th-deg.de/Teaching/22S/SWEN/excercises/Chapter_02/02-13_pig-latin'...\n",
      "warning: You appear to have cloned an empty repository.\n",
      "fatal: You are on a branch yet to be born\n",
      "fatal: unable to checkout submodule 'excercises/Chapter_02/02-13_pig-latin'\n"
     ]
    },
    {
     "name": "stdout",
     "output_type": "stream",
     "text": [
      "[main (root-commit) 53dbff0] initial\n",
      " 4 files changed, 100 insertions(+)\n",
      " create mode 100644 .docs/instructions.md\n",
      " create mode 120000 README.md\n",
      " create mode 100644 pig_latin.py\n",
      " create mode 100644 pig_latin_test.py\n"
     ]
    },
    {
     "name": "stderr",
     "output_type": "stream",
     "text": [
      "To github.com:DB-Teaching/02-13_pig-latin\n",
      " * [new branch]      main -> main\n"
     ]
    },
    {
     "name": "stdout",
     "output_type": "stream",
     "text": [
      "https://github.com/DB-Teaching/02-14_darts\n"
     ]
    },
    {
     "name": "stderr",
     "output_type": "stream",
     "text": [
      "Cloning into '/Users/dboehler/Library/CloudStorage/OneDrive-th-deg.de/Teaching/22S/SWEN/excercises/Chapter_02/02-14_darts'...\n",
      "warning: You appear to have cloned an empty repository.\n",
      "fatal: You are on a branch yet to be born\n",
      "fatal: unable to checkout submodule 'excercises/Chapter_02/02-14_darts'\n"
     ]
    },
    {
     "name": "stdout",
     "output_type": "stream",
     "text": [
      "[main (root-commit) 7a733b1] initial\n",
      " 4 files changed, 72 insertions(+)\n",
      " create mode 100644 .docs/instructions.md\n",
      " create mode 120000 README.md\n",
      " create mode 100644 darts.py\n",
      " create mode 100644 darts_test.py\n"
     ]
    },
    {
     "name": "stderr",
     "output_type": "stream",
     "text": [
      "To github.com:DB-Teaching/02-14_darts\n",
      " * [new branch]      main -> main\n"
     ]
    },
    {
     "name": "stdout",
     "output_type": "stream",
     "text": [
      "https://github.com/DB-Teaching/03-01_phone-number\n"
     ]
    },
    {
     "name": "stderr",
     "output_type": "stream",
     "text": [
      "Cloning into '/Users/dboehler/Library/CloudStorage/OneDrive-th-deg.de/Teaching/22S/SWEN/excercises/Chapter_03/03-01_phone-number'...\n",
      "warning: You appear to have cloned an empty repository.\n",
      "fatal: You are on a branch yet to be born\n",
      "fatal: unable to checkout submodule 'excercises/Chapter_03/03-01_phone-number'\n"
     ]
    },
    {
     "name": "stdout",
     "output_type": "stream",
     "text": [
      "[main (root-commit) f1328f7] initial\n",
      " 5 files changed, 191 insertions(+)\n",
      " create mode 100644 .docs/instructions.append.md\n",
      " create mode 100644 .docs/instructions.md\n",
      " create mode 120000 README.md\n",
      " create mode 100644 phone_number.py\n",
      " create mode 100644 phone_number_test.py\n"
     ]
    },
    {
     "name": "stderr",
     "output_type": "stream",
     "text": [
      "To github.com:DB-Teaching/03-01_phone-number\n",
      " * [new branch]      main -> main\n"
     ]
    },
    {
     "name": "stdout",
     "output_type": "stream",
     "text": [
      "https://github.com/DB-Teaching/03-02_armstrong-numbers\n"
     ]
    },
    {
     "name": "stderr",
     "output_type": "stream",
     "text": [
      "Cloning into '/Users/dboehler/Library/CloudStorage/OneDrive-th-deg.de/Teaching/22S/SWEN/excercises/Chapter_03/03-02_armstrong-numbers'...\n",
      "warning: You appear to have cloned an empty repository.\n",
      "fatal: You are on a branch yet to be born\n",
      "fatal: unable to checkout submodule 'excercises/Chapter_03/03-02_armstrong-numbers'\n"
     ]
    },
    {
     "name": "stdout",
     "output_type": "stream",
     "text": [
      "[main (root-commit) 504801c] initial\n",
      " 4 files changed, 55 insertions(+)\n",
      " create mode 100644 .docs/instructions.md\n",
      " create mode 120000 README.md\n",
      " create mode 100644 armstrong_numbers.py\n",
      " create mode 100644 armstrong_numbers_test.py\n"
     ]
    },
    {
     "name": "stderr",
     "output_type": "stream",
     "text": [
      "To github.com:DB-Teaching/03-02_armstrong-numbers\n",
      " * [new branch]      main -> main\n"
     ]
    },
    {
     "name": "stdout",
     "output_type": "stream",
     "text": [
      "https://github.com/DB-Teaching/03-03_nth-prime\n"
     ]
    },
    {
     "name": "stderr",
     "output_type": "stream",
     "text": [
      "Cloning into '/Users/dboehler/Library/CloudStorage/OneDrive-th-deg.de/Teaching/22S/SWEN/excercises/Chapter_03/03-03_nth-prime'...\n",
      "warning: You appear to have cloned an empty repository.\n",
      "fatal: You are on a branch yet to be born\n",
      "fatal: unable to checkout submodule 'excercises/Chapter_03/03-03_nth-prime'\n"
     ]
    },
    {
     "name": "stdout",
     "output_type": "stream",
     "text": [
      "[main (root-commit) f45b2d7] initial\n",
      " 5 files changed, 87 insertions(+)\n",
      " create mode 100644 .docs/instructions.append.md\n",
      " create mode 100644 .docs/instructions.md\n",
      " create mode 120000 README.md\n",
      " create mode 100644 nth_prime.py\n",
      " create mode 100644 nth_prime_test.py\n"
     ]
    },
    {
     "name": "stderr",
     "output_type": "stream",
     "text": [
      "To github.com:DB-Teaching/03-03_nth-prime\n",
      " * [new branch]      main -> main\n"
     ]
    },
    {
     "name": "stdout",
     "output_type": "stream",
     "text": [
      "https://github.com/DB-Teaching/03-04_sum-of-multiples\n"
     ]
    },
    {
     "name": "stderr",
     "output_type": "stream",
     "text": [
      "Cloning into '/Users/dboehler/Library/CloudStorage/OneDrive-th-deg.de/Teaching/22S/SWEN/excercises/Chapter_03/03-04_sum-of-multiples'...\n",
      "warning: You appear to have cloned an empty repository.\n",
      "fatal: You are on a branch yet to be born\n",
      "fatal: unable to checkout submodule 'excercises/Chapter_03/03-04_sum-of-multiples'\n"
     ]
    },
    {
     "name": "stdout",
     "output_type": "stream",
     "text": [
      "[main (root-commit) 961786b] initial\n",
      " 5 files changed, 83 insertions(+)\n",
      " create mode 100644 .docs/instructions.append.md\n",
      " create mode 100644 .docs/instructions.md\n",
      " create mode 120000 README.md\n",
      " create mode 100644 sum_of_multiples.py\n",
      " create mode 100644 sum_of_multiples_test.py\n"
     ]
    },
    {
     "name": "stderr",
     "output_type": "stream",
     "text": [
      "To github.com:DB-Teaching/03-04_sum-of-multiples\n",
      " * [new branch]      main -> main\n"
     ]
    },
    {
     "name": "stdout",
     "output_type": "stream",
     "text": [
      "https://github.com/DB-Teaching/03-05_prime-factors\n"
     ]
    },
    {
     "name": "stderr",
     "output_type": "stream",
     "text": [
      "Cloning into '/Users/dboehler/Library/CloudStorage/OneDrive-th-deg.de/Teaching/22S/SWEN/excercises/Chapter_03/03-05_prime-factors'...\n",
      "warning: You appear to have cloned an empty repository.\n",
      "fatal: You are on a branch yet to be born\n",
      "fatal: unable to checkout submodule 'excercises/Chapter_03/03-05_prime-factors'\n"
     ]
    },
    {
     "name": "stdout",
     "output_type": "stream",
     "text": [
      "[main (root-commit) 63792b8] initial\n",
      " 4 files changed, 75 insertions(+)\n",
      " create mode 100644 .docs/instructions.md\n",
      " create mode 120000 README.md\n",
      " create mode 100644 prime_factors.py\n",
      " create mode 100644 prime_factors_test.py\n"
     ]
    },
    {
     "name": "stderr",
     "output_type": "stream",
     "text": [
      "To github.com:DB-Teaching/03-05_prime-factors\n",
      " * [new branch]      main -> main\n"
     ]
    },
    {
     "name": "stdout",
     "output_type": "stream",
     "text": [
      "https://github.com/DB-Teaching/03-06_beer-song\n"
     ]
    },
    {
     "name": "stderr",
     "output_type": "stream",
     "text": [
      "Cloning into '/Users/dboehler/Library/CloudStorage/OneDrive-th-deg.de/Teaching/22S/SWEN/excercises/Chapter_03/03-06_beer-song'...\n",
      "warning: You appear to have cloned an empty repository.\n",
      "fatal: You are on a branch yet to be born\n",
      "fatal: unable to checkout submodule 'excercises/Chapter_03/03-06_beer-song'\n"
     ]
    },
    {
     "name": "stdout",
     "output_type": "stream",
     "text": [
      "[main (root-commit) 906bae3] initial\n",
      " 4 files changed, 699 insertions(+)\n",
      " create mode 100644 .docs/instructions.md\n",
      " create mode 120000 README.md\n",
      " create mode 100644 beer_song.py\n",
      " create mode 100644 beer_song_test.py\n"
     ]
    },
    {
     "name": "stderr",
     "output_type": "stream",
     "text": [
      "To github.com:DB-Teaching/03-06_beer-song\n",
      " * [new branch]      main -> main\n"
     ]
    },
    {
     "name": "stdout",
     "output_type": "stream",
     "text": [
      "https://github.com/DB-Teaching/03-07_flatten-array\n"
     ]
    },
    {
     "name": "stderr",
     "output_type": "stream",
     "text": [
      "Cloning into '/Users/dboehler/Library/CloudStorage/OneDrive-th-deg.de/Teaching/22S/SWEN/excercises/Chapter_03/03-07_flatten-array'...\n",
      "warning: You appear to have cloned an empty repository.\n",
      "fatal: You are on a branch yet to be born\n",
      "fatal: unable to checkout submodule 'excercises/Chapter_03/03-07_flatten-array'\n"
     ]
    },
    {
     "name": "stdout",
     "output_type": "stream",
     "text": [
      "[main (root-commit) a41e2df] initial\n",
      " 4 files changed, 57 insertions(+)\n",
      " create mode 100644 .docs/instructions.md\n",
      " create mode 120000 README.md\n",
      " create mode 100644 flatten_array.py\n",
      " create mode 100644 flatten_array_test.py\n"
     ]
    },
    {
     "name": "stderr",
     "output_type": "stream",
     "text": [
      "To github.com:DB-Teaching/03-07_flatten-array\n",
      " * [new branch]      main -> main\n"
     ]
    },
    {
     "name": "stdout",
     "output_type": "stream",
     "text": [
      "https://github.com/DB-Teaching/03-08_atbash-cipher\n"
     ]
    },
    {
     "name": "stderr",
     "output_type": "stream",
     "text": [
      "Cloning into '/Users/dboehler/Library/CloudStorage/OneDrive-th-deg.de/Teaching/22S/SWEN/excercises/Chapter_03/03-08_atbash-cipher'...\n",
      "warning: You appear to have cloned an empty repository.\n",
      "fatal: You are on a branch yet to be born\n",
      "fatal: unable to checkout submodule 'excercises/Chapter_03/03-08_atbash-cipher'\n"
     ]
    },
    {
     "name": "stdout",
     "output_type": "stream",
     "text": [
      "[main (root-commit) 895872f] initial\n",
      " 4 files changed, 103 insertions(+)\n",
      " create mode 100644 .docs/instructions.md\n",
      " create mode 120000 README.md\n",
      " create mode 100644 atbash_cipher.py\n",
      " create mode 100644 atbash_cipher_test.py\n"
     ]
    },
    {
     "name": "stderr",
     "output_type": "stream",
     "text": [
      "To github.com:DB-Teaching/03-08_atbash-cipher\n",
      " * [new branch]      main -> main\n"
     ]
    },
    {
     "name": "stdout",
     "output_type": "stream",
     "text": [
      "https://github.com/DB-Teaching/03-09_series\n"
     ]
    },
    {
     "name": "stderr",
     "output_type": "stream",
     "text": [
      "Cloning into '/Users/dboehler/Library/CloudStorage/OneDrive-th-deg.de/Teaching/22S/SWEN/excercises/Chapter_03/03-09_series'...\n",
      "warning: You appear to have cloned an empty repository.\n",
      "fatal: You are on a branch yet to be born\n",
      "fatal: unable to checkout submodule 'excercises/Chapter_03/03-09_series'\n"
     ]
    },
    {
     "name": "stdout",
     "output_type": "stream",
     "text": [
      "[main (root-commit) de23704] initial\n",
      " 5 files changed, 103 insertions(+)\n",
      " create mode 100644 .docs/instructions.append.md\n",
      " create mode 100644 .docs/instructions.md\n",
      " create mode 120000 README.md\n",
      " create mode 100644 series.py\n",
      " create mode 100644 series_test.py\n"
     ]
    },
    {
     "name": "stderr",
     "output_type": "stream",
     "text": [
      "To github.com:DB-Teaching/03-09_series\n",
      " * [new branch]      main -> main\n"
     ]
    },
    {
     "name": "stdout",
     "output_type": "stream",
     "text": [
      "https://github.com/DB-Teaching/03-10_anagram\n"
     ]
    },
    {
     "name": "stderr",
     "output_type": "stream",
     "text": [
      "Cloning into '/Users/dboehler/Library/CloudStorage/OneDrive-th-deg.de/Teaching/22S/SWEN/excercises/Chapter_03/03-10_anagram'...\n",
      "warning: You appear to have cloned an empty repository.\n",
      "fatal: You are on a branch yet to be born\n",
      "fatal: unable to checkout submodule 'excercises/Chapter_03/03-10_anagram'\n"
     ]
    },
    {
     "name": "stdout",
     "output_type": "stream",
     "text": [
      "[main (root-commit) 0d3acc1] initial\n",
      " 4 files changed, 90 insertions(+)\n",
      " create mode 100644 .docs/instructions.md\n",
      " create mode 120000 README.md\n",
      " create mode 100644 anagram.py\n",
      " create mode 100644 anagram_test.py\n"
     ]
    },
    {
     "name": "stderr",
     "output_type": "stream",
     "text": [
      "To github.com:DB-Teaching/03-10_anagram\n",
      " * [new branch]      main -> main\n"
     ]
    },
    {
     "name": "stdout",
     "output_type": "stream",
     "text": [
      "https://github.com/DB-Teaching/03-11_resistor-color\n"
     ]
    },
    {
     "name": "stderr",
     "output_type": "stream",
     "text": [
      "Cloning into '/Users/dboehler/Library/CloudStorage/OneDrive-th-deg.de/Teaching/22S/SWEN/excercises/Chapter_03/03-11_resistor-color'...\n",
      "warning: You appear to have cloned an empty repository.\n",
      "fatal: You are on a branch yet to be born\n",
      "fatal: unable to checkout submodule 'excercises/Chapter_03/03-11_resistor-color'\n"
     ]
    },
    {
     "name": "stdout",
     "output_type": "stream",
     "text": [
      "[main (root-commit) 62395ec] initial\n",
      " 4 files changed, 80 insertions(+)\n",
      " create mode 100644 .docs/instructions.md\n",
      " create mode 120000 README.md\n",
      " create mode 100644 resistor_color.py\n",
      " create mode 100644 resistor_color_test.py\n"
     ]
    },
    {
     "name": "stderr",
     "output_type": "stream",
     "text": [
      "To github.com:DB-Teaching/03-11_resistor-color\n",
      " * [new branch]      main -> main\n"
     ]
    },
    {
     "name": "stdout",
     "output_type": "stream",
     "text": [
      "https://github.com/DB-Teaching/03-12_list-ops\n"
     ]
    },
    {
     "name": "stderr",
     "output_type": "stream",
     "text": [
      "Cloning into '/Users/dboehler/Library/CloudStorage/OneDrive-th-deg.de/Teaching/22S/SWEN/excercises/Chapter_03/03-12_list-ops'...\n",
      "warning: You appear to have cloned an empty repository.\n",
      "fatal: You are on a branch yet to be born\n",
      "fatal: unable to checkout submodule 'excercises/Chapter_03/03-12_list-ops'\n"
     ]
    },
    {
     "name": "stdout",
     "output_type": "stream",
     "text": [
      "[main (root-commit) 6346970] initial\n",
      " 4 files changed, 153 insertions(+)\n",
      " create mode 100644 .docs/instructions.md\n",
      " create mode 120000 README.md\n",
      " create mode 100644 list_ops.py\n",
      " create mode 100644 list_ops_test.py\n"
     ]
    },
    {
     "name": "stderr",
     "output_type": "stream",
     "text": [
      "To github.com:DB-Teaching/03-12_list-ops\n",
      " * [new branch]      main -> main\n"
     ]
    },
    {
     "name": "stdout",
     "output_type": "stream",
     "text": [
      "https://github.com/DB-Teaching/03-13_house\n"
     ]
    },
    {
     "name": "stderr",
     "output_type": "stream",
     "text": [
      "Cloning into '/Users/dboehler/Library/CloudStorage/OneDrive-th-deg.de/Teaching/22S/SWEN/excercises/Chapter_03/03-13_house'...\n",
      "warning: You appear to have cloned an empty repository.\n",
      "fatal: You are on a branch yet to be born\n",
      "fatal: unable to checkout submodule 'excercises/Chapter_03/03-13_house'\n"
     ]
    },
    {
     "name": "stdout",
     "output_type": "stream",
     "text": [
      "[main (root-commit) e70bdf3] initial\n",
      " 4 files changed, 241 insertions(+)\n",
      " create mode 100644 .docs/instructions.md\n",
      " create mode 120000 README.md\n",
      " create mode 100644 house.py\n",
      " create mode 100644 house_test.py\n"
     ]
    },
    {
     "name": "stderr",
     "output_type": "stream",
     "text": [
      "To github.com:DB-Teaching/03-13_house\n",
      " * [new branch]      main -> main\n"
     ]
    },
    {
     "name": "stdout",
     "output_type": "stream",
     "text": [
      "https://github.com/DB-Teaching/03-14_resistor-color-duo\n"
     ]
    },
    {
     "name": "stderr",
     "output_type": "stream",
     "text": [
      "Cloning into '/Users/dboehler/Library/CloudStorage/OneDrive-th-deg.de/Teaching/22S/SWEN/excercises/Chapter_03/03-14_resistor-color-duo'...\n",
      "warning: You appear to have cloned an empty repository.\n",
      "fatal: You are on a branch yet to be born\n",
      "fatal: unable to checkout submodule 'excercises/Chapter_03/03-14_resistor-color-duo'\n"
     ]
    },
    {
     "name": "stdout",
     "output_type": "stream",
     "text": [
      "[main (root-commit) 758f202] initial\n",
      " 4 files changed, 66 insertions(+)\n",
      " create mode 100644 .docs/instructions.md\n",
      " create mode 120000 README.md\n",
      " create mode 100644 resistor_color_duo.py\n",
      " create mode 100644 resistor_color_duo_test.py\n"
     ]
    },
    {
     "name": "stderr",
     "output_type": "stream",
     "text": [
      "To github.com:DB-Teaching/03-14_resistor-color-duo\n",
      " * [new branch]      main -> main\n"
     ]
    },
    {
     "name": "stdout",
     "output_type": "stream",
     "text": [
      "https://github.com/DB-Teaching/03-15_high-scores\n"
     ]
    },
    {
     "name": "stderr",
     "output_type": "stream",
     "text": [
      "Cloning into '/Users/dboehler/Library/CloudStorage/OneDrive-th-deg.de/Teaching/22S/SWEN/excercises/Chapter_03/03-15_high-scores'...\n",
      "warning: You appear to have cloned an empty repository.\n",
      "fatal: You are on a branch yet to be born\n",
      "fatal: unable to checkout submodule 'excercises/Chapter_03/03-15_high-scores'\n"
     ]
    },
    {
     "name": "stdout",
     "output_type": "stream",
     "text": [
      "[main (root-commit) 41431dc] initial\n",
      " 5 files changed, 69 insertions(+)\n",
      " create mode 100644 .docs/instructions.append.md\n",
      " create mode 100644 .docs/instructions.md\n",
      " create mode 120000 README.md\n",
      " create mode 100644 high_scores.py\n",
      " create mode 100644 high_scores_test.py\n"
     ]
    },
    {
     "name": "stderr",
     "output_type": "stream",
     "text": [
      "To github.com:DB-Teaching/03-15_high-scores\n",
      " * [new branch]      main -> main\n"
     ]
    },
    {
     "name": "stdout",
     "output_type": "stream",
     "text": [
      "https://github.com/DB-Teaching/04-01_etl\n"
     ]
    },
    {
     "name": "stderr",
     "output_type": "stream",
     "text": [
      "Cloning into '/Users/dboehler/Library/CloudStorage/OneDrive-th-deg.de/Teaching/22S/SWEN/excercises/Chapter_04/04-01_etl'...\n",
      "warning: You appear to have cloned an empty repository.\n",
      "fatal: You are on a branch yet to be born\n",
      "fatal: unable to checkout submodule 'excercises/Chapter_04/04-01_etl'\n"
     ]
    },
    {
     "name": "stdout",
     "output_type": "stream",
     "text": [
      "[main (root-commit) b014bdc] initial\n",
      " 4 files changed, 118 insertions(+)\n",
      " create mode 100644 .docs/instructions.md\n",
      " create mode 120000 README.md\n",
      " create mode 100644 etl.py\n",
      " create mode 100644 etl_test.py\n"
     ]
    },
    {
     "name": "stderr",
     "output_type": "stream",
     "text": [
      "To github.com:DB-Teaching/04-01_etl\n",
      " * [new branch]      main -> main\n"
     ]
    },
    {
     "name": "stdout",
     "output_type": "stream",
     "text": [
      "https://github.com/DB-Teaching/04-02_say\n"
     ]
    },
    {
     "name": "stderr",
     "output_type": "stream",
     "text": [
      "Cloning into '/Users/dboehler/Library/CloudStorage/OneDrive-th-deg.de/Teaching/22S/SWEN/excercises/Chapter_04/04-02_say'...\n",
      "warning: You appear to have cloned an empty repository.\n",
      "fatal: You are on a branch yet to be born\n",
      "fatal: unable to checkout submodule 'excercises/Chapter_04/04-02_say'\n"
     ]
    },
    {
     "name": "stdout",
     "output_type": "stream",
     "text": [
      "[main (root-commit) 1e4f13d] initial\n",
      " 5 files changed, 154 insertions(+)\n",
      " create mode 100644 .docs/instructions.append.md\n",
      " create mode 100644 .docs/instructions.md\n",
      " create mode 120000 README.md\n",
      " create mode 100644 say.py\n",
      " create mode 100644 say_test.py\n"
     ]
    },
    {
     "name": "stderr",
     "output_type": "stream",
     "text": [
      "To github.com:DB-Teaching/04-02_say\n",
      " * [new branch]      main -> main\n"
     ]
    },
    {
     "name": "stdout",
     "output_type": "stream",
     "text": [
      "https://github.com/DB-Teaching/04-03_wordy\n"
     ]
    },
    {
     "name": "stderr",
     "output_type": "stream",
     "text": [
      "Cloning into '/Users/dboehler/Library/CloudStorage/OneDrive-th-deg.de/Teaching/22S/SWEN/excercises/Chapter_04/04-03_wordy'...\n",
      "warning: You appear to have cloned an empty repository.\n",
      "fatal: You are on a branch yet to be born\n",
      "fatal: unable to checkout submodule 'excercises/Chapter_04/04-03_wordy'\n"
     ]
    },
    {
     "name": "stdout",
     "output_type": "stream",
     "text": [
      "[main (root-commit) 1dfad63] initial\n",
      " 5 files changed, 204 insertions(+)\n",
      " create mode 100644 .docs/instructions.append.md\n",
      " create mode 100644 .docs/instructions.md\n",
      " create mode 120000 README.md\n",
      " create mode 100644 wordy.py\n",
      " create mode 100644 wordy_test.py\n"
     ]
    },
    {
     "name": "stderr",
     "output_type": "stream",
     "text": [
      "To github.com:DB-Teaching/04-03_wordy\n",
      " * [new branch]      main -> main\n"
     ]
    },
    {
     "name": "stdout",
     "output_type": "stream",
     "text": [
      "https://github.com/DB-Teaching/04-04_crypto-square\n"
     ]
    },
    {
     "name": "stderr",
     "output_type": "stream",
     "text": [
      "Cloning into '/Users/dboehler/Library/CloudStorage/OneDrive-th-deg.de/Teaching/22S/SWEN/excercises/Chapter_04/04-04_crypto-square'...\n",
      "warning: You appear to have cloned an empty repository.\n",
      "fatal: You are on a branch yet to be born\n",
      "fatal: unable to checkout submodule 'excercises/Chapter_04/04-04_crypto-square'\n"
     ]
    },
    {
     "name": "stdout",
     "output_type": "stream",
     "text": [
      "[main (root-commit) b8edcde] initial\n",
      " 4 files changed, 128 insertions(+)\n",
      " create mode 100644 .docs/instructions.md\n",
      " create mode 120000 README.md\n",
      " create mode 100644 crypto_square.py\n",
      " create mode 100644 crypto_square_test.py\n"
     ]
    },
    {
     "name": "stderr",
     "output_type": "stream",
     "text": [
      "To github.com:DB-Teaching/04-04_crypto-square\n",
      " * [new branch]      main -> main\n"
     ]
    },
    {
     "name": "stdout",
     "output_type": "stream",
     "text": [
      "https://github.com/DB-Teaching/04-04_hamming\n"
     ]
    },
    {
     "name": "stderr",
     "output_type": "stream",
     "text": [
      "Cloning into '/Users/dboehler/Library/CloudStorage/OneDrive-th-deg.de/Teaching/22S/SWEN/excercises/Chapter_04/04-04_hamming'...\n",
      "warning: You appear to have cloned an empty repository.\n",
      "fatal: You are on a branch yet to be born\n",
      "fatal: unable to checkout submodule 'excercises/Chapter_04/04-04_hamming'\n"
     ]
    },
    {
     "name": "stdout",
     "output_type": "stream",
     "text": [
      "[main (root-commit) 094e99f] initial\n",
      " 5 files changed, 99 insertions(+)\n",
      " create mode 100644 .docs/instructions.append.md\n",
      " create mode 100644 .docs/instructions.md\n",
      " create mode 120000 README.md\n",
      " create mode 100644 hamming.py\n",
      " create mode 100644 hamming_test.py\n"
     ]
    },
    {
     "name": "stderr",
     "output_type": "stream",
     "text": [
      "To github.com:DB-Teaching/04-04_hamming\n",
      " * [new branch]      main -> main\n"
     ]
    },
    {
     "name": "stdout",
     "output_type": "stream",
     "text": [
      "https://github.com/DB-Teaching/04-05_matrix\n"
     ]
    },
    {
     "name": "stderr",
     "output_type": "stream",
     "text": [
      "Cloning into '/Users/dboehler/Library/CloudStorage/OneDrive-th-deg.de/Teaching/22S/SWEN/excercises/Chapter_04/04-05_matrix'...\n",
      "warning: You appear to have cloned an empty repository.\n",
      "fatal: You are on a branch yet to be born\n",
      "fatal: unable to checkout submodule 'excercises/Chapter_04/04-05_matrix'\n"
     ]
    },
    {
     "name": "stdout",
     "output_type": "stream",
     "text": [
      "[main (root-commit) 81f8e63] initial\n",
      " 5 files changed, 103 insertions(+)\n",
      " create mode 100644 .docs/instructions.append.md\n",
      " create mode 100644 .docs/instructions.md\n",
      " create mode 120000 README.md\n",
      " create mode 100644 matrix.py\n",
      " create mode 100644 matrix_test.py\n"
     ]
    },
    {
     "name": "stderr",
     "output_type": "stream",
     "text": [
      "To github.com:DB-Teaching/04-05_matrix\n",
      " * [new branch]      main -> main\n"
     ]
    },
    {
     "name": "stdout",
     "output_type": "stream",
     "text": [
      "https://github.com/DB-Teaching/04-06_minesweeper\n"
     ]
    },
    {
     "name": "stderr",
     "output_type": "stream",
     "text": [
      "Cloning into '/Users/dboehler/Library/CloudStorage/OneDrive-th-deg.de/Teaching/22S/SWEN/excercises/Chapter_04/04-06_minesweeper'...\n",
      "warning: You appear to have cloned an empty repository.\n",
      "fatal: You are on a branch yet to be born\n",
      "fatal: unable to checkout submodule 'excercises/Chapter_04/04-06_minesweeper'\n"
     ]
    },
    {
     "name": "stdout",
     "output_type": "stream",
     "text": [
      "[main (root-commit) 8ba39c2] initial\n",
      " 5 files changed, 129 insertions(+)\n",
      " create mode 100644 .docs/instructions.append.md\n",
      " create mode 100644 .docs/instructions.md\n",
      " create mode 120000 README.md\n",
      " create mode 100644 minesweeper.py\n",
      " create mode 100644 minesweeper_test.py\n"
     ]
    },
    {
     "name": "stderr",
     "output_type": "stream",
     "text": [
      "To github.com:DB-Teaching/04-06_minesweeper\n",
      " * [new branch]      main -> main\n"
     ]
    },
    {
     "name": "stdout",
     "output_type": "stream",
     "text": [
      "https://github.com/DB-Teaching/04-07_palindrome-products\n"
     ]
    },
    {
     "name": "stderr",
     "output_type": "stream",
     "text": [
      "Cloning into '/Users/dboehler/Library/CloudStorage/OneDrive-th-deg.de/Teaching/22S/SWEN/excercises/Chapter_04/04-07_palindrome-products'...\n",
      "warning: You appear to have cloned an empty repository.\n",
      "fatal: You are on a branch yet to be born\n",
      "fatal: unable to checkout submodule 'excercises/Chapter_04/04-07_palindrome-products'\n"
     ]
    },
    {
     "name": "stdout",
     "output_type": "stream",
     "text": [
      "[main (root-commit) 4de41e9] initial\n",
      " 5 files changed, 158 insertions(+)\n",
      " create mode 100644 .docs/instructions.append.md\n",
      " create mode 100644 .docs/instructions.md\n",
      " create mode 120000 README.md\n",
      " create mode 100644 palindrome_products.py\n",
      " create mode 100644 palindrome_products_test.py\n"
     ]
    },
    {
     "name": "stderr",
     "output_type": "stream",
     "text": [
      "To github.com:DB-Teaching/04-07_palindrome-products\n",
      " * [new branch]      main -> main\n"
     ]
    },
    {
     "name": "stdout",
     "output_type": "stream",
     "text": [
      "https://github.com/DB-Teaching/04-08_raindrops\n"
     ]
    },
    {
     "name": "stderr",
     "output_type": "stream",
     "text": [
      "Cloning into '/Users/dboehler/Library/CloudStorage/OneDrive-th-deg.de/Teaching/22S/SWEN/excercises/Chapter_04/04-08_raindrops'...\n",
      "warning: You appear to have cloned an empty repository.\n",
      "fatal: You are on a branch yet to be born\n",
      "fatal: unable to checkout submodule 'excercises/Chapter_04/04-08_raindrops'\n"
     ]
    },
    {
     "name": "stdout",
     "output_type": "stream",
     "text": [
      "[main (root-commit) e19445c] initial\n",
      " 4 files changed, 88 insertions(+)\n",
      " create mode 100644 .docs/instructions.md\n",
      " create mode 120000 README.md\n",
      " create mode 100644 raindrops.py\n",
      " create mode 100644 raindrops_test.py\n"
     ]
    },
    {
     "name": "stderr",
     "output_type": "stream",
     "text": [
      "To github.com:DB-Teaching/04-08_raindrops\n",
      " * [new branch]      main -> main\n"
     ]
    },
    {
     "name": "stdout",
     "output_type": "stream",
     "text": [
      "https://github.com/DB-Teaching/04-09_robot-name\n"
     ]
    },
    {
     "name": "stderr",
     "output_type": "stream",
     "text": [
      "Cloning into '/Users/dboehler/Library/CloudStorage/OneDrive-th-deg.de/Teaching/22S/SWEN/excercises/Chapter_04/04-09_robot-name'...\n",
      "warning: You appear to have cloned an empty repository.\n",
      "fatal: You are on a branch yet to be born\n",
      "fatal: unable to checkout submodule 'excercises/Chapter_04/04-09_robot-name'\n"
     ]
    },
    {
     "name": "stdout",
     "output_type": "stream",
     "text": [
      "[main (root-commit) cc286e6] initial\n",
      " 4 files changed, 71 insertions(+)\n",
      " create mode 100644 .docs/instructions.md\n",
      " create mode 120000 README.md\n",
      " create mode 100644 robot_name.py\n",
      " create mode 100644 robot_name_test.py\n"
     ]
    },
    {
     "name": "stderr",
     "output_type": "stream",
     "text": [
      "To github.com:DB-Teaching/04-09_robot-name\n",
      " * [new branch]      main -> main\n"
     ]
    },
    {
     "name": "stdout",
     "output_type": "stream",
     "text": [
      "https://github.com/DB-Teaching/05-01_robot-simulator\n"
     ]
    },
    {
     "name": "stderr",
     "output_type": "stream",
     "text": [
      "Cloning into '/Users/dboehler/Library/CloudStorage/OneDrive-th-deg.de/Teaching/22S/SWEN/excercises/Chapter_05/05-01_robot-simulator'...\n",
      "warning: You appear to have cloned an empty repository.\n",
      "fatal: You are on a branch yet to be born\n",
      "fatal: unable to checkout submodule 'excercises/Chapter_05/05-01_robot-simulator'\n"
     ]
    },
    {
     "name": "stdout",
     "output_type": "stream",
     "text": [
      "[main (root-commit) 9b89c64] initial\n",
      " 4 files changed, 183 insertions(+)\n",
      " create mode 100644 .docs/instructions.md\n",
      " create mode 120000 README.md\n",
      " create mode 100644 robot_simulator.py\n",
      " create mode 100644 robot_simulator_test.py\n"
     ]
    },
    {
     "name": "stderr",
     "output_type": "stream",
     "text": [
      "To github.com:DB-Teaching/05-01_robot-simulator\n",
      " * [new branch]      main -> main\n"
     ]
    },
    {
     "name": "stdout",
     "output_type": "stream",
     "text": [
      "https://github.com/DB-Teaching/05-02_roman-numerals\n"
     ]
    },
    {
     "name": "stderr",
     "output_type": "stream",
     "text": [
      "Cloning into '/Users/dboehler/Library/CloudStorage/OneDrive-th-deg.de/Teaching/22S/SWEN/excercises/Chapter_05/05-02_roman-numerals'...\n",
      "warning: You appear to have cloned an empty repository.\n",
      "fatal: You are on a branch yet to be born\n",
      "fatal: unable to checkout submodule 'excercises/Chapter_05/05-02_roman-numerals'\n"
     ]
    },
    {
     "name": "stdout",
     "output_type": "stream",
     "text": [
      "[main (root-commit) 731b21d] initial\n",
      " 4 files changed, 110 insertions(+)\n",
      " create mode 100644 .docs/instructions.md\n",
      " create mode 120000 README.md\n",
      " create mode 100644 roman_numerals.py\n",
      " create mode 100644 roman_numerals_test.py\n"
     ]
    },
    {
     "name": "stderr",
     "output_type": "stream",
     "text": [
      "To github.com:DB-Teaching/05-02_roman-numerals\n",
      " * [new branch]      main -> main\n"
     ]
    },
    {
     "name": "stdout",
     "output_type": "stream",
     "text": [
      "https://github.com/DB-Teaching/05-03_rotational-cipher\n"
     ]
    },
    {
     "name": "stderr",
     "output_type": "stream",
     "text": [
      "Cloning into '/Users/dboehler/Library/CloudStorage/OneDrive-th-deg.de/Teaching/22S/SWEN/excercises/Chapter_05/05-03_rotational-cipher'...\n",
      "warning: You appear to have cloned an empty repository.\n",
      "fatal: You are on a branch yet to be born\n",
      "fatal: unable to checkout submodule 'excercises/Chapter_05/05-03_rotational-cipher'\n"
     ]
    },
    {
     "name": "stdout",
     "output_type": "stream",
     "text": [
      "[main (root-commit) f9bf079] initial\n",
      " 4 files changed, 80 insertions(+)\n",
      " create mode 100644 .docs/instructions.md\n",
      " create mode 120000 README.md\n",
      " create mode 100644 rotational_cipher.py\n",
      " create mode 100644 rotational_cipher_test.py\n"
     ]
    },
    {
     "name": "stderr",
     "output_type": "stream",
     "text": [
      "To github.com:DB-Teaching/05-03_rotational-cipher\n",
      " * [new branch]      main -> main\n"
     ]
    },
    {
     "name": "stdout",
     "output_type": "stream",
     "text": [
      "https://github.com/DB-Teaching/05-04_run-length-encoding\n"
     ]
    },
    {
     "name": "stderr",
     "output_type": "stream",
     "text": [
      "Cloning into '/Users/dboehler/Library/CloudStorage/OneDrive-th-deg.de/Teaching/22S/SWEN/excercises/Chapter_05/05-04_run-length-encoding'...\n",
      "warning: You appear to have cloned an empty repository.\n",
      "fatal: You are on a branch yet to be born\n",
      "fatal: unable to checkout submodule 'excercises/Chapter_05/05-04_run-length-encoding'\n"
     ]
    },
    {
     "name": "stdout",
     "output_type": "stream",
     "text": [
      "[main (root-commit) 5e9b78a] initial\n",
      " 4 files changed, 86 insertions(+)\n",
      " create mode 100644 .docs/instructions.md\n",
      " create mode 120000 README.md\n",
      " create mode 100644 run_length_encoding.py\n",
      " create mode 100644 run_length_encoding_test.py\n"
     ]
    },
    {
     "name": "stderr",
     "output_type": "stream",
     "text": [
      "To github.com:DB-Teaching/05-04_run-length-encoding\n",
      " * [new branch]      main -> main\n"
     ]
    },
    {
     "name": "stdout",
     "output_type": "stream",
     "text": [
      "https://github.com/DB-Teaching/05-05_secret-handshake\n"
     ]
    },
    {
     "name": "stderr",
     "output_type": "stream",
     "text": [
      "Cloning into '/Users/dboehler/Library/CloudStorage/OneDrive-th-deg.de/Teaching/22S/SWEN/excercises/Chapter_05/05-05_secret-handshake'...\n",
      "warning: You appear to have cloned an empty repository.\n",
      "fatal: You are on a branch yet to be born\n",
      "fatal: unable to checkout submodule 'excercises/Chapter_05/05-05_secret-handshake'\n"
     ]
    },
    {
     "name": "stdout",
     "output_type": "stream",
     "text": [
      "[main (root-commit) baecb1c] initial\n",
      " 5 files changed, 88 insertions(+)\n",
      " create mode 100644 .docs/instructions.append.md\n",
      " create mode 100644 .docs/instructions.md\n",
      " create mode 120000 README.md\n",
      " create mode 100644 secret_handshake.py\n",
      " create mode 100644 secret_handshake_test.py\n"
     ]
    },
    {
     "name": "stderr",
     "output_type": "stream",
     "text": [
      "To github.com:DB-Teaching/05-05_secret-handshake\n",
      " * [new branch]      main -> main\n"
     ]
    },
    {
     "name": "stdout",
     "output_type": "stream",
     "text": [
      "https://github.com/DB-Teaching/05-06_sieve\n"
     ]
    },
    {
     "name": "stderr",
     "output_type": "stream",
     "text": [
      "Cloning into '/Users/dboehler/Library/CloudStorage/OneDrive-th-deg.de/Teaching/22S/SWEN/excercises/Chapter_05/05-06_sieve'...\n",
      "warning: You appear to have cloned an empty repository.\n",
      "fatal: You are on a branch yet to be born\n",
      "fatal: unable to checkout submodule 'excercises/Chapter_05/05-06_sieve'\n"
     ]
    },
    {
     "name": "stdout",
     "output_type": "stream",
     "text": [
      "[main (root-commit) ae0e5b2] initial\n",
      " 4 files changed, 233 insertions(+)\n",
      " create mode 100644 .docs/instructions.md\n",
      " create mode 120000 README.md\n",
      " create mode 100644 sieve.py\n",
      " create mode 100644 sieve_test.py\n"
     ]
    },
    {
     "name": "stderr",
     "output_type": "stream",
     "text": [
      "To github.com:DB-Teaching/05-06_sieve\n",
      " * [new branch]      main -> main\n"
     ]
    },
    {
     "name": "stdout",
     "output_type": "stream",
     "text": [
      "https://github.com/DB-Teaching/05-07_space-age\n"
     ]
    },
    {
     "name": "stderr",
     "output_type": "stream",
     "text": [
      "Cloning into '/Users/dboehler/Library/CloudStorage/OneDrive-th-deg.de/Teaching/22S/SWEN/excercises/Chapter_05/05-07_space-age'...\n",
      "warning: You appear to have cloned an empty repository.\n",
      "fatal: You are on a branch yet to be born\n",
      "fatal: unable to checkout submodule 'excercises/Chapter_05/05-07_space-age'\n"
     ]
    },
    {
     "name": "stdout",
     "output_type": "stream",
     "text": [
      "[main (root-commit) 4208cbe] initial\n",
      " 4 files changed, 59 insertions(+)\n",
      " create mode 100644 .docs/instructions.md\n",
      " create mode 120000 README.md\n",
      " create mode 100644 space_age.py\n",
      " create mode 100644 space_age_test.py\n"
     ]
    },
    {
     "name": "stderr",
     "output_type": "stream",
     "text": [
      "To github.com:DB-Teaching/05-07_space-age\n",
      " * [new branch]      main -> main\n"
     ]
    },
    {
     "name": "stdout",
     "output_type": "stream",
     "text": [
      "https://github.com/DB-Teaching/05-08_spiral-matrix\n"
     ]
    },
    {
     "name": "stderr",
     "output_type": "stream",
     "text": [
      "Cloning into '/Users/dboehler/Library/CloudStorage/OneDrive-th-deg.de/Teaching/22S/SWEN/excercises/Chapter_05/05-08_spiral-matrix'...\n",
      "warning: You appear to have cloned an empty repository.\n",
      "fatal: You are on a branch yet to be born\n",
      "fatal: unable to checkout submodule 'excercises/Chapter_05/05-08_spiral-matrix'\n"
     ]
    },
    {
     "name": "stdout",
     "output_type": "stream",
     "text": [
      "[main (root-commit) 808e329] initial\n",
      " 4 files changed, 71 insertions(+)\n",
      " create mode 100644 .docs/instructions.md\n",
      " create mode 120000 README.md\n",
      " create mode 100644 spiral_matrix.py\n",
      " create mode 100644 spiral_matrix_test.py\n"
     ]
    },
    {
     "name": "stderr",
     "output_type": "stream",
     "text": [
      "To github.com:DB-Teaching/05-08_spiral-matrix\n",
      " * [new branch]      main -> main\n"
     ]
    },
    {
     "name": "stdout",
     "output_type": "stream",
     "text": [
      "https://github.com/DB-Teaching/05-09_transpose\n"
     ]
    },
    {
     "name": "stderr",
     "output_type": "stream",
     "text": [
      "Cloning into '/Users/dboehler/Library/CloudStorage/OneDrive-th-deg.de/Teaching/22S/SWEN/excercises/Chapter_05/05-09_transpose'...\n",
      "warning: You appear to have cloned an empty repository.\n",
      "fatal: You are on a branch yet to be born\n",
      "fatal: unable to checkout submodule 'excercises/Chapter_05/05-09_transpose'\n"
     ]
    },
    {
     "name": "stdout",
     "output_type": "stream",
     "text": [
      "[main (root-commit) 4c9f90a] initial\n",
      " 4 files changed, 183 insertions(+)\n",
      " create mode 100644 .docs/instructions.md\n",
      " create mode 120000 README.md\n",
      " create mode 100644 transpose.py\n",
      " create mode 100644 transpose_test.py\n"
     ]
    },
    {
     "name": "stderr",
     "output_type": "stream",
     "text": [
      "To github.com:DB-Teaching/05-09_transpose\n",
      " * [new branch]      main -> main\n"
     ]
    },
    {
     "name": "stdout",
     "output_type": "stream",
     "text": [
      "https://github.com/DB-Teaching/07-01_meetup\n"
     ]
    },
    {
     "name": "stderr",
     "output_type": "stream",
     "text": [
      "Cloning into '/Users/dboehler/Library/CloudStorage/OneDrive-th-deg.de/Teaching/22S/SWEN/excercises/Chapter_07/07-01_meetup'...\n",
      "warning: You appear to have cloned an empty repository.\n",
      "fatal: You are on a branch yet to be born\n",
      "fatal: unable to checkout submodule 'excercises/Chapter_07/07-01_meetup'\n"
     ]
    },
    {
     "name": "stdout",
     "output_type": "stream",
     "text": [
      "[main (root-commit) 69fac4b] initial\n",
      " 5 files changed, 401 insertions(+)\n",
      " create mode 100644 .docs/instructions.append.md\n",
      " create mode 100644 .docs/instructions.md\n",
      " create mode 120000 README.md\n",
      " create mode 100644 meetup.py\n",
      " create mode 100644 meetup_test.py\n"
     ]
    },
    {
     "name": "stderr",
     "output_type": "stream",
     "text": [
      "To github.com:DB-Teaching/07-01_meetup\n",
      " * [new branch]      main -> main\n"
     ]
    },
    {
     "name": "stdout",
     "output_type": "stream",
     "text": [
      "https://github.com/DB-Teaching/07-02_dnd-character\n"
     ]
    },
    {
     "name": "stderr",
     "output_type": "stream",
     "text": [
      "Cloning into '/Users/dboehler/Library/CloudStorage/OneDrive-th-deg.de/Teaching/22S/SWEN/excercises/Chapter_07/07-02_dnd-character'...\n",
      "warning: You appear to have cloned an empty repository.\n",
      "fatal: You are on a branch yet to be born\n",
      "fatal: unable to checkout submodule 'excercises/Chapter_07/07-02_dnd-character'\n"
     ]
    },
    {
     "name": "stdout",
     "output_type": "stream",
     "text": [
      "[main (root-commit) c04df6c] initial\n",
      " 4 files changed, 117 insertions(+)\n",
      " create mode 100644 .docs/instructions.md\n",
      " create mode 120000 README.md\n",
      " create mode 100644 dnd_character.py\n",
      " create mode 100644 dnd_character_test.py\n"
     ]
    },
    {
     "name": "stderr",
     "output_type": "stream",
     "text": [
      "To github.com:DB-Teaching/07-02_dnd-character\n",
      " * [new branch]      main -> main\n"
     ]
    },
    {
     "name": "stdout",
     "output_type": "stream",
     "text": [
      "https://github.com/DB-Teaching/07-03_simple-linked-list\n"
     ]
    },
    {
     "name": "stderr",
     "output_type": "stream",
     "text": [
      "Cloning into '/Users/dboehler/Library/CloudStorage/OneDrive-th-deg.de/Teaching/22S/SWEN/excercises/Chapter_07/07-03_simple-linked-list'...\n",
      "warning: You appear to have cloned an empty repository.\n",
      "fatal: You are on a branch yet to be born\n",
      "fatal: unable to checkout submodule 'excercises/Chapter_07/07-03_simple-linked-list'\n"
     ]
    },
    {
     "name": "stdout",
     "output_type": "stream",
     "text": [
      "[main (root-commit) 84b1d30] initial\n",
      " 5 files changed, 209 insertions(+)\n",
      " create mode 100644 .docs/instructions.append.md\n",
      " create mode 100644 .docs/instructions.md\n",
      " create mode 120000 README.md\n",
      " create mode 100644 simple_linked_list.py\n",
      " create mode 100644 simple_linked_list_test.py\n"
     ]
    },
    {
     "name": "stderr",
     "output_type": "stream",
     "text": [
      "To github.com:DB-Teaching/07-03_simple-linked-list\n",
      " * [new branch]      main -> main\n"
     ]
    },
    {
     "name": "stdout",
     "output_type": "stream",
     "text": [
      "https://github.com/DB-Teaching/07-04_scale-generator\n"
     ]
    },
    {
     "name": "stderr",
     "output_type": "stream",
     "text": [
      "Cloning into '/Users/dboehler/Library/CloudStorage/OneDrive-th-deg.de/Teaching/22S/SWEN/excercises/Chapter_07/07-04_scale-generator'...\n",
      "warning: You appear to have cloned an empty repository.\n",
      "fatal: You are on a branch yet to be born\n",
      "fatal: unable to checkout submodule 'excercises/Chapter_07/07-04_scale-generator'\n"
     ]
    },
    {
     "name": "stdout",
     "output_type": "stream",
     "text": [
      "[main (root-commit) 76f0a1c] initial\n",
      " 4 files changed, 143 insertions(+)\n",
      " create mode 100644 .docs/instructions.md\n",
      " create mode 120000 README.md\n",
      " create mode 100644 scale_generator.py\n",
      " create mode 100644 scale_generator_test.py\n"
     ]
    },
    {
     "name": "stderr",
     "output_type": "stream",
     "text": [
      "To github.com:DB-Teaching/07-04_scale-generator\n",
      " * [new branch]      main -> main\n"
     ]
    },
    {
     "name": "stdout",
     "output_type": "stream",
     "text": [
      "https://github.com/DB-Teaching/07-05_go-counting\n"
     ]
    },
    {
     "name": "stderr",
     "output_type": "stream",
     "text": [
      "Cloning into '/Users/dboehler/Library/CloudStorage/OneDrive-th-deg.de/Teaching/22S/SWEN/excercises/Chapter_07/07-05_go-counting'...\n",
      "warning: You appear to have cloned an empty repository.\n",
      "fatal: You are on a branch yet to be born\n",
      "fatal: unable to checkout submodule 'excercises/Chapter_07/07-05_go-counting'\n"
     ]
    },
    {
     "name": "stdout",
     "output_type": "stream",
     "text": [
      "[main (root-commit) 8d06539] initial\n",
      " 5 files changed, 183 insertions(+)\n",
      " create mode 100644 .docs/instructions.append.md\n",
      " create mode 100644 .docs/instructions.md\n",
      " create mode 120000 README.md\n",
      " create mode 100644 go_counting.py\n",
      " create mode 100644 go_counting_test.py\n"
     ]
    },
    {
     "name": "stderr",
     "output_type": "stream",
     "text": [
      "To github.com:DB-Teaching/07-05_go-counting\n",
      " * [new branch]      main -> main\n"
     ]
    },
    {
     "name": "stdout",
     "output_type": "stream",
     "text": [
      "https://github.com/DB-Teaching/07-06_luhn\n"
     ]
    },
    {
     "name": "stderr",
     "output_type": "stream",
     "text": [
      "Cloning into '/Users/dboehler/Library/CloudStorage/OneDrive-th-deg.de/Teaching/22S/SWEN/excercises/Chapter_07/07-06_luhn'...\n",
      "warning: You appear to have cloned an empty repository.\n",
      "fatal: You are on a branch yet to be born\n",
      "fatal: unable to checkout submodule 'excercises/Chapter_07/07-06_luhn'\n"
     ]
    },
    {
     "name": "stdout",
     "output_type": "stream",
     "text": [
      "[main (root-commit) b25650e] initial\n",
      " 4 files changed, 155 insertions(+)\n",
      " create mode 100644 .docs/instructions.md\n",
      " create mode 120000 README.md\n",
      " create mode 100644 luhn.py\n",
      " create mode 100644 luhn_test.py\n"
     ]
    },
    {
     "name": "stderr",
     "output_type": "stream",
     "text": [
      "To github.com:DB-Teaching/07-06_luhn\n",
      " * [new branch]      main -> main\n"
     ]
    },
    {
     "name": "stdout",
     "output_type": "stream",
     "text": [
      "https://github.com/DB-Teaching/07-07_clock\n"
     ]
    },
    {
     "name": "stderr",
     "output_type": "stream",
     "text": [
      "Cloning into '/Users/dboehler/Library/CloudStorage/OneDrive-th-deg.de/Teaching/22S/SWEN/excercises/Chapter_07/07-07_clock'...\n",
      "warning: You appear to have cloned an empty repository.\n",
      "fatal: You are on a branch yet to be born\n",
      "fatal: unable to checkout submodule 'excercises/Chapter_07/07-07_clock'\n"
     ]
    },
    {
     "name": "stdout",
     "output_type": "stream",
     "text": [
      "[main (root-commit) beb7d1f] initial\n",
      " 5 files changed, 278 insertions(+)\n",
      " create mode 100644 .docs/instructions.append.md\n",
      " create mode 100644 .docs/instructions.md\n",
      " create mode 120000 README.md\n",
      " create mode 100644 clock.py\n",
      " create mode 100644 clock_test.py\n"
     ]
    },
    {
     "name": "stderr",
     "output_type": "stream",
     "text": [
      "To github.com:DB-Teaching/07-07_clock\n",
      " * [new branch]      main -> main\n"
     ]
    },
    {
     "name": "stdout",
     "output_type": "stream",
     "text": [
      "https://github.com/DB-Teaching/07-08_complex-numbers\n"
     ]
    },
    {
     "name": "stderr",
     "output_type": "stream",
     "text": [
      "Cloning into '/Users/dboehler/Library/CloudStorage/OneDrive-th-deg.de/Teaching/22S/SWEN/excercises/Chapter_07/07-08_complex-numbers'...\n",
      "warning: You appear to have cloned an empty repository.\n",
      "fatal: You are on a branch yet to be born\n",
      "fatal: unable to checkout submodule 'excercises/Chapter_07/07-08_complex-numbers'\n"
     ]
    },
    {
     "name": "stdout",
     "output_type": "stream",
     "text": [
      "[main (root-commit) 4e5cb2b] initial\n",
      " 5 files changed, 254 insertions(+)\n",
      " create mode 100644 .docs/instructions.append.md\n",
      " create mode 100644 .docs/instructions.md\n",
      " create mode 120000 README.md\n",
      " create mode 100644 complex_numbers.py\n",
      " create mode 100644 complex_numbers_test.py\n"
     ]
    },
    {
     "name": "stderr",
     "output_type": "stream",
     "text": [
      "To github.com:DB-Teaching/07-08_complex-numbers\n",
      " * [new branch]      main -> main\n"
     ]
    },
    {
     "name": "stdout",
     "output_type": "stream",
     "text": [
      "https://github.com/DB-Teaching/07-09_allergies\n"
     ]
    },
    {
     "name": "stderr",
     "output_type": "stream",
     "text": [
      "Cloning into '/Users/dboehler/Library/CloudStorage/OneDrive-th-deg.de/Teaching/22S/SWEN/excercises/Chapter_07/07-09_allergies'...\n",
      "warning: You appear to have cloned an empty repository.\n",
      "fatal: You are on a branch yet to be born\n",
      "fatal: unable to checkout submodule 'excercises/Chapter_07/07-09_allergies'\n"
     ]
    },
    {
     "name": "stdout",
     "output_type": "stream",
     "text": [
      "[main (root-commit) 8a0954b] initial\n",
      " 4 files changed, 228 insertions(+)\n",
      " create mode 100644 .docs/instructions.md\n",
      " create mode 120000 README.md\n",
      " create mode 100644 allergies.py\n",
      " create mode 100644 allergies_test.py\n"
     ]
    },
    {
     "name": "stderr",
     "output_type": "stream",
     "text": [
      "To github.com:DB-Teaching/07-09_allergies\n",
      " * [new branch]      main -> main\n"
     ]
    },
    {
     "name": "stdout",
     "output_type": "stream",
     "text": [
      "https://github.com/DB-Teaching/07-10_linked-list\n"
     ]
    },
    {
     "name": "stderr",
     "output_type": "stream",
     "text": [
      "Cloning into '/Users/dboehler/Library/CloudStorage/OneDrive-th-deg.de/Teaching/22S/SWEN/excercises/Chapter_07/07-10_linked-list'...\n",
      "warning: You appear to have cloned an empty repository.\n",
      "fatal: You are on a branch yet to be born\n",
      "fatal: unable to checkout submodule 'excercises/Chapter_07/07-10_linked-list'\n"
     ]
    },
    {
     "name": "stdout",
     "output_type": "stream",
     "text": [
      "[main (root-commit) 4e69937] initial\n",
      " 4 files changed, 119 insertions(+)\n",
      " create mode 100644 .docs/instructions.md\n",
      " create mode 120000 README.md\n",
      " create mode 100644 linked_list.py\n",
      " create mode 100644 linked_list_test.py\n"
     ]
    },
    {
     "name": "stderr",
     "output_type": "stream",
     "text": [
      "To github.com:DB-Teaching/07-10_linked-list\n",
      " * [new branch]      main -> main\n"
     ]
    },
    {
     "name": "stdout",
     "output_type": "stream",
     "text": [
      "https://github.com/DB-Teaching/07-11_kindergarten-garden\n"
     ]
    },
    {
     "name": "stderr",
     "output_type": "stream",
     "text": [
      "Cloning into '/Users/dboehler/Library/CloudStorage/OneDrive-th-deg.de/Teaching/22S/SWEN/excercises/Chapter_07/07-11_kindergarten-garden'...\n",
      "warning: You appear to have cloned an empty repository.\n",
      "fatal: You are on a branch yet to be born\n",
      "fatal: unable to checkout submodule 'excercises/Chapter_07/07-11_kindergarten-garden'\n"
     ]
    },
    {
     "name": "stdout",
     "output_type": "stream",
     "text": [
      "[main (root-commit) e01be2e] initial\n",
      " 4 files changed, 183 insertions(+)\n",
      " create mode 100644 .docs/instructions.md\n",
      " create mode 120000 README.md\n",
      " create mode 100644 kindergarten_garden.py\n",
      " create mode 100644 kindergarten_garden_test.py\n"
     ]
    },
    {
     "name": "stderr",
     "output_type": "stream",
     "text": [
      "To github.com:DB-Teaching/07-11_kindergarten-garden\n",
      " * [new branch]      main -> main\n"
     ]
    },
    {
     "name": "stdout",
     "output_type": "stream",
     "text": [
      "https://github.com/DB-Teaching/07-12_connect\n"
     ]
    },
    {
     "name": "stderr",
     "output_type": "stream",
     "text": [
      "Cloning into '/Users/dboehler/Library/CloudStorage/OneDrive-th-deg.de/Teaching/22S/SWEN/excercises/Chapter_07/07-12_connect'...\n",
      "warning: You appear to have cloned an empty repository.\n",
      "fatal: You are on a branch yet to be born\n",
      "fatal: unable to checkout submodule 'excercises/Chapter_07/07-12_connect'\n"
     ]
    },
    {
     "name": "stdout",
     "output_type": "stream",
     "text": [
      "[main (root-commit) 3595551] initial\n",
      " 4 files changed, 153 insertions(+)\n",
      " create mode 100644 .docs/instructions.md\n",
      " create mode 120000 README.md\n",
      " create mode 100644 connect.py\n",
      " create mode 100644 connect_test.py\n"
     ]
    },
    {
     "name": "stderr",
     "output_type": "stream",
     "text": [
      "To github.com:DB-Teaching/07-12_connect\n",
      " * [new branch]      main -> main\n"
     ]
    },
    {
     "name": "stdout",
     "output_type": "stream",
     "text": [
      "https://github.com/DB-Teaching/07-13_simple-cipher\n"
     ]
    },
    {
     "name": "stderr",
     "output_type": "stream",
     "text": [
      "Cloning into '/Users/dboehler/Library/CloudStorage/OneDrive-th-deg.de/Teaching/22S/SWEN/excercises/Chapter_07/07-13_simple-cipher'...\n",
      "warning: You appear to have cloned an empty repository.\n",
      "fatal: You are on a branch yet to be born\n",
      "fatal: unable to checkout submodule 'excercises/Chapter_07/07-13_simple-cipher'\n"
     ]
    },
    {
     "name": "stdout",
     "output_type": "stream",
     "text": [
      "[main (root-commit) 56ee2b7] initial\n",
      " 5 files changed, 175 insertions(+)\n",
      " create mode 100644 .docs/instructions.append.md\n",
      " create mode 100644 .docs/instructions.md\n",
      " create mode 120000 README.md\n",
      " create mode 100644 simple_cipher.py\n",
      " create mode 100644 simple_cipher_test.py\n"
     ]
    },
    {
     "name": "stderr",
     "output_type": "stream",
     "text": [
      "To github.com:DB-Teaching/07-13_simple-cipher\n",
      " * [new branch]      main -> main\n"
     ]
    },
    {
     "name": "stdout",
     "output_type": "stream",
     "text": [
      "https://github.com/DB-Teaching/07-14_tree-building\n"
     ]
    },
    {
     "name": "stderr",
     "output_type": "stream",
     "text": [
      "Cloning into '/Users/dboehler/Library/CloudStorage/OneDrive-th-deg.de/Teaching/22S/SWEN/excercises/Chapter_07/07-14_tree-building'...\n",
      "warning: You appear to have cloned an empty repository.\n",
      "fatal: You are on a branch yet to be born\n",
      "fatal: unable to checkout submodule 'excercises/Chapter_07/07-14_tree-building'\n"
     ]
    },
    {
     "name": "stdout",
     "output_type": "stream",
     "text": [
      "[main (root-commit) 6030461] initial\n",
      " 5 files changed, 276 insertions(+)\n",
      " create mode 100644 .docs/instructions.append.md\n",
      " create mode 100644 .docs/instructions.md\n",
      " create mode 120000 README.md\n",
      " create mode 100644 tree_building.py\n",
      " create mode 100644 tree_building_test.py\n"
     ]
    },
    {
     "name": "stderr",
     "output_type": "stream",
     "text": [
      "To github.com:DB-Teaching/07-14_tree-building\n",
      " * [new branch]      main -> main\n"
     ]
    },
    {
     "name": "stdout",
     "output_type": "stream",
     "text": [
      "https://github.com/DB-Teaching/07-15_grade-school\n"
     ]
    },
    {
     "name": "stderr",
     "output_type": "stream",
     "text": [
      "Cloning into '/Users/dboehler/Library/CloudStorage/OneDrive-th-deg.de/Teaching/22S/SWEN/excercises/Chapter_07/07-15_grade-school'...\n",
      "warning: You appear to have cloned an empty repository.\n",
      "fatal: You are on a branch yet to be born\n",
      "fatal: unable to checkout submodule 'excercises/Chapter_07/07-15_grade-school'\n"
     ]
    },
    {
     "name": "stdout",
     "output_type": "stream",
     "text": [
      "[main (root-commit) 03b52b5] initial\n",
      " 4 files changed, 232 insertions(+)\n",
      " create mode 100644 .docs/instructions.md\n",
      " create mode 120000 README.md\n",
      " create mode 100644 grade_school.py\n",
      " create mode 100644 grade_school_test.py\n"
     ]
    },
    {
     "name": "stderr",
     "output_type": "stream",
     "text": [
      "To github.com:DB-Teaching/07-15_grade-school\n",
      " * [new branch]      main -> main\n"
     ]
    },
    {
     "name": "stdout",
     "output_type": "stream",
     "text": [
      "https://github.com/DB-Teaching/07-16_circular-buffer\n"
     ]
    },
    {
     "name": "stderr",
     "output_type": "stream",
     "text": [
      "Cloning into '/Users/dboehler/Library/CloudStorage/OneDrive-th-deg.de/Teaching/22S/SWEN/excercises/Chapter_07/07-16_circular-buffer'...\n",
      "warning: You appear to have cloned an empty repository.\n",
      "fatal: You are on a branch yet to be born\n",
      "fatal: unable to checkout submodule 'excercises/Chapter_07/07-16_circular-buffer'\n"
     ]
    },
    {
     "name": "stdout",
     "output_type": "stream",
     "text": [
      "[main (root-commit) d240dba] initial\n",
      " 5 files changed, 249 insertions(+)\n",
      " create mode 100644 .docs/instructions.append.md\n",
      " create mode 100644 .docs/instructions.md\n",
      " create mode 120000 README.md\n",
      " create mode 100644 circular_buffer.py\n",
      " create mode 100644 circular_buffer_test.py\n"
     ]
    },
    {
     "name": "stderr",
     "output_type": "stream",
     "text": [
      "To github.com:DB-Teaching/07-16_circular-buffer\n",
      " * [new branch]      main -> main\n"
     ]
    },
    {
     "name": "stdout",
     "output_type": "stream",
     "text": [
      "https://github.com/DB-Teaching/08-01_grep\n"
     ]
    },
    {
     "name": "stderr",
     "output_type": "stream",
     "text": [
      "Cloning into '/Users/dboehler/Library/CloudStorage/OneDrive-th-deg.de/Teaching/22S/SWEN/excercises/Chapter_08/08-01_grep'...\n",
      "warning: You appear to have cloned an empty repository.\n",
      "fatal: You are on a branch yet to be born\n",
      "fatal: unable to checkout submodule 'excercises/Chapter_08/08-01_grep'\n"
     ]
    },
    {
     "name": "stdout",
     "output_type": "stream",
     "text": [
      "[main (root-commit) 7b47c5e] initial\n",
      " 4 files changed, 364 insertions(+)\n",
      " create mode 100644 .docs/instructions.md\n",
      " create mode 120000 README.md\n",
      " create mode 100644 grep.py\n",
      " create mode 100644 grep_test.py\n"
     ]
    },
    {
     "name": "stderr",
     "output_type": "stream",
     "text": [
      "To github.com:DB-Teaching/08-01_grep\n",
      " * [new branch]      main -> main\n"
     ]
    },
    {
     "name": "stdout",
     "output_type": "stream",
     "text": [
      "https://github.com/DB-Teaching/08-02_poker\n"
     ]
    },
    {
     "name": "stderr",
     "output_type": "stream",
     "text": [
      "Cloning into '/Users/dboehler/Library/CloudStorage/OneDrive-th-deg.de/Teaching/22S/SWEN/excercises/Chapter_08/08-02_poker'...\n",
      "warning: You appear to have cloned an empty repository.\n",
      "fatal: You are on a branch yet to be born\n",
      "fatal: unable to checkout submodule 'excercises/Chapter_08/08-02_poker'\n"
     ]
    },
    {
     "name": "stdout",
     "output_type": "stream",
     "text": [
      "[main (root-commit) 254a7fd] initial\n",
      " 4 files changed, 185 insertions(+)\n",
      " create mode 100644 .docs/instructions.md\n",
      " create mode 120000 README.md\n",
      " create mode 100644 poker.py\n",
      " create mode 100644 poker_test.py\n"
     ]
    },
    {
     "name": "stderr",
     "output_type": "stream",
     "text": [
      "To github.com:DB-Teaching/08-02_poker\n",
      " * [new branch]      main -> main\n"
     ]
    },
    {
     "name": "stdout",
     "output_type": "stream",
     "text": [
      "https://github.com/DB-Teaching/08-03_rectangles\n"
     ]
    },
    {
     "name": "stderr",
     "output_type": "stream",
     "text": [
      "Cloning into '/Users/dboehler/Library/CloudStorage/OneDrive-th-deg.de/Teaching/22S/SWEN/excercises/Chapter_08/08-03_rectangles'...\n",
      "warning: You appear to have cloned an empty repository.\n",
      "fatal: You are on a branch yet to be born\n",
      "fatal: unable to checkout submodule 'excercises/Chapter_08/08-03_rectangles'\n"
     ]
    },
    {
     "name": "stdout",
     "output_type": "stream",
     "text": [
      "[main (root-commit) 1f63b4f] initial\n",
      " 4 files changed, 155 insertions(+)\n",
      " create mode 100644 .docs/instructions.md\n",
      " create mode 120000 README.md\n",
      " create mode 100644 rectangles.py\n",
      " create mode 100644 rectangles_test.py\n"
     ]
    },
    {
     "name": "stderr",
     "output_type": "stream",
     "text": [
      "To github.com:DB-Teaching/08-03_rectangles\n",
      " * [new branch]      main -> main\n"
     ]
    },
    {
     "name": "stdout",
     "output_type": "stream",
     "text": [
      "https://github.com/DB-Teaching/08-04_change\n"
     ]
    },
    {
     "name": "stderr",
     "output_type": "stream",
     "text": [
      "Cloning into '/Users/dboehler/Library/CloudStorage/OneDrive-th-deg.de/Teaching/22S/SWEN/excercises/Chapter_08/08-04_change'...\n",
      "warning: You appear to have cloned an empty repository.\n",
      "fatal: You are on a branch yet to be born\n",
      "fatal: unable to checkout submodule 'excercises/Chapter_08/08-04_change'\n"
     ]
    },
    {
     "name": "stdout",
     "output_type": "stream",
     "text": [
      "[main (root-commit) aed2470] initial\n",
      " 5 files changed, 91 insertions(+)\n",
      " create mode 100644 .docs/instructions.append.md\n",
      " create mode 100644 .docs/instructions.md\n",
      " create mode 120000 README.md\n",
      " create mode 100644 change.py\n",
      " create mode 100644 change_test.py\n"
     ]
    },
    {
     "name": "stderr",
     "output_type": "stream",
     "text": [
      "To github.com:DB-Teaching/08-04_change\n",
      " * [new branch]      main -> main\n"
     ]
    },
    {
     "name": "stdout",
     "output_type": "stream",
     "text": [
      "https://github.com/DB-Teaching/08-05_all-your-base\n"
     ]
    },
    {
     "name": "stderr",
     "output_type": "stream",
     "text": [
      "Cloning into '/Users/dboehler/Library/CloudStorage/OneDrive-th-deg.de/Teaching/22S/SWEN/excercises/Chapter_08/08-05_all-your-base'...\n",
      "warning: You appear to have cloned an empty repository.\n",
      "fatal: You are on a branch yet to be born\n",
      "fatal: unable to checkout submodule 'excercises/Chapter_08/08-05_all-your-base'\n"
     ]
    },
    {
     "name": "stdout",
     "output_type": "stream",
     "text": [
      "[main (root-commit) 0296f83] initial\n",
      " 5 files changed, 166 insertions(+)\n",
      " create mode 100644 .docs/instructions.append.md\n",
      " create mode 100644 .docs/instructions.md\n",
      " create mode 120000 README.md\n",
      " create mode 100644 all_your_base.py\n",
      " create mode 100644 all_your_base_test.py\n"
     ]
    },
    {
     "name": "stderr",
     "output_type": "stream",
     "text": [
      "To github.com:DB-Teaching/08-05_all-your-base\n",
      " * [new branch]      main -> main\n"
     ]
    },
    {
     "name": "stdout",
     "output_type": "stream",
     "text": [
      "https://github.com/DB-Teaching/08-06_diffie-hellman\n"
     ]
    },
    {
     "name": "stderr",
     "output_type": "stream",
     "text": [
      "Cloning into '/Users/dboehler/Library/CloudStorage/OneDrive-th-deg.de/Teaching/22S/SWEN/excercises/Chapter_08/08-06_diffie-hellman'...\n",
      "warning: You appear to have cloned an empty repository.\n",
      "fatal: You are on a branch yet to be born\n",
      "fatal: unable to checkout submodule 'excercises/Chapter_08/08-06_diffie-hellman'\n"
     ]
    },
    {
     "name": "stdout",
     "output_type": "stream",
     "text": [
      "[main (root-commit) d29fca0] initial\n",
      " 5 files changed, 140 insertions(+)\n",
      " create mode 100644 .docs/instructions.append.md\n",
      " create mode 100644 .docs/instructions.md\n",
      " create mode 120000 README.md\n",
      " create mode 100644 diffie_hellman.py\n",
      " create mode 100644 diffie_hellman_test.py\n"
     ]
    },
    {
     "name": "stderr",
     "output_type": "stream",
     "text": [
      "To github.com:DB-Teaching/08-06_diffie-hellman\n",
      " * [new branch]      main -> main\n"
     ]
    },
    {
     "name": "stdout",
     "output_type": "stream",
     "text": [
      "https://github.com/DB-Teaching/08-07_variable-length-quantity\n"
     ]
    },
    {
     "name": "stderr",
     "output_type": "stream",
     "text": [
      "Cloning into '/Users/dboehler/Library/CloudStorage/OneDrive-th-deg.de/Teaching/22S/SWEN/excercises/Chapter_08/08-07_variable-length-quantity'...\n",
      "warning: You appear to have cloned an empty repository.\n",
      "fatal: You are on a branch yet to be born\n",
      "fatal: unable to checkout submodule 'excercises/Chapter_08/08-07_variable-length-quantity'\n"
     ]
    },
    {
     "name": "stdout",
     "output_type": "stream",
     "text": [
      "[main (root-commit) d765be2] initial\n",
      " 5 files changed, 189 insertions(+)\n",
      " create mode 100644 .docs/instructions.append.md\n",
      " create mode 100644 .docs/instructions.md\n",
      " create mode 120000 README.md\n",
      " create mode 100644 variable_length_quantity.py\n",
      " create mode 100644 variable_length_quantity_test.py\n"
     ]
    },
    {
     "name": "stderr",
     "output_type": "stream",
     "text": [
      "To github.com:DB-Teaching/08-07_variable-length-quantity\n",
      " * [new branch]      main -> main\n"
     ]
    },
    {
     "name": "stdout",
     "output_type": "stream",
     "text": [
      "https://github.com/DB-Teaching/08-08_largest-series-product\n"
     ]
    },
    {
     "name": "stderr",
     "output_type": "stream",
     "text": [
      "Cloning into '/Users/dboehler/Library/CloudStorage/OneDrive-th-deg.de/Teaching/22S/SWEN/excercises/Chapter_08/08-08_largest-series-product'...\n",
      "warning: You appear to have cloned an empty repository.\n",
      "fatal: You are on a branch yet to be born\n",
      "fatal: unable to checkout submodule 'excercises/Chapter_08/08-08_largest-series-product'\n"
     ]
    },
    {
     "name": "stdout",
     "output_type": "stream",
     "text": [
      "[main (root-commit) 3470581] initial\n",
      " 5 files changed, 120 insertions(+)\n",
      " create mode 100644 .docs/instructions.append.md\n",
      " create mode 100644 .docs/instructions.md\n",
      " create mode 120000 README.md\n",
      " create mode 100644 largest_series_product.py\n",
      " create mode 100644 largest_series_product_test.py\n"
     ]
    },
    {
     "name": "stderr",
     "output_type": "stream",
     "text": [
      "To github.com:DB-Teaching/08-08_largest-series-product\n",
      " * [new branch]      main -> main\n"
     ]
    },
    {
     "name": "stdout",
     "output_type": "stream",
     "text": [
      "https://github.com/DB-Teaching/08-09_ocr-numbers\n"
     ]
    },
    {
     "name": "stderr",
     "output_type": "stream",
     "text": [
      "Cloning into '/Users/dboehler/Library/CloudStorage/OneDrive-th-deg.de/Teaching/22S/SWEN/excercises/Chapter_08/08-09_ocr-numbers'...\n",
      "warning: You appear to have cloned an empty repository.\n",
      "fatal: You are on a branch yet to be born\n",
      "fatal: unable to checkout submodule 'excercises/Chapter_08/08-09_ocr-numbers'\n"
     ]
    },
    {
     "name": "stdout",
     "output_type": "stream",
     "text": [
      "[main (root-commit) 56f9571] initial\n",
      " 5 files changed, 224 insertions(+)\n",
      " create mode 100644 .docs/instructions.append.md\n",
      " create mode 100644 .docs/instructions.md\n",
      " create mode 120000 README.md\n",
      " create mode 100644 ocr_numbers.py\n",
      " create mode 100644 ocr_numbers_test.py\n"
     ]
    },
    {
     "name": "stderr",
     "output_type": "stream",
     "text": [
      "To github.com:DB-Teaching/08-09_ocr-numbers\n",
      " * [new branch]      main -> main\n"
     ]
    },
    {
     "name": "stdout",
     "output_type": "stream",
     "text": [
      "https://github.com/DB-Teaching/08-10_rail-fence-cipher\n"
     ]
    },
    {
     "name": "stderr",
     "output_type": "stream",
     "text": [
      "Cloning into '/Users/dboehler/Library/CloudStorage/OneDrive-th-deg.de/Teaching/22S/SWEN/excercises/Chapter_08/08-10_rail-fence-cipher'...\n",
      "warning: You appear to have cloned an empty repository.\n",
      "fatal: You are on a branch yet to be born\n",
      "fatal: unable to checkout submodule 'excercises/Chapter_08/08-10_rail-fence-cipher'\n"
     ]
    },
    {
     "name": "stdout",
     "output_type": "stream",
     "text": [
      "[main (root-commit) 3cb7685] initial\n",
      " 4 files changed, 105 insertions(+)\n",
      " create mode 100644 .docs/instructions.md\n",
      " create mode 120000 README.md\n",
      " create mode 100644 rail_fence_cipher.py\n",
      " create mode 100644 rail_fence_cipher_test.py\n"
     ]
    },
    {
     "name": "stderr",
     "output_type": "stream",
     "text": [
      "To github.com:DB-Teaching/08-10_rail-fence-cipher\n",
      " * [new branch]      main -> main\n"
     ]
    },
    {
     "name": "stdout",
     "output_type": "stream",
     "text": [
      "https://github.com/DB-Teaching/08-11_food-chain\n"
     ]
    },
    {
     "name": "stderr",
     "output_type": "stream",
     "text": [
      "Cloning into '/Users/dboehler/Library/CloudStorage/OneDrive-th-deg.de/Teaching/22S/SWEN/excercises/Chapter_08/08-11_food-chain'...\n",
      "warning: You appear to have cloned an empty repository.\n",
      "fatal: You are on a branch yet to be born\n",
      "fatal: unable to checkout submodule 'excercises/Chapter_08/08-11_food-chain'\n"
     ]
    },
    {
     "name": "stdout",
     "output_type": "stream",
     "text": [
      "[main (root-commit) 9719e98] initial\n",
      " 4 files changed, 253 insertions(+)\n",
      " create mode 100644 .docs/instructions.md\n",
      " create mode 120000 README.md\n",
      " create mode 100644 food_chain.py\n",
      " create mode 100644 food_chain_test.py\n"
     ]
    },
    {
     "name": "stderr",
     "output_type": "stream",
     "text": [
      "To github.com:DB-Teaching/08-11_food-chain\n",
      " * [new branch]      main -> main\n"
     ]
    },
    {
     "name": "stdout",
     "output_type": "stream",
     "text": [
      "https://github.com/DB-Teaching/08-12_saddle-points\n"
     ]
    },
    {
     "name": "stderr",
     "output_type": "stream",
     "text": [
      "Cloning into '/Users/dboehler/Library/CloudStorage/OneDrive-th-deg.de/Teaching/22S/SWEN/excercises/Chapter_08/08-12_saddle-points'...\n",
      "warning: You appear to have cloned an empty repository.\n",
      "fatal: You are on a branch yet to be born\n",
      "fatal: unable to checkout submodule 'excercises/Chapter_08/08-12_saddle-points'\n"
     ]
    },
    {
     "name": "stdout",
     "output_type": "stream",
     "text": [
      "[main (root-commit) 90db246] initial\n",
      " 5 files changed, 148 insertions(+)\n",
      " create mode 100644 .docs/instructions.append.md\n",
      " create mode 100644 .docs/instructions.md\n",
      " create mode 120000 README.md\n",
      " create mode 100644 saddle_points.py\n",
      " create mode 100644 saddle_points_test.py\n"
     ]
    },
    {
     "name": "stderr",
     "output_type": "stream",
     "text": [
      "To github.com:DB-Teaching/08-12_saddle-points\n",
      " * [new branch]      main -> main\n"
     ]
    },
    {
     "name": "stdout",
     "output_type": "stream",
     "text": [
      "https://github.com/DB-Teaching/08-13_protein-translation\n"
     ]
    },
    {
     "name": "stderr",
     "output_type": "stream",
     "text": [
      "Cloning into '/Users/dboehler/Library/CloudStorage/OneDrive-th-deg.de/Teaching/22S/SWEN/excercises/Chapter_08/08-13_protein-translation'...\n",
      "warning: You appear to have cloned an empty repository.\n",
      "fatal: You are on a branch yet to be born\n",
      "fatal: unable to checkout submodule 'excercises/Chapter_08/08-13_protein-translation'\n"
     ]
    },
    {
     "name": "stdout",
     "output_type": "stream",
     "text": [
      "[main (root-commit) 8635430] initial\n",
      " 4 files changed, 173 insertions(+)\n",
      " create mode 100644 .docs/instructions.md\n",
      " create mode 120000 README.md\n",
      " create mode 100644 protein_translation.py\n",
      " create mode 100644 protein_translation_test.py\n"
     ]
    },
    {
     "name": "stderr",
     "output_type": "stream",
     "text": [
      "To github.com:DB-Teaching/08-13_protein-translation\n",
      " * [new branch]      main -> main\n"
     ]
    },
    {
     "name": "stdout",
     "output_type": "stream",
     "text": [
      "https://github.com/DB-Teaching/08-14_acronym\n"
     ]
    },
    {
     "name": "stderr",
     "output_type": "stream",
     "text": [
      "Cloning into '/Users/dboehler/Library/CloudStorage/OneDrive-th-deg.de/Teaching/22S/SWEN/excercises/Chapter_08/08-14_acronym'...\n",
      "warning: You appear to have cloned an empty repository.\n",
      "fatal: You are on a branch yet to be born\n",
      "fatal: unable to checkout submodule 'excercises/Chapter_08/08-14_acronym'\n"
     ]
    },
    {
     "name": "stdout",
     "output_type": "stream",
     "text": [
      "[main (root-commit) 338edc9] initial\n",
      " 4 files changed, 56 insertions(+)\n",
      " create mode 100644 .docs/instructions.md\n",
      " create mode 120000 README.md\n",
      " create mode 100644 acronym.py\n",
      " create mode 100644 acronym_test.py\n"
     ]
    },
    {
     "name": "stderr",
     "output_type": "stream",
     "text": [
      "To github.com:DB-Teaching/08-14_acronym\n",
      " * [new branch]      main -> main\n"
     ]
    },
    {
     "name": "stdout",
     "output_type": "stream",
     "text": [
      "https://github.com/DB-Teaching/08-15_scrabble-score\n"
     ]
    },
    {
     "name": "stderr",
     "output_type": "stream",
     "text": [
      "Cloning into '/Users/dboehler/Library/CloudStorage/OneDrive-th-deg.de/Teaching/22S/SWEN/excercises/Chapter_08/08-15_scrabble-score'...\n",
      "warning: You appear to have cloned an empty repository.\n",
      "fatal: You are on a branch yet to be born\n",
      "fatal: unable to checkout submodule 'excercises/Chapter_08/08-15_scrabble-score'\n"
     ]
    },
    {
     "name": "stdout",
     "output_type": "stream",
     "text": [
      "[main (root-commit) b10f710] initial\n",
      " 4 files changed, 89 insertions(+)\n",
      " create mode 100644 .docs/instructions.md\n",
      " create mode 120000 README.md\n",
      " create mode 100644 scrabble_score.py\n",
      " create mode 100644 scrabble_score_test.py\n"
     ]
    },
    {
     "name": "stderr",
     "output_type": "stream",
     "text": [
      "To github.com:DB-Teaching/08-15_scrabble-score\n",
      " * [new branch]      main -> main\n"
     ]
    },
    {
     "name": "stdout",
     "output_type": "stream",
     "text": [
      "https://github.com/DB-Teaching/08-16_markdown\n"
     ]
    },
    {
     "name": "stderr",
     "output_type": "stream",
     "text": [
      "Cloning into '/Users/dboehler/Library/CloudStorage/OneDrive-th-deg.de/Teaching/22S/SWEN/excercises/Chapter_08/08-16_markdown'...\n",
      "warning: You appear to have cloned an empty repository.\n",
      "fatal: You are on a branch yet to be born\n",
      "fatal: unable to checkout submodule 'excercises/Chapter_08/08-16_markdown'\n"
     ]
    },
    {
     "name": "stdout",
     "output_type": "stream",
     "text": [
      "[main (root-commit) eb7c589] initial\n",
      " 4 files changed, 194 insertions(+)\n",
      " create mode 100644 .docs/instructions.md\n",
      " create mode 120000 README.md\n",
      " create mode 100644 markdown.py\n",
      " create mode 100644 markdown_test.py\n"
     ]
    },
    {
     "name": "stderr",
     "output_type": "stream",
     "text": [
      "To github.com:DB-Teaching/08-16_markdown\n",
      " * [new branch]      main -> main\n"
     ]
    },
    {
     "name": "stdout",
     "output_type": "stream",
     "text": [
      "https://github.com/DB-Teaching/08-17_isogram\n"
     ]
    },
    {
     "name": "stderr",
     "output_type": "stream",
     "text": [
      "Cloning into '/Users/dboehler/Library/CloudStorage/OneDrive-th-deg.de/Teaching/22S/SWEN/excercises/Chapter_08/08-17_isogram'...\n",
      "warning: You appear to have cloned an empty repository.\n",
      "fatal: You are on a branch yet to be born\n",
      "fatal: unable to checkout submodule 'excercises/Chapter_08/08-17_isogram'\n"
     ]
    },
    {
     "name": "stdout",
     "output_type": "stream",
     "text": [
      "[main (root-commit) 9593a6d] initial\n",
      " 4 files changed, 68 insertions(+)\n",
      " create mode 100644 .docs/instructions.md\n",
      " create mode 120000 README.md\n",
      " create mode 100644 isogram.py\n",
      " create mode 100644 isogram_test.py\n"
     ]
    },
    {
     "name": "stderr",
     "output_type": "stream",
     "text": [
      "To github.com:DB-Teaching/08-17_isogram\n",
      " * [new branch]      main -> main\n"
     ]
    },
    {
     "name": "stdout",
     "output_type": "stream",
     "text": [
      "https://github.com/DB-Teaching/08-18_word-count\n"
     ]
    },
    {
     "name": "stderr",
     "output_type": "stream",
     "text": [
      "Cloning into '/Users/dboehler/Library/CloudStorage/OneDrive-th-deg.de/Teaching/22S/SWEN/excercises/Chapter_08/08-18_word-count'...\n",
      "warning: You appear to have cloned an empty repository.\n",
      "fatal: You are on a branch yet to be born\n",
      "fatal: unable to checkout submodule 'excercises/Chapter_08/08-18_word-count'\n"
     ]
    },
    {
     "name": "stdout",
     "output_type": "stream",
     "text": [
      "[main (root-commit) 3a171ae] initial\n",
      " 4 files changed, 149 insertions(+)\n",
      " create mode 100644 .docs/instructions.md\n",
      " create mode 120000 README.md\n",
      " create mode 100644 word_count.py\n",
      " create mode 100644 word_count_test.py\n"
     ]
    },
    {
     "name": "stderr",
     "output_type": "stream",
     "text": [
      "To github.com:DB-Teaching/08-18_word-count\n",
      " * [new branch]      main -> main\n"
     ]
    },
    {
     "name": "stdout",
     "output_type": "stream",
     "text": [
      "https://github.com/DB-Teaching/09-01_affine-cipher\n"
     ]
    },
    {
     "name": "stderr",
     "output_type": "stream",
     "text": [
      "Cloning into '/Users/dboehler/Library/CloudStorage/OneDrive-th-deg.de/Teaching/22S/SWEN/excercises/Chapter_09/09-01_affine-cipher'...\n",
      "warning: You appear to have cloned an empty repository.\n",
      "fatal: You are on a branch yet to be born\n",
      "fatal: unable to checkout submodule 'excercises/Chapter_09/09-01_affine-cipher'\n"
     ]
    },
    {
     "name": "stdout",
     "output_type": "stream",
     "text": [
      "[main (root-commit) dad14bb] initial\n",
      " 5 files changed, 170 insertions(+)\n",
      " create mode 100644 .docs/instructions.append.md\n",
      " create mode 100644 .docs/instructions.md\n",
      " create mode 120000 README.md\n",
      " create mode 100644 affine_cipher.py\n",
      " create mode 100644 affine_cipher_test.py\n"
     ]
    },
    {
     "name": "stderr",
     "output_type": "stream",
     "text": [
      "To github.com:DB-Teaching/09-01_affine-cipher\n",
      " * [new branch]      main -> main\n"
     ]
    },
    {
     "name": "stdout",
     "output_type": "stream",
     "text": [
      "https://github.com/DB-Teaching/09-02_binary-search-tree\n"
     ]
    },
    {
     "name": "stderr",
     "output_type": "stream",
     "text": [
      "Cloning into '/Users/dboehler/Library/CloudStorage/OneDrive-th-deg.de/Teaching/22S/SWEN/excercises/Chapter_09/09-02_binary-search-tree'...\n",
      "warning: You appear to have cloned an empty repository.\n",
      "fatal: You are on a branch yet to be born\n",
      "fatal: unable to checkout submodule 'excercises/Chapter_09/09-02_binary-search-tree'\n"
     ]
    },
    {
     "name": "stdout",
     "output_type": "stream",
     "text": [
      "[main (root-commit) 5cff3e1] initial\n",
      " 4 files changed, 162 insertions(+)\n",
      " create mode 100644 .docs/instructions.md\n",
      " create mode 120000 README.md\n",
      " create mode 100644 binary_search_tree.py\n",
      " create mode 100644 binary_search_tree_test.py\n"
     ]
    },
    {
     "name": "stderr",
     "output_type": "stream",
     "text": [
      "To github.com:DB-Teaching/09-02_binary-search-tree\n",
      " * [new branch]      main -> main\n"
     ]
    },
    {
     "name": "stdout",
     "output_type": "stream",
     "text": [
      "https://github.com/DB-Teaching/09-03_book-store\n"
     ]
    },
    {
     "name": "stderr",
     "output_type": "stream",
     "text": [
      "Cloning into '/Users/dboehler/Library/CloudStorage/OneDrive-th-deg.de/Teaching/22S/SWEN/excercises/Chapter_09/09-03_book-store'...\n",
      "warning: You appear to have cloned an empty repository.\n",
      "fatal: You are on a branch yet to be born\n",
      "fatal: unable to checkout submodule 'excercises/Chapter_09/09-03_book-store'\n"
     ]
    },
    {
     "name": "stdout",
     "output_type": "stream",
     "text": [
      "[main (root-commit) 5c9e928] initial\n",
      " 4 files changed, 172 insertions(+)\n",
      " create mode 100644 .docs/instructions.md\n",
      " create mode 120000 README.md\n",
      " create mode 100644 book_store.py\n",
      " create mode 100644 book_store_test.py\n"
     ]
    },
    {
     "name": "stderr",
     "output_type": "stream",
     "text": [
      "To github.com:DB-Teaching/09-03_book-store\n",
      " * [new branch]      main -> main\n"
     ]
    },
    {
     "name": "stdout",
     "output_type": "stream",
     "text": [
      "https://github.com/DB-Teaching/09-04_bowling\n"
     ]
    },
    {
     "name": "stderr",
     "output_type": "stream",
     "text": [
      "Cloning into '/Users/dboehler/Library/CloudStorage/OneDrive-th-deg.de/Teaching/22S/SWEN/excercises/Chapter_09/09-04_bowling'...\n",
      "warning: You appear to have cloned an empty repository.\n",
      "fatal: You are on a branch yet to be born\n",
      "fatal: unable to checkout submodule 'excercises/Chapter_09/09-04_bowling'\n"
     ]
    },
    {
     "name": "stdout",
     "output_type": "stream",
     "text": [
      "[main (root-commit) a481c8f] initial\n",
      " 6 files changed, 298 insertions(+)\n",
      " create mode 100644 .docs/instructions.append.md\n",
      " create mode 100644 .docs/instructions.md\n",
      " create mode 100644 .gitignore\n",
      " create mode 120000 README.md\n",
      " create mode 100644 bowling.py\n",
      " create mode 100644 bowling_test.py\n"
     ]
    },
    {
     "name": "stderr",
     "output_type": "stream",
     "text": [
      "To github.com:DB-Teaching/09-04_bowling\n",
      " * [new branch]      main -> main\n"
     ]
    },
    {
     "name": "stdout",
     "output_type": "stream",
     "text": [
      "https://github.com/DB-Teaching/09-05_custom-set\n"
     ]
    },
    {
     "name": "stderr",
     "output_type": "stream",
     "text": [
      "Cloning into '/Users/dboehler/Library/CloudStorage/OneDrive-th-deg.de/Teaching/22S/SWEN/excercises/Chapter_09/09-05_custom-set'...\n",
      "warning: You appear to have cloned an empty repository.\n",
      "fatal: You are on a branch yet to be born\n",
      "fatal: unable to checkout submodule 'excercises/Chapter_09/09-05_custom-set'\n"
     ]
    },
    {
     "name": "stdout",
     "output_type": "stream",
     "text": [
      "[main (root-commit) 9a93a68] initial\n",
      " 4 files changed, 257 insertions(+)\n",
      " create mode 100644 .docs/instructions.md\n",
      " create mode 120000 README.md\n",
      " create mode 100644 custom_set.py\n",
      " create mode 100644 custom_set_test.py\n"
     ]
    },
    {
     "name": "stderr",
     "output_type": "stream",
     "text": [
      "To github.com:DB-Teaching/09-05_custom-set\n",
      " * [new branch]      main -> main\n"
     ]
    },
    {
     "name": "stdout",
     "output_type": "stream",
     "text": [
      "https://github.com/DB-Teaching/09-06_dot-dsl\n"
     ]
    },
    {
     "name": "stderr",
     "output_type": "stream",
     "text": [
      "Cloning into '/Users/dboehler/Library/CloudStorage/OneDrive-th-deg.de/Teaching/22S/SWEN/excercises/Chapter_09/09-06_dot-dsl'...\n",
      "warning: You appear to have cloned an empty repository.\n",
      "fatal: You are on a branch yet to be born\n",
      "fatal: unable to checkout submodule 'excercises/Chapter_09/09-06_dot-dsl'\n"
     ]
    },
    {
     "name": "stdout",
     "output_type": "stream",
     "text": [
      "[main (root-commit) e1b86cc] initial\n",
      " 5 files changed, 213 insertions(+)\n",
      " create mode 100644 .docs/instructions.append.md\n",
      " create mode 100644 .docs/instructions.md\n",
      " create mode 120000 README.md\n",
      " create mode 100644 dot_dsl.py\n",
      " create mode 100644 dot_dsl_test.py\n"
     ]
    },
    {
     "name": "stderr",
     "output_type": "stream",
     "text": [
      "To github.com:DB-Teaching/09-06_dot-dsl\n",
      " * [new branch]      main -> main\n"
     ]
    },
    {
     "name": "stdout",
     "output_type": "stream",
     "text": [
      "https://github.com/DB-Teaching/09-07_forth\n"
     ]
    },
    {
     "name": "stderr",
     "output_type": "stream",
     "text": [
      "Cloning into '/Users/dboehler/Library/CloudStorage/OneDrive-th-deg.de/Teaching/22S/SWEN/excercises/Chapter_09/09-07_forth'...\n",
      "warning: You appear to have cloned an empty repository.\n",
      "fatal: You are on a branch yet to be born\n",
      "fatal: unable to checkout submodule 'excercises/Chapter_09/09-07_forth'\n"
     ]
    },
    {
     "name": "stdout",
     "output_type": "stream",
     "text": [
      "[main (root-commit) 13d2bca] initial\n",
      " 5 files changed, 310 insertions(+)\n",
      " create mode 100644 .docs/instructions.append.md\n",
      " create mode 100644 .docs/instructions.md\n",
      " create mode 120000 README.md\n",
      " create mode 100644 forth.py\n",
      " create mode 100644 forth_test.py\n"
     ]
    },
    {
     "name": "stderr",
     "output_type": "stream",
     "text": [
      "To github.com:DB-Teaching/09-07_forth\n",
      " * [new branch]      main -> main\n"
     ]
    },
    {
     "name": "stdout",
     "output_type": "stream",
     "text": [
      "https://github.com/DB-Teaching/09-08_hangman\n"
     ]
    },
    {
     "name": "stderr",
     "output_type": "stream",
     "text": [
      "Cloning into '/Users/dboehler/Library/CloudStorage/OneDrive-th-deg.de/Teaching/22S/SWEN/excercises/Chapter_09/09-08_hangman'...\n",
      "warning: You appear to have cloned an empty repository.\n",
      "fatal: You are on a branch yet to be born\n",
      "fatal: unable to checkout submodule 'excercises/Chapter_09/09-08_hangman'\n"
     ]
    },
    {
     "name": "stdout",
     "output_type": "stream",
     "text": [
      "[main (root-commit) 0092a96] initial\n",
      " 5 files changed, 155 insertions(+)\n",
      " create mode 100644 .docs/instructions.append.md\n",
      " create mode 100644 .docs/instructions.md\n",
      " create mode 120000 README.md\n",
      " create mode 100644 hangman.py\n",
      " create mode 100644 hangman_test.py\n"
     ]
    },
    {
     "name": "stderr",
     "output_type": "stream",
     "text": [
      "To github.com:DB-Teaching/09-08_hangman\n",
      " * [new branch]      main -> main\n"
     ]
    },
    {
     "name": "stdout",
     "output_type": "stream",
     "text": [
      "https://github.com/DB-Teaching/09-09_knapsack\n"
     ]
    },
    {
     "name": "stderr",
     "output_type": "stream",
     "text": [
      "Cloning into '/Users/dboehler/Library/CloudStorage/OneDrive-th-deg.de/Teaching/22S/SWEN/excercises/Chapter_09/09-09_knapsack'...\n",
      "warning: You appear to have cloned an empty repository.\n",
      "fatal: You are on a branch yet to be born\n",
      "fatal: unable to checkout submodule 'excercises/Chapter_09/09-09_knapsack'\n"
     ]
    },
    {
     "name": "stdout",
     "output_type": "stream",
     "text": [
      "[main (root-commit) 5ffad34] initial\n",
      " 4 files changed, 146 insertions(+)\n",
      " create mode 100644 .docs/instructions.md\n",
      " create mode 120000 README.md\n",
      " create mode 100644 knapsack.py\n",
      " create mode 100644 knapsack_test.py\n"
     ]
    },
    {
     "name": "stderr",
     "output_type": "stream",
     "text": [
      "To github.com:DB-Teaching/09-09_knapsack\n",
      " * [new branch]      main -> main\n"
     ]
    },
    {
     "name": "stdout",
     "output_type": "stream",
     "text": [
      "https://github.com/DB-Teaching/10-01_ledger\n"
     ]
    },
    {
     "name": "stderr",
     "output_type": "stream",
     "text": [
      "Cloning into '/Users/dboehler/Library/CloudStorage/OneDrive-th-deg.de/Teaching/22S/SWEN/excercises/Chapter_10/10-01_ledger'...\n",
      "warning: You appear to have cloned an empty repository.\n",
      "fatal: You are on a branch yet to be born\n",
      "fatal: unable to checkout submodule 'excercises/Chapter_10/10-01_ledger'\n"
     ]
    },
    {
     "name": "stdout",
     "output_type": "stream",
     "text": [
      "[main (root-commit) 080c816] initial\n",
      " 4 files changed, 461 insertions(+)\n",
      " create mode 100644 .docs/instructions.md\n",
      " create mode 120000 README.md\n",
      " create mode 100644 ledger.py\n",
      " create mode 100644 ledger_test.py\n"
     ]
    },
    {
     "name": "stderr",
     "output_type": "stream",
     "text": [
      "To github.com:DB-Teaching/10-01_ledger\n",
      " * [new branch]      main -> main\n"
     ]
    },
    {
     "name": "stdout",
     "output_type": "stream",
     "text": [
      "https://github.com/DB-Teaching/10-02_rational-numbers\n"
     ]
    },
    {
     "name": "stderr",
     "output_type": "stream",
     "text": [
      "Cloning into '/Users/dboehler/Library/CloudStorage/OneDrive-th-deg.de/Teaching/22S/SWEN/excercises/Chapter_10/10-02_rational-numbers'...\n",
      "warning: You appear to have cloned an empty repository.\n",
      "fatal: You are on a branch yet to be born\n",
      "fatal: unable to checkout submodule 'excercises/Chapter_10/10-02_rational-numbers'\n"
     ]
    },
    {
     "name": "stdout",
     "output_type": "stream",
     "text": [
      "[main (root-commit) b3f7bd5] initial\n",
      " 4 files changed, 218 insertions(+)\n",
      " create mode 100644 .docs/instructions.md\n",
      " create mode 120000 README.md\n",
      " create mode 100644 rational_numbers.py\n",
      " create mode 100644 rational_numbers_test.py\n"
     ]
    },
    {
     "name": "stderr",
     "output_type": "stream",
     "text": [
      "To github.com:DB-Teaching/10-02_rational-numbers\n",
      " * [new branch]      main -> main\n"
     ]
    },
    {
     "name": "stdout",
     "output_type": "stream",
     "text": [
      "https://github.com/DB-Teaching/10-03_tournament\n"
     ]
    },
    {
     "name": "stderr",
     "output_type": "stream",
     "text": [
      "Cloning into '/Users/dboehler/Library/CloudStorage/OneDrive-th-deg.de/Teaching/22S/SWEN/excercises/Chapter_10/10-03_tournament'...\n",
      "warning: You appear to have cloned an empty repository.\n",
      "fatal: You are on a branch yet to be born\n",
      "fatal: unable to checkout submodule 'excercises/Chapter_10/10-03_tournament'\n"
     ]
    },
    {
     "name": "stdout",
     "output_type": "stream",
     "text": [
      "[main (root-commit) 8118ff2] initial\n",
      " 4 files changed, 221 insertions(+)\n",
      " create mode 100644 .docs/instructions.md\n",
      " create mode 120000 README.md\n",
      " create mode 100644 tournament.py\n",
      " create mode 100644 tournament_test.py\n"
     ]
    },
    {
     "name": "stderr",
     "output_type": "stream",
     "text": [
      "To github.com:DB-Teaching/10-03_tournament\n",
      " * [new branch]      main -> main\n"
     ]
    },
    {
     "name": "stdout",
     "output_type": "stream",
     "text": [
      "https://github.com/DB-Teaching/10-04_twelve-days\n"
     ]
    },
    {
     "name": "stderr",
     "output_type": "stream",
     "text": [
      "Cloning into '/Users/dboehler/Library/CloudStorage/OneDrive-th-deg.de/Teaching/22S/SWEN/excercises/Chapter_10/10-04_twelve-days'...\n",
      "warning: You appear to have cloned an empty repository.\n",
      "fatal: You are on a branch yet to be born\n",
      "fatal: unable to checkout submodule 'excercises/Chapter_10/10-04_twelve-days'\n"
     ]
    },
    {
     "name": "stdout",
     "output_type": "stream",
     "text": [
      "[main (root-commit) a963e1b] initial\n",
      " 4 files changed, 206 insertions(+)\n",
      " create mode 100644 .docs/instructions.md\n",
      " create mode 120000 README.md\n",
      " create mode 100644 twelve_days.py\n",
      " create mode 100644 twelve_days_test.py\n"
     ]
    },
    {
     "name": "stderr",
     "output_type": "stream",
     "text": [
      "To github.com:DB-Teaching/10-04_twelve-days\n",
      " * [new branch]      main -> main\n"
     ]
    },
    {
     "name": "stdout",
     "output_type": "stream",
     "text": [
      "https://github.com/DB-Teaching/10-05_two-bucket\n"
     ]
    },
    {
     "name": "stderr",
     "output_type": "stream",
     "text": [
      "Cloning into '/Users/dboehler/Library/CloudStorage/OneDrive-th-deg.de/Teaching/22S/SWEN/excercises/Chapter_10/10-05_two-bucket'...\n",
      "warning: You appear to have cloned an empty repository.\n",
      "fatal: You are on a branch yet to be born\n",
      "fatal: unable to checkout submodule 'excercises/Chapter_10/10-05_two-bucket'\n"
     ]
    },
    {
     "name": "stdout",
     "output_type": "stream",
     "text": [
      "[main (root-commit) 8225bdc] initial\n",
      " 4 files changed, 76 insertions(+)\n",
      " create mode 100644 .docs/instructions.md\n",
      " create mode 120000 README.md\n",
      " create mode 100644 two_bucket.py\n",
      " create mode 100644 two_bucket_test.py\n"
     ]
    },
    {
     "name": "stderr",
     "output_type": "stream",
     "text": [
      "To github.com:DB-Teaching/10-05_two-bucket\n",
      " * [new branch]      main -> main\n"
     ]
    },
    {
     "name": "stdout",
     "output_type": "stream",
     "text": [
      "https://github.com/DB-Teaching/10-06_zebra-puzzle\n"
     ]
    },
    {
     "name": "stderr",
     "output_type": "stream",
     "text": [
      "Cloning into '/Users/dboehler/Library/CloudStorage/OneDrive-th-deg.de/Teaching/22S/SWEN/excercises/Chapter_10/10-06_zebra-puzzle'...\n",
      "warning: You appear to have cloned an empty repository.\n",
      "fatal: You are on a branch yet to be born\n",
      "fatal: unable to checkout submodule 'excercises/Chapter_10/10-06_zebra-puzzle'\n"
     ]
    },
    {
     "name": "stdout",
     "output_type": "stream",
     "text": [
      "[main (root-commit) 12ac274] initial\n",
      " 4 files changed, 53 insertions(+)\n",
      " create mode 100644 .docs/instructions.md\n",
      " create mode 120000 README.md\n",
      " create mode 100644 zebra_puzzle.py\n",
      " create mode 100644 zebra_puzzle_test.py\n"
     ]
    },
    {
     "name": "stderr",
     "output_type": "stream",
     "text": [
      "To github.com:DB-Teaching/10-06_zebra-puzzle\n",
      " * [new branch]      main -> main\n"
     ]
    },
    {
     "name": "stdout",
     "output_type": "stream",
     "text": [
      "https://github.com/DB-Teaching/10-07_alphametics\n"
     ]
    },
    {
     "name": "stderr",
     "output_type": "stream",
     "text": [
      "Cloning into '/Users/dboehler/Library/CloudStorage/OneDrive-th-deg.de/Teaching/22S/SWEN/excercises/Chapter_10/10-07_alphametics'...\n",
      "warning: You appear to have cloned an empty repository.\n",
      "fatal: You are on a branch yet to be born\n",
      "fatal: unable to checkout submodule 'excercises/Chapter_10/10-07_alphametics'\n"
     ]
    },
    {
     "name": "stdout",
     "output_type": "stream",
     "text": [
      "[main (root-commit) 5f7d4c8] initial\n",
      " 4 files changed, 147 insertions(+)\n",
      " create mode 100644 .docs/instructions.md\n",
      " create mode 120000 README.md\n",
      " create mode 100644 alphametics.py\n",
      " create mode 100644 alphametics_test.py\n"
     ]
    },
    {
     "name": "stderr",
     "output_type": "stream",
     "text": [
      "To github.com:DB-Teaching/10-07_alphametics\n",
      " * [new branch]      main -> main\n"
     ]
    },
    {
     "name": "stdout",
     "output_type": "stream",
     "text": [
      "https://github.com/DB-Teaching/10-08_react\n"
     ]
    },
    {
     "name": "stderr",
     "output_type": "stream",
     "text": [
      "Cloning into '/Users/dboehler/Library/CloudStorage/OneDrive-th-deg.de/Teaching/22S/SWEN/excercises/Chapter_10/10-08_react'...\n",
      "warning: You appear to have cloned an empty repository.\n",
      "fatal: You are on a branch yet to be born\n",
      "fatal: unable to checkout submodule 'excercises/Chapter_10/10-08_react'\n"
     ]
    },
    {
     "name": "stdout",
     "output_type": "stream",
     "text": [
      "[main (root-commit) 75595ea] initial\n",
      " 4 files changed, 233 insertions(+)\n",
      " create mode 100644 .docs/instructions.md\n",
      " create mode 120000 README.md\n",
      " create mode 100644 react.py\n",
      " create mode 100644 react_test.py\n"
     ]
    },
    {
     "name": "stderr",
     "output_type": "stream",
     "text": [
      "To github.com:DB-Teaching/10-08_react\n",
      " * [new branch]      main -> main\n"
     ]
    },
    {
     "name": "stdout",
     "output_type": "stream",
     "text": [
      "https://github.com/DB-Teaching/11-01_word-search\n"
     ]
    },
    {
     "name": "stderr",
     "output_type": "stream",
     "text": [
      "Cloning into '/Users/dboehler/Library/CloudStorage/OneDrive-th-deg.de/Teaching/22S/SWEN/excercises/Chapter_11/11-01_word-search'...\n",
      "warning: You appear to have cloned an empty repository.\n",
      "fatal: You are on a branch yet to be born\n",
      "fatal: unable to checkout submodule 'excercises/Chapter_11/11-01_word-search'\n"
     ]
    },
    {
     "name": "stdout",
     "output_type": "stream",
     "text": [
      "[main (root-commit) 111af4e] initial\n",
      " 4 files changed, 338 insertions(+)\n",
      " create mode 100644 .docs/instructions.md\n",
      " create mode 120000 README.md\n",
      " create mode 100644 word_search.py\n",
      " create mode 100644 word_search_test.py\n"
     ]
    },
    {
     "name": "stderr",
     "output_type": "stream",
     "text": [
      "To github.com:DB-Teaching/11-01_word-search\n",
      " * [new branch]      main -> main\n"
     ]
    },
    {
     "name": "stdout",
     "output_type": "stream",
     "text": [
      "https://github.com/DB-Teaching/11-02_zipper\n"
     ]
    },
    {
     "name": "stderr",
     "output_type": "stream",
     "text": [
      "Cloning into '/Users/dboehler/Library/CloudStorage/OneDrive-th-deg.de/Teaching/22S/SWEN/excercises/Chapter_11/11-02_zipper'...\n",
      "warning: You appear to have cloned an empty repository.\n",
      "fatal: You are on a branch yet to be born\n",
      "fatal: unable to checkout submodule 'excercises/Chapter_11/11-02_zipper'\n"
     ]
    },
    {
     "name": "stdout",
     "output_type": "stream",
     "text": [
      "[main (root-commit) 8efc068] initial\n",
      " 4 files changed, 363 insertions(+)\n",
      " create mode 100644 .docs/instructions.md\n",
      " create mode 120000 README.md\n",
      " create mode 100644 zipper.py\n",
      " create mode 100644 zipper_test.py\n"
     ]
    },
    {
     "name": "stderr",
     "output_type": "stream",
     "text": [
      "To github.com:DB-Teaching/11-02_zipper\n",
      " * [new branch]      main -> main\n"
     ]
    },
    {
     "name": "stdout",
     "output_type": "stream",
     "text": [
      "https://github.com/DB-Teaching/11-03_dominoes\n"
     ]
    },
    {
     "name": "stderr",
     "output_type": "stream",
     "text": [
      "Cloning into '/Users/dboehler/Library/CloudStorage/OneDrive-th-deg.de/Teaching/22S/SWEN/excercises/Chapter_11/11-03_dominoes'...\n",
      "warning: You appear to have cloned an empty repository.\n",
      "fatal: You are on a branch yet to be born\n",
      "fatal: unable to checkout submodule 'excercises/Chapter_11/11-03_dominoes'\n"
     ]
    },
    {
     "name": "stdout",
     "output_type": "stream",
     "text": [
      "[main (root-commit) fa1c837] initial\n",
      " 4 files changed, 147 insertions(+)\n",
      " create mode 100644 .docs/instructions.md\n",
      " create mode 120000 README.md\n",
      " create mode 100644 dominoes.py\n",
      " create mode 100644 dominoes_test.py\n"
     ]
    },
    {
     "name": "stderr",
     "output_type": "stream",
     "text": [
      "To github.com:DB-Teaching/11-03_dominoes\n",
      " * [new branch]      main -> main\n"
     ]
    },
    {
     "name": "stdout",
     "output_type": "stream",
     "text": [
      "https://github.com/DB-Teaching/12-01_paasio\n"
     ]
    },
    {
     "name": "stderr",
     "output_type": "stream",
     "text": [
      "Cloning into '/Users/dboehler/Library/CloudStorage/OneDrive-th-deg.de/Teaching/22S/SWEN/excercises/Chapter_12/12-01_paasio'...\n",
      "warning: You appear to have cloned an empty repository.\n",
      "fatal: You are on a branch yet to be born\n",
      "fatal: unable to checkout submodule 'excercises/Chapter_12/12-01_paasio'\n"
     ]
    },
    {
     "name": "stdout",
     "output_type": "stream",
     "text": [
      "[main (root-commit) 25fbb0b] initial\n",
      " 5 files changed, 674 insertions(+)\n",
      " create mode 100644 .docs/instructions.md\n",
      " create mode 120000 README.md\n",
      " create mode 100644 paasio.py\n",
      " create mode 100644 paasio_test.py\n",
      " create mode 100644 test_utils.py\n"
     ]
    },
    {
     "name": "stderr",
     "output_type": "stream",
     "text": [
      "To github.com:DB-Teaching/12-01_paasio\n",
      " * [new branch]      main -> main\n"
     ]
    },
    {
     "name": "stdout",
     "output_type": "stream",
     "text": [
      "https://github.com/DB-Teaching/12-02_satellite\n"
     ]
    },
    {
     "name": "stderr",
     "output_type": "stream",
     "text": [
      "Cloning into '/Users/dboehler/Library/CloudStorage/OneDrive-th-deg.de/Teaching/22S/SWEN/excercises/Chapter_12/12-02_satellite'...\n",
      "warning: You appear to have cloned an empty repository.\n",
      "fatal: You are on a branch yet to be born\n",
      "fatal: unable to checkout submodule 'excercises/Chapter_12/12-02_satellite'\n"
     ]
    },
    {
     "name": "stdout",
     "output_type": "stream",
     "text": [
      "[main (root-commit) 18d6b96] initial\n",
      " 5 files changed, 119 insertions(+)\n",
      " create mode 100644 .docs/instructions.append.md\n",
      " create mode 100644 .docs/instructions.md\n",
      " create mode 120000 README.md\n",
      " create mode 100644 satellite.py\n",
      " create mode 100644 satellite_test.py\n"
     ]
    },
    {
     "name": "stderr",
     "output_type": "stream",
     "text": [
      "To github.com:DB-Teaching/12-02_satellite\n",
      " * [new branch]      main -> main\n"
     ]
    },
    {
     "name": "stdout",
     "output_type": "stream",
     "text": [
      "https://github.com/DB-Teaching/12-03_sgf-parsing\n"
     ]
    },
    {
     "name": "stderr",
     "output_type": "stream",
     "text": [
      "Cloning into '/Users/dboehler/Library/CloudStorage/OneDrive-th-deg.de/Teaching/22S/SWEN/excercises/Chapter_12/12-03_sgf-parsing'...\n",
      "warning: You appear to have cloned an empty repository.\n",
      "fatal: You are on a branch yet to be born\n",
      "fatal: unable to checkout submodule 'excercises/Chapter_12/12-03_sgf-parsing'\n"
     ]
    },
    {
     "name": "stdout",
     "output_type": "stream",
     "text": [
      "[main (root-commit) 35a6662] initial\n",
      " 5 files changed, 209 insertions(+)\n",
      " create mode 100644 .docs/instructions.append.md\n",
      " create mode 100644 .docs/instructions.md\n",
      " create mode 120000 README.md\n",
      " create mode 100644 sgf_parsing.py\n",
      " create mode 100644 sgf_parsing_test.py\n"
     ]
    },
    {
     "name": "stderr",
     "output_type": "stream",
     "text": [
      "To github.com:DB-Teaching/12-03_sgf-parsing\n",
      " * [new branch]      main -> main\n"
     ]
    },
    {
     "name": "stdout",
     "output_type": "stream",
     "text": [
      "https://github.com/DB-Teaching/13-01_bank-account\n"
     ]
    },
    {
     "name": "stderr",
     "output_type": "stream",
     "text": [
      "Cloning into '/Users/dboehler/Library/CloudStorage/OneDrive-th-deg.de/Teaching/22S/SWEN/excercises/Chapter_13/13-01_bank-account'...\n",
      "warning: You appear to have cloned an empty repository.\n",
      "fatal: You are on a branch yet to be born\n",
      "fatal: unable to checkout submodule 'excercises/Chapter_13/13-01_bank-account'\n"
     ]
    },
    {
     "name": "stdout",
     "output_type": "stream",
     "text": [
      "[main (root-commit) b00ae5b] initial\n",
      " 5 files changed, 229 insertions(+)\n",
      " create mode 100644 .docs/instructions.append.md\n",
      " create mode 100644 .docs/instructions.md\n",
      " create mode 120000 README.md\n",
      " create mode 100644 bank_account.py\n",
      " create mode 100644 bank_account_test.py\n"
     ]
    },
    {
     "name": "stderr",
     "output_type": "stream",
     "text": [
      "To github.com:DB-Teaching/13-01_bank-account\n",
      " * [new branch]      main -> main\n"
     ]
    },
    {
     "name": "stdout",
     "output_type": "stream",
     "text": [
      "https://github.com/DB-Teaching/14-01_pov\n"
     ]
    },
    {
     "name": "stderr",
     "output_type": "stream",
     "text": [
      "Cloning into '/Users/dboehler/Library/CloudStorage/OneDrive-th-deg.de/Teaching/22S/SWEN/excercises/Chapter_14/14-01_pov'...\n",
      "warning: You appear to have cloned an empty repository.\n",
      "fatal: You are on a branch yet to be born\n",
      "fatal: unable to checkout submodule 'excercises/Chapter_14/14-01_pov'\n"
     ]
    },
    {
     "name": "stdout",
     "output_type": "stream",
     "text": [
      "[main (root-commit) 88dd1ab] initial\n",
      " 5 files changed, 252 insertions(+)\n",
      " create mode 100644 .docs/instructions.append.md\n",
      " create mode 100644 .docs/instructions.md\n",
      " create mode 120000 README.md\n",
      " create mode 100644 pov.py\n",
      " create mode 100644 pov_test.py\n"
     ]
    },
    {
     "name": "stderr",
     "output_type": "stream",
     "text": [
      "To github.com:DB-Teaching/14-01_pov\n",
      " * [new branch]      main -> main\n"
     ]
    },
    {
     "name": "stdout",
     "output_type": "stream",
     "text": [
      "https://github.com/DB-Teaching/15-01_rest-api\n"
     ]
    },
    {
     "name": "stderr",
     "output_type": "stream",
     "text": [
      "Cloning into '/Users/dboehler/Library/CloudStorage/OneDrive-th-deg.de/Teaching/22S/SWEN/excercises/Chapter_15/15-01_rest-api'...\n",
      "warning: You appear to have cloned an empty repository.\n",
      "fatal: You are on a branch yet to be born\n",
      "fatal: unable to checkout submodule 'excercises/Chapter_15/15-01_rest-api'\n"
     ]
    },
    {
     "name": "stdout",
     "output_type": "stream",
     "text": [
      "[main (root-commit) d3a0829] initial\n",
      " 4 files changed, 215 insertions(+)\n",
      " create mode 100644 .docs/instructions.md\n",
      " create mode 120000 README.md\n",
      " create mode 100644 rest_api.py\n",
      " create mode 100644 rest_api_test.py\n"
     ]
    },
    {
     "name": "stderr",
     "output_type": "stream",
     "text": [
      "To github.com:DB-Teaching/15-01_rest-api\n",
      " * [new branch]      main -> main\n"
     ]
    }
   ],
   "source": [
    "for a in result2:\n",
    "    os.chdir(\"/Users/dboehler/Library/CloudStorage/OneDrive-th-deg.de/Teaching/22S/SWEN/excercises\")\n",
    "    os.system(f\"gh repo create --private DB-Teaching/{a['Chapter']:02d}-{a['Assignment_No']:02d}_{a['id']}\")  \n",
    "    \n",
    "    if not os.path.exists(os.path.join(os.getcwd(), f\"Chapter_{a['Chapter']:02d}\")):\n",
    "        os.system(f\"mkdir Chapter_{a['Chapter']:02d}\".strip())\n",
    "    \n",
    "    os.chdir(os.path.join(os.getcwd(), f\"Chapter_{a['Chapter']:02d}\".strip()))\n",
    "    \n",
    "    # Clone Repository to exercises folder\n",
    "    os.system(f\"git submodule add --force git@github.com:DB-Teaching/{a['Chapter']:02d}-{a['Assignment_No']:02d}_{a['id']}\")\n",
    "    \n",
    "    # Copy files from python folder (without .meta)\n",
    "    os.chdir(os.path.join(os.getcwd(), f\"{a['Chapter']:02d}-{a['Assignment_No']:02d}_{a['id']}\"))\n",
    "    os.system(f\"cp -R /Users/dboehler/OneDrive\\ -\\ th-deg.de/Teaching/22S/SWEN/python/exercises/practice/{a['id']}/ .\")\n",
    "    os.system('rm -rf .meta')\n",
    "    if not os.path.exists(os.path.join(os.getcwd(),'README.md')):\n",
    "        os.symlink('.docs/instructions.md','README.md')\n",
    "    os.system(\"git add .\")\n",
    "    os.system(\"git commit -am 'initial'\")\n",
    "    os.system(\"git push origin main\")\n",
    "\n",
    "    # Symlink .docs/instructions asd README.md"
   ]
  },
  {
   "cell_type": "code",
   "execution_count": 10,
   "id": "cb0c762a",
   "metadata": {},
   "outputs": [
    {
     "data": {
      "text/plain": [
       "'/Users/dboehler/Library/CloudStorage/OneDrive-th-deg.de/Teaching/22S/SWEN/excercises/Chapter_01/01-04_grains/Chapter_01/01-04_grains/Chapter_01/01-04_grains/Chapter_01/01-04_grains'"
      ]
     },
     "execution_count": 10,
     "metadata": {},
     "output_type": "execute_result"
    }
   ],
   "source": [
    "os.getcwd()"
   ]
  },
  {
   "cell_type": "code",
   "execution_count": 3,
   "id": "14d5b589",
   "metadata": {},
   "outputs": [],
   "source": [
    "# Fish script to change all repos to template repos\n",
    "# for name in (gh repo list DB-Teaching -L 150 --json name | jq -r '.[] | .name'); gh repo edit DB-Teaching/$name --template;end"
   ]
  },
  {
   "cell_type": "code",
   "execution_count": null,
   "id": "bd639839",
   "metadata": {},
   "outputs": [],
   "source": [
    "#room.github.com/classrooms/98897122-22s_swen\n",
    "from selenium import webdriver\n",
    "from selenium.webdriver.chrome.service import Service\n",
    "from webdriver_manager.chrome import ChromeDriverManager\n",
    "from selenium.webdriver.chrome.options import Options as ChromeOptions\n",
    "\n",
    "# browser = webdriver.Chrome(service=Service(ChromeDriverManager().install()))\n",
    "\n",
    "\n",
    "# s = Service(ChromeDriverManager().install())\n",
    "#s = Service(executable_path=\"/usr/local/bin/chromedriver\")\n",
    "#o = ChromeOptions()\n",
    "#browser = webdriver.Chrome(service = s, options = o)\n",
    "\n",
    "browser = webdriver.Chrome('./chromedriver')\n",
    "url = \"https://www.google.com\"\n",
    "browser.get(url)"
   ]
  },
  {
   "cell_type": "code",
   "execution_count": 71,
   "id": "67dc768d",
   "metadata": {},
   "outputs": [
    {
     "name": "stderr",
     "output_type": "stream",
     "text": [
      "\n",
      "\n",
      "====== WebDriver manager ======\n",
      "Current google-chrome version is 98.0.4758\n",
      "Get LATEST chromedriver version for 98.0.4758 google-chrome\n",
      "Driver [/Users/dboehler/.wdm/drivers/chromedriver/mac64/98.0.4758.80/chromedriver] found in cache\n"
     ]
    }
   ],
   "source": [
    "# https://classroom.github.com/classrooms/98897122-22s_swen\n",
    "import time\n",
    "from selenium import webdriver\n",
    "from selenium.webdriver.chrome.service import Service\n",
    "from webdriver_manager.chrome import ChromeDriverManager\n",
    "from selenium.webdriver.common.by import By\n",
    "from selenium.webdriver.common.keys import Keys\n",
    "from getpass import getpass\n",
    "\n",
    "browser = webdriver.Chrome(service=Service(ChromeDriverManager().install()))\n",
    "\n",
    "s = Service(\"/usr/local/bin/chromedriver\")\n",
    "browser = webdriver.Chrome(service=s)\n",
    "\n",
    "course = \"98897122-22s_swen\"\n",
    "url = f\"https://classroom.github.com/classrooms/{course}/new_assignments/new\"\n",
    "\n",
    "github_account = \"dominik.boehler@gmx.net\"\n",
    "#github_passwd = getpass(\"input your github password:\")\n",
    "# XJBFtxY559rTtMC\n",
    "browser.get(url)\n",
    "\n",
    "browser.find_element(By.ID, \"login_field\").clear()\n",
    "\n",
    "browser.find_element(By.ID, \"login_field\").send_keys(github_account)\n",
    "browser.find_element(By.ID, \"password\").clear()\n",
    "browser.find_element(By.ID, \"password\").send_keys('XJBFtxY559rTtMC')\n",
    "browser.find_element(By.NAME, \"commit\").click()\n",
    "browser.get('https://github.com/sessions/two-factor')\n",
    "time.sleep(5)\n",
    "\n",
    "#browser.find_element(By.CLASS_NAME, \"js-webauthn-confirm-button\").click()\n",
    "\n",
    "for a in result2:\n",
    "    \n",
    "    browser.get(url)\n",
    "    \n",
    "    data = {\n",
    "    'title': f\"{a['Chapter']:02d}-{a['Assignment_No']:02d} {a['Exercise']}\",\n",
    "    'deadline': a['Deadline'],\n",
    "    'starter_code_repo_full_name': f\"DB-Teaching/{a['Chapter']:02d}-{a['Assignment_No']:02d}_{a['id']}\",\n",
    "    'assignment_tests_attributes': [{ # assignment_form['assignment_tests_attributes'][]\n",
    "        'name': f\"{a['Exercise']} Test\",\n",
    "        'run': f\"pytest {a['id'].replace('-','_')}_test.py\",\n",
    "        'timeout': 1,\n",
    "        'points': 5,\n",
    "    }],\n",
    "    'feedback_pull_requests_enabled': 1\n",
    "    }\n",
    "\n",
    "    #page 1\n",
    "    # enter assignment title\n",
    "    browser.find_element(By.NAME, \"assignment_form[title]\").send_keys(data['title'])\n",
    "    browser.find_element(By.NAME, \"assignment_form[deadline]\").send_keys(data['deadline'])\n",
    "    browser.find_element(By.ID, \"new-assignment-submit\").click()\n",
    "    time.sleep(1)\n",
    "\n",
    "\n",
    "    #page 2\n",
    "    browser.find_element(By.ID, \"starter-code-repo-name\").click()\n",
    "    repo = data[\"starter_code_repo_full_name\"]\n",
    "    ## Select Template Repo\n",
    "    browser.find_element(By.NAME,\"assignment_form[starter_code_repo_full_name]\").send_keys(data['starter_code_repo_full_name'])\n",
    "    time.sleep(2)\n",
    "    browser.find_element(By.XPATH, f'//li[@data-res-name=\"{repo}\"]').click()\n",
    "    \n",
    "    browser.find_element(By.NAME, \"commit\").click()\n",
    "    time.sleep(1)\n",
    "\n",
    "    #page 3\n",
    "    ## Enter Testcase\n",
    "    browser.find_element(By.ID, \"view-options\").click()\n",
    "    time.sleep(1)\n",
    "    \n",
    "    browser.find_element(By.XPATH, '//label[@data-test-type=\"python\"]').click()\n",
    "    \n",
    "    browser.find_element(By.NAME, \"assignment_form[assignment_tests_attributes][][name]\").send_keys(data['assignment_tests_attributes'][0]['name'])\n",
    "    browser.find_element(By.NAME, \"assignment_form[assignment_tests_attributes][][run]\").clear().send_keys(data['assignment_tests_attributes'][0]['run'])    \n",
    "    #browser.find_element(By.NAME, \"assignment_form[assignment_tests_attributes][][timeout]\").send_keys(data['assignment_tests_attributes'][0]['timeout'])\n",
    "    browser.find_element(By.NAME, \"assignment_form[assignment_tests_attributes][][points]\").send_keys(data['assignment_tests_attributes'][0]['points'])\n",
    "    browser.find_element(By.XPATH, \"/html/body/div[6]/div/div/button\").click()\n",
    "    \n",
    "    #browser.find_element(By.XPATH, \"//button[@data-remodal-action='close']\").click()\n",
    "    time.sleep(3)\n",
    "    \n",
    "    ## Check Pull Request\n",
    "    inputElement = browser.find_element(By.NAME, \"assignment_form[feedback_pull_requests_enabled]\")\n",
    "    browser.execute_script(\"arguments[0].checked = true;\", inputElement)\n",
    "    button = browser.find_element(By.NAME, \"commit\")\n",
    "    browser.execute_script(\"arguments[0].click();\", button)\n",
    "    time.sleep(1)\n",
    "\n",
    "    #data-test-type= python\n",
    "    #aria-checked = true\n",
    "\n"
   ]
  },
  {
   "cell_type": "code",
   "execution_count": 12,
   "id": "b59a5eb7",
   "metadata": {},
   "outputs": [
    {
     "name": "stderr",
     "output_type": "stream",
     "text": [
      "\n",
      "\n",
      "====== WebDriver manager ======\n",
      "Current google-chrome version is 98.0.4758\n",
      "Get LATEST chromedriver version for 98.0.4758 google-chrome\n",
      "Driver [/Users/dboehler/.wdm/drivers/chromedriver/mac64/98.0.4758.80/chromedriver] found in cache\n"
     ]
    },
    {
     "ename": "NoSuchElementException",
     "evalue": "Message: no such element: Unable to locate element: {\"method\":\"css selector\",\"selector\":\"[name=\"assignment_form[feedback_pull_requests_enabled]\"]\"}\n  (Session info: chrome=98.0.4758.80)\nStacktrace:\n0   chromedriver                        0x000000010618c3c9 chromedriver + 5018569\n1   chromedriver                        0x0000000106117333 chromedriver + 4539187\n2   chromedriver                        0x0000000105ceca88 chromedriver + 170632\n3   chromedriver                        0x0000000105d21332 chromedriver + 385842\n4   chromedriver                        0x0000000105d214f1 chromedriver + 386289\n5   chromedriver                        0x0000000105d538b4 chromedriver + 592052\n6   chromedriver                        0x0000000105d3e80d chromedriver + 505869\n7   chromedriver                        0x0000000105d51604 chromedriver + 583172\n8   chromedriver                        0x0000000105d3e6d3 chromedriver + 505555\n9   chromedriver                        0x0000000105d1495e chromedriver + 334174\n10  chromedriver                        0x0000000105d15935 chromedriver + 338229\n11  chromedriver                        0x00000001061481ee chromedriver + 4739566\n12  chromedriver                        0x0000000106161f51 chromedriver + 4845393\n13  chromedriver                        0x0000000106167928 chromedriver + 4868392\n14  chromedriver                        0x0000000106162a7a chromedriver + 4848250\n15  chromedriver                        0x000000010613cc31 chromedriver + 4693041\n16  chromedriver                        0x000000010617d978 chromedriver + 4958584\n17  chromedriver                        0x000000010617db01 chromedriver + 4958977\n18  chromedriver                        0x0000000106193795 chromedriver + 5048213\n19  libsystem_pthread.dylib             0x00007ff810b834bc _pthread_start + 120\n20  libsystem_pthread.dylib             0x00007ff810b7eebf thread_start + 15\n",
     "output_type": "error",
     "traceback": [
      "\u001b[0;31m---------------------------------------------------------------------------\u001b[0m",
      "\u001b[0;31mNoSuchElementException\u001b[0m                    Traceback (most recent call last)",
      "Input \u001b[0;32mIn [12]\u001b[0m, in \u001b[0;36m<module>\u001b[0;34m\u001b[0m\n\u001b[1;32m     31\u001b[0m \u001b[38;5;28;01mfor\u001b[39;00m a \u001b[38;5;129;01min\u001b[39;00m result2:\n\u001b[1;32m     32\u001b[0m     browser\u001b[38;5;241m.\u001b[39mget(\u001b[38;5;124mf\u001b[39m\u001b[38;5;124m\"\u001b[39m\u001b[38;5;124mhttps://classroom.github.com/classrooms/98897122-22s_swen/assignments/\u001b[39m\u001b[38;5;132;01m{\u001b[39;00ma[\u001b[38;5;124m'\u001b[39m\u001b[38;5;124mChapter\u001b[39m\u001b[38;5;124m'\u001b[39m]\u001b[38;5;132;01m:\u001b[39;00m\u001b[38;5;124m02d\u001b[39m\u001b[38;5;132;01m}\u001b[39;00m\u001b[38;5;124m-\u001b[39m\u001b[38;5;132;01m{\u001b[39;00ma[\u001b[38;5;124m'\u001b[39m\u001b[38;5;124mAssignment_No\u001b[39m\u001b[38;5;124m'\u001b[39m]\u001b[38;5;132;01m:\u001b[39;00m\u001b[38;5;124m02d\u001b[39m\u001b[38;5;132;01m}\u001b[39;00m\u001b[38;5;124m-\u001b[39m\u001b[38;5;132;01m{\u001b[39;00ma[\u001b[38;5;124m'\u001b[39m\u001b[38;5;124mid\u001b[39m\u001b[38;5;124m'\u001b[39m]\u001b[38;5;132;01m}\u001b[39;00m\u001b[38;5;124m/settings\u001b[39m\u001b[38;5;124m\"\u001b[39m)\n\u001b[0;32m---> 34\u001b[0m     \u001b[43mbrowser\u001b[49m\u001b[38;5;241;43m.\u001b[39;49m\u001b[43mfind_element\u001b[49m\u001b[43m(\u001b[49m\u001b[43mBy\u001b[49m\u001b[38;5;241;43m.\u001b[39;49m\u001b[43mNAME\u001b[49m\u001b[43m,\u001b[49m\u001b[43m \u001b[49m\u001b[38;5;124;43m\"\u001b[39;49m\u001b[38;5;124;43massignment_form[feedback_pull_requests_enabled]\u001b[39;49m\u001b[38;5;124;43m\"\u001b[39;49m\u001b[43m)\u001b[49m\u001b[38;5;241m.\u001b[39mclick()\n\u001b[1;32m     36\u001b[0m     browser\u001b[38;5;241m.\u001b[39mfind_element(By\u001b[38;5;241m.\u001b[39mXPATH, \u001b[38;5;124m\"\u001b[39m\u001b[38;5;124m//button[@aria-label=\u001b[39m\u001b[38;5;124m'\u001b[39m\u001b[38;5;124mEdit\u001b[39m\u001b[38;5;124m'\u001b[39m\u001b[38;5;124m]\u001b[39m\u001b[38;5;124m\"\u001b[39m)\u001b[38;5;241m.\u001b[39mclick()\n\u001b[1;32m     37\u001b[0m     browser\u001b[38;5;241m.\u001b[39mfind_element(By\u001b[38;5;241m.\u001b[39mNAME, \u001b[38;5;124m\"\u001b[39m\u001b[38;5;124massignment_form[assignment_tests_attributes][][run]\u001b[39m\u001b[38;5;124m\"\u001b[39m)\u001b[38;5;241m.\u001b[39mclear()\n",
      "File \u001b[0;32m/usr/local/lib/python3.10/site-packages/selenium/webdriver/remote/webdriver.py:1244\u001b[0m, in \u001b[0;36mWebDriver.find_element\u001b[0;34m(self, by, value)\u001b[0m\n\u001b[1;32m   1241\u001b[0m     by \u001b[38;5;241m=\u001b[39m By\u001b[38;5;241m.\u001b[39mCSS_SELECTOR\n\u001b[1;32m   1242\u001b[0m     value \u001b[38;5;241m=\u001b[39m \u001b[38;5;124m'\u001b[39m\u001b[38;5;124m[name=\u001b[39m\u001b[38;5;124m\"\u001b[39m\u001b[38;5;132;01m%s\u001b[39;00m\u001b[38;5;124m\"\u001b[39m\u001b[38;5;124m]\u001b[39m\u001b[38;5;124m'\u001b[39m \u001b[38;5;241m%\u001b[39m value\n\u001b[0;32m-> 1244\u001b[0m \u001b[38;5;28;01mreturn\u001b[39;00m \u001b[38;5;28;43mself\u001b[39;49m\u001b[38;5;241;43m.\u001b[39;49m\u001b[43mexecute\u001b[49m\u001b[43m(\u001b[49m\u001b[43mCommand\u001b[49m\u001b[38;5;241;43m.\u001b[39;49m\u001b[43mFIND_ELEMENT\u001b[49m\u001b[43m,\u001b[49m\u001b[43m \u001b[49m\u001b[43m{\u001b[49m\n\u001b[1;32m   1245\u001b[0m \u001b[43m    \u001b[49m\u001b[38;5;124;43m'\u001b[39;49m\u001b[38;5;124;43musing\u001b[39;49m\u001b[38;5;124;43m'\u001b[39;49m\u001b[43m:\u001b[49m\u001b[43m \u001b[49m\u001b[43mby\u001b[49m\u001b[43m,\u001b[49m\n\u001b[1;32m   1246\u001b[0m \u001b[43m    \u001b[49m\u001b[38;5;124;43m'\u001b[39;49m\u001b[38;5;124;43mvalue\u001b[39;49m\u001b[38;5;124;43m'\u001b[39;49m\u001b[43m:\u001b[49m\u001b[43m \u001b[49m\u001b[43mvalue\u001b[49m\u001b[43m}\u001b[49m\u001b[43m)\u001b[49m[\u001b[38;5;124m'\u001b[39m\u001b[38;5;124mvalue\u001b[39m\u001b[38;5;124m'\u001b[39m]\n",
      "File \u001b[0;32m/usr/local/lib/python3.10/site-packages/selenium/webdriver/remote/webdriver.py:424\u001b[0m, in \u001b[0;36mWebDriver.execute\u001b[0;34m(self, driver_command, params)\u001b[0m\n\u001b[1;32m    422\u001b[0m response \u001b[38;5;241m=\u001b[39m \u001b[38;5;28mself\u001b[39m\u001b[38;5;241m.\u001b[39mcommand_executor\u001b[38;5;241m.\u001b[39mexecute(driver_command, params)\n\u001b[1;32m    423\u001b[0m \u001b[38;5;28;01mif\u001b[39;00m response:\n\u001b[0;32m--> 424\u001b[0m     \u001b[38;5;28;43mself\u001b[39;49m\u001b[38;5;241;43m.\u001b[39;49m\u001b[43merror_handler\u001b[49m\u001b[38;5;241;43m.\u001b[39;49m\u001b[43mcheck_response\u001b[49m\u001b[43m(\u001b[49m\u001b[43mresponse\u001b[49m\u001b[43m)\u001b[49m\n\u001b[1;32m    425\u001b[0m     response[\u001b[38;5;124m'\u001b[39m\u001b[38;5;124mvalue\u001b[39m\u001b[38;5;124m'\u001b[39m] \u001b[38;5;241m=\u001b[39m \u001b[38;5;28mself\u001b[39m\u001b[38;5;241m.\u001b[39m_unwrap_value(\n\u001b[1;32m    426\u001b[0m         response\u001b[38;5;241m.\u001b[39mget(\u001b[38;5;124m'\u001b[39m\u001b[38;5;124mvalue\u001b[39m\u001b[38;5;124m'\u001b[39m, \u001b[38;5;28;01mNone\u001b[39;00m))\n\u001b[1;32m    427\u001b[0m     \u001b[38;5;28;01mreturn\u001b[39;00m response\n",
      "File \u001b[0;32m/usr/local/lib/python3.10/site-packages/selenium/webdriver/remote/errorhandler.py:247\u001b[0m, in \u001b[0;36mErrorHandler.check_response\u001b[0;34m(self, response)\u001b[0m\n\u001b[1;32m    245\u001b[0m         alert_text \u001b[38;5;241m=\u001b[39m value[\u001b[38;5;124m'\u001b[39m\u001b[38;5;124malert\u001b[39m\u001b[38;5;124m'\u001b[39m]\u001b[38;5;241m.\u001b[39mget(\u001b[38;5;124m'\u001b[39m\u001b[38;5;124mtext\u001b[39m\u001b[38;5;124m'\u001b[39m)\n\u001b[1;32m    246\u001b[0m     \u001b[38;5;28;01mraise\u001b[39;00m exception_class(message, screen, stacktrace, alert_text)  \u001b[38;5;66;03m# type: ignore[call-arg]  # mypy is not smart enough here\u001b[39;00m\n\u001b[0;32m--> 247\u001b[0m \u001b[38;5;28;01mraise\u001b[39;00m exception_class(message, screen, stacktrace)\n",
      "\u001b[0;31mNoSuchElementException\u001b[0m: Message: no such element: Unable to locate element: {\"method\":\"css selector\",\"selector\":\"[name=\"assignment_form[feedback_pull_requests_enabled]\"]\"}\n  (Session info: chrome=98.0.4758.80)\nStacktrace:\n0   chromedriver                        0x000000010618c3c9 chromedriver + 5018569\n1   chromedriver                        0x0000000106117333 chromedriver + 4539187\n2   chromedriver                        0x0000000105ceca88 chromedriver + 170632\n3   chromedriver                        0x0000000105d21332 chromedriver + 385842\n4   chromedriver                        0x0000000105d214f1 chromedriver + 386289\n5   chromedriver                        0x0000000105d538b4 chromedriver + 592052\n6   chromedriver                        0x0000000105d3e80d chromedriver + 505869\n7   chromedriver                        0x0000000105d51604 chromedriver + 583172\n8   chromedriver                        0x0000000105d3e6d3 chromedriver + 505555\n9   chromedriver                        0x0000000105d1495e chromedriver + 334174\n10  chromedriver                        0x0000000105d15935 chromedriver + 338229\n11  chromedriver                        0x00000001061481ee chromedriver + 4739566\n12  chromedriver                        0x0000000106161f51 chromedriver + 4845393\n13  chromedriver                        0x0000000106167928 chromedriver + 4868392\n14  chromedriver                        0x0000000106162a7a chromedriver + 4848250\n15  chromedriver                        0x000000010613cc31 chromedriver + 4693041\n16  chromedriver                        0x000000010617d978 chromedriver + 4958584\n17  chromedriver                        0x000000010617db01 chromedriver + 4958977\n18  chromedriver                        0x0000000106193795 chromedriver + 5048213\n19  libsystem_pthread.dylib             0x00007ff810b834bc _pthread_start + 120\n20  libsystem_pthread.dylib             0x00007ff810b7eebf thread_start + 15\n"
     ]
    }
   ],
   "source": [
    "# https://classroom.github.com/classrooms/98897122-22s_swen\n",
    "import time\n",
    "from selenium import webdriver\n",
    "from selenium.webdriver.chrome.service import Service\n",
    "from webdriver_manager.chrome import ChromeDriverManager\n",
    "from selenium.webdriver.common.by import By\n",
    "from selenium.webdriver.common.keys import Keys\n",
    "from getpass import getpass\n",
    "\n",
    "browser = webdriver.Chrome(service=Service(ChromeDriverManager().install()))\n",
    "\n",
    "s = Service(\"/usr/local/bin/chromedriver\")\n",
    "browser = webdriver.Chrome(service=s)\n",
    "\n",
    "url = f\"https://classroom.github.com/login\"\n",
    "\n",
    "github_account = \"dominik.boehler@gmx.net\"\n",
    "#github_passwd = getpass(\"input your github password:\")\n",
    "# XJBFtxY559rTtMC\n",
    "browser.get(url)\n",
    "\n",
    "browser.find_element(By.ID, \"login_field\").clear()\n",
    "\n",
    "browser.find_element(By.ID, \"login_field\").send_keys(github_account)\n",
    "browser.find_element(By.ID, \"password\").clear()\n",
    "browser.find_element(By.ID, \"password\").send_keys('XJBFtxY559rTtMC')\n",
    "browser.find_element(By.NAME, \"commit\").click()\n",
    "browser.get('https://github.com/sessions/two-factor')\n",
    "time.sleep(5)\n",
    "\n",
    "for a in result2:\n",
    "    browser.get(f\"https://classroom.github.com/classrooms/98897122-22s_swen/assignments/{a['Chapter']:02d}-{a['Assignment_No']:02d}-{a['id']}/settings\")\n",
    "    \n",
    "    browser.find_element(By.NAME, \"assignment_form[feedback_pull_requests_enabled]\").click()\n",
    "    \n",
    "    browser.find_element(By.XPATH, \"//button[@aria-label='Edit']\").click()\n",
    "    browser.find_element(By.NAME, \"assignment_form[assignment_tests_attributes][][run]\").clear()\n",
    "    browser.find_element(By.NAME, \"assignment_form[assignment_tests_attributes][][run]\").send_keys(f\"pytest {a['id'].replace('-','_')}_test.py\")    \n",
    "\n",
    "\n",
    "    button = browser.find_element(By.NAME, \"commit\")\n",
    "    browser.execute_script(\"arguments[0].click();\", button)\n",
    "    time.sleep(1)\n"
   ]
  },
  {
   "cell_type": "code",
   "execution_count": null,
   "id": "707c5643",
   "metadata": {},
   "outputs": [],
   "source": []
  },
  {
   "cell_type": "code",
   "execution_count": null,
   "id": "98d0d1fe",
   "metadata": {},
   "outputs": [],
   "source": []
  }
 ],
 "metadata": {
  "kernelspec": {
   "display_name": "swen",
   "language": "python",
   "name": "swen"
  },
  "language_info": {
   "codemirror_mode": {
    "name": "ipython",
    "version": 3
   },
   "file_extension": ".py",
   "mimetype": "text/x-python",
   "name": "python",
   "nbconvert_exporter": "python",
   "pygments_lexer": "ipython3",
   "version": "3.10.1"
  }
 },
 "nbformat": 4,
 "nbformat_minor": 5
}
