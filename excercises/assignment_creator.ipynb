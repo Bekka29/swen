{
 "cells": [
  {
   "cell_type": "code",
   "execution_count": 4,
   "id": "e2a149cf-f4ae-4899-84bd-1614ca14802a",
   "metadata": {},
   "outputs": [
    {
     "ename": "ModuleNotFoundError",
     "evalue": "No module named 'selenium'",
     "output_type": "error",
     "traceback": [
      "\u001b[0;31m---------------------------------------------------------------------------\u001b[0m",
      "\u001b[0;31mModuleNotFoundError\u001b[0m                       Traceback (most recent call last)",
      "Input \u001b[0;32mIn [4]\u001b[0m, in \u001b[0;36m<module>\u001b[0;34m\u001b[0m\n\u001b[1;32m      1\u001b[0m \u001b[38;5;28;01mimport\u001b[39;00m \u001b[38;5;21;01mcsv\u001b[39;00m\n\u001b[1;32m      2\u001b[0m \u001b[38;5;28;01mimport\u001b[39;00m \u001b[38;5;21;01mos\u001b[39;00m\u001b[38;5;241m,\u001b[39m \u001b[38;5;21;01msys\u001b[39;00m\n\u001b[0;32m----> 3\u001b[0m \u001b[38;5;28;01mimport\u001b[39;00m \u001b[38;5;21;01mselenium\u001b[39;00m\n\u001b[1;32m      5\u001b[0m \u001b[38;5;28;01mwith\u001b[39;00m \u001b[38;5;28mopen\u001b[39m(\u001b[38;5;124m\"\u001b[39m\u001b[38;5;124massignments.csv\u001b[39m\u001b[38;5;124m\"\u001b[39m, \u001b[38;5;124m\"\u001b[39m\u001b[38;5;124mrt\u001b[39m\u001b[38;5;124m\"\u001b[39m) \u001b[38;5;28;01mas\u001b[39;00m csvfile:\n\u001b[1;32m      6\u001b[0m     data \u001b[38;5;241m=\u001b[39m [row \u001b[38;5;28;01mfor\u001b[39;00m row \u001b[38;5;129;01min\u001b[39;00m csv\u001b[38;5;241m.\u001b[39mDictReader(csvfile, delimiter\u001b[38;5;241m=\u001b[39m\u001b[38;5;124m\"\u001b[39m\u001b[38;5;124m,\u001b[39m\u001b[38;5;124m\"\u001b[39m, quotechar\u001b[38;5;241m=\u001b[39m\u001b[38;5;124m'\u001b[39m\u001b[38;5;124m\"\u001b[39m\u001b[38;5;124m'\u001b[39m)]\n",
      "\u001b[0;31mModuleNotFoundError\u001b[0m: No module named 'selenium'"
     ]
    }
   ],
   "source": [
    "import csv\n",
    "import os, sys\n",
    "\n",
    "with open(\"assignments.csv\", \"rt\") as csvfile:\n",
    "    data = [row for row in csv.DictReader(csvfile, delimiter=\",\", quotechar='\"')]\n",
    "\n",
    "data\n",
    "\n",
    "result = [] \n",
    "for item in data:\n",
    "    result.append({k.strip().replace('<br>',''):v.strip() for k,v in item.items()})\n",
    "\n",
    "result2 = []\n",
    "for item in result:\n",
    "    for key in ['Practices', 'MentorNotes']:\n",
    "        item[key] = [e.replace('`','') for e in item[key].split(',')]\n",
    "    item['Difficulty'] = len(item['Difficulty'])\n",
    "    item['Chapter'] = int(item['Chapter'])\n",
    "    item['Assignment_No'] = int(item['Assignment_No'])\n",
    "    result2.append(item)\n",
    "\n",
    "result2"
   ]
  },
  {
   "cell_type": "code",
   "execution_count": 19,
   "id": "f620e67f-6f92-40a2-82c4-ea38cd624c2c",
   "metadata": {},
   "outputs": [
    {
     "name": "stdout",
     "output_type": "stream",
     "text": [
      "https://github.com/DB-Teaching/01-01_hello-world\n"
     ]
    },
    {
     "name": "stderr",
     "output_type": "stream",
     "text": [
      "Cloning into '/Users/dboehler/Library/CloudStorage/OneDrive-th-deg.de/Teaching/22S/SWEN/excercises/Chapter_01/01-01_hello-world'...\n",
      "warning: You appear to have cloned an empty repository.\n",
      "fatal: You are on a branch yet to be born\n",
      "fatal: unable to checkout submodule 'excercises/Chapter_01/01-01_hello-world'\n"
     ]
    },
    {
     "name": "stdout",
     "output_type": "stream",
     "text": [
      "[main (root-commit) a05f58b] initial\n",
      " 4 files changed, 34 insertions(+)\n",
      " create mode 100644 .docs/instructions.md\n",
      " create mode 120000 README.md\n",
      " create mode 100644 hello_world.py\n",
      " create mode 100644 hello_world_test.py\n"
     ]
    },
    {
     "name": "stderr",
     "output_type": "stream",
     "text": [
      "To github.com:DB-Teaching/01-01_hello-world\n",
      " * [new branch]      main -> main\n"
     ]
    },
    {
     "name": "stdout",
     "output_type": "stream",
     "text": [
      "https://github.com/DB-Teaching/01-02_leap\n"
     ]
    },
    {
     "name": "stderr",
     "output_type": "stream",
     "text": [
      "Cloning into '/Users/dboehler/Library/CloudStorage/OneDrive-th-deg.de/Teaching/22S/SWEN/excercises/Chapter_01/01-02_leap'...\n",
      "warning: You appear to have cloned an empty repository.\n",
      "fatal: You are on a branch yet to be born\n",
      "fatal: unable to checkout submodule 'excercises/Chapter_01/01-02_leap'\n"
     ]
    },
    {
     "name": "stdout",
     "output_type": "stream",
     "text": [
      "[main (root-commit) b64e489] initial\n",
      " 4 files changed, 67 insertions(+)\n",
      " create mode 100644 .docs/instructions.md\n",
      " create mode 120000 README.md\n",
      " create mode 100644 leap.py\n",
      " create mode 100644 leap_test.py\n"
     ]
    },
    {
     "name": "stderr",
     "output_type": "stream",
     "text": [
      "To github.com:DB-Teaching/01-02_leap\n",
      " * [new branch]      main -> main\n"
     ]
    },
    {
     "name": "stdout",
     "output_type": "stream",
     "text": [
      "https://github.com/DB-Teaching/01-03_difference-of-squares\n"
     ]
    },
    {
     "name": "stderr",
     "output_type": "stream",
     "text": [
      "Cloning into '/Users/dboehler/Library/CloudStorage/OneDrive-th-deg.de/Teaching/22S/SWEN/excercises/Chapter_01/01-03_difference-of-squares'...\n",
      "warning: You appear to have cloned an empty repository.\n",
      "fatal: You are on a branch yet to be born\n",
      "fatal: unable to checkout submodule 'excercises/Chapter_01/01-03_difference-of-squares'\n"
     ]
    },
    {
     "name": "stdout",
     "output_type": "stream",
     "text": [
      "[main (root-commit) 3ed4122] initial\n",
      " 4 files changed, 70 insertions(+)\n",
      " create mode 100644 .docs/instructions.md\n",
      " create mode 120000 README.md\n",
      " create mode 100644 difference_of_squares.py\n",
      " create mode 100644 difference_of_squares_test.py\n"
     ]
    },
    {
     "name": "stderr",
     "output_type": "stream",
     "text": [
      "To github.com:DB-Teaching/01-03_difference-of-squares\n",
      " * [new branch]      main -> main\n"
     ]
    },
    {
     "name": "stdout",
     "output_type": "stream",
     "text": [
      "https://github.com/DB-Teaching/01-03_gigasecond\n"
     ]
    },
    {
     "name": "stderr",
     "output_type": "stream",
     "text": [
      "Cloning into '/Users/dboehler/Library/CloudStorage/OneDrive-th-deg.de/Teaching/22S/SWEN/excercises/Chapter_01/01-03_gigasecond'...\n",
      "warning: You appear to have cloned an empty repository.\n",
      "fatal: You are on a branch yet to be born\n",
      "fatal: unable to checkout submodule 'excercises/Chapter_01/01-03_gigasecond'\n"
     ]
    },
    {
     "name": "stdout",
     "output_type": "stream",
     "text": [
      "[main (root-commit) d9f0363] initial\n",
      " 4 files changed, 48 insertions(+)\n",
      " create mode 100644 .docs/instructions.md\n",
      " create mode 120000 README.md\n",
      " create mode 100644 gigasecond.py\n",
      " create mode 100644 gigasecond_test.py\n"
     ]
    },
    {
     "name": "stderr",
     "output_type": "stream",
     "text": [
      "To github.com:DB-Teaching/01-03_gigasecond\n",
      " * [new branch]      main -> main\n",
      "GraphQL: Name already exists on this account (createRepository)\n"
     ]
    },
    {
     "name": "stdout",
     "output_type": "stream",
     "text": [
      "Adding existing repo at 'excercises/Chapter_01/01-04_grains' to the index\n",
      "On branch main\n",
      "Your branch is up to date with 'origin/main'.\n",
      "\n",
      "nothing to commit, working tree clean\n"
     ]
    },
    {
     "name": "stderr",
     "output_type": "stream",
     "text": [
      "Everything up-to-date\n",
      "GraphQL: Name already exists on this account (createRepository)\n"
     ]
    },
    {
     "name": "stdout",
     "output_type": "stream",
     "text": [
      "Adding existing repo at 'excercises/Chapter_01/01-05_pangram' to the index\n",
      "On branch main\n",
      "Your branch is up to date with 'origin/main'.\n",
      "\n",
      "nothing to commit, working tree clean\n"
     ]
    },
    {
     "name": "stderr",
     "output_type": "stream",
     "text": [
      "Everything up-to-date\n"
     ]
    },
    {
     "name": "stdout",
     "output_type": "stream",
     "text": [
      "https://github.com/DB-Teaching/01-06_two-fer\n"
     ]
    },
    {
     "name": "stderr",
     "output_type": "stream",
     "text": [
      "Cloning into '/Users/dboehler/Library/CloudStorage/OneDrive-th-deg.de/Teaching/22S/SWEN/excercises/Chapter_01/01-06_two-fer'...\n",
      "warning: You appear to have cloned an empty repository.\n",
      "fatal: You are on a branch yet to be born\n",
      "fatal: unable to checkout submodule 'excercises/Chapter_01/01-06_two-fer'\n"
     ]
    },
    {
     "name": "stdout",
     "output_type": "stream",
     "text": [
      "[main (root-commit) f4c7c10] initial\n",
      " 4 files changed, 51 insertions(+)\n",
      " create mode 100644 .docs/instructions.md\n",
      " create mode 120000 README.md\n",
      " create mode 100644 two_fer.py\n",
      " create mode 100644 two_fer_test.py\n"
     ]
    },
    {
     "name": "stderr",
     "output_type": "stream",
     "text": [
      "To github.com:DB-Teaching/01-06_two-fer\n",
      " * [new branch]      main -> main\n"
     ]
    },
    {
     "name": "stdout",
     "output_type": "stream",
     "text": [
      "https://github.com/DB-Teaching/01-07_collatz-conjecture\n"
     ]
    },
    {
     "name": "stderr",
     "output_type": "stream",
     "text": [
      "Cloning into '/Users/dboehler/Library/CloudStorage/OneDrive-th-deg.de/Teaching/22S/SWEN/excercises/Chapter_01/01-07_collatz-conjecture'...\n",
      "warning: You appear to have cloned an empty repository.\n",
      "fatal: You are on a branch yet to be born\n",
      "fatal: unable to checkout submodule 'excercises/Chapter_01/01-07_collatz-conjecture'\n"
     ]
    },
    {
     "name": "stdout",
     "output_type": "stream",
     "text": [
      "[main (root-commit) 7f0d823] initial\n",
      " 5 files changed, 83 insertions(+)\n",
      " create mode 100644 .docs/instructions.append.md\n",
      " create mode 100644 .docs/instructions.md\n",
      " create mode 120000 README.md\n",
      " create mode 100644 collatz_conjecture.py\n",
      " create mode 100644 collatz_conjecture_test.py\n"
     ]
    },
    {
     "name": "stderr",
     "output_type": "stream",
     "text": [
      "To github.com:DB-Teaching/01-07_collatz-conjecture\n",
      " * [new branch]      main -> main\n"
     ]
    },
    {
     "name": "stdout",
     "output_type": "stream",
     "text": [
      "https://github.com/DB-Teaching/01-08_bob\n"
     ]
    },
    {
     "name": "stderr",
     "output_type": "stream",
     "text": [
      "Cloning into '/Users/dboehler/Library/CloudStorage/OneDrive-th-deg.de/Teaching/22S/SWEN/excercises/Chapter_01/01-08_bob'...\n",
      "warning: You appear to have cloned an empty repository.\n",
      "fatal: You are on a branch yet to be born\n",
      "fatal: unable to checkout submodule 'excercises/Chapter_01/01-08_bob'\n"
     ]
    },
    {
     "name": "stdout",
     "output_type": "stream",
     "text": [
      "[main (root-commit) 410a8e7] initial\n",
      " 4 files changed, 123 insertions(+)\n",
      " create mode 100644 .docs/instructions.md\n",
      " create mode 120000 README.md\n",
      " create mode 100644 bob.py\n",
      " create mode 100644 bob_test.py\n"
     ]
    },
    {
     "name": "stderr",
     "output_type": "stream",
     "text": [
      "To github.com:DB-Teaching/01-08_bob\n",
      " * [new branch]      main -> main\n"
     ]
    },
    {
     "name": "stdout",
     "output_type": "stream",
     "text": [
      "https://github.com/DB-Teaching/02-01_queen-attack\n"
     ]
    },
    {
     "name": "stderr",
     "output_type": "stream",
     "text": [
      "Cloning into '/Users/dboehler/Library/CloudStorage/OneDrive-th-deg.de/Teaching/22S/SWEN/excercises/Chapter_02/02-01_queen-attack'...\n",
      "warning: You appear to have cloned an empty repository.\n",
      "fatal: You are on a branch yet to be born\n",
      "fatal: unable to checkout submodule 'excercises/Chapter_02/02-01_queen-attack'\n"
     ]
    },
    {
     "name": "stdout",
     "output_type": "stream",
     "text": [
      "[main (root-commit) 363f86b] initial\n",
      " 5 files changed, 129 insertions(+)\n",
      " create mode 100644 .docs/instructions.append.md\n",
      " create mode 100644 .docs/instructions.md\n",
      " create mode 120000 README.md\n",
      " create mode 100644 queen_attack.py\n",
      " create mode 100644 queen_attack_test.py\n"
     ]
    },
    {
     "name": "stderr",
     "output_type": "stream",
     "text": [
      "To github.com:DB-Teaching/02-01_queen-attack\n",
      " * [new branch]      main -> main\n"
     ]
    },
    {
     "name": "stdout",
     "output_type": "stream",
     "text": [
      "https://github.com/DB-Teaching/02-02_triangle\n"
     ]
    },
    {
     "name": "stderr",
     "output_type": "stream",
     "text": [
      "Cloning into '/Users/dboehler/Library/CloudStorage/OneDrive-th-deg.de/Teaching/22S/SWEN/excercises/Chapter_02/02-02_triangle'...\n",
      "warning: You appear to have cloned an empty repository.\n",
      "fatal: You are on a branch yet to be born\n",
      "fatal: unable to checkout submodule 'excercises/Chapter_02/02-02_triangle'\n"
     ]
    },
    {
     "name": "stdout",
     "output_type": "stream",
     "text": [
      "[main (root-commit) 0c829db] initial\n",
      " 4 files changed, 110 insertions(+)\n",
      " create mode 100644 .docs/instructions.md\n",
      " create mode 120000 README.md\n",
      " create mode 100644 triangle.py\n",
      " create mode 100644 triangle_test.py\n"
     ]
    },
    {
     "name": "stderr",
     "output_type": "stream",
     "text": [
      "To github.com:DB-Teaching/02-02_triangle\n",
      " * [new branch]      main -> main\n"
     ]
    },
    {
     "name": "stdout",
     "output_type": "stream",
     "text": [
      "https://github.com/DB-Teaching/02-03_perfect-numbers\n"
     ]
    },
    {
     "name": "stderr",
     "output_type": "stream",
     "text": [
      "Cloning into '/Users/dboehler/Library/CloudStorage/OneDrive-th-deg.de/Teaching/22S/SWEN/excercises/Chapter_02/02-03_perfect-numbers'...\n",
      "warning: You appear to have cloned an empty repository.\n",
      "fatal: You are on a branch yet to be born\n",
      "fatal: unable to checkout submodule 'excercises/Chapter_02/02-03_perfect-numbers'\n"
     ]
    },
    {
     "name": "stdout",
     "output_type": "stream",
     "text": [
      "[main (root-commit) c3526f6] initial\n",
      " 5 files changed, 106 insertions(+)\n",
      " create mode 100644 .docs/instructions.append.md\n",
      " create mode 100644 .docs/instructions.md\n",
      " create mode 120000 README.md\n",
      " create mode 100644 perfect_numbers.py\n",
      " create mode 100644 perfect_numbers_test.py\n"
     ]
    },
    {
     "name": "stderr",
     "output_type": "stream",
     "text": [
      "To github.com:DB-Teaching/02-03_perfect-numbers\n",
      " * [new branch]      main -> main\n"
     ]
    },
    {
     "name": "stdout",
     "output_type": "stream",
     "text": [
      "https://github.com/DB-Teaching/02-04_sublist\n"
     ]
    },
    {
     "name": "stderr",
     "output_type": "stream",
     "text": [
      "Cloning into '/Users/dboehler/Library/CloudStorage/OneDrive-th-deg.de/Teaching/22S/SWEN/excercises/Chapter_02/02-04_sublist'...\n",
      "warning: You appear to have cloned an empty repository.\n",
      "fatal: You are on a branch yet to be born\n",
      "fatal: unable to checkout submodule 'excercises/Chapter_02/02-04_sublist'\n"
     ]
    },
    {
     "name": "stdout",
     "output_type": "stream",
     "text": [
      "[main (root-commit) 7fa751d] initial\n",
      " 4 files changed, 137 insertions(+)\n",
      " create mode 100644 .docs/instructions.md\n",
      " create mode 120000 README.md\n",
      " create mode 100644 sublist.py\n",
      " create mode 100644 sublist_test.py\n"
     ]
    },
    {
     "name": "stderr",
     "output_type": "stream",
     "text": [
      "To github.com:DB-Teaching/02-04_sublist\n",
      " * [new branch]      main -> main\n"
     ]
    },
    {
     "name": "stdout",
     "output_type": "stream",
     "text": [
      "https://github.com/DB-Teaching/02-05_diamond\n"
     ]
    },
    {
     "name": "stderr",
     "output_type": "stream",
     "text": [
      "Cloning into '/Users/dboehler/Library/CloudStorage/OneDrive-th-deg.de/Teaching/22S/SWEN/excercises/Chapter_02/02-05_diamond'...\n",
      "warning: You appear to have cloned an empty repository.\n",
      "fatal: You are on a branch yet to be born\n",
      "fatal: unable to checkout submodule 'excercises/Chapter_02/02-05_diamond'\n"
     ]
    },
    {
     "name": "stdout",
     "output_type": "stream",
     "text": [
      "[main (root-commit) 27d4a8f] initial\n",
      " 4 files changed, 149 insertions(+)\n",
      " create mode 100644 .docs/instructions.md\n",
      " create mode 120000 README.md\n",
      " create mode 100644 diamond.py\n",
      " create mode 100644 diamond_test.py\n"
     ]
    },
    {
     "name": "stderr",
     "output_type": "stream",
     "text": [
      "To github.com:DB-Teaching/02-05_diamond\n",
      " * [new branch]      main -> main\n"
     ]
    },
    {
     "name": "stdout",
     "output_type": "stream",
     "text": [
      "https://github.com/DB-Teaching/02-06_yacht\n"
     ]
    },
    {
     "name": "stderr",
     "output_type": "stream",
     "text": [
      "Cloning into '/Users/dboehler/Library/CloudStorage/OneDrive-th-deg.de/Teaching/22S/SWEN/excercises/Chapter_02/02-06_yacht'...\n",
      "warning: You appear to have cloned an empty repository.\n",
      "fatal: You are on a branch yet to be born\n",
      "fatal: unable to checkout submodule 'excercises/Chapter_02/02-06_yacht'\n"
     ]
    },
    {
     "name": "stdout",
     "output_type": "stream",
     "text": [
      "[main (root-commit) 4bb9397] initial\n",
      " 4 files changed, 151 insertions(+)\n",
      " create mode 100644 .docs/instructions.md\n",
      " create mode 120000 README.md\n",
      " create mode 100644 yacht.py\n",
      " create mode 100644 yacht_test.py\n"
     ]
    },
    {
     "name": "stderr",
     "output_type": "stream",
     "text": [
      "To github.com:DB-Teaching/02-06_yacht\n",
      " * [new branch]      main -> main\n"
     ]
    },
    {
     "name": "stdout",
     "output_type": "stream",
     "text": [
      "https://github.com/DB-Teaching/02-07_pythagorean-triplet\n"
     ]
    },
    {
     "name": "stderr",
     "output_type": "stream",
     "text": [
      "Cloning into '/Users/dboehler/Library/CloudStorage/OneDrive-th-deg.de/Teaching/22S/SWEN/excercises/Chapter_02/02-07_pythagorean-triplet'...\n",
      "warning: You appear to have cloned an empty repository.\n",
      "fatal: You are on a branch yet to be born\n",
      "fatal: unable to checkout submodule 'excercises/Chapter_02/02-07_pythagorean-triplet'\n"
     ]
    },
    {
     "name": "stdout",
     "output_type": "stream",
     "text": [
      "[main (root-commit) 1b3939e] initial\n",
      " 5 files changed, 89 insertions(+)\n",
      " create mode 100644 .docs/instructions.append.md\n",
      " create mode 100644 .docs/instructions.md\n",
      " create mode 120000 README.md\n",
      " create mode 100644 pythagorean_triplet.py\n",
      " create mode 100644 pythagorean_triplet_test.py\n"
     ]
    },
    {
     "name": "stderr",
     "output_type": "stream",
     "text": [
      "To github.com:DB-Teaching/02-07_pythagorean-triplet\n",
      " * [new branch]      main -> main\n"
     ]
    },
    {
     "name": "stdout",
     "output_type": "stream",
     "text": [
      "https://github.com/DB-Teaching/02-08_matching-brackets\n"
     ]
    },
    {
     "name": "stderr",
     "output_type": "stream",
     "text": [
      "Cloning into '/Users/dboehler/Library/CloudStorage/OneDrive-th-deg.de/Teaching/22S/SWEN/excercises/Chapter_02/02-08_matching-brackets'...\n",
      "warning: You appear to have cloned an empty repository.\n",
      "fatal: You are on a branch yet to be born\n",
      "fatal: unable to checkout submodule 'excercises/Chapter_02/02-08_matching-brackets'\n"
     ]
    },
    {
     "name": "stdout",
     "output_type": "stream",
     "text": [
      "[main (root-commit) e751081] initial\n",
      " 4 files changed, 77 insertions(+)\n",
      " create mode 100644 .docs/instructions.md\n",
      " create mode 120000 README.md\n",
      " create mode 100644 matching_brackets.py\n",
      " create mode 100644 matching_brackets_test.py\n"
     ]
    },
    {
     "name": "stderr",
     "output_type": "stream",
     "text": [
      "To github.com:DB-Teaching/02-08_matching-brackets\n",
      " * [new branch]      main -> main\n"
     ]
    },
    {
     "name": "stdout",
     "output_type": "stream",
     "text": [
      "https://github.com/DB-Teaching/02-09_binary-search\n"
     ]
    },
    {
     "name": "stderr",
     "output_type": "stream",
     "text": [
      "Cloning into '/Users/dboehler/Library/CloudStorage/OneDrive-th-deg.de/Teaching/22S/SWEN/excercises/Chapter_02/02-09_binary-search'...\n",
      "warning: You appear to have cloned an empty repository.\n",
      "fatal: You are on a branch yet to be born\n",
      "fatal: unable to checkout submodule 'excercises/Chapter_02/02-09_binary-search'\n"
     ]
    },
    {
     "name": "stdout",
     "output_type": "stream",
     "text": [
      "[main (root-commit) 0530eb9] initial\n",
      " 5 files changed, 127 insertions(+)\n",
      " create mode 100644 .docs/instructions.append.md\n",
      " create mode 100644 .docs/instructions.md\n",
      " create mode 120000 README.md\n",
      " create mode 100644 binary_search.py\n",
      " create mode 100644 binary_search_test.py\n"
     ]
    },
    {
     "name": "stderr",
     "output_type": "stream",
     "text": [
      "To github.com:DB-Teaching/02-09_binary-search\n",
      " * [new branch]      main -> main\n"
     ]
    },
    {
     "name": "stdout",
     "output_type": "stream",
     "text": [
      "https://github.com/DB-Teaching/02-10_reverse-string\n"
     ]
    },
    {
     "name": "stderr",
     "output_type": "stream",
     "text": [
      "Cloning into '/Users/dboehler/Library/CloudStorage/OneDrive-th-deg.de/Teaching/22S/SWEN/excercises/Chapter_02/02-10_reverse-string'...\n",
      "warning: You appear to have cloned an empty repository.\n",
      "fatal: You are on a branch yet to be born\n",
      "fatal: unable to checkout submodule 'excercises/Chapter_02/02-10_reverse-string'\n"
     ]
    },
    {
     "name": "stdout",
     "output_type": "stream",
     "text": [
      "[main (root-commit) 6037855] initial\n",
      " 4 files changed, 41 insertions(+)\n",
      " create mode 100644 .docs/instructions.md\n",
      " create mode 120000 README.md\n",
      " create mode 100644 reverse_string.py\n",
      " create mode 100644 reverse_string_test.py\n"
     ]
    },
    {
     "name": "stderr",
     "output_type": "stream",
     "text": [
      "To github.com:DB-Teaching/02-10_reverse-string\n",
      " * [new branch]      main -> main\n"
     ]
    },
    {
     "name": "stdout",
     "output_type": "stream",
     "text": [
      "https://github.com/DB-Teaching/02-11_isbn-verifier\n"
     ]
    },
    {
     "name": "stderr",
     "output_type": "stream",
     "text": [
      "Cloning into '/Users/dboehler/Library/CloudStorage/OneDrive-th-deg.de/Teaching/22S/SWEN/excercises/Chapter_02/02-11_isbn-verifier'...\n",
      "warning: You appear to have cloned an empty repository.\n",
      "fatal: You are on a branch yet to be born\n",
      "fatal: unable to checkout submodule 'excercises/Chapter_02/02-11_isbn-verifier'\n"
     ]
    },
    {
     "name": "stdout",
     "output_type": "stream",
     "text": [
      "[main (root-commit) b8f6d56] initial\n",
      " 4 files changed, 112 insertions(+)\n",
      " create mode 100644 .docs/instructions.md\n",
      " create mode 120000 README.md\n",
      " create mode 100644 isbn_verifier.py\n",
      " create mode 100644 isbn_verifier_test.py\n"
     ]
    },
    {
     "name": "stderr",
     "output_type": "stream",
     "text": [
      "To github.com:DB-Teaching/02-11_isbn-verifier\n",
      " * [new branch]      main -> main\n"
     ]
    },
    {
     "name": "stdout",
     "output_type": "stream",
     "text": [
      "https://github.com/DB-Teaching/02-12_rna-transcription\n"
     ]
    },
    {
     "name": "stderr",
     "output_type": "stream",
     "text": [
      "Cloning into '/Users/dboehler/Library/CloudStorage/OneDrive-th-deg.de/Teaching/22S/SWEN/excercises/Chapter_02/02-12_rna-transcription'...\n",
      "warning: You appear to have cloned an empty repository.\n",
      "fatal: You are on a branch yet to be born\n",
      "fatal: unable to checkout submodule 'excercises/Chapter_02/02-12_rna-transcription'\n"
     ]
    },
    {
     "name": "stdout",
     "output_type": "stream",
     "text": [
      "[main (root-commit) e3c54c7] initial\n",
      " 4 files changed, 53 insertions(+)\n",
      " create mode 100644 .docs/instructions.md\n",
      " create mode 120000 README.md\n",
      " create mode 100644 rna_transcription.py\n",
      " create mode 100644 rna_transcription_test.py\n"
     ]
    },
    {
     "name": "stderr",
     "output_type": "stream",
     "text": [
      "To github.com:DB-Teaching/02-12_rna-transcription\n",
      " * [new branch]      main -> main\n"
     ]
    },
    {
     "name": "stdout",
     "output_type": "stream",
     "text": [
      "https://github.com/DB-Teaching/02-13_pig-latin\n"
     ]
    },
    {
     "name": "stderr",
     "output_type": "stream",
     "text": [
      "Cloning into '/Users/dboehler/Library/CloudStorage/OneDrive-th-deg.de/Teaching/22S/SWEN/excercises/Chapter_02/02-13_pig-latin'...\n",
      "warning: You appear to have cloned an empty repository.\n",
      "fatal: You are on a branch yet to be born\n",
      "fatal: unable to checkout submodule 'excercises/Chapter_02/02-13_pig-latin'\n"
     ]
    },
    {
     "name": "stdout",
     "output_type": "stream",
     "text": [
      "[main (root-commit) 53dbff0] initial\n",
      " 4 files changed, 100 insertions(+)\n",
      " create mode 100644 .docs/instructions.md\n",
      " create mode 120000 README.md\n",
      " create mode 100644 pig_latin.py\n",
      " create mode 100644 pig_latin_test.py\n"
     ]
    },
    {
     "name": "stderr",
     "output_type": "stream",
     "text": [
      "To github.com:DB-Teaching/02-13_pig-latin\n",
      " * [new branch]      main -> main\n"
     ]
    },
    {
     "name": "stdout",
     "output_type": "stream",
     "text": [
      "https://github.com/DB-Teaching/02-14_darts\n"
     ]
    },
    {
     "name": "stderr",
     "output_type": "stream",
     "text": [
      "Cloning into '/Users/dboehler/Library/CloudStorage/OneDrive-th-deg.de/Teaching/22S/SWEN/excercises/Chapter_02/02-14_darts'...\n",
      "warning: You appear to have cloned an empty repository.\n",
      "fatal: You are on a branch yet to be born\n",
      "fatal: unable to checkout submodule 'excercises/Chapter_02/02-14_darts'\n"
     ]
    },
    {
     "name": "stdout",
     "output_type": "stream",
     "text": [
      "[main (root-commit) 7a733b1] initial\n",
      " 4 files changed, 72 insertions(+)\n",
      " create mode 100644 .docs/instructions.md\n",
      " create mode 120000 README.md\n",
      " create mode 100644 darts.py\n",
      " create mode 100644 darts_test.py\n"
     ]
    },
    {
     "name": "stderr",
     "output_type": "stream",
     "text": [
      "To github.com:DB-Teaching/02-14_darts\n",
      " * [new branch]      main -> main\n"
     ]
    },
    {
     "name": "stdout",
     "output_type": "stream",
     "text": [
      "https://github.com/DB-Teaching/03-01_phone-number\n"
     ]
    },
    {
     "name": "stderr",
     "output_type": "stream",
     "text": [
      "Cloning into '/Users/dboehler/Library/CloudStorage/OneDrive-th-deg.de/Teaching/22S/SWEN/excercises/Chapter_03/03-01_phone-number'...\n",
      "warning: You appear to have cloned an empty repository.\n",
      "fatal: You are on a branch yet to be born\n",
      "fatal: unable to checkout submodule 'excercises/Chapter_03/03-01_phone-number'\n"
     ]
    },
    {
     "name": "stdout",
     "output_type": "stream",
     "text": [
      "[main (root-commit) f1328f7] initial\n",
      " 5 files changed, 191 insertions(+)\n",
      " create mode 100644 .docs/instructions.append.md\n",
      " create mode 100644 .docs/instructions.md\n",
      " create mode 120000 README.md\n",
      " create mode 100644 phone_number.py\n",
      " create mode 100644 phone_number_test.py\n"
     ]
    },
    {
     "name": "stderr",
     "output_type": "stream",
     "text": [
      "To github.com:DB-Teaching/03-01_phone-number\n",
      " * [new branch]      main -> main\n"
     ]
    },
    {
     "name": "stdout",
     "output_type": "stream",
     "text": [
      "https://github.com/DB-Teaching/03-02_armstrong-numbers\n"
     ]
    },
    {
     "name": "stderr",
     "output_type": "stream",
     "text": [
      "Cloning into '/Users/dboehler/Library/CloudStorage/OneDrive-th-deg.de/Teaching/22S/SWEN/excercises/Chapter_03/03-02_armstrong-numbers'...\n",
      "warning: You appear to have cloned an empty repository.\n",
      "fatal: You are on a branch yet to be born\n",
      "fatal: unable to checkout submodule 'excercises/Chapter_03/03-02_armstrong-numbers'\n"
     ]
    },
    {
     "name": "stdout",
     "output_type": "stream",
     "text": [
      "[main (root-commit) 504801c] initial\n",
      " 4 files changed, 55 insertions(+)\n",
      " create mode 100644 .docs/instructions.md\n",
      " create mode 120000 README.md\n",
      " create mode 100644 armstrong_numbers.py\n",
      " create mode 100644 armstrong_numbers_test.py\n"
     ]
    },
    {
     "name": "stderr",
     "output_type": "stream",
     "text": [
      "To github.com:DB-Teaching/03-02_armstrong-numbers\n",
      " * [new branch]      main -> main\n"
     ]
    },
    {
     "name": "stdout",
     "output_type": "stream",
     "text": [
      "https://github.com/DB-Teaching/03-03_nth-prime\n"
     ]
    },
    {
     "name": "stderr",
     "output_type": "stream",
     "text": [
      "Cloning into '/Users/dboehler/Library/CloudStorage/OneDrive-th-deg.de/Teaching/22S/SWEN/excercises/Chapter_03/03-03_nth-prime'...\n",
      "warning: You appear to have cloned an empty repository.\n",
      "fatal: You are on a branch yet to be born\n",
      "fatal: unable to checkout submodule 'excercises/Chapter_03/03-03_nth-prime'\n"
     ]
    },
    {
     "name": "stdout",
     "output_type": "stream",
     "text": [
      "[main (root-commit) f45b2d7] initial\n",
      " 5 files changed, 87 insertions(+)\n",
      " create mode 100644 .docs/instructions.append.md\n",
      " create mode 100644 .docs/instructions.md\n",
      " create mode 120000 README.md\n",
      " create mode 100644 nth_prime.py\n",
      " create mode 100644 nth_prime_test.py\n"
     ]
    },
    {
     "name": "stderr",
     "output_type": "stream",
     "text": [
      "To github.com:DB-Teaching/03-03_nth-prime\n",
      " * [new branch]      main -> main\n"
     ]
    },
    {
     "name": "stdout",
     "output_type": "stream",
     "text": [
      "https://github.com/DB-Teaching/03-04_sum-of-multiples\n"
     ]
    },
    {
     "name": "stderr",
     "output_type": "stream",
     "text": [
      "Cloning into '/Users/dboehler/Library/CloudStorage/OneDrive-th-deg.de/Teaching/22S/SWEN/excercises/Chapter_03/03-04_sum-of-multiples'...\n",
      "warning: You appear to have cloned an empty repository.\n",
      "fatal: You are on a branch yet to be born\n",
      "fatal: unable to checkout submodule 'excercises/Chapter_03/03-04_sum-of-multiples'\n"
     ]
    },
    {
     "name": "stdout",
     "output_type": "stream",
     "text": [
      "[main (root-commit) 961786b] initial\n",
      " 5 files changed, 83 insertions(+)\n",
      " create mode 100644 .docs/instructions.append.md\n",
      " create mode 100644 .docs/instructions.md\n",
      " create mode 120000 README.md\n",
      " create mode 100644 sum_of_multiples.py\n",
      " create mode 100644 sum_of_multiples_test.py\n"
     ]
    },
    {
     "name": "stderr",
     "output_type": "stream",
     "text": [
      "To github.com:DB-Teaching/03-04_sum-of-multiples\n",
      " * [new branch]      main -> main\n"
     ]
    },
    {
     "name": "stdout",
     "output_type": "stream",
     "text": [
      "https://github.com/DB-Teaching/03-05_prime-factors\n"
     ]
    },
    {
     "name": "stderr",
     "output_type": "stream",
     "text": [
      "Cloning into '/Users/dboehler/Library/CloudStorage/OneDrive-th-deg.de/Teaching/22S/SWEN/excercises/Chapter_03/03-05_prime-factors'...\n",
      "warning: You appear to have cloned an empty repository.\n",
      "fatal: You are on a branch yet to be born\n",
      "fatal: unable to checkout submodule 'excercises/Chapter_03/03-05_prime-factors'\n"
     ]
    },
    {
     "name": "stdout",
     "output_type": "stream",
     "text": [
      "[main (root-commit) 63792b8] initial\n",
      " 4 files changed, 75 insertions(+)\n",
      " create mode 100644 .docs/instructions.md\n",
      " create mode 120000 README.md\n",
      " create mode 100644 prime_factors.py\n",
      " create mode 100644 prime_factors_test.py\n"
     ]
    },
    {
     "name": "stderr",
     "output_type": "stream",
     "text": [
      "To github.com:DB-Teaching/03-05_prime-factors\n",
      " * [new branch]      main -> main\n"
     ]
    },
    {
     "name": "stdout",
     "output_type": "stream",
     "text": [
      "https://github.com/DB-Teaching/03-06_beer-song\n"
     ]
    },
    {
     "name": "stderr",
     "output_type": "stream",
     "text": [
      "Cloning into '/Users/dboehler/Library/CloudStorage/OneDrive-th-deg.de/Teaching/22S/SWEN/excercises/Chapter_03/03-06_beer-song'...\n",
      "warning: You appear to have cloned an empty repository.\n",
      "fatal: You are on a branch yet to be born\n",
      "fatal: unable to checkout submodule 'excercises/Chapter_03/03-06_beer-song'\n"
     ]
    },
    {
     "name": "stdout",
     "output_type": "stream",
     "text": [
      "[main (root-commit) 906bae3] initial\n",
      " 4 files changed, 699 insertions(+)\n",
      " create mode 100644 .docs/instructions.md\n",
      " create mode 120000 README.md\n",
      " create mode 100644 beer_song.py\n",
      " create mode 100644 beer_song_test.py\n"
     ]
    },
    {
     "name": "stderr",
     "output_type": "stream",
     "text": [
      "To github.com:DB-Teaching/03-06_beer-song\n",
      " * [new branch]      main -> main\n"
     ]
    },
    {
     "name": "stdout",
     "output_type": "stream",
     "text": [
      "https://github.com/DB-Teaching/03-07_flatten-array\n"
     ]
    },
    {
     "name": "stderr",
     "output_type": "stream",
     "text": [
      "Cloning into '/Users/dboehler/Library/CloudStorage/OneDrive-th-deg.de/Teaching/22S/SWEN/excercises/Chapter_03/03-07_flatten-array'...\n",
      "warning: You appear to have cloned an empty repository.\n",
      "fatal: You are on a branch yet to be born\n",
      "fatal: unable to checkout submodule 'excercises/Chapter_03/03-07_flatten-array'\n"
     ]
    },
    {
     "name": "stdout",
     "output_type": "stream",
     "text": [
      "[main (root-commit) a41e2df] initial\n",
      " 4 files changed, 57 insertions(+)\n",
      " create mode 100644 .docs/instructions.md\n",
      " create mode 120000 README.md\n",
      " create mode 100644 flatten_array.py\n",
      " create mode 100644 flatten_array_test.py\n"
     ]
    },
    {
     "name": "stderr",
     "output_type": "stream",
     "text": [
      "To github.com:DB-Teaching/03-07_flatten-array\n",
      " * [new branch]      main -> main\n"
     ]
    },
    {
     "name": "stdout",
     "output_type": "stream",
     "text": [
      "https://github.com/DB-Teaching/03-08_atbash-cipher\n"
     ]
    },
    {
     "name": "stderr",
     "output_type": "stream",
     "text": [
      "Cloning into '/Users/dboehler/Library/CloudStorage/OneDrive-th-deg.de/Teaching/22S/SWEN/excercises/Chapter_03/03-08_atbash-cipher'...\n",
      "warning: You appear to have cloned an empty repository.\n",
      "fatal: You are on a branch yet to be born\n",
      "fatal: unable to checkout submodule 'excercises/Chapter_03/03-08_atbash-cipher'\n"
     ]
    },
    {
     "name": "stdout",
     "output_type": "stream",
     "text": [
      "[main (root-commit) 895872f] initial\n",
      " 4 files changed, 103 insertions(+)\n",
      " create mode 100644 .docs/instructions.md\n",
      " create mode 120000 README.md\n",
      " create mode 100644 atbash_cipher.py\n",
      " create mode 100644 atbash_cipher_test.py\n"
     ]
    },
    {
     "name": "stderr",
     "output_type": "stream",
     "text": [
      "To github.com:DB-Teaching/03-08_atbash-cipher\n",
      " * [new branch]      main -> main\n"
     ]
    },
    {
     "name": "stdout",
     "output_type": "stream",
     "text": [
      "https://github.com/DB-Teaching/03-09_series\n"
     ]
    },
    {
     "name": "stderr",
     "output_type": "stream",
     "text": [
      "Cloning into '/Users/dboehler/Library/CloudStorage/OneDrive-th-deg.de/Teaching/22S/SWEN/excercises/Chapter_03/03-09_series'...\n",
      "warning: You appear to have cloned an empty repository.\n",
      "fatal: You are on a branch yet to be born\n",
      "fatal: unable to checkout submodule 'excercises/Chapter_03/03-09_series'\n"
     ]
    },
    {
     "name": "stdout",
     "output_type": "stream",
     "text": [
      "[main (root-commit) de23704] initial\n",
      " 5 files changed, 103 insertions(+)\n",
      " create mode 100644 .docs/instructions.append.md\n",
      " create mode 100644 .docs/instructions.md\n",
      " create mode 120000 README.md\n",
      " create mode 100644 series.py\n",
      " create mode 100644 series_test.py\n"
     ]
    },
    {
     "name": "stderr",
     "output_type": "stream",
     "text": [
      "To github.com:DB-Teaching/03-09_series\n",
      " * [new branch]      main -> main\n"
     ]
    },
    {
     "name": "stdout",
     "output_type": "stream",
     "text": [
      "https://github.com/DB-Teaching/03-10_anagram\n"
     ]
    },
    {
     "name": "stderr",
     "output_type": "stream",
     "text": [
      "Cloning into '/Users/dboehler/Library/CloudStorage/OneDrive-th-deg.de/Teaching/22S/SWEN/excercises/Chapter_03/03-10_anagram'...\n",
      "warning: You appear to have cloned an empty repository.\n",
      "fatal: You are on a branch yet to be born\n",
      "fatal: unable to checkout submodule 'excercises/Chapter_03/03-10_anagram'\n"
     ]
    },
    {
     "name": "stdout",
     "output_type": "stream",
     "text": [
      "[main (root-commit) 0d3acc1] initial\n",
      " 4 files changed, 90 insertions(+)\n",
      " create mode 100644 .docs/instructions.md\n",
      " create mode 120000 README.md\n",
      " create mode 100644 anagram.py\n",
      " create mode 100644 anagram_test.py\n"
     ]
    },
    {
     "name": "stderr",
     "output_type": "stream",
     "text": [
      "To github.com:DB-Teaching/03-10_anagram\n",
      " * [new branch]      main -> main\n"
     ]
    },
    {
     "name": "stdout",
     "output_type": "stream",
     "text": [
      "https://github.com/DB-Teaching/03-11_resistor-color\n"
     ]
    },
    {
     "name": "stderr",
     "output_type": "stream",
     "text": [
      "Cloning into '/Users/dboehler/Library/CloudStorage/OneDrive-th-deg.de/Teaching/22S/SWEN/excercises/Chapter_03/03-11_resistor-color'...\n",
      "warning: You appear to have cloned an empty repository.\n",
      "fatal: You are on a branch yet to be born\n",
      "fatal: unable to checkout submodule 'excercises/Chapter_03/03-11_resistor-color'\n"
     ]
    },
    {
     "name": "stdout",
     "output_type": "stream",
     "text": [
      "[main (root-commit) 62395ec] initial\n",
      " 4 files changed, 80 insertions(+)\n",
      " create mode 100644 .docs/instructions.md\n",
      " create mode 120000 README.md\n",
      " create mode 100644 resistor_color.py\n",
      " create mode 100644 resistor_color_test.py\n"
     ]
    },
    {
     "name": "stderr",
     "output_type": "stream",
     "text": [
      "To github.com:DB-Teaching/03-11_resistor-color\n",
      " * [new branch]      main -> main\n"
     ]
    },
    {
     "name": "stdout",
     "output_type": "stream",
     "text": [
      "https://github.com/DB-Teaching/03-12_list-ops\n"
     ]
    },
    {
     "name": "stderr",
     "output_type": "stream",
     "text": [
      "Cloning into '/Users/dboehler/Library/CloudStorage/OneDrive-th-deg.de/Teaching/22S/SWEN/excercises/Chapter_03/03-12_list-ops'...\n",
      "warning: You appear to have cloned an empty repository.\n",
      "fatal: You are on a branch yet to be born\n",
      "fatal: unable to checkout submodule 'excercises/Chapter_03/03-12_list-ops'\n"
     ]
    },
    {
     "name": "stdout",
     "output_type": "stream",
     "text": [
      "[main (root-commit) 6346970] initial\n",
      " 4 files changed, 153 insertions(+)\n",
      " create mode 100644 .docs/instructions.md\n",
      " create mode 120000 README.md\n",
      " create mode 100644 list_ops.py\n",
      " create mode 100644 list_ops_test.py\n"
     ]
    },
    {
     "name": "stderr",
     "output_type": "stream",
     "text": [
      "To github.com:DB-Teaching/03-12_list-ops\n",
      " * [new branch]      main -> main\n"
     ]
    },
    {
     "name": "stdout",
     "output_type": "stream",
     "text": [
      "https://github.com/DB-Teaching/03-13_house\n"
     ]
    },
    {
     "name": "stderr",
     "output_type": "stream",
     "text": [
      "Cloning into '/Users/dboehler/Library/CloudStorage/OneDrive-th-deg.de/Teaching/22S/SWEN/excercises/Chapter_03/03-13_house'...\n",
      "warning: You appear to have cloned an empty repository.\n",
      "fatal: You are on a branch yet to be born\n",
      "fatal: unable to checkout submodule 'excercises/Chapter_03/03-13_house'\n"
     ]
    },
    {
     "name": "stdout",
     "output_type": "stream",
     "text": [
      "[main (root-commit) e70bdf3] initial\n",
      " 4 files changed, 241 insertions(+)\n",
      " create mode 100644 .docs/instructions.md\n",
      " create mode 120000 README.md\n",
      " create mode 100644 house.py\n",
      " create mode 100644 house_test.py\n"
     ]
    },
    {
     "name": "stderr",
     "output_type": "stream",
     "text": [
      "To github.com:DB-Teaching/03-13_house\n",
      " * [new branch]      main -> main\n"
     ]
    },
    {
     "name": "stdout",
     "output_type": "stream",
     "text": [
      "https://github.com/DB-Teaching/03-14_resistor-color-duo\n"
     ]
    },
    {
     "name": "stderr",
     "output_type": "stream",
     "text": [
      "Cloning into '/Users/dboehler/Library/CloudStorage/OneDrive-th-deg.de/Teaching/22S/SWEN/excercises/Chapter_03/03-14_resistor-color-duo'...\n",
      "warning: You appear to have cloned an empty repository.\n",
      "fatal: You are on a branch yet to be born\n",
      "fatal: unable to checkout submodule 'excercises/Chapter_03/03-14_resistor-color-duo'\n"
     ]
    },
    {
     "name": "stdout",
     "output_type": "stream",
     "text": [
      "[main (root-commit) 758f202] initial\n",
      " 4 files changed, 66 insertions(+)\n",
      " create mode 100644 .docs/instructions.md\n",
      " create mode 120000 README.md\n",
      " create mode 100644 resistor_color_duo.py\n",
      " create mode 100644 resistor_color_duo_test.py\n"
     ]
    },
    {
     "name": "stderr",
     "output_type": "stream",
     "text": [
      "To github.com:DB-Teaching/03-14_resistor-color-duo\n",
      " * [new branch]      main -> main\n"
     ]
    },
    {
     "name": "stdout",
     "output_type": "stream",
     "text": [
      "https://github.com/DB-Teaching/03-15_high-scores\n"
     ]
    },
    {
     "name": "stderr",
     "output_type": "stream",
     "text": [
      "Cloning into '/Users/dboehler/Library/CloudStorage/OneDrive-th-deg.de/Teaching/22S/SWEN/excercises/Chapter_03/03-15_high-scores'...\n",
      "warning: You appear to have cloned an empty repository.\n",
      "fatal: You are on a branch yet to be born\n",
      "fatal: unable to checkout submodule 'excercises/Chapter_03/03-15_high-scores'\n"
     ]
    },
    {
     "name": "stdout",
     "output_type": "stream",
     "text": [
      "[main (root-commit) 41431dc] initial\n",
      " 5 files changed, 69 insertions(+)\n",
      " create mode 100644 .docs/instructions.append.md\n",
      " create mode 100644 .docs/instructions.md\n",
      " create mode 120000 README.md\n",
      " create mode 100644 high_scores.py\n",
      " create mode 100644 high_scores_test.py\n"
     ]
    },
    {
     "name": "stderr",
     "output_type": "stream",
     "text": [
      "To github.com:DB-Teaching/03-15_high-scores\n",
      " * [new branch]      main -> main\n"
     ]
    },
    {
     "name": "stdout",
     "output_type": "stream",
     "text": [
      "https://github.com/DB-Teaching/04-01_etl\n"
     ]
    },
    {
     "name": "stderr",
     "output_type": "stream",
     "text": [
      "Cloning into '/Users/dboehler/Library/CloudStorage/OneDrive-th-deg.de/Teaching/22S/SWEN/excercises/Chapter_04/04-01_etl'...\n",
      "warning: You appear to have cloned an empty repository.\n",
      "fatal: You are on a branch yet to be born\n",
      "fatal: unable to checkout submodule 'excercises/Chapter_04/04-01_etl'\n"
     ]
    },
    {
     "name": "stdout",
     "output_type": "stream",
     "text": [
      "[main (root-commit) b014bdc] initial\n",
      " 4 files changed, 118 insertions(+)\n",
      " create mode 100644 .docs/instructions.md\n",
      " create mode 120000 README.md\n",
      " create mode 100644 etl.py\n",
      " create mode 100644 etl_test.py\n"
     ]
    },
    {
     "name": "stderr",
     "output_type": "stream",
     "text": [
      "To github.com:DB-Teaching/04-01_etl\n",
      " * [new branch]      main -> main\n"
     ]
    },
    {
     "name": "stdout",
     "output_type": "stream",
     "text": [
      "https://github.com/DB-Teaching/04-02_say\n"
     ]
    },
    {
     "name": "stderr",
     "output_type": "stream",
     "text": [
      "Cloning into '/Users/dboehler/Library/CloudStorage/OneDrive-th-deg.de/Teaching/22S/SWEN/excercises/Chapter_04/04-02_say'...\n",
      "warning: You appear to have cloned an empty repository.\n",
      "fatal: You are on a branch yet to be born\n",
      "fatal: unable to checkout submodule 'excercises/Chapter_04/04-02_say'\n"
     ]
    },
    {
     "name": "stdout",
     "output_type": "stream",
     "text": [
      "[main (root-commit) 1e4f13d] initial\n",
      " 5 files changed, 154 insertions(+)\n",
      " create mode 100644 .docs/instructions.append.md\n",
      " create mode 100644 .docs/instructions.md\n",
      " create mode 120000 README.md\n",
      " create mode 100644 say.py\n",
      " create mode 100644 say_test.py\n"
     ]
    },
    {
     "name": "stderr",
     "output_type": "stream",
     "text": [
      "To github.com:DB-Teaching/04-02_say\n",
      " * [new branch]      main -> main\n"
     ]
    },
    {
     "name": "stdout",
     "output_type": "stream",
     "text": [
      "https://github.com/DB-Teaching/04-03_wordy\n"
     ]
    },
    {
     "name": "stderr",
     "output_type": "stream",
     "text": [
      "Cloning into '/Users/dboehler/Library/CloudStorage/OneDrive-th-deg.de/Teaching/22S/SWEN/excercises/Chapter_04/04-03_wordy'...\n",
      "warning: You appear to have cloned an empty repository.\n",
      "fatal: You are on a branch yet to be born\n",
      "fatal: unable to checkout submodule 'excercises/Chapter_04/04-03_wordy'\n"
     ]
    },
    {
     "name": "stdout",
     "output_type": "stream",
     "text": [
      "[main (root-commit) 1dfad63] initial\n",
      " 5 files changed, 204 insertions(+)\n",
      " create mode 100644 .docs/instructions.append.md\n",
      " create mode 100644 .docs/instructions.md\n",
      " create mode 120000 README.md\n",
      " create mode 100644 wordy.py\n",
      " create mode 100644 wordy_test.py\n"
     ]
    },
    {
     "name": "stderr",
     "output_type": "stream",
     "text": [
      "To github.com:DB-Teaching/04-03_wordy\n",
      " * [new branch]      main -> main\n"
     ]
    },
    {
     "name": "stdout",
     "output_type": "stream",
     "text": [
      "https://github.com/DB-Teaching/04-04_crypto-square\n"
     ]
    },
    {
     "name": "stderr",
     "output_type": "stream",
     "text": [
      "Cloning into '/Users/dboehler/Library/CloudStorage/OneDrive-th-deg.de/Teaching/22S/SWEN/excercises/Chapter_04/04-04_crypto-square'...\n",
      "warning: You appear to have cloned an empty repository.\n",
      "fatal: You are on a branch yet to be born\n",
      "fatal: unable to checkout submodule 'excercises/Chapter_04/04-04_crypto-square'\n"
     ]
    },
    {
     "name": "stdout",
     "output_type": "stream",
     "text": [
      "[main (root-commit) b8edcde] initial\n",
      " 4 files changed, 128 insertions(+)\n",
      " create mode 100644 .docs/instructions.md\n",
      " create mode 120000 README.md\n",
      " create mode 100644 crypto_square.py\n",
      " create mode 100644 crypto_square_test.py\n"
     ]
    },
    {
     "name": "stderr",
     "output_type": "stream",
     "text": [
      "To github.com:DB-Teaching/04-04_crypto-square\n",
      " * [new branch]      main -> main\n"
     ]
    },
    {
     "name": "stdout",
     "output_type": "stream",
     "text": [
      "https://github.com/DB-Teaching/04-04_hamming\n"
     ]
    },
    {
     "name": "stderr",
     "output_type": "stream",
     "text": [
      "Cloning into '/Users/dboehler/Library/CloudStorage/OneDrive-th-deg.de/Teaching/22S/SWEN/excercises/Chapter_04/04-04_hamming'...\n",
      "warning: You appear to have cloned an empty repository.\n",
      "fatal: You are on a branch yet to be born\n",
      "fatal: unable to checkout submodule 'excercises/Chapter_04/04-04_hamming'\n"
     ]
    },
    {
     "name": "stdout",
     "output_type": "stream",
     "text": [
      "[main (root-commit) 094e99f] initial\n",
      " 5 files changed, 99 insertions(+)\n",
      " create mode 100644 .docs/instructions.append.md\n",
      " create mode 100644 .docs/instructions.md\n",
      " create mode 120000 README.md\n",
      " create mode 100644 hamming.py\n",
      " create mode 100644 hamming_test.py\n"
     ]
    },
    {
     "name": "stderr",
     "output_type": "stream",
     "text": [
      "To github.com:DB-Teaching/04-04_hamming\n",
      " * [new branch]      main -> main\n"
     ]
    },
    {
     "name": "stdout",
     "output_type": "stream",
     "text": [
      "https://github.com/DB-Teaching/04-05_matrix\n"
     ]
    },
    {
     "name": "stderr",
     "output_type": "stream",
     "text": [
      "Cloning into '/Users/dboehler/Library/CloudStorage/OneDrive-th-deg.de/Teaching/22S/SWEN/excercises/Chapter_04/04-05_matrix'...\n",
      "warning: You appear to have cloned an empty repository.\n",
      "fatal: You are on a branch yet to be born\n",
      "fatal: unable to checkout submodule 'excercises/Chapter_04/04-05_matrix'\n"
     ]
    },
    {
     "name": "stdout",
     "output_type": "stream",
     "text": [
      "[main (root-commit) 81f8e63] initial\n",
      " 5 files changed, 103 insertions(+)\n",
      " create mode 100644 .docs/instructions.append.md\n",
      " create mode 100644 .docs/instructions.md\n",
      " create mode 120000 README.md\n",
      " create mode 100644 matrix.py\n",
      " create mode 100644 matrix_test.py\n"
     ]
    },
    {
     "name": "stderr",
     "output_type": "stream",
     "text": [
      "To github.com:DB-Teaching/04-05_matrix\n",
      " * [new branch]      main -> main\n"
     ]
    },
    {
     "name": "stdout",
     "output_type": "stream",
     "text": [
      "https://github.com/DB-Teaching/04-06_minesweeper\n"
     ]
    },
    {
     "name": "stderr",
     "output_type": "stream",
     "text": [
      "Cloning into '/Users/dboehler/Library/CloudStorage/OneDrive-th-deg.de/Teaching/22S/SWEN/excercises/Chapter_04/04-06_minesweeper'...\n",
      "warning: You appear to have cloned an empty repository.\n",
      "fatal: You are on a branch yet to be born\n",
      "fatal: unable to checkout submodule 'excercises/Chapter_04/04-06_minesweeper'\n"
     ]
    },
    {
     "name": "stdout",
     "output_type": "stream",
     "text": [
      "[main (root-commit) 8ba39c2] initial\n",
      " 5 files changed, 129 insertions(+)\n",
      " create mode 100644 .docs/instructions.append.md\n",
      " create mode 100644 .docs/instructions.md\n",
      " create mode 120000 README.md\n",
      " create mode 100644 minesweeper.py\n",
      " create mode 100644 minesweeper_test.py\n"
     ]
    },
    {
     "name": "stderr",
     "output_type": "stream",
     "text": [
      "To github.com:DB-Teaching/04-06_minesweeper\n",
      " * [new branch]      main -> main\n"
     ]
    },
    {
     "name": "stdout",
     "output_type": "stream",
     "text": [
      "https://github.com/DB-Teaching/04-07_palindrome-products\n"
     ]
    },
    {
     "name": "stderr",
     "output_type": "stream",
     "text": [
      "Cloning into '/Users/dboehler/Library/CloudStorage/OneDrive-th-deg.de/Teaching/22S/SWEN/excercises/Chapter_04/04-07_palindrome-products'...\n",
      "warning: You appear to have cloned an empty repository.\n",
      "fatal: You are on a branch yet to be born\n",
      "fatal: unable to checkout submodule 'excercises/Chapter_04/04-07_palindrome-products'\n"
     ]
    },
    {
     "name": "stdout",
     "output_type": "stream",
     "text": [
      "[main (root-commit) 4de41e9] initial\n",
      " 5 files changed, 158 insertions(+)\n",
      " create mode 100644 .docs/instructions.append.md\n",
      " create mode 100644 .docs/instructions.md\n",
      " create mode 120000 README.md\n",
      " create mode 100644 palindrome_products.py\n",
      " create mode 100644 palindrome_products_test.py\n"
     ]
    },
    {
     "name": "stderr",
     "output_type": "stream",
     "text": [
      "To github.com:DB-Teaching/04-07_palindrome-products\n",
      " * [new branch]      main -> main\n"
     ]
    },
    {
     "name": "stdout",
     "output_type": "stream",
     "text": [
      "https://github.com/DB-Teaching/04-08_raindrops\n"
     ]
    },
    {
     "name": "stderr",
     "output_type": "stream",
     "text": [
      "Cloning into '/Users/dboehler/Library/CloudStorage/OneDrive-th-deg.de/Teaching/22S/SWEN/excercises/Chapter_04/04-08_raindrops'...\n",
      "warning: You appear to have cloned an empty repository.\n",
      "fatal: You are on a branch yet to be born\n",
      "fatal: unable to checkout submodule 'excercises/Chapter_04/04-08_raindrops'\n"
     ]
    },
    {
     "name": "stdout",
     "output_type": "stream",
     "text": [
      "[main (root-commit) e19445c] initial\n",
      " 4 files changed, 88 insertions(+)\n",
      " create mode 100644 .docs/instructions.md\n",
      " create mode 120000 README.md\n",
      " create mode 100644 raindrops.py\n",
      " create mode 100644 raindrops_test.py\n"
     ]
    },
    {
     "name": "stderr",
     "output_type": "stream",
     "text": [
      "To github.com:DB-Teaching/04-08_raindrops\n",
      " * [new branch]      main -> main\n"
     ]
    },
    {
     "name": "stdout",
     "output_type": "stream",
     "text": [
      "https://github.com/DB-Teaching/04-09_robot-name\n"
     ]
    },
    {
     "name": "stderr",
     "output_type": "stream",
     "text": [
      "Cloning into '/Users/dboehler/Library/CloudStorage/OneDrive-th-deg.de/Teaching/22S/SWEN/excercises/Chapter_04/04-09_robot-name'...\n",
      "warning: You appear to have cloned an empty repository.\n",
      "fatal: You are on a branch yet to be born\n",
      "fatal: unable to checkout submodule 'excercises/Chapter_04/04-09_robot-name'\n"
     ]
    },
    {
     "name": "stdout",
     "output_type": "stream",
     "text": [
      "[main (root-commit) cc286e6] initial\n",
      " 4 files changed, 71 insertions(+)\n",
      " create mode 100644 .docs/instructions.md\n",
      " create mode 120000 README.md\n",
      " create mode 100644 robot_name.py\n",
      " create mode 100644 robot_name_test.py\n"
     ]
    },
    {
     "name": "stderr",
     "output_type": "stream",
     "text": [
      "To github.com:DB-Teaching/04-09_robot-name\n",
      " * [new branch]      main -> main\n"
     ]
    },
    {
     "name": "stdout",
     "output_type": "stream",
     "text": [
      "https://github.com/DB-Teaching/05-01_robot-simulator\n"
     ]
    },
    {
     "name": "stderr",
     "output_type": "stream",
     "text": [
      "Cloning into '/Users/dboehler/Library/CloudStorage/OneDrive-th-deg.de/Teaching/22S/SWEN/excercises/Chapter_05/05-01_robot-simulator'...\n",
      "warning: You appear to have cloned an empty repository.\n",
      "fatal: You are on a branch yet to be born\n",
      "fatal: unable to checkout submodule 'excercises/Chapter_05/05-01_robot-simulator'\n"
     ]
    },
    {
     "name": "stdout",
     "output_type": "stream",
     "text": [
      "[main (root-commit) 9b89c64] initial\n",
      " 4 files changed, 183 insertions(+)\n",
      " create mode 100644 .docs/instructions.md\n",
      " create mode 120000 README.md\n",
      " create mode 100644 robot_simulator.py\n",
      " create mode 100644 robot_simulator_test.py\n"
     ]
    },
    {
     "name": "stderr",
     "output_type": "stream",
     "text": [
      "To github.com:DB-Teaching/05-01_robot-simulator\n",
      " * [new branch]      main -> main\n"
     ]
    },
    {
     "name": "stdout",
     "output_type": "stream",
     "text": [
      "https://github.com/DB-Teaching/05-02_roman-numerals\n"
     ]
    },
    {
     "name": "stderr",
     "output_type": "stream",
     "text": [
      "Cloning into '/Users/dboehler/Library/CloudStorage/OneDrive-th-deg.de/Teaching/22S/SWEN/excercises/Chapter_05/05-02_roman-numerals'...\n",
      "warning: You appear to have cloned an empty repository.\n",
      "fatal: You are on a branch yet to be born\n",
      "fatal: unable to checkout submodule 'excercises/Chapter_05/05-02_roman-numerals'\n"
     ]
    },
    {
     "name": "stdout",
     "output_type": "stream",
     "text": [
      "[main (root-commit) 731b21d] initial\n",
      " 4 files changed, 110 insertions(+)\n",
      " create mode 100644 .docs/instructions.md\n",
      " create mode 120000 README.md\n",
      " create mode 100644 roman_numerals.py\n",
      " create mode 100644 roman_numerals_test.py\n"
     ]
    },
    {
     "name": "stderr",
     "output_type": "stream",
     "text": [
      "To github.com:DB-Teaching/05-02_roman-numerals\n",
      " * [new branch]      main -> main\n"
     ]
    },
    {
     "name": "stdout",
     "output_type": "stream",
     "text": [
      "https://github.com/DB-Teaching/05-03_rotational-cipher\n"
     ]
    },
    {
     "name": "stderr",
     "output_type": "stream",
     "text": [
      "Cloning into '/Users/dboehler/Library/CloudStorage/OneDrive-th-deg.de/Teaching/22S/SWEN/excercises/Chapter_05/05-03_rotational-cipher'...\n",
      "warning: You appear to have cloned an empty repository.\n",
      "fatal: You are on a branch yet to be born\n",
      "fatal: unable to checkout submodule 'excercises/Chapter_05/05-03_rotational-cipher'\n"
     ]
    },
    {
     "name": "stdout",
     "output_type": "stream",
     "text": [
      "[main (root-commit) f9bf079] initial\n",
      " 4 files changed, 80 insertions(+)\n",
      " create mode 100644 .docs/instructions.md\n",
      " create mode 120000 README.md\n",
      " create mode 100644 rotational_cipher.py\n",
      " create mode 100644 rotational_cipher_test.py\n"
     ]
    },
    {
     "name": "stderr",
     "output_type": "stream",
     "text": [
      "To github.com:DB-Teaching/05-03_rotational-cipher\n",
      " * [new branch]      main -> main\n"
     ]
    },
    {
     "name": "stdout",
     "output_type": "stream",
     "text": [
      "https://github.com/DB-Teaching/05-04_run-length-encoding\n"
     ]
    },
    {
     "name": "stderr",
     "output_type": "stream",
     "text": [
      "Cloning into '/Users/dboehler/Library/CloudStorage/OneDrive-th-deg.de/Teaching/22S/SWEN/excercises/Chapter_05/05-04_run-length-encoding'...\n",
      "warning: You appear to have cloned an empty repository.\n",
      "fatal: You are on a branch yet to be born\n",
      "fatal: unable to checkout submodule 'excercises/Chapter_05/05-04_run-length-encoding'\n"
     ]
    },
    {
     "name": "stdout",
     "output_type": "stream",
     "text": [
      "[main (root-commit) 5e9b78a] initial\n",
      " 4 files changed, 86 insertions(+)\n",
      " create mode 100644 .docs/instructions.md\n",
      " create mode 120000 README.md\n",
      " create mode 100644 run_length_encoding.py\n",
      " create mode 100644 run_length_encoding_test.py\n"
     ]
    },
    {
     "name": "stderr",
     "output_type": "stream",
     "text": [
      "To github.com:DB-Teaching/05-04_run-length-encoding\n",
      " * [new branch]      main -> main\n"
     ]
    },
    {
     "name": "stdout",
     "output_type": "stream",
     "text": [
      "https://github.com/DB-Teaching/05-05_secret-handshake\n"
     ]
    },
    {
     "name": "stderr",
     "output_type": "stream",
     "text": [
      "Cloning into '/Users/dboehler/Library/CloudStorage/OneDrive-th-deg.de/Teaching/22S/SWEN/excercises/Chapter_05/05-05_secret-handshake'...\n",
      "warning: You appear to have cloned an empty repository.\n",
      "fatal: You are on a branch yet to be born\n",
      "fatal: unable to checkout submodule 'excercises/Chapter_05/05-05_secret-handshake'\n"
     ]
    },
    {
     "name": "stdout",
     "output_type": "stream",
     "text": [
      "[main (root-commit) baecb1c] initial\n",
      " 5 files changed, 88 insertions(+)\n",
      " create mode 100644 .docs/instructions.append.md\n",
      " create mode 100644 .docs/instructions.md\n",
      " create mode 120000 README.md\n",
      " create mode 100644 secret_handshake.py\n",
      " create mode 100644 secret_handshake_test.py\n"
     ]
    },
    {
     "name": "stderr",
     "output_type": "stream",
     "text": [
      "To github.com:DB-Teaching/05-05_secret-handshake\n",
      " * [new branch]      main -> main\n"
     ]
    },
    {
     "name": "stdout",
     "output_type": "stream",
     "text": [
      "https://github.com/DB-Teaching/05-06_sieve\n"
     ]
    },
    {
     "name": "stderr",
     "output_type": "stream",
     "text": [
      "Cloning into '/Users/dboehler/Library/CloudStorage/OneDrive-th-deg.de/Teaching/22S/SWEN/excercises/Chapter_05/05-06_sieve'...\n",
      "warning: You appear to have cloned an empty repository.\n",
      "fatal: You are on a branch yet to be born\n",
      "fatal: unable to checkout submodule 'excercises/Chapter_05/05-06_sieve'\n"
     ]
    },
    {
     "name": "stdout",
     "output_type": "stream",
     "text": [
      "[main (root-commit) ae0e5b2] initial\n",
      " 4 files changed, 233 insertions(+)\n",
      " create mode 100644 .docs/instructions.md\n",
      " create mode 120000 README.md\n",
      " create mode 100644 sieve.py\n",
      " create mode 100644 sieve_test.py\n"
     ]
    },
    {
     "name": "stderr",
     "output_type": "stream",
     "text": [
      "To github.com:DB-Teaching/05-06_sieve\n",
      " * [new branch]      main -> main\n"
     ]
    },
    {
     "name": "stdout",
     "output_type": "stream",
     "text": [
      "https://github.com/DB-Teaching/05-07_space-age\n"
     ]
    },
    {
     "name": "stderr",
     "output_type": "stream",
     "text": [
      "Cloning into '/Users/dboehler/Library/CloudStorage/OneDrive-th-deg.de/Teaching/22S/SWEN/excercises/Chapter_05/05-07_space-age'...\n",
      "warning: You appear to have cloned an empty repository.\n",
      "fatal: You are on a branch yet to be born\n",
      "fatal: unable to checkout submodule 'excercises/Chapter_05/05-07_space-age'\n"
     ]
    },
    {
     "name": "stdout",
     "output_type": "stream",
     "text": [
      "[main (root-commit) 4208cbe] initial\n",
      " 4 files changed, 59 insertions(+)\n",
      " create mode 100644 .docs/instructions.md\n",
      " create mode 120000 README.md\n",
      " create mode 100644 space_age.py\n",
      " create mode 100644 space_age_test.py\n"
     ]
    },
    {
     "name": "stderr",
     "output_type": "stream",
     "text": [
      "To github.com:DB-Teaching/05-07_space-age\n",
      " * [new branch]      main -> main\n"
     ]
    },
    {
     "name": "stdout",
     "output_type": "stream",
     "text": [
      "https://github.com/DB-Teaching/05-08_spiral-matrix\n"
     ]
    },
    {
     "name": "stderr",
     "output_type": "stream",
     "text": [
      "Cloning into '/Users/dboehler/Library/CloudStorage/OneDrive-th-deg.de/Teaching/22S/SWEN/excercises/Chapter_05/05-08_spiral-matrix'...\n",
      "warning: You appear to have cloned an empty repository.\n",
      "fatal: You are on a branch yet to be born\n",
      "fatal: unable to checkout submodule 'excercises/Chapter_05/05-08_spiral-matrix'\n"
     ]
    },
    {
     "name": "stdout",
     "output_type": "stream",
     "text": [
      "[main (root-commit) 808e329] initial\n",
      " 4 files changed, 71 insertions(+)\n",
      " create mode 100644 .docs/instructions.md\n",
      " create mode 120000 README.md\n",
      " create mode 100644 spiral_matrix.py\n",
      " create mode 100644 spiral_matrix_test.py\n"
     ]
    },
    {
     "name": "stderr",
     "output_type": "stream",
     "text": [
      "To github.com:DB-Teaching/05-08_spiral-matrix\n",
      " * [new branch]      main -> main\n"
     ]
    },
    {
     "name": "stdout",
     "output_type": "stream",
     "text": [
      "https://github.com/DB-Teaching/05-09_transpose\n"
     ]
    },
    {
     "name": "stderr",
     "output_type": "stream",
     "text": [
      "Cloning into '/Users/dboehler/Library/CloudStorage/OneDrive-th-deg.de/Teaching/22S/SWEN/excercises/Chapter_05/05-09_transpose'...\n",
      "warning: You appear to have cloned an empty repository.\n",
      "fatal: You are on a branch yet to be born\n",
      "fatal: unable to checkout submodule 'excercises/Chapter_05/05-09_transpose'\n"
     ]
    },
    {
     "name": "stdout",
     "output_type": "stream",
     "text": [
      "[main (root-commit) 4c9f90a] initial\n",
      " 4 files changed, 183 insertions(+)\n",
      " create mode 100644 .docs/instructions.md\n",
      " create mode 120000 README.md\n",
      " create mode 100644 transpose.py\n",
      " create mode 100644 transpose_test.py\n"
     ]
    },
    {
     "name": "stderr",
     "output_type": "stream",
     "text": [
      "To github.com:DB-Teaching/05-09_transpose\n",
      " * [new branch]      main -> main\n"
     ]
    },
    {
     "name": "stdout",
     "output_type": "stream",
     "text": [
      "https://github.com/DB-Teaching/07-01_meetup\n"
     ]
    },
    {
     "name": "stderr",
     "output_type": "stream",
     "text": [
      "Cloning into '/Users/dboehler/Library/CloudStorage/OneDrive-th-deg.de/Teaching/22S/SWEN/excercises/Chapter_07/07-01_meetup'...\n",
      "warning: You appear to have cloned an empty repository.\n",
      "fatal: You are on a branch yet to be born\n",
      "fatal: unable to checkout submodule 'excercises/Chapter_07/07-01_meetup'\n"
     ]
    },
    {
     "name": "stdout",
     "output_type": "stream",
     "text": [
      "[main (root-commit) 69fac4b] initial\n",
      " 5 files changed, 401 insertions(+)\n",
      " create mode 100644 .docs/instructions.append.md\n",
      " create mode 100644 .docs/instructions.md\n",
      " create mode 120000 README.md\n",
      " create mode 100644 meetup.py\n",
      " create mode 100644 meetup_test.py\n"
     ]
    },
    {
     "name": "stderr",
     "output_type": "stream",
     "text": [
      "To github.com:DB-Teaching/07-01_meetup\n",
      " * [new branch]      main -> main\n"
     ]
    },
    {
     "name": "stdout",
     "output_type": "stream",
     "text": [
      "https://github.com/DB-Teaching/07-02_dnd-character\n"
     ]
    },
    {
     "name": "stderr",
     "output_type": "stream",
     "text": [
      "Cloning into '/Users/dboehler/Library/CloudStorage/OneDrive-th-deg.de/Teaching/22S/SWEN/excercises/Chapter_07/07-02_dnd-character'...\n",
      "warning: You appear to have cloned an empty repository.\n",
      "fatal: You are on a branch yet to be born\n",
      "fatal: unable to checkout submodule 'excercises/Chapter_07/07-02_dnd-character'\n"
     ]
    },
    {
     "name": "stdout",
     "output_type": "stream",
     "text": [
      "[main (root-commit) c04df6c] initial\n",
      " 4 files changed, 117 insertions(+)\n",
      " create mode 100644 .docs/instructions.md\n",
      " create mode 120000 README.md\n",
      " create mode 100644 dnd_character.py\n",
      " create mode 100644 dnd_character_test.py\n"
     ]
    },
    {
     "name": "stderr",
     "output_type": "stream",
     "text": [
      "To github.com:DB-Teaching/07-02_dnd-character\n",
      " * [new branch]      main -> main\n"
     ]
    },
    {
     "name": "stdout",
     "output_type": "stream",
     "text": [
      "https://github.com/DB-Teaching/07-03_simple-linked-list\n"
     ]
    },
    {
     "name": "stderr",
     "output_type": "stream",
     "text": [
      "Cloning into '/Users/dboehler/Library/CloudStorage/OneDrive-th-deg.de/Teaching/22S/SWEN/excercises/Chapter_07/07-03_simple-linked-list'...\n",
      "warning: You appear to have cloned an empty repository.\n",
      "fatal: You are on a branch yet to be born\n",
      "fatal: unable to checkout submodule 'excercises/Chapter_07/07-03_simple-linked-list'\n"
     ]
    },
    {
     "name": "stdout",
     "output_type": "stream",
     "text": [
      "[main (root-commit) 84b1d30] initial\n",
      " 5 files changed, 209 insertions(+)\n",
      " create mode 100644 .docs/instructions.append.md\n",
      " create mode 100644 .docs/instructions.md\n",
      " create mode 120000 README.md\n",
      " create mode 100644 simple_linked_list.py\n",
      " create mode 100644 simple_linked_list_test.py\n"
     ]
    },
    {
     "name": "stderr",
     "output_type": "stream",
     "text": [
      "To github.com:DB-Teaching/07-03_simple-linked-list\n",
      " * [new branch]      main -> main\n"
     ]
    },
    {
     "name": "stdout",
     "output_type": "stream",
     "text": [
      "https://github.com/DB-Teaching/07-04_scale-generator\n"
     ]
    },
    {
     "name": "stderr",
     "output_type": "stream",
     "text": [
      "Cloning into '/Users/dboehler/Library/CloudStorage/OneDrive-th-deg.de/Teaching/22S/SWEN/excercises/Chapter_07/07-04_scale-generator'...\n",
      "warning: You appear to have cloned an empty repository.\n",
      "fatal: You are on a branch yet to be born\n",
      "fatal: unable to checkout submodule 'excercises/Chapter_07/07-04_scale-generator'\n"
     ]
    },
    {
     "name": "stdout",
     "output_type": "stream",
     "text": [
      "[main (root-commit) 76f0a1c] initial\n",
      " 4 files changed, 143 insertions(+)\n",
      " create mode 100644 .docs/instructions.md\n",
      " create mode 120000 README.md\n",
      " create mode 100644 scale_generator.py\n",
      " create mode 100644 scale_generator_test.py\n"
     ]
    },
    {
     "name": "stderr",
     "output_type": "stream",
     "text": [
      "To github.com:DB-Teaching/07-04_scale-generator\n",
      " * [new branch]      main -> main\n"
     ]
    },
    {
     "name": "stdout",
     "output_type": "stream",
     "text": [
      "https://github.com/DB-Teaching/07-05_go-counting\n"
     ]
    },
    {
     "name": "stderr",
     "output_type": "stream",
     "text": [
      "Cloning into '/Users/dboehler/Library/CloudStorage/OneDrive-th-deg.de/Teaching/22S/SWEN/excercises/Chapter_07/07-05_go-counting'...\n",
      "warning: You appear to have cloned an empty repository.\n",
      "fatal: You are on a branch yet to be born\n",
      "fatal: unable to checkout submodule 'excercises/Chapter_07/07-05_go-counting'\n"
     ]
    },
    {
     "name": "stdout",
     "output_type": "stream",
     "text": [
      "[main (root-commit) 8d06539] initial\n",
      " 5 files changed, 183 insertions(+)\n",
      " create mode 100644 .docs/instructions.append.md\n",
      " create mode 100644 .docs/instructions.md\n",
      " create mode 120000 README.md\n",
      " create mode 100644 go_counting.py\n",
      " create mode 100644 go_counting_test.py\n"
     ]
    },
    {
     "name": "stderr",
     "output_type": "stream",
     "text": [
      "To github.com:DB-Teaching/07-05_go-counting\n",
      " * [new branch]      main -> main\n"
     ]
    },
    {
     "name": "stdout",
     "output_type": "stream",
     "text": [
      "https://github.com/DB-Teaching/07-06_luhn\n"
     ]
    },
    {
     "name": "stderr",
     "output_type": "stream",
     "text": [
      "Cloning into '/Users/dboehler/Library/CloudStorage/OneDrive-th-deg.de/Teaching/22S/SWEN/excercises/Chapter_07/07-06_luhn'...\n",
      "warning: You appear to have cloned an empty repository.\n",
      "fatal: You are on a branch yet to be born\n",
      "fatal: unable to checkout submodule 'excercises/Chapter_07/07-06_luhn'\n"
     ]
    },
    {
     "name": "stdout",
     "output_type": "stream",
     "text": [
      "[main (root-commit) b25650e] initial\n",
      " 4 files changed, 155 insertions(+)\n",
      " create mode 100644 .docs/instructions.md\n",
      " create mode 120000 README.md\n",
      " create mode 100644 luhn.py\n",
      " create mode 100644 luhn_test.py\n"
     ]
    },
    {
     "name": "stderr",
     "output_type": "stream",
     "text": [
      "To github.com:DB-Teaching/07-06_luhn\n",
      " * [new branch]      main -> main\n"
     ]
    },
    {
     "name": "stdout",
     "output_type": "stream",
     "text": [
      "https://github.com/DB-Teaching/07-07_clock\n"
     ]
    },
    {
     "name": "stderr",
     "output_type": "stream",
     "text": [
      "Cloning into '/Users/dboehler/Library/CloudStorage/OneDrive-th-deg.de/Teaching/22S/SWEN/excercises/Chapter_07/07-07_clock'...\n",
      "warning: You appear to have cloned an empty repository.\n",
      "fatal: You are on a branch yet to be born\n",
      "fatal: unable to checkout submodule 'excercises/Chapter_07/07-07_clock'\n"
     ]
    },
    {
     "name": "stdout",
     "output_type": "stream",
     "text": [
      "[main (root-commit) beb7d1f] initial\n",
      " 5 files changed, 278 insertions(+)\n",
      " create mode 100644 .docs/instructions.append.md\n",
      " create mode 100644 .docs/instructions.md\n",
      " create mode 120000 README.md\n",
      " create mode 100644 clock.py\n",
      " create mode 100644 clock_test.py\n"
     ]
    },
    {
     "name": "stderr",
     "output_type": "stream",
     "text": [
      "To github.com:DB-Teaching/07-07_clock\n",
      " * [new branch]      main -> main\n"
     ]
    },
    {
     "name": "stdout",
     "output_type": "stream",
     "text": [
      "https://github.com/DB-Teaching/07-08_complex-numbers\n"
     ]
    },
    {
     "name": "stderr",
     "output_type": "stream",
     "text": [
      "Cloning into '/Users/dboehler/Library/CloudStorage/OneDrive-th-deg.de/Teaching/22S/SWEN/excercises/Chapter_07/07-08_complex-numbers'...\n",
      "warning: You appear to have cloned an empty repository.\n",
      "fatal: You are on a branch yet to be born\n",
      "fatal: unable to checkout submodule 'excercises/Chapter_07/07-08_complex-numbers'\n"
     ]
    },
    {
     "name": "stdout",
     "output_type": "stream",
     "text": [
      "[main (root-commit) 4e5cb2b] initial\n",
      " 5 files changed, 254 insertions(+)\n",
      " create mode 100644 .docs/instructions.append.md\n",
      " create mode 100644 .docs/instructions.md\n",
      " create mode 120000 README.md\n",
      " create mode 100644 complex_numbers.py\n",
      " create mode 100644 complex_numbers_test.py\n"
     ]
    },
    {
     "name": "stderr",
     "output_type": "stream",
     "text": [
      "To github.com:DB-Teaching/07-08_complex-numbers\n",
      " * [new branch]      main -> main\n"
     ]
    },
    {
     "name": "stdout",
     "output_type": "stream",
     "text": [
      "https://github.com/DB-Teaching/07-09_allergies\n"
     ]
    },
    {
     "name": "stderr",
     "output_type": "stream",
     "text": [
      "Cloning into '/Users/dboehler/Library/CloudStorage/OneDrive-th-deg.de/Teaching/22S/SWEN/excercises/Chapter_07/07-09_allergies'...\n",
      "warning: You appear to have cloned an empty repository.\n",
      "fatal: You are on a branch yet to be born\n",
      "fatal: unable to checkout submodule 'excercises/Chapter_07/07-09_allergies'\n"
     ]
    },
    {
     "name": "stdout",
     "output_type": "stream",
     "text": [
      "[main (root-commit) 8a0954b] initial\n",
      " 4 files changed, 228 insertions(+)\n",
      " create mode 100644 .docs/instructions.md\n",
      " create mode 120000 README.md\n",
      " create mode 100644 allergies.py\n",
      " create mode 100644 allergies_test.py\n"
     ]
    },
    {
     "name": "stderr",
     "output_type": "stream",
     "text": [
      "To github.com:DB-Teaching/07-09_allergies\n",
      " * [new branch]      main -> main\n"
     ]
    },
    {
     "name": "stdout",
     "output_type": "stream",
     "text": [
      "https://github.com/DB-Teaching/07-10_linked-list\n"
     ]
    },
    {
     "name": "stderr",
     "output_type": "stream",
     "text": [
      "Cloning into '/Users/dboehler/Library/CloudStorage/OneDrive-th-deg.de/Teaching/22S/SWEN/excercises/Chapter_07/07-10_linked-list'...\n",
      "warning: You appear to have cloned an empty repository.\n",
      "fatal: You are on a branch yet to be born\n",
      "fatal: unable to checkout submodule 'excercises/Chapter_07/07-10_linked-list'\n"
     ]
    },
    {
     "name": "stdout",
     "output_type": "stream",
     "text": [
      "[main (root-commit) 4e69937] initial\n",
      " 4 files changed, 119 insertions(+)\n",
      " create mode 100644 .docs/instructions.md\n",
      " create mode 120000 README.md\n",
      " create mode 100644 linked_list.py\n",
      " create mode 100644 linked_list_test.py\n"
     ]
    },
    {
     "name": "stderr",
     "output_type": "stream",
     "text": [
      "To github.com:DB-Teaching/07-10_linked-list\n",
      " * [new branch]      main -> main\n"
     ]
    },
    {
     "name": "stdout",
     "output_type": "stream",
     "text": [
      "https://github.com/DB-Teaching/07-11_kindergarten-garden\n"
     ]
    },
    {
     "name": "stderr",
     "output_type": "stream",
     "text": [
      "Cloning into '/Users/dboehler/Library/CloudStorage/OneDrive-th-deg.de/Teaching/22S/SWEN/excercises/Chapter_07/07-11_kindergarten-garden'...\n",
      "warning: You appear to have cloned an empty repository.\n",
      "fatal: You are on a branch yet to be born\n",
      "fatal: unable to checkout submodule 'excercises/Chapter_07/07-11_kindergarten-garden'\n"
     ]
    },
    {
     "name": "stdout",
     "output_type": "stream",
     "text": [
      "[main (root-commit) e01be2e] initial\n",
      " 4 files changed, 183 insertions(+)\n",
      " create mode 100644 .docs/instructions.md\n",
      " create mode 120000 README.md\n",
      " create mode 100644 kindergarten_garden.py\n",
      " create mode 100644 kindergarten_garden_test.py\n"
     ]
    },
    {
     "name": "stderr",
     "output_type": "stream",
     "text": [
      "To github.com:DB-Teaching/07-11_kindergarten-garden\n",
      " * [new branch]      main -> main\n"
     ]
    },
    {
     "name": "stdout",
     "output_type": "stream",
     "text": [
      "https://github.com/DB-Teaching/07-12_connect\n"
     ]
    },
    {
     "name": "stderr",
     "output_type": "stream",
     "text": [
      "Cloning into '/Users/dboehler/Library/CloudStorage/OneDrive-th-deg.de/Teaching/22S/SWEN/excercises/Chapter_07/07-12_connect'...\n",
      "warning: You appear to have cloned an empty repository.\n",
      "fatal: You are on a branch yet to be born\n",
      "fatal: unable to checkout submodule 'excercises/Chapter_07/07-12_connect'\n"
     ]
    },
    {
     "name": "stdout",
     "output_type": "stream",
     "text": [
      "[main (root-commit) 3595551] initial\n",
      " 4 files changed, 153 insertions(+)\n",
      " create mode 100644 .docs/instructions.md\n",
      " create mode 120000 README.md\n",
      " create mode 100644 connect.py\n",
      " create mode 100644 connect_test.py\n"
     ]
    },
    {
     "name": "stderr",
     "output_type": "stream",
     "text": [
      "To github.com:DB-Teaching/07-12_connect\n",
      " * [new branch]      main -> main\n"
     ]
    },
    {
     "name": "stdout",
     "output_type": "stream",
     "text": [
      "https://github.com/DB-Teaching/07-13_simple-cipher\n"
     ]
    },
    {
     "name": "stderr",
     "output_type": "stream",
     "text": [
      "Cloning into '/Users/dboehler/Library/CloudStorage/OneDrive-th-deg.de/Teaching/22S/SWEN/excercises/Chapter_07/07-13_simple-cipher'...\n",
      "warning: You appear to have cloned an empty repository.\n",
      "fatal: You are on a branch yet to be born\n",
      "fatal: unable to checkout submodule 'excercises/Chapter_07/07-13_simple-cipher'\n"
     ]
    },
    {
     "name": "stdout",
     "output_type": "stream",
     "text": [
      "[main (root-commit) 56ee2b7] initial\n",
      " 5 files changed, 175 insertions(+)\n",
      " create mode 100644 .docs/instructions.append.md\n",
      " create mode 100644 .docs/instructions.md\n",
      " create mode 120000 README.md\n",
      " create mode 100644 simple_cipher.py\n",
      " create mode 100644 simple_cipher_test.py\n"
     ]
    },
    {
     "name": "stderr",
     "output_type": "stream",
     "text": [
      "To github.com:DB-Teaching/07-13_simple-cipher\n",
      " * [new branch]      main -> main\n"
     ]
    },
    {
     "name": "stdout",
     "output_type": "stream",
     "text": [
      "https://github.com/DB-Teaching/07-14_tree-building\n"
     ]
    },
    {
     "name": "stderr",
     "output_type": "stream",
     "text": [
      "Cloning into '/Users/dboehler/Library/CloudStorage/OneDrive-th-deg.de/Teaching/22S/SWEN/excercises/Chapter_07/07-14_tree-building'...\n",
      "warning: You appear to have cloned an empty repository.\n",
      "fatal: You are on a branch yet to be born\n",
      "fatal: unable to checkout submodule 'excercises/Chapter_07/07-14_tree-building'\n"
     ]
    },
    {
     "name": "stdout",
     "output_type": "stream",
     "text": [
      "[main (root-commit) 6030461] initial\n",
      " 5 files changed, 276 insertions(+)\n",
      " create mode 100644 .docs/instructions.append.md\n",
      " create mode 100644 .docs/instructions.md\n",
      " create mode 120000 README.md\n",
      " create mode 100644 tree_building.py\n",
      " create mode 100644 tree_building_test.py\n"
     ]
    },
    {
     "name": "stderr",
     "output_type": "stream",
     "text": [
      "To github.com:DB-Teaching/07-14_tree-building\n",
      " * [new branch]      main -> main\n"
     ]
    },
    {
     "name": "stdout",
     "output_type": "stream",
     "text": [
      "https://github.com/DB-Teaching/07-15_grade-school\n"
     ]
    },
    {
     "name": "stderr",
     "output_type": "stream",
     "text": [
      "Cloning into '/Users/dboehler/Library/CloudStorage/OneDrive-th-deg.de/Teaching/22S/SWEN/excercises/Chapter_07/07-15_grade-school'...\n",
      "warning: You appear to have cloned an empty repository.\n",
      "fatal: You are on a branch yet to be born\n",
      "fatal: unable to checkout submodule 'excercises/Chapter_07/07-15_grade-school'\n"
     ]
    },
    {
     "name": "stdout",
     "output_type": "stream",
     "text": [
      "[main (root-commit) 03b52b5] initial\n",
      " 4 files changed, 232 insertions(+)\n",
      " create mode 100644 .docs/instructions.md\n",
      " create mode 120000 README.md\n",
      " create mode 100644 grade_school.py\n",
      " create mode 100644 grade_school_test.py\n"
     ]
    },
    {
     "name": "stderr",
     "output_type": "stream",
     "text": [
      "To github.com:DB-Teaching/07-15_grade-school\n",
      " * [new branch]      main -> main\n"
     ]
    },
    {
     "name": "stdout",
     "output_type": "stream",
     "text": [
      "https://github.com/DB-Teaching/07-16_circular-buffer\n"
     ]
    },
    {
     "name": "stderr",
     "output_type": "stream",
     "text": [
      "Cloning into '/Users/dboehler/Library/CloudStorage/OneDrive-th-deg.de/Teaching/22S/SWEN/excercises/Chapter_07/07-16_circular-buffer'...\n",
      "warning: You appear to have cloned an empty repository.\n",
      "fatal: You are on a branch yet to be born\n",
      "fatal: unable to checkout submodule 'excercises/Chapter_07/07-16_circular-buffer'\n"
     ]
    },
    {
     "name": "stdout",
     "output_type": "stream",
     "text": [
      "[main (root-commit) d240dba] initial\n",
      " 5 files changed, 249 insertions(+)\n",
      " create mode 100644 .docs/instructions.append.md\n",
      " create mode 100644 .docs/instructions.md\n",
      " create mode 120000 README.md\n",
      " create mode 100644 circular_buffer.py\n",
      " create mode 100644 circular_buffer_test.py\n"
     ]
    },
    {
     "name": "stderr",
     "output_type": "stream",
     "text": [
      "To github.com:DB-Teaching/07-16_circular-buffer\n",
      " * [new branch]      main -> main\n"
     ]
    },
    {
     "name": "stdout",
     "output_type": "stream",
     "text": [
      "https://github.com/DB-Teaching/08-01_grep\n"
     ]
    },
    {
     "name": "stderr",
     "output_type": "stream",
     "text": [
      "Cloning into '/Users/dboehler/Library/CloudStorage/OneDrive-th-deg.de/Teaching/22S/SWEN/excercises/Chapter_08/08-01_grep'...\n",
      "warning: You appear to have cloned an empty repository.\n",
      "fatal: You are on a branch yet to be born\n",
      "fatal: unable to checkout submodule 'excercises/Chapter_08/08-01_grep'\n"
     ]
    },
    {
     "name": "stdout",
     "output_type": "stream",
     "text": [
      "[main (root-commit) 7b47c5e] initial\n",
      " 4 files changed, 364 insertions(+)\n",
      " create mode 100644 .docs/instructions.md\n",
      " create mode 120000 README.md\n",
      " create mode 100644 grep.py\n",
      " create mode 100644 grep_test.py\n"
     ]
    },
    {
     "name": "stderr",
     "output_type": "stream",
     "text": [
      "To github.com:DB-Teaching/08-01_grep\n",
      " * [new branch]      main -> main\n"
     ]
    },
    {
     "name": "stdout",
     "output_type": "stream",
     "text": [
      "https://github.com/DB-Teaching/08-02_poker\n"
     ]
    },
    {
     "name": "stderr",
     "output_type": "stream",
     "text": [
      "Cloning into '/Users/dboehler/Library/CloudStorage/OneDrive-th-deg.de/Teaching/22S/SWEN/excercises/Chapter_08/08-02_poker'...\n",
      "warning: You appear to have cloned an empty repository.\n",
      "fatal: You are on a branch yet to be born\n",
      "fatal: unable to checkout submodule 'excercises/Chapter_08/08-02_poker'\n"
     ]
    },
    {
     "name": "stdout",
     "output_type": "stream",
     "text": [
      "[main (root-commit) 254a7fd] initial\n",
      " 4 files changed, 185 insertions(+)\n",
      " create mode 100644 .docs/instructions.md\n",
      " create mode 120000 README.md\n",
      " create mode 100644 poker.py\n",
      " create mode 100644 poker_test.py\n"
     ]
    },
    {
     "name": "stderr",
     "output_type": "stream",
     "text": [
      "To github.com:DB-Teaching/08-02_poker\n",
      " * [new branch]      main -> main\n"
     ]
    },
    {
     "name": "stdout",
     "output_type": "stream",
     "text": [
      "https://github.com/DB-Teaching/08-03_rectangles\n"
     ]
    },
    {
     "name": "stderr",
     "output_type": "stream",
     "text": [
      "Cloning into '/Users/dboehler/Library/CloudStorage/OneDrive-th-deg.de/Teaching/22S/SWEN/excercises/Chapter_08/08-03_rectangles'...\n",
      "warning: You appear to have cloned an empty repository.\n",
      "fatal: You are on a branch yet to be born\n",
      "fatal: unable to checkout submodule 'excercises/Chapter_08/08-03_rectangles'\n"
     ]
    },
    {
     "name": "stdout",
     "output_type": "stream",
     "text": [
      "[main (root-commit) 1f63b4f] initial\n",
      " 4 files changed, 155 insertions(+)\n",
      " create mode 100644 .docs/instructions.md\n",
      " create mode 120000 README.md\n",
      " create mode 100644 rectangles.py\n",
      " create mode 100644 rectangles_test.py\n"
     ]
    },
    {
     "name": "stderr",
     "output_type": "stream",
     "text": [
      "To github.com:DB-Teaching/08-03_rectangles\n",
      " * [new branch]      main -> main\n"
     ]
    },
    {
     "name": "stdout",
     "output_type": "stream",
     "text": [
      "https://github.com/DB-Teaching/08-04_change\n"
     ]
    },
    {
     "name": "stderr",
     "output_type": "stream",
     "text": [
      "Cloning into '/Users/dboehler/Library/CloudStorage/OneDrive-th-deg.de/Teaching/22S/SWEN/excercises/Chapter_08/08-04_change'...\n",
      "warning: You appear to have cloned an empty repository.\n",
      "fatal: You are on a branch yet to be born\n",
      "fatal: unable to checkout submodule 'excercises/Chapter_08/08-04_change'\n"
     ]
    },
    {
     "name": "stdout",
     "output_type": "stream",
     "text": [
      "[main (root-commit) aed2470] initial\n",
      " 5 files changed, 91 insertions(+)\n",
      " create mode 100644 .docs/instructions.append.md\n",
      " create mode 100644 .docs/instructions.md\n",
      " create mode 120000 README.md\n",
      " create mode 100644 change.py\n",
      " create mode 100644 change_test.py\n"
     ]
    },
    {
     "name": "stderr",
     "output_type": "stream",
     "text": [
      "To github.com:DB-Teaching/08-04_change\n",
      " * [new branch]      main -> main\n"
     ]
    },
    {
     "name": "stdout",
     "output_type": "stream",
     "text": [
      "https://github.com/DB-Teaching/08-05_all-your-base\n"
     ]
    },
    {
     "name": "stderr",
     "output_type": "stream",
     "text": [
      "Cloning into '/Users/dboehler/Library/CloudStorage/OneDrive-th-deg.de/Teaching/22S/SWEN/excercises/Chapter_08/08-05_all-your-base'...\n",
      "warning: You appear to have cloned an empty repository.\n",
      "fatal: You are on a branch yet to be born\n",
      "fatal: unable to checkout submodule 'excercises/Chapter_08/08-05_all-your-base'\n"
     ]
    },
    {
     "name": "stdout",
     "output_type": "stream",
     "text": [
      "[main (root-commit) 0296f83] initial\n",
      " 5 files changed, 166 insertions(+)\n",
      " create mode 100644 .docs/instructions.append.md\n",
      " create mode 100644 .docs/instructions.md\n",
      " create mode 120000 README.md\n",
      " create mode 100644 all_your_base.py\n",
      " create mode 100644 all_your_base_test.py\n"
     ]
    },
    {
     "name": "stderr",
     "output_type": "stream",
     "text": [
      "To github.com:DB-Teaching/08-05_all-your-base\n",
      " * [new branch]      main -> main\n"
     ]
    },
    {
     "name": "stdout",
     "output_type": "stream",
     "text": [
      "https://github.com/DB-Teaching/08-06_diffie-hellman\n"
     ]
    },
    {
     "name": "stderr",
     "output_type": "stream",
     "text": [
      "Cloning into '/Users/dboehler/Library/CloudStorage/OneDrive-th-deg.de/Teaching/22S/SWEN/excercises/Chapter_08/08-06_diffie-hellman'...\n",
      "warning: You appear to have cloned an empty repository.\n",
      "fatal: You are on a branch yet to be born\n",
      "fatal: unable to checkout submodule 'excercises/Chapter_08/08-06_diffie-hellman'\n"
     ]
    },
    {
     "name": "stdout",
     "output_type": "stream",
     "text": [
      "[main (root-commit) d29fca0] initial\n",
      " 5 files changed, 140 insertions(+)\n",
      " create mode 100644 .docs/instructions.append.md\n",
      " create mode 100644 .docs/instructions.md\n",
      " create mode 120000 README.md\n",
      " create mode 100644 diffie_hellman.py\n",
      " create mode 100644 diffie_hellman_test.py\n"
     ]
    },
    {
     "name": "stderr",
     "output_type": "stream",
     "text": [
      "To github.com:DB-Teaching/08-06_diffie-hellman\n",
      " * [new branch]      main -> main\n"
     ]
    },
    {
     "name": "stdout",
     "output_type": "stream",
     "text": [
      "https://github.com/DB-Teaching/08-07_variable-length-quantity\n"
     ]
    },
    {
     "name": "stderr",
     "output_type": "stream",
     "text": [
      "Cloning into '/Users/dboehler/Library/CloudStorage/OneDrive-th-deg.de/Teaching/22S/SWEN/excercises/Chapter_08/08-07_variable-length-quantity'...\n",
      "warning: You appear to have cloned an empty repository.\n",
      "fatal: You are on a branch yet to be born\n",
      "fatal: unable to checkout submodule 'excercises/Chapter_08/08-07_variable-length-quantity'\n"
     ]
    },
    {
     "name": "stdout",
     "output_type": "stream",
     "text": [
      "[main (root-commit) d765be2] initial\n",
      " 5 files changed, 189 insertions(+)\n",
      " create mode 100644 .docs/instructions.append.md\n",
      " create mode 100644 .docs/instructions.md\n",
      " create mode 120000 README.md\n",
      " create mode 100644 variable_length_quantity.py\n",
      " create mode 100644 variable_length_quantity_test.py\n"
     ]
    },
    {
     "name": "stderr",
     "output_type": "stream",
     "text": [
      "To github.com:DB-Teaching/08-07_variable-length-quantity\n",
      " * [new branch]      main -> main\n"
     ]
    },
    {
     "name": "stdout",
     "output_type": "stream",
     "text": [
      "https://github.com/DB-Teaching/08-08_largest-series-product\n"
     ]
    },
    {
     "name": "stderr",
     "output_type": "stream",
     "text": [
      "Cloning into '/Users/dboehler/Library/CloudStorage/OneDrive-th-deg.de/Teaching/22S/SWEN/excercises/Chapter_08/08-08_largest-series-product'...\n",
      "warning: You appear to have cloned an empty repository.\n",
      "fatal: You are on a branch yet to be born\n",
      "fatal: unable to checkout submodule 'excercises/Chapter_08/08-08_largest-series-product'\n"
     ]
    },
    {
     "name": "stdout",
     "output_type": "stream",
     "text": [
      "[main (root-commit) 3470581] initial\n",
      " 5 files changed, 120 insertions(+)\n",
      " create mode 100644 .docs/instructions.append.md\n",
      " create mode 100644 .docs/instructions.md\n",
      " create mode 120000 README.md\n",
      " create mode 100644 largest_series_product.py\n",
      " create mode 100644 largest_series_product_test.py\n"
     ]
    },
    {
     "name": "stderr",
     "output_type": "stream",
     "text": [
      "To github.com:DB-Teaching/08-08_largest-series-product\n",
      " * [new branch]      main -> main\n"
     ]
    },
    {
     "name": "stdout",
     "output_type": "stream",
     "text": [
      "https://github.com/DB-Teaching/08-09_ocr-numbers\n"
     ]
    },
    {
     "name": "stderr",
     "output_type": "stream",
     "text": [
      "Cloning into '/Users/dboehler/Library/CloudStorage/OneDrive-th-deg.de/Teaching/22S/SWEN/excercises/Chapter_08/08-09_ocr-numbers'...\n",
      "warning: You appear to have cloned an empty repository.\n",
      "fatal: You are on a branch yet to be born\n",
      "fatal: unable to checkout submodule 'excercises/Chapter_08/08-09_ocr-numbers'\n"
     ]
    },
    {
     "name": "stdout",
     "output_type": "stream",
     "text": [
      "[main (root-commit) 56f9571] initial\n",
      " 5 files changed, 224 insertions(+)\n",
      " create mode 100644 .docs/instructions.append.md\n",
      " create mode 100644 .docs/instructions.md\n",
      " create mode 120000 README.md\n",
      " create mode 100644 ocr_numbers.py\n",
      " create mode 100644 ocr_numbers_test.py\n"
     ]
    },
    {
     "name": "stderr",
     "output_type": "stream",
     "text": [
      "To github.com:DB-Teaching/08-09_ocr-numbers\n",
      " * [new branch]      main -> main\n"
     ]
    },
    {
     "name": "stdout",
     "output_type": "stream",
     "text": [
      "https://github.com/DB-Teaching/08-10_rail-fence-cipher\n"
     ]
    },
    {
     "name": "stderr",
     "output_type": "stream",
     "text": [
      "Cloning into '/Users/dboehler/Library/CloudStorage/OneDrive-th-deg.de/Teaching/22S/SWEN/excercises/Chapter_08/08-10_rail-fence-cipher'...\n",
      "warning: You appear to have cloned an empty repository.\n",
      "fatal: You are on a branch yet to be born\n",
      "fatal: unable to checkout submodule 'excercises/Chapter_08/08-10_rail-fence-cipher'\n"
     ]
    },
    {
     "name": "stdout",
     "output_type": "stream",
     "text": [
      "[main (root-commit) 3cb7685] initial\n",
      " 4 files changed, 105 insertions(+)\n",
      " create mode 100644 .docs/instructions.md\n",
      " create mode 120000 README.md\n",
      " create mode 100644 rail_fence_cipher.py\n",
      " create mode 100644 rail_fence_cipher_test.py\n"
     ]
    },
    {
     "name": "stderr",
     "output_type": "stream",
     "text": [
      "To github.com:DB-Teaching/08-10_rail-fence-cipher\n",
      " * [new branch]      main -> main\n"
     ]
    },
    {
     "name": "stdout",
     "output_type": "stream",
     "text": [
      "https://github.com/DB-Teaching/08-11_food-chain\n"
     ]
    },
    {
     "name": "stderr",
     "output_type": "stream",
     "text": [
      "Cloning into '/Users/dboehler/Library/CloudStorage/OneDrive-th-deg.de/Teaching/22S/SWEN/excercises/Chapter_08/08-11_food-chain'...\n",
      "warning: You appear to have cloned an empty repository.\n",
      "fatal: You are on a branch yet to be born\n",
      "fatal: unable to checkout submodule 'excercises/Chapter_08/08-11_food-chain'\n"
     ]
    },
    {
     "name": "stdout",
     "output_type": "stream",
     "text": [
      "[main (root-commit) 9719e98] initial\n",
      " 4 files changed, 253 insertions(+)\n",
      " create mode 100644 .docs/instructions.md\n",
      " create mode 120000 README.md\n",
      " create mode 100644 food_chain.py\n",
      " create mode 100644 food_chain_test.py\n"
     ]
    },
    {
     "name": "stderr",
     "output_type": "stream",
     "text": [
      "To github.com:DB-Teaching/08-11_food-chain\n",
      " * [new branch]      main -> main\n"
     ]
    },
    {
     "name": "stdout",
     "output_type": "stream",
     "text": [
      "https://github.com/DB-Teaching/08-12_saddle-points\n"
     ]
    },
    {
     "name": "stderr",
     "output_type": "stream",
     "text": [
      "Cloning into '/Users/dboehler/Library/CloudStorage/OneDrive-th-deg.de/Teaching/22S/SWEN/excercises/Chapter_08/08-12_saddle-points'...\n",
      "warning: You appear to have cloned an empty repository.\n",
      "fatal: You are on a branch yet to be born\n",
      "fatal: unable to checkout submodule 'excercises/Chapter_08/08-12_saddle-points'\n"
     ]
    },
    {
     "name": "stdout",
     "output_type": "stream",
     "text": [
      "[main (root-commit) 90db246] initial\n",
      " 5 files changed, 148 insertions(+)\n",
      " create mode 100644 .docs/instructions.append.md\n",
      " create mode 100644 .docs/instructions.md\n",
      " create mode 120000 README.md\n",
      " create mode 100644 saddle_points.py\n",
      " create mode 100644 saddle_points_test.py\n"
     ]
    },
    {
     "name": "stderr",
     "output_type": "stream",
     "text": [
      "To github.com:DB-Teaching/08-12_saddle-points\n",
      " * [new branch]      main -> main\n"
     ]
    },
    {
     "name": "stdout",
     "output_type": "stream",
     "text": [
      "https://github.com/DB-Teaching/08-13_protein-translation\n"
     ]
    },
    {
     "name": "stderr",
     "output_type": "stream",
     "text": [
      "Cloning into '/Users/dboehler/Library/CloudStorage/OneDrive-th-deg.de/Teaching/22S/SWEN/excercises/Chapter_08/08-13_protein-translation'...\n",
      "warning: You appear to have cloned an empty repository.\n",
      "fatal: You are on a branch yet to be born\n",
      "fatal: unable to checkout submodule 'excercises/Chapter_08/08-13_protein-translation'\n"
     ]
    },
    {
     "name": "stdout",
     "output_type": "stream",
     "text": [
      "[main (root-commit) 8635430] initial\n",
      " 4 files changed, 173 insertions(+)\n",
      " create mode 100644 .docs/instructions.md\n",
      " create mode 120000 README.md\n",
      " create mode 100644 protein_translation.py\n",
      " create mode 100644 protein_translation_test.py\n"
     ]
    },
    {
     "name": "stderr",
     "output_type": "stream",
     "text": [
      "To github.com:DB-Teaching/08-13_protein-translation\n",
      " * [new branch]      main -> main\n"
     ]
    },
    {
     "name": "stdout",
     "output_type": "stream",
     "text": [
      "https://github.com/DB-Teaching/08-14_acronym\n"
     ]
    },
    {
     "name": "stderr",
     "output_type": "stream",
     "text": [
      "Cloning into '/Users/dboehler/Library/CloudStorage/OneDrive-th-deg.de/Teaching/22S/SWEN/excercises/Chapter_08/08-14_acronym'...\n",
      "warning: You appear to have cloned an empty repository.\n",
      "fatal: You are on a branch yet to be born\n",
      "fatal: unable to checkout submodule 'excercises/Chapter_08/08-14_acronym'\n"
     ]
    },
    {
     "name": "stdout",
     "output_type": "stream",
     "text": [
      "[main (root-commit) 338edc9] initial\n",
      " 4 files changed, 56 insertions(+)\n",
      " create mode 100644 .docs/instructions.md\n",
      " create mode 120000 README.md\n",
      " create mode 100644 acronym.py\n",
      " create mode 100644 acronym_test.py\n"
     ]
    },
    {
     "name": "stderr",
     "output_type": "stream",
     "text": [
      "To github.com:DB-Teaching/08-14_acronym\n",
      " * [new branch]      main -> main\n"
     ]
    },
    {
     "name": "stdout",
     "output_type": "stream",
     "text": [
      "https://github.com/DB-Teaching/08-15_scrabble-score\n"
     ]
    },
    {
     "name": "stderr",
     "output_type": "stream",
     "text": [
      "Cloning into '/Users/dboehler/Library/CloudStorage/OneDrive-th-deg.de/Teaching/22S/SWEN/excercises/Chapter_08/08-15_scrabble-score'...\n",
      "warning: You appear to have cloned an empty repository.\n",
      "fatal: You are on a branch yet to be born\n",
      "fatal: unable to checkout submodule 'excercises/Chapter_08/08-15_scrabble-score'\n"
     ]
    },
    {
     "name": "stdout",
     "output_type": "stream",
     "text": [
      "[main (root-commit) b10f710] initial\n",
      " 4 files changed, 89 insertions(+)\n",
      " create mode 100644 .docs/instructions.md\n",
      " create mode 120000 README.md\n",
      " create mode 100644 scrabble_score.py\n",
      " create mode 100644 scrabble_score_test.py\n"
     ]
    },
    {
     "name": "stderr",
     "output_type": "stream",
     "text": [
      "To github.com:DB-Teaching/08-15_scrabble-score\n",
      " * [new branch]      main -> main\n"
     ]
    },
    {
     "name": "stdout",
     "output_type": "stream",
     "text": [
      "https://github.com/DB-Teaching/08-16_markdown\n"
     ]
    },
    {
     "name": "stderr",
     "output_type": "stream",
     "text": [
      "Cloning into '/Users/dboehler/Library/CloudStorage/OneDrive-th-deg.de/Teaching/22S/SWEN/excercises/Chapter_08/08-16_markdown'...\n",
      "warning: You appear to have cloned an empty repository.\n",
      "fatal: You are on a branch yet to be born\n",
      "fatal: unable to checkout submodule 'excercises/Chapter_08/08-16_markdown'\n"
     ]
    },
    {
     "name": "stdout",
     "output_type": "stream",
     "text": [
      "[main (root-commit) eb7c589] initial\n",
      " 4 files changed, 194 insertions(+)\n",
      " create mode 100644 .docs/instructions.md\n",
      " create mode 120000 README.md\n",
      " create mode 100644 markdown.py\n",
      " create mode 100644 markdown_test.py\n"
     ]
    },
    {
     "name": "stderr",
     "output_type": "stream",
     "text": [
      "To github.com:DB-Teaching/08-16_markdown\n",
      " * [new branch]      main -> main\n"
     ]
    },
    {
     "name": "stdout",
     "output_type": "stream",
     "text": [
      "https://github.com/DB-Teaching/08-17_isogram\n"
     ]
    },
    {
     "name": "stderr",
     "output_type": "stream",
     "text": [
      "Cloning into '/Users/dboehler/Library/CloudStorage/OneDrive-th-deg.de/Teaching/22S/SWEN/excercises/Chapter_08/08-17_isogram'...\n",
      "warning: You appear to have cloned an empty repository.\n",
      "fatal: You are on a branch yet to be born\n",
      "fatal: unable to checkout submodule 'excercises/Chapter_08/08-17_isogram'\n"
     ]
    },
    {
     "name": "stdout",
     "output_type": "stream",
     "text": [
      "[main (root-commit) 9593a6d] initial\n",
      " 4 files changed, 68 insertions(+)\n",
      " create mode 100644 .docs/instructions.md\n",
      " create mode 120000 README.md\n",
      " create mode 100644 isogram.py\n",
      " create mode 100644 isogram_test.py\n"
     ]
    },
    {
     "name": "stderr",
     "output_type": "stream",
     "text": [
      "To github.com:DB-Teaching/08-17_isogram\n",
      " * [new branch]      main -> main\n"
     ]
    },
    {
     "name": "stdout",
     "output_type": "stream",
     "text": [
      "https://github.com/DB-Teaching/08-18_word-count\n"
     ]
    },
    {
     "name": "stderr",
     "output_type": "stream",
     "text": [
      "Cloning into '/Users/dboehler/Library/CloudStorage/OneDrive-th-deg.de/Teaching/22S/SWEN/excercises/Chapter_08/08-18_word-count'...\n",
      "warning: You appear to have cloned an empty repository.\n",
      "fatal: You are on a branch yet to be born\n",
      "fatal: unable to checkout submodule 'excercises/Chapter_08/08-18_word-count'\n"
     ]
    },
    {
     "name": "stdout",
     "output_type": "stream",
     "text": [
      "[main (root-commit) 3a171ae] initial\n",
      " 4 files changed, 149 insertions(+)\n",
      " create mode 100644 .docs/instructions.md\n",
      " create mode 120000 README.md\n",
      " create mode 100644 word_count.py\n",
      " create mode 100644 word_count_test.py\n"
     ]
    },
    {
     "name": "stderr",
     "output_type": "stream",
     "text": [
      "To github.com:DB-Teaching/08-18_word-count\n",
      " * [new branch]      main -> main\n"
     ]
    },
    {
     "name": "stdout",
     "output_type": "stream",
     "text": [
      "https://github.com/DB-Teaching/09-01_affine-cipher\n"
     ]
    },
    {
     "name": "stderr",
     "output_type": "stream",
     "text": [
      "Cloning into '/Users/dboehler/Library/CloudStorage/OneDrive-th-deg.de/Teaching/22S/SWEN/excercises/Chapter_09/09-01_affine-cipher'...\n",
      "warning: You appear to have cloned an empty repository.\n",
      "fatal: You are on a branch yet to be born\n",
      "fatal: unable to checkout submodule 'excercises/Chapter_09/09-01_affine-cipher'\n"
     ]
    },
    {
     "name": "stdout",
     "output_type": "stream",
     "text": [
      "[main (root-commit) dad14bb] initial\n",
      " 5 files changed, 170 insertions(+)\n",
      " create mode 100644 .docs/instructions.append.md\n",
      " create mode 100644 .docs/instructions.md\n",
      " create mode 120000 README.md\n",
      " create mode 100644 affine_cipher.py\n",
      " create mode 100644 affine_cipher_test.py\n"
     ]
    },
    {
     "name": "stderr",
     "output_type": "stream",
     "text": [
      "To github.com:DB-Teaching/09-01_affine-cipher\n",
      " * [new branch]      main -> main\n"
     ]
    },
    {
     "name": "stdout",
     "output_type": "stream",
     "text": [
      "https://github.com/DB-Teaching/09-02_binary-search-tree\n"
     ]
    },
    {
     "name": "stderr",
     "output_type": "stream",
     "text": [
      "Cloning into '/Users/dboehler/Library/CloudStorage/OneDrive-th-deg.de/Teaching/22S/SWEN/excercises/Chapter_09/09-02_binary-search-tree'...\n",
      "warning: You appear to have cloned an empty repository.\n",
      "fatal: You are on a branch yet to be born\n",
      "fatal: unable to checkout submodule 'excercises/Chapter_09/09-02_binary-search-tree'\n"
     ]
    },
    {
     "name": "stdout",
     "output_type": "stream",
     "text": [
      "[main (root-commit) 5cff3e1] initial\n",
      " 4 files changed, 162 insertions(+)\n",
      " create mode 100644 .docs/instructions.md\n",
      " create mode 120000 README.md\n",
      " create mode 100644 binary_search_tree.py\n",
      " create mode 100644 binary_search_tree_test.py\n"
     ]
    },
    {
     "name": "stderr",
     "output_type": "stream",
     "text": [
      "To github.com:DB-Teaching/09-02_binary-search-tree\n",
      " * [new branch]      main -> main\n"
     ]
    },
    {
     "name": "stdout",
     "output_type": "stream",
     "text": [
      "https://github.com/DB-Teaching/09-03_book-store\n"
     ]
    },
    {
     "name": "stderr",
     "output_type": "stream",
     "text": [
      "Cloning into '/Users/dboehler/Library/CloudStorage/OneDrive-th-deg.de/Teaching/22S/SWEN/excercises/Chapter_09/09-03_book-store'...\n",
      "warning: You appear to have cloned an empty repository.\n",
      "fatal: You are on a branch yet to be born\n",
      "fatal: unable to checkout submodule 'excercises/Chapter_09/09-03_book-store'\n"
     ]
    },
    {
     "name": "stdout",
     "output_type": "stream",
     "text": [
      "[main (root-commit) 5c9e928] initial\n",
      " 4 files changed, 172 insertions(+)\n",
      " create mode 100644 .docs/instructions.md\n",
      " create mode 120000 README.md\n",
      " create mode 100644 book_store.py\n",
      " create mode 100644 book_store_test.py\n"
     ]
    },
    {
     "name": "stderr",
     "output_type": "stream",
     "text": [
      "To github.com:DB-Teaching/09-03_book-store\n",
      " * [new branch]      main -> main\n"
     ]
    },
    {
     "name": "stdout",
     "output_type": "stream",
     "text": [
      "https://github.com/DB-Teaching/09-04_bowling\n"
     ]
    },
    {
     "name": "stderr",
     "output_type": "stream",
     "text": [
      "Cloning into '/Users/dboehler/Library/CloudStorage/OneDrive-th-deg.de/Teaching/22S/SWEN/excercises/Chapter_09/09-04_bowling'...\n",
      "warning: You appear to have cloned an empty repository.\n",
      "fatal: You are on a branch yet to be born\n",
      "fatal: unable to checkout submodule 'excercises/Chapter_09/09-04_bowling'\n"
     ]
    },
    {
     "name": "stdout",
     "output_type": "stream",
     "text": [
      "[main (root-commit) a481c8f] initial\n",
      " 6 files changed, 298 insertions(+)\n",
      " create mode 100644 .docs/instructions.append.md\n",
      " create mode 100644 .docs/instructions.md\n",
      " create mode 100644 .gitignore\n",
      " create mode 120000 README.md\n",
      " create mode 100644 bowling.py\n",
      " create mode 100644 bowling_test.py\n"
     ]
    },
    {
     "name": "stderr",
     "output_type": "stream",
     "text": [
      "To github.com:DB-Teaching/09-04_bowling\n",
      " * [new branch]      main -> main\n"
     ]
    },
    {
     "name": "stdout",
     "output_type": "stream",
     "text": [
      "https://github.com/DB-Teaching/09-05_custom-set\n"
     ]
    },
    {
     "name": "stderr",
     "output_type": "stream",
     "text": [
      "Cloning into '/Users/dboehler/Library/CloudStorage/OneDrive-th-deg.de/Teaching/22S/SWEN/excercises/Chapter_09/09-05_custom-set'...\n",
      "warning: You appear to have cloned an empty repository.\n",
      "fatal: You are on a branch yet to be born\n",
      "fatal: unable to checkout submodule 'excercises/Chapter_09/09-05_custom-set'\n"
     ]
    },
    {
     "name": "stdout",
     "output_type": "stream",
     "text": [
      "[main (root-commit) 9a93a68] initial\n",
      " 4 files changed, 257 insertions(+)\n",
      " create mode 100644 .docs/instructions.md\n",
      " create mode 120000 README.md\n",
      " create mode 100644 custom_set.py\n",
      " create mode 100644 custom_set_test.py\n"
     ]
    },
    {
     "name": "stderr",
     "output_type": "stream",
     "text": [
      "To github.com:DB-Teaching/09-05_custom-set\n",
      " * [new branch]      main -> main\n"
     ]
    },
    {
     "name": "stdout",
     "output_type": "stream",
     "text": [
      "https://github.com/DB-Teaching/09-06_dot-dsl\n"
     ]
    },
    {
     "name": "stderr",
     "output_type": "stream",
     "text": [
      "Cloning into '/Users/dboehler/Library/CloudStorage/OneDrive-th-deg.de/Teaching/22S/SWEN/excercises/Chapter_09/09-06_dot-dsl'...\n",
      "warning: You appear to have cloned an empty repository.\n",
      "fatal: You are on a branch yet to be born\n",
      "fatal: unable to checkout submodule 'excercises/Chapter_09/09-06_dot-dsl'\n"
     ]
    },
    {
     "name": "stdout",
     "output_type": "stream",
     "text": [
      "[main (root-commit) e1b86cc] initial\n",
      " 5 files changed, 213 insertions(+)\n",
      " create mode 100644 .docs/instructions.append.md\n",
      " create mode 100644 .docs/instructions.md\n",
      " create mode 120000 README.md\n",
      " create mode 100644 dot_dsl.py\n",
      " create mode 100644 dot_dsl_test.py\n"
     ]
    },
    {
     "name": "stderr",
     "output_type": "stream",
     "text": [
      "To github.com:DB-Teaching/09-06_dot-dsl\n",
      " * [new branch]      main -> main\n"
     ]
    },
    {
     "name": "stdout",
     "output_type": "stream",
     "text": [
      "https://github.com/DB-Teaching/09-07_forth\n"
     ]
    },
    {
     "name": "stderr",
     "output_type": "stream",
     "text": [
      "Cloning into '/Users/dboehler/Library/CloudStorage/OneDrive-th-deg.de/Teaching/22S/SWEN/excercises/Chapter_09/09-07_forth'...\n",
      "warning: You appear to have cloned an empty repository.\n",
      "fatal: You are on a branch yet to be born\n",
      "fatal: unable to checkout submodule 'excercises/Chapter_09/09-07_forth'\n"
     ]
    },
    {
     "name": "stdout",
     "output_type": "stream",
     "text": [
      "[main (root-commit) 13d2bca] initial\n",
      " 5 files changed, 310 insertions(+)\n",
      " create mode 100644 .docs/instructions.append.md\n",
      " create mode 100644 .docs/instructions.md\n",
      " create mode 120000 README.md\n",
      " create mode 100644 forth.py\n",
      " create mode 100644 forth_test.py\n"
     ]
    },
    {
     "name": "stderr",
     "output_type": "stream",
     "text": [
      "To github.com:DB-Teaching/09-07_forth\n",
      " * [new branch]      main -> main\n"
     ]
    },
    {
     "name": "stdout",
     "output_type": "stream",
     "text": [
      "https://github.com/DB-Teaching/09-08_hangman\n"
     ]
    },
    {
     "name": "stderr",
     "output_type": "stream",
     "text": [
      "Cloning into '/Users/dboehler/Library/CloudStorage/OneDrive-th-deg.de/Teaching/22S/SWEN/excercises/Chapter_09/09-08_hangman'...\n",
      "warning: You appear to have cloned an empty repository.\n",
      "fatal: You are on a branch yet to be born\n",
      "fatal: unable to checkout submodule 'excercises/Chapter_09/09-08_hangman'\n"
     ]
    },
    {
     "name": "stdout",
     "output_type": "stream",
     "text": [
      "[main (root-commit) 0092a96] initial\n",
      " 5 files changed, 155 insertions(+)\n",
      " create mode 100644 .docs/instructions.append.md\n",
      " create mode 100644 .docs/instructions.md\n",
      " create mode 120000 README.md\n",
      " create mode 100644 hangman.py\n",
      " create mode 100644 hangman_test.py\n"
     ]
    },
    {
     "name": "stderr",
     "output_type": "stream",
     "text": [
      "To github.com:DB-Teaching/09-08_hangman\n",
      " * [new branch]      main -> main\n"
     ]
    },
    {
     "name": "stdout",
     "output_type": "stream",
     "text": [
      "https://github.com/DB-Teaching/09-09_knapsack\n"
     ]
    },
    {
     "name": "stderr",
     "output_type": "stream",
     "text": [
      "Cloning into '/Users/dboehler/Library/CloudStorage/OneDrive-th-deg.de/Teaching/22S/SWEN/excercises/Chapter_09/09-09_knapsack'...\n",
      "warning: You appear to have cloned an empty repository.\n",
      "fatal: You are on a branch yet to be born\n",
      "fatal: unable to checkout submodule 'excercises/Chapter_09/09-09_knapsack'\n"
     ]
    },
    {
     "name": "stdout",
     "output_type": "stream",
     "text": [
      "[main (root-commit) 5ffad34] initial\n",
      " 4 files changed, 146 insertions(+)\n",
      " create mode 100644 .docs/instructions.md\n",
      " create mode 120000 README.md\n",
      " create mode 100644 knapsack.py\n",
      " create mode 100644 knapsack_test.py\n"
     ]
    },
    {
     "name": "stderr",
     "output_type": "stream",
     "text": [
      "To github.com:DB-Teaching/09-09_knapsack\n",
      " * [new branch]      main -> main\n"
     ]
    },
    {
     "name": "stdout",
     "output_type": "stream",
     "text": [
      "https://github.com/DB-Teaching/10-01_ledger\n"
     ]
    },
    {
     "name": "stderr",
     "output_type": "stream",
     "text": [
      "Cloning into '/Users/dboehler/Library/CloudStorage/OneDrive-th-deg.de/Teaching/22S/SWEN/excercises/Chapter_10/10-01_ledger'...\n",
      "warning: You appear to have cloned an empty repository.\n",
      "fatal: You are on a branch yet to be born\n",
      "fatal: unable to checkout submodule 'excercises/Chapter_10/10-01_ledger'\n"
     ]
    },
    {
     "name": "stdout",
     "output_type": "stream",
     "text": [
      "[main (root-commit) 080c816] initial\n",
      " 4 files changed, 461 insertions(+)\n",
      " create mode 100644 .docs/instructions.md\n",
      " create mode 120000 README.md\n",
      " create mode 100644 ledger.py\n",
      " create mode 100644 ledger_test.py\n"
     ]
    },
    {
     "name": "stderr",
     "output_type": "stream",
     "text": [
      "To github.com:DB-Teaching/10-01_ledger\n",
      " * [new branch]      main -> main\n"
     ]
    },
    {
     "name": "stdout",
     "output_type": "stream",
     "text": [
      "https://github.com/DB-Teaching/10-02_rational-numbers\n"
     ]
    },
    {
     "name": "stderr",
     "output_type": "stream",
     "text": [
      "Cloning into '/Users/dboehler/Library/CloudStorage/OneDrive-th-deg.de/Teaching/22S/SWEN/excercises/Chapter_10/10-02_rational-numbers'...\n",
      "warning: You appear to have cloned an empty repository.\n",
      "fatal: You are on a branch yet to be born\n",
      "fatal: unable to checkout submodule 'excercises/Chapter_10/10-02_rational-numbers'\n"
     ]
    },
    {
     "name": "stdout",
     "output_type": "stream",
     "text": [
      "[main (root-commit) b3f7bd5] initial\n",
      " 4 files changed, 218 insertions(+)\n",
      " create mode 100644 .docs/instructions.md\n",
      " create mode 120000 README.md\n",
      " create mode 100644 rational_numbers.py\n",
      " create mode 100644 rational_numbers_test.py\n"
     ]
    },
    {
     "name": "stderr",
     "output_type": "stream",
     "text": [
      "To github.com:DB-Teaching/10-02_rational-numbers\n",
      " * [new branch]      main -> main\n"
     ]
    },
    {
     "name": "stdout",
     "output_type": "stream",
     "text": [
      "https://github.com/DB-Teaching/10-03_tournament\n"
     ]
    },
    {
     "name": "stderr",
     "output_type": "stream",
     "text": [
      "Cloning into '/Users/dboehler/Library/CloudStorage/OneDrive-th-deg.de/Teaching/22S/SWEN/excercises/Chapter_10/10-03_tournament'...\n",
      "warning: You appear to have cloned an empty repository.\n",
      "fatal: You are on a branch yet to be born\n",
      "fatal: unable to checkout submodule 'excercises/Chapter_10/10-03_tournament'\n"
     ]
    },
    {
     "name": "stdout",
     "output_type": "stream",
     "text": [
      "[main (root-commit) 8118ff2] initial\n",
      " 4 files changed, 221 insertions(+)\n",
      " create mode 100644 .docs/instructions.md\n",
      " create mode 120000 README.md\n",
      " create mode 100644 tournament.py\n",
      " create mode 100644 tournament_test.py\n"
     ]
    },
    {
     "name": "stderr",
     "output_type": "stream",
     "text": [
      "To github.com:DB-Teaching/10-03_tournament\n",
      " * [new branch]      main -> main\n"
     ]
    },
    {
     "name": "stdout",
     "output_type": "stream",
     "text": [
      "https://github.com/DB-Teaching/10-04_twelve-days\n"
     ]
    },
    {
     "name": "stderr",
     "output_type": "stream",
     "text": [
      "Cloning into '/Users/dboehler/Library/CloudStorage/OneDrive-th-deg.de/Teaching/22S/SWEN/excercises/Chapter_10/10-04_twelve-days'...\n",
      "warning: You appear to have cloned an empty repository.\n",
      "fatal: You are on a branch yet to be born\n",
      "fatal: unable to checkout submodule 'excercises/Chapter_10/10-04_twelve-days'\n"
     ]
    },
    {
     "name": "stdout",
     "output_type": "stream",
     "text": [
      "[main (root-commit) a963e1b] initial\n",
      " 4 files changed, 206 insertions(+)\n",
      " create mode 100644 .docs/instructions.md\n",
      " create mode 120000 README.md\n",
      " create mode 100644 twelve_days.py\n",
      " create mode 100644 twelve_days_test.py\n"
     ]
    },
    {
     "name": "stderr",
     "output_type": "stream",
     "text": [
      "To github.com:DB-Teaching/10-04_twelve-days\n",
      " * [new branch]      main -> main\n"
     ]
    },
    {
     "name": "stdout",
     "output_type": "stream",
     "text": [
      "https://github.com/DB-Teaching/10-05_two-bucket\n"
     ]
    },
    {
     "name": "stderr",
     "output_type": "stream",
     "text": [
      "Cloning into '/Users/dboehler/Library/CloudStorage/OneDrive-th-deg.de/Teaching/22S/SWEN/excercises/Chapter_10/10-05_two-bucket'...\n",
      "warning: You appear to have cloned an empty repository.\n",
      "fatal: You are on a branch yet to be born\n",
      "fatal: unable to checkout submodule 'excercises/Chapter_10/10-05_two-bucket'\n"
     ]
    },
    {
     "name": "stdout",
     "output_type": "stream",
     "text": [
      "[main (root-commit) 8225bdc] initial\n",
      " 4 files changed, 76 insertions(+)\n",
      " create mode 100644 .docs/instructions.md\n",
      " create mode 120000 README.md\n",
      " create mode 100644 two_bucket.py\n",
      " create mode 100644 two_bucket_test.py\n"
     ]
    },
    {
     "name": "stderr",
     "output_type": "stream",
     "text": [
      "To github.com:DB-Teaching/10-05_two-bucket\n",
      " * [new branch]      main -> main\n"
     ]
    },
    {
     "name": "stdout",
     "output_type": "stream",
     "text": [
      "https://github.com/DB-Teaching/10-06_zebra-puzzle\n"
     ]
    },
    {
     "name": "stderr",
     "output_type": "stream",
     "text": [
      "Cloning into '/Users/dboehler/Library/CloudStorage/OneDrive-th-deg.de/Teaching/22S/SWEN/excercises/Chapter_10/10-06_zebra-puzzle'...\n",
      "warning: You appear to have cloned an empty repository.\n",
      "fatal: You are on a branch yet to be born\n",
      "fatal: unable to checkout submodule 'excercises/Chapter_10/10-06_zebra-puzzle'\n"
     ]
    },
    {
     "name": "stdout",
     "output_type": "stream",
     "text": [
      "[main (root-commit) 12ac274] initial\n",
      " 4 files changed, 53 insertions(+)\n",
      " create mode 100644 .docs/instructions.md\n",
      " create mode 120000 README.md\n",
      " create mode 100644 zebra_puzzle.py\n",
      " create mode 100644 zebra_puzzle_test.py\n"
     ]
    },
    {
     "name": "stderr",
     "output_type": "stream",
     "text": [
      "To github.com:DB-Teaching/10-06_zebra-puzzle\n",
      " * [new branch]      main -> main\n"
     ]
    },
    {
     "name": "stdout",
     "output_type": "stream",
     "text": [
      "https://github.com/DB-Teaching/10-07_alphametics\n"
     ]
    },
    {
     "name": "stderr",
     "output_type": "stream",
     "text": [
      "Cloning into '/Users/dboehler/Library/CloudStorage/OneDrive-th-deg.de/Teaching/22S/SWEN/excercises/Chapter_10/10-07_alphametics'...\n",
      "warning: You appear to have cloned an empty repository.\n",
      "fatal: You are on a branch yet to be born\n",
      "fatal: unable to checkout submodule 'excercises/Chapter_10/10-07_alphametics'\n"
     ]
    },
    {
     "name": "stdout",
     "output_type": "stream",
     "text": [
      "[main (root-commit) 5f7d4c8] initial\n",
      " 4 files changed, 147 insertions(+)\n",
      " create mode 100644 .docs/instructions.md\n",
      " create mode 120000 README.md\n",
      " create mode 100644 alphametics.py\n",
      " create mode 100644 alphametics_test.py\n"
     ]
    },
    {
     "name": "stderr",
     "output_type": "stream",
     "text": [
      "To github.com:DB-Teaching/10-07_alphametics\n",
      " * [new branch]      main -> main\n"
     ]
    },
    {
     "name": "stdout",
     "output_type": "stream",
     "text": [
      "https://github.com/DB-Teaching/10-08_react\n"
     ]
    },
    {
     "name": "stderr",
     "output_type": "stream",
     "text": [
      "Cloning into '/Users/dboehler/Library/CloudStorage/OneDrive-th-deg.de/Teaching/22S/SWEN/excercises/Chapter_10/10-08_react'...\n",
      "warning: You appear to have cloned an empty repository.\n",
      "fatal: You are on a branch yet to be born\n",
      "fatal: unable to checkout submodule 'excercises/Chapter_10/10-08_react'\n"
     ]
    },
    {
     "name": "stdout",
     "output_type": "stream",
     "text": [
      "[main (root-commit) 75595ea] initial\n",
      " 4 files changed, 233 insertions(+)\n",
      " create mode 100644 .docs/instructions.md\n",
      " create mode 120000 README.md\n",
      " create mode 100644 react.py\n",
      " create mode 100644 react_test.py\n"
     ]
    },
    {
     "name": "stderr",
     "output_type": "stream",
     "text": [
      "To github.com:DB-Teaching/10-08_react\n",
      " * [new branch]      main -> main\n"
     ]
    },
    {
     "name": "stdout",
     "output_type": "stream",
     "text": [
      "https://github.com/DB-Teaching/11-01_word-search\n"
     ]
    },
    {
     "name": "stderr",
     "output_type": "stream",
     "text": [
      "Cloning into '/Users/dboehler/Library/CloudStorage/OneDrive-th-deg.de/Teaching/22S/SWEN/excercises/Chapter_11/11-01_word-search'...\n",
      "warning: You appear to have cloned an empty repository.\n",
      "fatal: You are on a branch yet to be born\n",
      "fatal: unable to checkout submodule 'excercises/Chapter_11/11-01_word-search'\n"
     ]
    },
    {
     "name": "stdout",
     "output_type": "stream",
     "text": [
      "[main (root-commit) 111af4e] initial\n",
      " 4 files changed, 338 insertions(+)\n",
      " create mode 100644 .docs/instructions.md\n",
      " create mode 120000 README.md\n",
      " create mode 100644 word_search.py\n",
      " create mode 100644 word_search_test.py\n"
     ]
    },
    {
     "name": "stderr",
     "output_type": "stream",
     "text": [
      "To github.com:DB-Teaching/11-01_word-search\n",
      " * [new branch]      main -> main\n"
     ]
    },
    {
     "name": "stdout",
     "output_type": "stream",
     "text": [
      "https://github.com/DB-Teaching/11-02_zipper\n"
     ]
    },
    {
     "name": "stderr",
     "output_type": "stream",
     "text": [
      "Cloning into '/Users/dboehler/Library/CloudStorage/OneDrive-th-deg.de/Teaching/22S/SWEN/excercises/Chapter_11/11-02_zipper'...\n",
      "warning: You appear to have cloned an empty repository.\n",
      "fatal: You are on a branch yet to be born\n",
      "fatal: unable to checkout submodule 'excercises/Chapter_11/11-02_zipper'\n"
     ]
    },
    {
     "name": "stdout",
     "output_type": "stream",
     "text": [
      "[main (root-commit) 8efc068] initial\n",
      " 4 files changed, 363 insertions(+)\n",
      " create mode 100644 .docs/instructions.md\n",
      " create mode 120000 README.md\n",
      " create mode 100644 zipper.py\n",
      " create mode 100644 zipper_test.py\n"
     ]
    },
    {
     "name": "stderr",
     "output_type": "stream",
     "text": [
      "To github.com:DB-Teaching/11-02_zipper\n",
      " * [new branch]      main -> main\n"
     ]
    },
    {
     "name": "stdout",
     "output_type": "stream",
     "text": [
      "https://github.com/DB-Teaching/11-03_dominoes\n"
     ]
    },
    {
     "name": "stderr",
     "output_type": "stream",
     "text": [
      "Cloning into '/Users/dboehler/Library/CloudStorage/OneDrive-th-deg.de/Teaching/22S/SWEN/excercises/Chapter_11/11-03_dominoes'...\n",
      "warning: You appear to have cloned an empty repository.\n",
      "fatal: You are on a branch yet to be born\n",
      "fatal: unable to checkout submodule 'excercises/Chapter_11/11-03_dominoes'\n"
     ]
    },
    {
     "name": "stdout",
     "output_type": "stream",
     "text": [
      "[main (root-commit) fa1c837] initial\n",
      " 4 files changed, 147 insertions(+)\n",
      " create mode 100644 .docs/instructions.md\n",
      " create mode 120000 README.md\n",
      " create mode 100644 dominoes.py\n",
      " create mode 100644 dominoes_test.py\n"
     ]
    },
    {
     "name": "stderr",
     "output_type": "stream",
     "text": [
      "To github.com:DB-Teaching/11-03_dominoes\n",
      " * [new branch]      main -> main\n"
     ]
    },
    {
     "name": "stdout",
     "output_type": "stream",
     "text": [
      "https://github.com/DB-Teaching/12-01_paasio\n"
     ]
    },
    {
     "name": "stderr",
     "output_type": "stream",
     "text": [
      "Cloning into '/Users/dboehler/Library/CloudStorage/OneDrive-th-deg.de/Teaching/22S/SWEN/excercises/Chapter_12/12-01_paasio'...\n",
      "warning: You appear to have cloned an empty repository.\n",
      "fatal: You are on a branch yet to be born\n",
      "fatal: unable to checkout submodule 'excercises/Chapter_12/12-01_paasio'\n"
     ]
    },
    {
     "name": "stdout",
     "output_type": "stream",
     "text": [
      "[main (root-commit) 25fbb0b] initial\n",
      " 5 files changed, 674 insertions(+)\n",
      " create mode 100644 .docs/instructions.md\n",
      " create mode 120000 README.md\n",
      " create mode 100644 paasio.py\n",
      " create mode 100644 paasio_test.py\n",
      " create mode 100644 test_utils.py\n"
     ]
    },
    {
     "name": "stderr",
     "output_type": "stream",
     "text": [
      "To github.com:DB-Teaching/12-01_paasio\n",
      " * [new branch]      main -> main\n"
     ]
    },
    {
     "name": "stdout",
     "output_type": "stream",
     "text": [
      "https://github.com/DB-Teaching/12-02_satellite\n"
     ]
    },
    {
     "name": "stderr",
     "output_type": "stream",
     "text": [
      "Cloning into '/Users/dboehler/Library/CloudStorage/OneDrive-th-deg.de/Teaching/22S/SWEN/excercises/Chapter_12/12-02_satellite'...\n",
      "warning: You appear to have cloned an empty repository.\n",
      "fatal: You are on a branch yet to be born\n",
      "fatal: unable to checkout submodule 'excercises/Chapter_12/12-02_satellite'\n"
     ]
    },
    {
     "name": "stdout",
     "output_type": "stream",
     "text": [
      "[main (root-commit) 18d6b96] initial\n",
      " 5 files changed, 119 insertions(+)\n",
      " create mode 100644 .docs/instructions.append.md\n",
      " create mode 100644 .docs/instructions.md\n",
      " create mode 120000 README.md\n",
      " create mode 100644 satellite.py\n",
      " create mode 100644 satellite_test.py\n"
     ]
    },
    {
     "name": "stderr",
     "output_type": "stream",
     "text": [
      "To github.com:DB-Teaching/12-02_satellite\n",
      " * [new branch]      main -> main\n"
     ]
    },
    {
     "name": "stdout",
     "output_type": "stream",
     "text": [
      "https://github.com/DB-Teaching/12-03_sgf-parsing\n"
     ]
    },
    {
     "name": "stderr",
     "output_type": "stream",
     "text": [
      "Cloning into '/Users/dboehler/Library/CloudStorage/OneDrive-th-deg.de/Teaching/22S/SWEN/excercises/Chapter_12/12-03_sgf-parsing'...\n",
      "warning: You appear to have cloned an empty repository.\n",
      "fatal: You are on a branch yet to be born\n",
      "fatal: unable to checkout submodule 'excercises/Chapter_12/12-03_sgf-parsing'\n"
     ]
    },
    {
     "name": "stdout",
     "output_type": "stream",
     "text": [
      "[main (root-commit) 35a6662] initial\n",
      " 5 files changed, 209 insertions(+)\n",
      " create mode 100644 .docs/instructions.append.md\n",
      " create mode 100644 .docs/instructions.md\n",
      " create mode 120000 README.md\n",
      " create mode 100644 sgf_parsing.py\n",
      " create mode 100644 sgf_parsing_test.py\n"
     ]
    },
    {
     "name": "stderr",
     "output_type": "stream",
     "text": [
      "To github.com:DB-Teaching/12-03_sgf-parsing\n",
      " * [new branch]      main -> main\n"
     ]
    },
    {
     "name": "stdout",
     "output_type": "stream",
     "text": [
      "https://github.com/DB-Teaching/13-01_bank-account\n"
     ]
    },
    {
     "name": "stderr",
     "output_type": "stream",
     "text": [
      "Cloning into '/Users/dboehler/Library/CloudStorage/OneDrive-th-deg.de/Teaching/22S/SWEN/excercises/Chapter_13/13-01_bank-account'...\n",
      "warning: You appear to have cloned an empty repository.\n",
      "fatal: You are on a branch yet to be born\n",
      "fatal: unable to checkout submodule 'excercises/Chapter_13/13-01_bank-account'\n"
     ]
    },
    {
     "name": "stdout",
     "output_type": "stream",
     "text": [
      "[main (root-commit) b00ae5b] initial\n",
      " 5 files changed, 229 insertions(+)\n",
      " create mode 100644 .docs/instructions.append.md\n",
      " create mode 100644 .docs/instructions.md\n",
      " create mode 120000 README.md\n",
      " create mode 100644 bank_account.py\n",
      " create mode 100644 bank_account_test.py\n"
     ]
    },
    {
     "name": "stderr",
     "output_type": "stream",
     "text": [
      "To github.com:DB-Teaching/13-01_bank-account\n",
      " * [new branch]      main -> main\n"
     ]
    },
    {
     "name": "stdout",
     "output_type": "stream",
     "text": [
      "https://github.com/DB-Teaching/14-01_pov\n"
     ]
    },
    {
     "name": "stderr",
     "output_type": "stream",
     "text": [
      "Cloning into '/Users/dboehler/Library/CloudStorage/OneDrive-th-deg.de/Teaching/22S/SWEN/excercises/Chapter_14/14-01_pov'...\n",
      "warning: You appear to have cloned an empty repository.\n",
      "fatal: You are on a branch yet to be born\n",
      "fatal: unable to checkout submodule 'excercises/Chapter_14/14-01_pov'\n"
     ]
    },
    {
     "name": "stdout",
     "output_type": "stream",
     "text": [
      "[main (root-commit) 88dd1ab] initial\n",
      " 5 files changed, 252 insertions(+)\n",
      " create mode 100644 .docs/instructions.append.md\n",
      " create mode 100644 .docs/instructions.md\n",
      " create mode 120000 README.md\n",
      " create mode 100644 pov.py\n",
      " create mode 100644 pov_test.py\n"
     ]
    },
    {
     "name": "stderr",
     "output_type": "stream",
     "text": [
      "To github.com:DB-Teaching/14-01_pov\n",
      " * [new branch]      main -> main\n"
     ]
    },
    {
     "name": "stdout",
     "output_type": "stream",
     "text": [
      "https://github.com/DB-Teaching/15-01_rest-api\n"
     ]
    },
    {
     "name": "stderr",
     "output_type": "stream",
     "text": [
      "Cloning into '/Users/dboehler/Library/CloudStorage/OneDrive-th-deg.de/Teaching/22S/SWEN/excercises/Chapter_15/15-01_rest-api'...\n",
      "warning: You appear to have cloned an empty repository.\n",
      "fatal: You are on a branch yet to be born\n",
      "fatal: unable to checkout submodule 'excercises/Chapter_15/15-01_rest-api'\n"
     ]
    },
    {
     "name": "stdout",
     "output_type": "stream",
     "text": [
      "[main (root-commit) d3a0829] initial\n",
      " 4 files changed, 215 insertions(+)\n",
      " create mode 100644 .docs/instructions.md\n",
      " create mode 120000 README.md\n",
      " create mode 100644 rest_api.py\n",
      " create mode 100644 rest_api_test.py\n"
     ]
    },
    {
     "name": "stderr",
     "output_type": "stream",
     "text": [
      "To github.com:DB-Teaching/15-01_rest-api\n",
      " * [new branch]      main -> main\n"
     ]
    }
   ],
   "source": [
    "for a in result2:\n",
    "    os.chdir(\"/Users/dboehler/Library/CloudStorage/OneDrive-th-deg.de/Teaching/22S/SWEN/excercises\")\n",
    "    os.system(f\"gh repo create --private DB-Teaching/{a['Chapter']:02d}-{a['Assignment_No']:02d}_{a['id']}\")  \n",
    "    \n",
    "    if not os.path.exists(os.path.join(os.getcwd(), f\"Chapter_{a['Chapter']:02d}\")):\n",
    "        os.system(f\"mkdir Chapter_{a['Chapter']:02d}\".strip())\n",
    "    \n",
    "    os.chdir(os.path.join(os.getcwd(), f\"Chapter_{a['Chapter']:02d}\".strip()))\n",
    "    \n",
    "    # Clone Repository to exercises folder\n",
    "    os.system(f\"git submodule add --force git@github.com:DB-Teaching/{a['Chapter']:02d}-{a['Assignment_No']:02d}_{a['id']}\")\n",
    "    \n",
    "    # Copy files from python folder (without .meta)\n",
    "    os.chdir(os.path.join(os.getcwd(), f\"{a['Chapter']:02d}-{a['Assignment_No']:02d}_{a['id']}\"))\n",
    "    os.system(f\"cp -R /Users/dboehler/OneDrive\\ -\\ th-deg.de/Teaching/22S/SWEN/python/exercises/practice/{a['id']}/ .\")\n",
    "    os.system('rm -rf .meta')\n",
    "    if not os.path.exists(os.path.join(os.getcwd(),'README.md')):\n",
    "        os.symlink('.docs/instructions.md','README.md')\n",
    "    os.system(\"git add .\")\n",
    "    os.system(\"git commit -am 'initial'\")\n",
    "    os.system(\"git push origin main\")\n",
    "\n",
    "    # Symlink .docs/instructions asd README.md"
   ]
  },
  {
   "cell_type": "code",
   "execution_count": 10,
   "id": "cb0c762a",
   "metadata": {},
   "outputs": [
    {
     "data": {
      "text/plain": [
       "'/Users/dboehler/Library/CloudStorage/OneDrive-th-deg.de/Teaching/22S/SWEN/excercises/Chapter_01/01-04_grains/Chapter_01/01-04_grains/Chapter_01/01-04_grains/Chapter_01/01-04_grains'"
      ]
     },
     "execution_count": 10,
     "metadata": {},
     "output_type": "execute_result"
    }
   ],
   "source": [
    "os.getcwd()"
   ]
  },
  {
   "cell_type": "code",
   "execution_count": 3,
   "id": "14d5b589",
   "metadata": {},
   "outputs": [],
   "source": [
    "# Fish script to change all repos to template repos\n",
    "# for name in (gh repo list DB-Teaching -L 150 --json name | jq -r '.[] | .name'); gh repo edit DB-Teaching/$name --template;end"
   ]
  },
  {
   "cell_type": "code",
   "execution_count": 1,
   "id": "bd639839",
   "metadata": {},
   "outputs": [
    {
     "ename": "WebDriverException",
     "evalue": "Message: Service chromedriver unexpectedly exited. Status code was: -9\n",
     "output_type": "error",
     "traceback": [
      "\u001b[0;31m---------------------------------------------------------------------------\u001b[0m",
      "\u001b[0;31mWebDriverException\u001b[0m                        Traceback (most recent call last)",
      "Input \u001b[0;32mIn [1]\u001b[0m, in \u001b[0;36m<module>\u001b[0;34m\u001b[0m\n\u001b[1;32m      1\u001b[0m \u001b[38;5;66;03m# https://classroom.github.com/classrooms/98897122-22s_swen\u001b[39;00m\n\u001b[1;32m      2\u001b[0m \u001b[38;5;28;01mfrom\u001b[39;00m \u001b[38;5;21;01mselenium\u001b[39;00m \u001b[38;5;28;01mimport\u001b[39;00m webdriver\n\u001b[0;32m----> 5\u001b[0m driver \u001b[38;5;241m=\u001b[39m \u001b[43mwebdriver\u001b[49m\u001b[38;5;241;43m.\u001b[39;49m\u001b[43mChrome\u001b[49m\u001b[43m(\u001b[49m\u001b[43m)\u001b[49m\n\u001b[1;32m      7\u001b[0m driver\u001b[38;5;241m.\u001b[39mget(\u001b[38;5;124m\"\u001b[39m\u001b[38;5;124mhttp://selenium.dev\u001b[39m\u001b[38;5;124m\"\u001b[39m)\n\u001b[1;32m      9\u001b[0m driver\u001b[38;5;241m.\u001b[39mquit()\n",
      "File \u001b[0;32m/usr/local/lib/python3.10/site-packages/selenium/webdriver/chrome/webdriver.py:70\u001b[0m, in \u001b[0;36mWebDriver.__init__\u001b[0;34m(self, executable_path, port, options, service_args, desired_capabilities, service_log_path, chrome_options, service, keep_alive)\u001b[0m\n\u001b[1;32m     67\u001b[0m \u001b[38;5;28;01mif\u001b[39;00m \u001b[38;5;129;01mnot\u001b[39;00m service:\n\u001b[1;32m     68\u001b[0m     service \u001b[38;5;241m=\u001b[39m Service(executable_path, port, service_args, service_log_path)\n\u001b[0;32m---> 70\u001b[0m \u001b[38;5;28;43msuper\u001b[39;49m\u001b[43m(\u001b[49m\u001b[43mWebDriver\u001b[49m\u001b[43m,\u001b[49m\u001b[43m \u001b[49m\u001b[38;5;28;43mself\u001b[39;49m\u001b[43m)\u001b[49m\u001b[38;5;241;43m.\u001b[39;49m\u001b[38;5;21;43m__init__\u001b[39;49m\u001b[43m(\u001b[49m\u001b[43mDesiredCapabilities\u001b[49m\u001b[38;5;241;43m.\u001b[39;49m\u001b[43mCHROME\u001b[49m\u001b[43m[\u001b[49m\u001b[38;5;124;43m'\u001b[39;49m\u001b[38;5;124;43mbrowserName\u001b[39;49m\u001b[38;5;124;43m'\u001b[39;49m\u001b[43m]\u001b[49m\u001b[43m,\u001b[49m\u001b[43m \u001b[49m\u001b[38;5;124;43m\"\u001b[39;49m\u001b[38;5;124;43mgoog\u001b[39;49m\u001b[38;5;124;43m\"\u001b[39;49m\u001b[43m,\u001b[49m\n\u001b[1;32m     71\u001b[0m \u001b[43m                                \u001b[49m\u001b[43mport\u001b[49m\u001b[43m,\u001b[49m\u001b[43m \u001b[49m\u001b[43moptions\u001b[49m\u001b[43m,\u001b[49m\n\u001b[1;32m     72\u001b[0m \u001b[43m                                \u001b[49m\u001b[43mservice_args\u001b[49m\u001b[43m,\u001b[49m\u001b[43m \u001b[49m\u001b[43mdesired_capabilities\u001b[49m\u001b[43m,\u001b[49m\n\u001b[1;32m     73\u001b[0m \u001b[43m                                \u001b[49m\u001b[43mservice_log_path\u001b[49m\u001b[43m,\u001b[49m\u001b[43m \u001b[49m\u001b[43mservice\u001b[49m\u001b[43m,\u001b[49m\u001b[43m \u001b[49m\u001b[43mkeep_alive\u001b[49m\u001b[43m)\u001b[49m\n",
      "File \u001b[0;32m/usr/local/lib/python3.10/site-packages/selenium/webdriver/chromium/webdriver.py:90\u001b[0m, in \u001b[0;36mChromiumDriver.__init__\u001b[0;34m(self, browser_name, vendor_prefix, port, options, service_args, desired_capabilities, service_log_path, service, keep_alive)\u001b[0m\n\u001b[1;32m     87\u001b[0m     \u001b[38;5;28;01mraise\u001b[39;00m \u001b[38;5;167;01mAttributeError\u001b[39;00m(\u001b[38;5;124m'\u001b[39m\u001b[38;5;124mservice cannot be None\u001b[39m\u001b[38;5;124m'\u001b[39m)\n\u001b[1;32m     89\u001b[0m \u001b[38;5;28mself\u001b[39m\u001b[38;5;241m.\u001b[39mservice \u001b[38;5;241m=\u001b[39m service\n\u001b[0;32m---> 90\u001b[0m \u001b[38;5;28;43mself\u001b[39;49m\u001b[38;5;241;43m.\u001b[39;49m\u001b[43mservice\u001b[49m\u001b[38;5;241;43m.\u001b[39;49m\u001b[43mstart\u001b[49m\u001b[43m(\u001b[49m\u001b[43m)\u001b[49m\n\u001b[1;32m     92\u001b[0m \u001b[38;5;28;01mtry\u001b[39;00m:\n\u001b[1;32m     93\u001b[0m     RemoteWebDriver\u001b[38;5;241m.\u001b[39m\u001b[38;5;21m__init__\u001b[39m(\n\u001b[1;32m     94\u001b[0m         \u001b[38;5;28mself\u001b[39m,\n\u001b[1;32m     95\u001b[0m         command_executor\u001b[38;5;241m=\u001b[39mChromiumRemoteConnection(\n\u001b[0;32m   (...)\u001b[0m\n\u001b[1;32m     98\u001b[0m             keep_alive\u001b[38;5;241m=\u001b[39mkeep_alive, ignore_proxy\u001b[38;5;241m=\u001b[39m_ignore_proxy),\n\u001b[1;32m     99\u001b[0m         options\u001b[38;5;241m=\u001b[39moptions)\n",
      "File \u001b[0;32m/usr/local/lib/python3.10/site-packages/selenium/webdriver/common/service.py:98\u001b[0m, in \u001b[0;36mService.start\u001b[0;34m(self)\u001b[0m\n\u001b[1;32m     96\u001b[0m count \u001b[38;5;241m=\u001b[39m \u001b[38;5;241m0\u001b[39m\n\u001b[1;32m     97\u001b[0m \u001b[38;5;28;01mwhile\u001b[39;00m \u001b[38;5;28;01mTrue\u001b[39;00m:\n\u001b[0;32m---> 98\u001b[0m     \u001b[38;5;28;43mself\u001b[39;49m\u001b[38;5;241;43m.\u001b[39;49m\u001b[43massert_process_still_running\u001b[49m\u001b[43m(\u001b[49m\u001b[43m)\u001b[49m\n\u001b[1;32m     99\u001b[0m     \u001b[38;5;28;01mif\u001b[39;00m \u001b[38;5;28mself\u001b[39m\u001b[38;5;241m.\u001b[39mis_connectable():\n\u001b[1;32m    100\u001b[0m         \u001b[38;5;28;01mbreak\u001b[39;00m\n",
      "File \u001b[0;32m/usr/local/lib/python3.10/site-packages/selenium/webdriver/common/service.py:110\u001b[0m, in \u001b[0;36mService.assert_process_still_running\u001b[0;34m(self)\u001b[0m\n\u001b[1;32m    108\u001b[0m return_code \u001b[38;5;241m=\u001b[39m \u001b[38;5;28mself\u001b[39m\u001b[38;5;241m.\u001b[39mprocess\u001b[38;5;241m.\u001b[39mpoll()\n\u001b[1;32m    109\u001b[0m \u001b[38;5;28;01mif\u001b[39;00m return_code:\n\u001b[0;32m--> 110\u001b[0m     \u001b[38;5;28;01mraise\u001b[39;00m WebDriverException(\n\u001b[1;32m    111\u001b[0m         \u001b[38;5;124m'\u001b[39m\u001b[38;5;124mService \u001b[39m\u001b[38;5;132;01m%s\u001b[39;00m\u001b[38;5;124m unexpectedly exited. Status code was: \u001b[39m\u001b[38;5;132;01m%s\u001b[39;00m\u001b[38;5;124m'\u001b[39m\n\u001b[1;32m    112\u001b[0m         \u001b[38;5;241m%\u001b[39m (\u001b[38;5;28mself\u001b[39m\u001b[38;5;241m.\u001b[39mpath, return_code)\n\u001b[1;32m    113\u001b[0m     )\n",
      "\u001b[0;31mWebDriverException\u001b[0m: Message: Service chromedriver unexpectedly exited. Status code was: -9\n"
     ]
    }
   ],
   "source": [
    "# https://classroom.github.com/classrooms/98897122-22s_swen\n",
    "from selenium import webdriver\n",
    "\n",
    "\n",
    "driver = webdriver.Chrome()\n",
    "\n",
    "driver.get(\"http://selenium.dev\")\n",
    "\n",
    "driver.quit()"
   ]
  },
  {
   "cell_type": "code",
   "execution_count": null,
   "id": "67dc768d",
   "metadata": {},
   "outputs": [],
   "source": []
  }
 ],
 "metadata": {
  "kernelspec": {
   "display_name": "swen",
   "language": "python",
   "name": "swen"
  },
  "language_info": {
   "codemirror_mode": {
    "name": "ipython",
    "version": 3
   },
   "file_extension": ".py",
   "mimetype": "text/x-python",
   "name": "python",
   "nbconvert_exporter": "python",
   "pygments_lexer": "ipython3",
   "version": "3.10.1"
  }
 },
 "nbformat": 4,
 "nbformat_minor": 5
}
